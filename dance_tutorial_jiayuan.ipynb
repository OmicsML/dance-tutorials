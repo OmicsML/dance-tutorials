{
  "nbformat": 4,
  "nbformat_minor": 0,
  "metadata": {
    "colab": {
      "provenance": [],
      "collapsed_sections": [
        "qpq3fr_7mkz_",
        "mkvsZ3K7YSV5",
        "GiSWrCTcopk2"
      ],
      "include_colab_link": true
    },
    "kernelspec": {
      "name": "python3",
      "display_name": "Python 3"
    },
    "language_info": {
      "name": "python"
    },
    "accelerator": "GPU",
    "gpuClass": "standard"
  },
  "cells": [
    {
      "cell_type": "markdown",
      "metadata": {
        "id": "view-in-github",
        "colab_type": "text"
      },
      "source": [
        "<a href=\"https://colab.research.google.com/github/OmicsML/dance-tutorials/blob/dev/dance_tutorial_jiayuan.ipynb\" target=\"_parent\"><img src=\"https://colab.research.google.com/assets/colab-badge.svg\" alt=\"Open In Colab\"/></a>"
      ]
    },
    {
      "cell_type": "markdown",
      "source": [
        "## 1. Installation\n",
        "\n",
        "DANCE is published on [PyPI](https://pypi.org/project/pydance/). Thus, installing DANCE is as easy as\n",
        "\n",
        "```bash\n",
        "pip install pydance\n",
        "```\n",
        "\n",
        "Or, to install the latest dev version on GitHub as\n",
        "\n",
        "```bash\n",
        "pip install git+https://github.com/OmicsML/dance\n",
        "```\n",
        "\n",
        "But becaues DANCE includes many deep learning based methods, there are also deep learning library dependencies, such as [PyTorch](https://pytorch.org/), [PyG](https://www.pyg.org/), and [DGL](https://www.dgl.ai/). We will walk through the installation process below."
      ],
      "metadata": {
        "id": "ugihXw2wU92o"
      }
    },
    {
      "cell_type": "markdown",
      "source": [
        "### 1.1. Install torch related dependencies"
      ],
      "metadata": {
        "id": "a9uCJIzekYW6"
      }
    },
    {
      "cell_type": "code",
      "source": [
        "# Colab comes with torch installed, so we do not need to install pytorch here\n",
        "# !pip3 install torch torchvision torchaudio\n",
        "\n",
        "!pip install torch_geometric==2.3.1\n",
        "!pip install dgl==1.1.0 -f https://data.dgl.ai/wheels/cu117/repo.html\n",
        "!pip install torchnmf==0.3.4"
      ],
      "metadata": {
        "id": "-9vkgggHU5Tv",
        "colab": {
          "base_uri": "https://localhost:8080/"
        },
        "outputId": "37aabeaf-e6a4-4723-8eee-9e86ccb7f745"
      },
      "execution_count": 1,
      "outputs": [
        {
          "output_type": "stream",
          "name": "stdout",
          "text": [
            "Looking in indexes: https://pypi.org/simple, https://us-python.pkg.dev/colab-wheels/public/simple/\n",
            "Collecting torch_geometric==2.3.1\n",
            "  Downloading torch_geometric-2.3.1.tar.gz (661 kB)\n",
            "\u001b[2K     \u001b[90m━━━━━━━━━━━━━━━━━━━━━━━━━━━━━━━━━━━━━━\u001b[0m \u001b[32m661.6/661.6 kB\u001b[0m \u001b[31m18.3 MB/s\u001b[0m eta \u001b[36m0:00:00\u001b[0m\n",
            "\u001b[?25h  Installing build dependencies ... \u001b[?25l\u001b[?25hdone\n",
            "  Getting requirements to build wheel ... \u001b[?25l\u001b[?25hdone\n",
            "  Preparing metadata (pyproject.toml) ... \u001b[?25l\u001b[?25hdone\n",
            "Requirement already satisfied: tqdm in /usr/local/lib/python3.10/dist-packages (from torch_geometric==2.3.1) (4.65.0)\n",
            "Requirement already satisfied: numpy in /usr/local/lib/python3.10/dist-packages (from torch_geometric==2.3.1) (1.22.4)\n",
            "Requirement already satisfied: scipy in /usr/local/lib/python3.10/dist-packages (from torch_geometric==2.3.1) (1.10.1)\n",
            "Requirement already satisfied: jinja2 in /usr/local/lib/python3.10/dist-packages (from torch_geometric==2.3.1) (3.1.2)\n",
            "Requirement already satisfied: requests in /usr/local/lib/python3.10/dist-packages (from torch_geometric==2.3.1) (2.27.1)\n",
            "Requirement already satisfied: pyparsing in /usr/local/lib/python3.10/dist-packages (from torch_geometric==2.3.1) (3.1.0)\n",
            "Requirement already satisfied: scikit-learn in /usr/local/lib/python3.10/dist-packages (from torch_geometric==2.3.1) (1.2.2)\n",
            "Requirement already satisfied: psutil>=5.8.0 in /usr/local/lib/python3.10/dist-packages (from torch_geometric==2.3.1) (5.9.5)\n",
            "Requirement already satisfied: MarkupSafe>=2.0 in /usr/local/lib/python3.10/dist-packages (from jinja2->torch_geometric==2.3.1) (2.1.3)\n",
            "Requirement already satisfied: urllib3<1.27,>=1.21.1 in /usr/local/lib/python3.10/dist-packages (from requests->torch_geometric==2.3.1) (1.26.16)\n",
            "Requirement already satisfied: certifi>=2017.4.17 in /usr/local/lib/python3.10/dist-packages (from requests->torch_geometric==2.3.1) (2023.5.7)\n",
            "Requirement already satisfied: charset-normalizer~=2.0.0 in /usr/local/lib/python3.10/dist-packages (from requests->torch_geometric==2.3.1) (2.0.12)\n",
            "Requirement already satisfied: idna<4,>=2.5 in /usr/local/lib/python3.10/dist-packages (from requests->torch_geometric==2.3.1) (3.4)\n",
            "Requirement already satisfied: joblib>=1.1.1 in /usr/local/lib/python3.10/dist-packages (from scikit-learn->torch_geometric==2.3.1) (1.2.0)\n",
            "Requirement already satisfied: threadpoolctl>=2.0.0 in /usr/local/lib/python3.10/dist-packages (from scikit-learn->torch_geometric==2.3.1) (3.1.0)\n",
            "Building wheels for collected packages: torch_geometric\n",
            "  Building wheel for torch_geometric (pyproject.toml) ... \u001b[?25l\u001b[?25hdone\n",
            "  Created wheel for torch_geometric: filename=torch_geometric-2.3.1-py3-none-any.whl size=910459 sha256=3e87ddfce81fbb234dfccef50bdfa64d814455ac4527766fc1d9843c9bb0dff4\n",
            "  Stored in directory: /root/.cache/pip/wheels/ac/dc/30/e2874821ff308ee67dcd7a66dbde912411e19e35a1addda028\n",
            "Successfully built torch_geometric\n",
            "Installing collected packages: torch_geometric\n",
            "Successfully installed torch_geometric-2.3.1\n",
            "Looking in indexes: https://pypi.org/simple, https://us-python.pkg.dev/colab-wheels/public/simple/\n",
            "Looking in links: https://data.dgl.ai/wheels/cu117/repo.html\n",
            "Collecting dgl==1.1.0\n",
            "  Downloading https://data.dgl.ai/wheels/cu117/dgl-1.1.0%2Bcu117-cp310-cp310-manylinux1_x86_64.whl (86.7 MB)\n",
            "\u001b[2K     \u001b[90m━━━━━━━━━━━━━━━━━━━━━━━━━━━━━━━━━━━━━━━━\u001b[0m \u001b[32m86.7/86.7 MB\u001b[0m \u001b[31m2.4 MB/s\u001b[0m eta \u001b[36m0:00:00\u001b[0m\n",
            "\u001b[?25hRequirement already satisfied: numpy>=1.14.0 in /usr/local/lib/python3.10/dist-packages (from dgl==1.1.0) (1.22.4)\n",
            "Requirement already satisfied: scipy>=1.1.0 in /usr/local/lib/python3.10/dist-packages (from dgl==1.1.0) (1.10.1)\n",
            "Requirement already satisfied: networkx>=2.1 in /usr/local/lib/python3.10/dist-packages (from dgl==1.1.0) (3.1)\n",
            "Requirement already satisfied: requests>=2.19.0 in /usr/local/lib/python3.10/dist-packages (from dgl==1.1.0) (2.27.1)\n",
            "Requirement already satisfied: tqdm in /usr/local/lib/python3.10/dist-packages (from dgl==1.1.0) (4.65.0)\n",
            "Requirement already satisfied: psutil>=5.8.0 in /usr/local/lib/python3.10/dist-packages (from dgl==1.1.0) (5.9.5)\n",
            "Requirement already satisfied: urllib3<1.27,>=1.21.1 in /usr/local/lib/python3.10/dist-packages (from requests>=2.19.0->dgl==1.1.0) (1.26.16)\n",
            "Requirement already satisfied: certifi>=2017.4.17 in /usr/local/lib/python3.10/dist-packages (from requests>=2.19.0->dgl==1.1.0) (2023.5.7)\n",
            "Requirement already satisfied: charset-normalizer~=2.0.0 in /usr/local/lib/python3.10/dist-packages (from requests>=2.19.0->dgl==1.1.0) (2.0.12)\n",
            "Requirement already satisfied: idna<4,>=2.5 in /usr/local/lib/python3.10/dist-packages (from requests>=2.19.0->dgl==1.1.0) (3.4)\n",
            "Installing collected packages: dgl\n",
            "Successfully installed dgl-1.1.0+cu117\n",
            "Looking in indexes: https://pypi.org/simple, https://us-python.pkg.dev/colab-wheels/public/simple/\n",
            "Collecting torchnmf==0.3.4\n",
            "  Downloading torchnmf-0.3.4-py3-none-any.whl (24 kB)\n",
            "Requirement already satisfied: torch>=1.4 in /usr/local/lib/python3.10/dist-packages (from torchnmf==0.3.4) (2.0.1+cu118)\n",
            "Requirement already satisfied: tqdm in /usr/local/lib/python3.10/dist-packages (from torchnmf==0.3.4) (4.65.0)\n",
            "Requirement already satisfied: filelock in /usr/local/lib/python3.10/dist-packages (from torch>=1.4->torchnmf==0.3.4) (3.12.2)\n",
            "Requirement already satisfied: typing-extensions in /usr/local/lib/python3.10/dist-packages (from torch>=1.4->torchnmf==0.3.4) (4.6.3)\n",
            "Requirement already satisfied: sympy in /usr/local/lib/python3.10/dist-packages (from torch>=1.4->torchnmf==0.3.4) (1.11.1)\n",
            "Requirement already satisfied: networkx in /usr/local/lib/python3.10/dist-packages (from torch>=1.4->torchnmf==0.3.4) (3.1)\n",
            "Requirement already satisfied: jinja2 in /usr/local/lib/python3.10/dist-packages (from torch>=1.4->torchnmf==0.3.4) (3.1.2)\n",
            "Requirement already satisfied: triton==2.0.0 in /usr/local/lib/python3.10/dist-packages (from torch>=1.4->torchnmf==0.3.4) (2.0.0)\n",
            "Requirement already satisfied: cmake in /usr/local/lib/python3.10/dist-packages (from triton==2.0.0->torch>=1.4->torchnmf==0.3.4) (3.25.2)\n",
            "Requirement already satisfied: lit in /usr/local/lib/python3.10/dist-packages (from triton==2.0.0->torch>=1.4->torchnmf==0.3.4) (16.0.6)\n",
            "Requirement already satisfied: MarkupSafe>=2.0 in /usr/local/lib/python3.10/dist-packages (from jinja2->torch>=1.4->torchnmf==0.3.4) (2.1.3)\n",
            "Requirement already satisfied: mpmath>=0.19 in /usr/local/lib/python3.10/dist-packages (from sympy->torch>=1.4->torchnmf==0.3.4) (1.3.0)\n",
            "Installing collected packages: torchnmf\n",
            "Successfully installed torchnmf-0.3.4\n"
          ]
        }
      ]
    },
    {
      "cell_type": "markdown",
      "source": [
        "### 1.2 Install latest dev version of DANCE"
      ],
      "metadata": {
        "id": "t0Ai6ohLkpyh"
      }
    },
    {
      "cell_type": "code",
      "source": [
        "!pip install git+https://github.com/OmicsML/dance.git\n",
        "\n",
        "# # Clone DANCE repo and install\n",
        "# !git clone https://github.com/OmicsML/dance.git pydance\n",
        "# %cd /content/pydance\n",
        "# !pip install -e ."
      ],
      "metadata": {
        "id": "xiNfZpuOkewF",
        "colab": {
          "base_uri": "https://localhost:8080/"
        },
        "outputId": "ee928755-6d2c-440a-c3b3-3545a31f1318"
      },
      "execution_count": 2,
      "outputs": [
        {
          "output_type": "stream",
          "name": "stdout",
          "text": [
            "Looking in indexes: https://pypi.org/simple, https://us-python.pkg.dev/colab-wheels/public/simple/\n",
            "Collecting git+https://github.com/OmicsML/dance.git\n",
            "  Cloning https://github.com/OmicsML/dance.git to /tmp/pip-req-build-osb9_2tp\n",
            "  Running command git clone --filter=blob:none --quiet https://github.com/OmicsML/dance.git /tmp/pip-req-build-osb9_2tp\n",
            "  Resolved https://github.com/OmicsML/dance.git to commit e8b618fe937d69a59cb91a7ad07a0df307106b0b\n",
            "  Installing build dependencies ... \u001b[?25l\u001b[?25hdone\n",
            "  Getting requirements to build wheel ... \u001b[?25l\u001b[?25hdone\n",
            "  Preparing metadata (pyproject.toml) ... \u001b[?25l\u001b[?25hdone\n",
            "Requirement already satisfied: h5py in /usr/local/lib/python3.10/dist-packages (from pydance==1.0.0rc1) (3.8.0)\n",
            "Collecting leidenalg (from pydance==1.0.0rc1)\n",
            "  Downloading leidenalg-0.9.1-cp310-cp310-manylinux_2_17_x86_64.manylinux2014_x86_64.whl (1.3 MB)\n",
            "\u001b[2K     \u001b[90m━━━━━━━━━━━━━━━━━━━━━━━━━━━━━━━━━━━━━━━━\u001b[0m \u001b[32m1.3/1.3 MB\u001b[0m \u001b[31m36.6 MB/s\u001b[0m eta \u001b[36m0:00:00\u001b[0m\n",
            "\u001b[?25hCollecting mudata (from pydance==1.0.0rc1)\n",
            "  Downloading mudata-0.2.3-py3-none-any.whl (24 kB)\n",
            "Requirement already satisfied: networkx in /usr/local/lib/python3.10/dist-packages (from pydance==1.0.0rc1) (3.1)\n",
            "Requirement already satisfied: numba in /usr/local/lib/python3.10/dist-packages (from pydance==1.0.0rc1) (0.56.4)\n",
            "Requirement already satisfied: numpy in /usr/local/lib/python3.10/dist-packages (from pydance==1.0.0rc1) (1.22.4)\n",
            "Requirement already satisfied: opencv-python in /usr/local/lib/python3.10/dist-packages (from pydance==1.0.0rc1) (4.7.0.72)\n",
            "Requirement already satisfied: openpyxl in /usr/local/lib/python3.10/dist-packages (from pydance==1.0.0rc1) (3.0.10)\n",
            "Requirement already satisfied: pandas in /usr/local/lib/python3.10/dist-packages (from pydance==1.0.0rc1) (1.5.3)\n",
            "Collecting pyro-ppl (from pydance==1.0.0rc1)\n",
            "  Downloading pyro_ppl-1.8.5-py3-none-any.whl (732 kB)\n",
            "\u001b[2K     \u001b[90m━━━━━━━━━━━━━━━━━━━━━━━━━━━━━━━━━━━━━━\u001b[0m \u001b[32m732.5/732.5 kB\u001b[0m \u001b[31m49.7 MB/s\u001b[0m eta \u001b[36m0:00:00\u001b[0m\n",
            "\u001b[?25hCollecting python-igraph (from pydance==1.0.0rc1)\n",
            "  Downloading python-igraph-0.10.4.tar.gz (9.5 kB)\n",
            "  Preparing metadata (setup.py) ... \u001b[?25l\u001b[?25hdone\n",
            "Requirement already satisfied: requests in /usr/local/lib/python3.10/dist-packages (from pydance==1.0.0rc1) (2.27.1)\n",
            "Collecting scanpy (from pydance==1.0.0rc1)\n",
            "  Downloading scanpy-1.9.3-py3-none-any.whl (2.0 MB)\n",
            "\u001b[2K     \u001b[90m━━━━━━━━━━━━━━━━━━━━━━━━━━━━━━━━━━━━━━━━\u001b[0m \u001b[32m2.0/2.0 MB\u001b[0m \u001b[31m85.0 MB/s\u001b[0m eta \u001b[36m0:00:00\u001b[0m\n",
            "\u001b[?25hRequirement already satisfied: scikit-learn in /usr/local/lib/python3.10/dist-packages (from pydance==1.0.0rc1) (1.2.2)\n",
            "Collecting scikit-misc (from pydance==1.0.0rc1)\n",
            "  Downloading scikit_misc-0.2.0-cp310-cp310-manylinux_2_17_x86_64.manylinux2014_x86_64.whl (10.7 MB)\n",
            "\u001b[2K     \u001b[90m━━━━━━━━━━━━━━━━━━━━━━━━━━━━━━━━━━━━━━━━\u001b[0m \u001b[32m10.7/10.7 MB\u001b[0m \u001b[31m48.1 MB/s\u001b[0m eta \u001b[36m0:00:00\u001b[0m\n",
            "\u001b[?25hRequirement already satisfied: scipy in /usr/local/lib/python3.10/dist-packages (from pydance==1.0.0rc1) (1.10.1)\n",
            "Requirement already satisfied: statsmodels in /usr/local/lib/python3.10/dist-packages (from pydance==1.0.0rc1) (0.13.5)\n",
            "Requirement already satisfied: tables in /usr/local/lib/python3.10/dist-packages (from pydance==1.0.0rc1) (3.8.0)\n",
            "Requirement already satisfied: threadpoolctl>=3.1.0 in /usr/local/lib/python3.10/dist-packages (from pydance==1.0.0rc1) (3.1.0)\n",
            "Requirement already satisfied: tqdm in /usr/local/lib/python3.10/dist-packages (from pydance==1.0.0rc1) (4.65.0)\n",
            "Collecting igraph<0.11,>=0.10.0 (from leidenalg->pydance==1.0.0rc1)\n",
            "  Downloading igraph-0.10.4-cp39-abi3-manylinux_2_17_x86_64.manylinux2014_x86_64.whl (3.3 MB)\n",
            "\u001b[2K     \u001b[90m━━━━━━━━━━━━━━━━━━━━━━━━━━━━━━━━━━━━━━━━\u001b[0m \u001b[32m3.3/3.3 MB\u001b[0m \u001b[31m90.6 MB/s\u001b[0m eta \u001b[36m0:00:00\u001b[0m\n",
            "\u001b[?25hCollecting anndata>=0.8 (from mudata->pydance==1.0.0rc1)\n",
            "  Downloading anndata-0.9.1-py3-none-any.whl (102 kB)\n",
            "\u001b[2K     \u001b[90m━━━━━━━━━━━━━━━━━━━━━━━━━━━━━━━━━━━━━━\u001b[0m \u001b[32m103.0/103.0 kB\u001b[0m \u001b[31m14.9 MB/s\u001b[0m eta \u001b[36m0:00:00\u001b[0m\n",
            "\u001b[?25hRequirement already satisfied: llvmlite<0.40,>=0.39.0dev0 in /usr/local/lib/python3.10/dist-packages (from numba->pydance==1.0.0rc1) (0.39.1)\n",
            "Requirement already satisfied: setuptools in /usr/local/lib/python3.10/dist-packages (from numba->pydance==1.0.0rc1) (67.7.2)\n",
            "Requirement already satisfied: et-xmlfile in /usr/local/lib/python3.10/dist-packages (from openpyxl->pydance==1.0.0rc1) (1.1.0)\n",
            "Requirement already satisfied: python-dateutil>=2.8.1 in /usr/local/lib/python3.10/dist-packages (from pandas->pydance==1.0.0rc1) (2.8.2)\n",
            "Requirement already satisfied: pytz>=2020.1 in /usr/local/lib/python3.10/dist-packages (from pandas->pydance==1.0.0rc1) (2022.7.1)\n",
            "Requirement already satisfied: opt-einsum>=2.3.2 in /usr/local/lib/python3.10/dist-packages (from pyro-ppl->pydance==1.0.0rc1) (3.3.0)\n",
            "Collecting pyro-api>=0.1.1 (from pyro-ppl->pydance==1.0.0rc1)\n",
            "  Downloading pyro_api-0.1.2-py3-none-any.whl (11 kB)\n",
            "Requirement already satisfied: torch>=2.0.1 in /usr/local/lib/python3.10/dist-packages (from pyro-ppl->pydance==1.0.0rc1) (2.0.1+cu118)\n",
            "Collecting texttable>=1.6.2 (from igraph<0.11,>=0.10.0->leidenalg->pydance==1.0.0rc1)\n",
            "  Downloading texttable-1.6.7-py2.py3-none-any.whl (10 kB)\n",
            "Requirement already satisfied: urllib3<1.27,>=1.21.1 in /usr/local/lib/python3.10/dist-packages (from requests->pydance==1.0.0rc1) (1.26.16)\n",
            "Requirement already satisfied: certifi>=2017.4.17 in /usr/local/lib/python3.10/dist-packages (from requests->pydance==1.0.0rc1) (2023.5.7)\n",
            "Requirement already satisfied: charset-normalizer~=2.0.0 in /usr/local/lib/python3.10/dist-packages (from requests->pydance==1.0.0rc1) (2.0.12)\n",
            "Requirement already satisfied: idna<4,>=2.5 in /usr/local/lib/python3.10/dist-packages (from requests->pydance==1.0.0rc1) (3.4)\n",
            "Requirement already satisfied: matplotlib>=3.4 in /usr/local/lib/python3.10/dist-packages (from scanpy->pydance==1.0.0rc1) (3.7.1)\n",
            "Requirement already satisfied: seaborn in /usr/local/lib/python3.10/dist-packages (from scanpy->pydance==1.0.0rc1) (0.12.2)\n",
            "Requirement already satisfied: patsy in /usr/local/lib/python3.10/dist-packages (from scanpy->pydance==1.0.0rc1) (0.5.3)\n",
            "Requirement already satisfied: natsort in /usr/local/lib/python3.10/dist-packages (from scanpy->pydance==1.0.0rc1) (8.3.1)\n",
            "Requirement already satisfied: joblib in /usr/local/lib/python3.10/dist-packages (from scanpy->pydance==1.0.0rc1) (1.2.0)\n",
            "Collecting umap-learn>=0.3.10 (from scanpy->pydance==1.0.0rc1)\n",
            "  Downloading umap-learn-0.5.3.tar.gz (88 kB)\n",
            "\u001b[2K     \u001b[90m━━━━━━━━━━━━━━━━━━━━━━━━━━━━━━━━━━━━━━━━\u001b[0m \u001b[32m88.2/88.2 kB\u001b[0m \u001b[31m11.4 MB/s\u001b[0m eta \u001b[36m0:00:00\u001b[0m\n",
            "\u001b[?25h  Preparing metadata (setup.py) ... \u001b[?25l\u001b[?25hdone\n",
            "Requirement already satisfied: packaging in /usr/local/lib/python3.10/dist-packages (from scanpy->pydance==1.0.0rc1) (23.1)\n",
            "Collecting session-info (from scanpy->pydance==1.0.0rc1)\n",
            "  Downloading session_info-1.0.0.tar.gz (24 kB)\n",
            "  Preparing metadata (setup.py) ... \u001b[?25l\u001b[?25hdone\n",
            "Requirement already satisfied: cython>=0.29.21 in /usr/local/lib/python3.10/dist-packages (from tables->pydance==1.0.0rc1) (0.29.35)\n",
            "Requirement already satisfied: numexpr>=2.6.2 in /usr/local/lib/python3.10/dist-packages (from tables->pydance==1.0.0rc1) (2.8.4)\n",
            "Requirement already satisfied: blosc2~=2.0.0 in /usr/local/lib/python3.10/dist-packages (from tables->pydance==1.0.0rc1) (2.0.0)\n",
            "Requirement already satisfied: py-cpuinfo in /usr/local/lib/python3.10/dist-packages (from tables->pydance==1.0.0rc1) (9.0.0)\n",
            "Requirement already satisfied: msgpack in /usr/local/lib/python3.10/dist-packages (from blosc2~=2.0.0->tables->pydance==1.0.0rc1) (1.0.5)\n",
            "Requirement already satisfied: contourpy>=1.0.1 in /usr/local/lib/python3.10/dist-packages (from matplotlib>=3.4->scanpy->pydance==1.0.0rc1) (1.1.0)\n",
            "Requirement already satisfied: cycler>=0.10 in /usr/local/lib/python3.10/dist-packages (from matplotlib>=3.4->scanpy->pydance==1.0.0rc1) (0.11.0)\n",
            "Requirement already satisfied: fonttools>=4.22.0 in /usr/local/lib/python3.10/dist-packages (from matplotlib>=3.4->scanpy->pydance==1.0.0rc1) (4.40.0)\n",
            "Requirement already satisfied: kiwisolver>=1.0.1 in /usr/local/lib/python3.10/dist-packages (from matplotlib>=3.4->scanpy->pydance==1.0.0rc1) (1.4.4)\n",
            "Requirement already satisfied: pillow>=6.2.0 in /usr/local/lib/python3.10/dist-packages (from matplotlib>=3.4->scanpy->pydance==1.0.0rc1) (8.4.0)\n",
            "Requirement already satisfied: pyparsing>=2.3.1 in /usr/local/lib/python3.10/dist-packages (from matplotlib>=3.4->scanpy->pydance==1.0.0rc1) (3.1.0)\n",
            "Requirement already satisfied: six in /usr/local/lib/python3.10/dist-packages (from patsy->scanpy->pydance==1.0.0rc1) (1.16.0)\n",
            "Requirement already satisfied: filelock in /usr/local/lib/python3.10/dist-packages (from torch>=2.0.1->pyro-ppl->pydance==1.0.0rc1) (3.12.2)\n",
            "Requirement already satisfied: typing-extensions in /usr/local/lib/python3.10/dist-packages (from torch>=2.0.1->pyro-ppl->pydance==1.0.0rc1) (4.6.3)\n",
            "Requirement already satisfied: sympy in /usr/local/lib/python3.10/dist-packages (from torch>=2.0.1->pyro-ppl->pydance==1.0.0rc1) (1.11.1)\n",
            "Requirement already satisfied: jinja2 in /usr/local/lib/python3.10/dist-packages (from torch>=2.0.1->pyro-ppl->pydance==1.0.0rc1) (3.1.2)\n",
            "Requirement already satisfied: triton==2.0.0 in /usr/local/lib/python3.10/dist-packages (from torch>=2.0.1->pyro-ppl->pydance==1.0.0rc1) (2.0.0)\n",
            "Requirement already satisfied: cmake in /usr/local/lib/python3.10/dist-packages (from triton==2.0.0->torch>=2.0.1->pyro-ppl->pydance==1.0.0rc1) (3.25.2)\n",
            "Requirement already satisfied: lit in /usr/local/lib/python3.10/dist-packages (from triton==2.0.0->torch>=2.0.1->pyro-ppl->pydance==1.0.0rc1) (16.0.6)\n",
            "Collecting pynndescent>=0.5 (from umap-learn>=0.3.10->scanpy->pydance==1.0.0rc1)\n",
            "  Downloading pynndescent-0.5.10.tar.gz (1.1 MB)\n",
            "\u001b[2K     \u001b[90m━━━━━━━━━━━━━━━━━━━━━━━━━━━━━━━━━━━━━━━━\u001b[0m \u001b[32m1.1/1.1 MB\u001b[0m \u001b[31m74.8 MB/s\u001b[0m eta \u001b[36m0:00:00\u001b[0m\n",
            "\u001b[?25h  Preparing metadata (setup.py) ... \u001b[?25l\u001b[?25hdone\n",
            "Collecting stdlib_list (from session-info->scanpy->pydance==1.0.0rc1)\n",
            "  Downloading stdlib_list-0.9.0-py3-none-any.whl (75 kB)\n",
            "\u001b[2K     \u001b[90m━━━━━━━━━━━━━━━━━━━━━━━━━━━━━━━━━━━━━━━━\u001b[0m \u001b[32m75.6/75.6 kB\u001b[0m \u001b[31m10.8 MB/s\u001b[0m eta \u001b[36m0:00:00\u001b[0m\n",
            "\u001b[?25hRequirement already satisfied: MarkupSafe>=2.0 in /usr/local/lib/python3.10/dist-packages (from jinja2->torch>=2.0.1->pyro-ppl->pydance==1.0.0rc1) (2.1.3)\n",
            "Requirement already satisfied: mpmath>=0.19 in /usr/local/lib/python3.10/dist-packages (from sympy->torch>=2.0.1->pyro-ppl->pydance==1.0.0rc1) (1.3.0)\n",
            "Building wheels for collected packages: pydance, python-igraph, umap-learn, session-info, pynndescent\n",
            "  Building wheel for pydance (pyproject.toml) ... \u001b[?25l\u001b[?25hdone\n",
            "  Created wheel for pydance: filename=pydance-1.0.0rc1-py3-none-any.whl size=266818 sha256=93e96b7e67ed30b39168d89b0e9208f684c2ca503212b2cb5550d7b001046648\n",
            "  Stored in directory: /tmp/pip-ephem-wheel-cache-9bp072kg/wheels/04/d9/90/c7633d8200e81ce106c1aa01cc6a65c741f2abc72ce1f14b5a\n",
            "  Building wheel for python-igraph (setup.py) ... \u001b[?25l\u001b[?25hdone\n",
            "  Created wheel for python-igraph: filename=python_igraph-0.10.4-py3-none-any.whl size=9073 sha256=674a133267ac84d7735d98a52a30d9c78382f9010a9bd7ce38bad154c8175d41\n",
            "  Stored in directory: /root/.cache/pip/wheels/49/27/15/dcf90953e3e3322e6f3e447514b20cf39b53c6518cb4a7bace\n",
            "  Building wheel for umap-learn (setup.py) ... \u001b[?25l\u001b[?25hdone\n",
            "  Created wheel for umap-learn: filename=umap_learn-0.5.3-py3-none-any.whl size=82816 sha256=131c67177d0b1226f56a273d34cf4b49748f79de155cf4ad8a2ec399ea147e9a\n",
            "  Stored in directory: /root/.cache/pip/wheels/a0/e8/c6/a37ea663620bd5200ea1ba0907ab3c217042c1d035ef606acc\n",
            "  Building wheel for session-info (setup.py) ... \u001b[?25l\u001b[?25hdone\n",
            "  Created wheel for session-info: filename=session_info-1.0.0-py3-none-any.whl size=8026 sha256=265994fd7ffa7718c4090ffbcda402beec99e70344ec66e4883c6e9f382d8671\n",
            "  Stored in directory: /root/.cache/pip/wheels/6a/aa/b9/eb5d4031476ec10802795b97ccf937b9bd998d68a9b268765a\n",
            "  Building wheel for pynndescent (setup.py) ... \u001b[?25l\u001b[?25hdone\n",
            "  Created wheel for pynndescent: filename=pynndescent-0.5.10-py3-none-any.whl size=55622 sha256=73c20b4edfc3618ded909abc2b493d0fb24d793eebd5317ff27e7c460dc59b9b\n",
            "  Stored in directory: /root/.cache/pip/wheels/4a/38/5d/f60a40a66a9512b7e5e83517ebc2d1b42d857be97d135f1096\n",
            "Successfully built pydance python-igraph umap-learn session-info pynndescent\n",
            "Installing collected packages: texttable, pyro-api, stdlib_list, scikit-misc, igraph, session-info, python-igraph, leidenalg, pynndescent, anndata, umap-learn, mudata, scanpy, pyro-ppl, pydance\n",
            "Successfully installed anndata-0.9.1 igraph-0.10.4 leidenalg-0.9.1 mudata-0.2.3 pydance-1.0.0rc1 pynndescent-0.5.10 pyro-api-0.1.2 pyro-ppl-1.8.5 python-igraph-0.10.4 scanpy-1.9.3 scikit-misc-0.2.0 session-info-1.0.0 stdlib_list-0.9.0 texttable-1.6.7 umap-learn-0.5.3\n"
          ]
        }
      ]
    },
    {
      "cell_type": "markdown",
      "source": [
        "### 1.3 Check if DANCE is installed successfully"
      ],
      "metadata": {
        "id": "dPyaIcBPk4FO"
      }
    },
    {
      "cell_type": "code",
      "source": [
        "import dance\n",
        "print(f\"Installed DANCE version {dance.__version__}\")"
      ],
      "metadata": {
        "colab": {
          "base_uri": "https://localhost:8080/"
        },
        "id": "Dwap0oVmk1hP",
        "outputId": "40e8aa57-a16a-410a-b71f-5b318f2653fc"
      },
      "execution_count": 3,
      "outputs": [
        {
          "output_type": "stream",
          "name": "stdout",
          "text": [
            "Installed DANCE version 1.0.0-rc.1\n"
          ]
        }
      ]
    },
    {
      "cell_type": "markdown",
      "source": [
        "## 2. Data loading and processing\n",
        "\n",
        "DANCE comes with several benchmarking datasets in a unified dataset object format. This makes data downloading, processing, and caching easy for users through our dataset object interface."
      ],
      "metadata": {
        "id": "qpq3fr_7mkz_"
      }
    },
    {
      "cell_type": "markdown",
      "source": [
        "### 2.1. Check available data options and load data object"
      ],
      "metadata": {
        "id": "-hPDdWsPpa5T"
      }
    },
    {
      "cell_type": "code",
      "source": [
        "from pprint import pprint\n",
        "from dance.datasets.singlemodality import ClusteringDataset, ScDeepSortDataset"
      ],
      "metadata": {
        "id": "3oylxVi7oA7L"
      },
      "execution_count": null,
      "outputs": []
    },
    {
      "cell_type": "code",
      "source": [
        "print(\"Available dataset option for ClusteringDataset:\")\n",
        "pprint(ClusteringDataset.get_avalilable_data())\n",
        "\n",
        "print(\"\\nAvailable dataset option for ScDeepSortDataset:\")\n",
        "pprint(ScDeepSortDataset.get_avalilable_data())"
      ],
      "metadata": {
        "colab": {
          "base_uri": "https://localhost:8080/"
        },
        "id": "geQmHab8pnsC",
        "outputId": "3d80616b-daa2-4f46-da5f-20872b64eccc"
      },
      "execution_count": null,
      "outputs": [
        {
          "output_type": "stream",
          "name": "stdout",
          "text": [
            "Available dataset option for ClusteringDataset:\n",
            "['10X_PBMC', 'mouse_ES_cell', 'mouse_bladder_cell', 'worm_neuron_cell']\n",
            "\n",
            "Available dataset option for ScDeepSortDataset:\n",
            "[{'dataset': '3285', 'species': 'mouse', 'split': 'train', 'tissue': 'Brain'},\n",
            " {'dataset': '753', 'species': 'mouse', 'split': 'train', 'tissue': 'Brain'},\n",
            " {'dataset': '4682', 'species': 'mouse', 'split': 'train', 'tissue': 'Kidney'},\n",
            " {'dataset': '1970', 'species': 'mouse', 'split': 'train', 'tissue': 'Spleen'},\n",
            " {'dataset': '2695', 'species': 'mouse', 'split': 'test', 'tissue': 'Brain'},\n",
            " {'dataset': '203', 'species': 'mouse', 'split': 'test', 'tissue': 'Kidney'},\n",
            " {'dataset': '1759', 'species': 'mouse', 'split': 'test', 'tissue': 'Spleen'}]\n"
          ]
        }
      ]
    },
    {
      "cell_type": "code",
      "source": [
        "dataset = ClusteringDataset(\"10X_PBMC\")\n",
        "\n",
        "# The dataset object do not contain data, it only loads the data upon calling\n",
        "# the load_data function\n",
        "data = dataset.load_data()\n",
        "print(data)"
      ],
      "metadata": {
        "colab": {
          "base_uri": "https://localhost:8080/"
        },
        "id": "EhiCX5BpooNd",
        "outputId": "dea49dfb-49cd-418f-ed9c-d950b4dbf178"
      },
      "execution_count": null,
      "outputs": [
        {
          "output_type": "stream",
          "name": "stderr",
          "text": [
            "[INFO][2023-06-24 13:48:22,085][dance][download_file] Downloading: 10X_PBMC/mouse_bladder_cell.h5 Bytes: 5,479,777\n",
            "100%|██████████| 5.23M/5.23M [00:00<00:00, 27.4MB/s]\n",
            "[INFO][2023-06-24 13:48:23,173][dance][load_data] Raw data loaded:\n",
            "Data object that wraps (.data):\n",
            "AnnData object with n_obs × n_vars = 2746 × 20670\n",
            "    uns: 'dance_config'\n",
            "    obsm: 'Group'\n",
            "[INFO][2023-06-24 13:48:23,174][dance][wrapped_func] Took 0:00:02.114399 to load and process data.\n"
          ]
        },
        {
          "output_type": "stream",
          "name": "stdout",
          "text": [
            "Data object that wraps (.data):\n",
            "AnnData object with n_obs × n_vars = 2746 × 20670\n",
            "    uns: 'dance_config'\n",
            "    obsm: 'Group'\n"
          ]
        }
      ]
    },
    {
      "cell_type": "code",
      "source": [
        "dataset = ScDeepSortDataset(species=\"mouse\", tissue=\"Brain\",\n",
        "                            train_dataset=[\"3285\", \"753\"], test_dataset=[\"2695\"])\n",
        "data = dataset.load_data()\n",
        "print(data)"
      ],
      "metadata": {
        "colab": {
          "base_uri": "https://localhost:8080/"
        },
        "id": "00_UOrqlrA_6",
        "outputId": "d876e8b8-e635-4b1b-87df-62d145915370"
      },
      "execution_count": null,
      "outputs": [
        {
          "output_type": "stream",
          "name": "stderr",
          "text": [
            "[INFO][2023-06-24 13:53:00,958][dance][_load_dfs] Loading data from ./train/mouse/mouse_Brain3285_data.csv\n",
            "[INFO][2023-06-24 13:53:11,916][dance][_load_dfs] Loading data from ./train/mouse/mouse_Brain753_data.csv\n",
            "[INFO][2023-06-24 13:53:14,119][dance][_load_dfs] Loading data from ./test/mouse/mouse_Brain2695_data.csv\n",
            "[INFO][2023-06-24 13:53:23,130][dance][_load_dfs] Loading data from ./train/mouse/mouse_Brain3285_celltype.csv\n",
            "[INFO][2023-06-24 13:53:23,151][dance][_load_dfs] Loading data from ./train/mouse/mouse_Brain753_celltype.csv\n",
            "[INFO][2023-06-24 13:53:23,161][dance][_load_dfs] Loading data from ./test/mouse/mouse_Brain2695_celltype.csv\n",
            "[INFO][2023-06-24 13:53:26,847][dance][_load_raw_data] Loaded expression data: AnnData object with n_obs × n_vars = 6733 × 19856\n",
            "[INFO][2023-06-24 13:53:26,848][dance][_load_raw_data] Number of training samples: 4,038\n",
            "[INFO][2023-06-24 13:53:26,852][dance][_load_raw_data] Number of testing samples: 2,695\n",
            "[INFO][2023-06-24 13:53:26,855][dance][_load_raw_data] Cell-types (n=11):\n",
            "['Astrocyte',\n",
            " 'Astroglial cell',\n",
            " 'Granulocyte',\n",
            " 'Hypothalamic ependymal cell',\n",
            " 'Macrophage',\n",
            " 'Microglia',\n",
            " 'Myelinating oligodendrocyte',\n",
            " 'Neuron',\n",
            " 'Oligodendrocyte precursor cell',\n",
            " 'Pan-GABAergic',\n",
            " 'Schwann cell']\n",
            "[INFO][2023-06-24 13:53:26,881][dance][load_data] Raw data loaded:\n",
            "Data object that wraps (.data):\n",
            "AnnData object with n_obs × n_vars = 6733 × 19856\n",
            "    uns: 'dance_config'\n",
            "    obsm: 'cell_type'\n",
            "[INFO][2023-06-24 13:53:26,882][dance][wrapped_func] Took 0:00:25.924807 to load and process data.\n"
          ]
        },
        {
          "output_type": "stream",
          "name": "stdout",
          "text": [
            "Data object that wraps (.data):\n",
            "AnnData object with n_obs × n_vars = 6733 × 19856\n",
            "    uns: 'dance_config'\n",
            "    obsm: 'cell_type'\n"
          ]
        }
      ]
    },
    {
      "cell_type": "markdown",
      "source": [
        "### 2.2. A quick primer on AnnData\n",
        "\n",
        "The [dance data object](https://github.com/OmicsML/dance/blob/912405cb5ab43caf16eb22b9216865c7e3976eaf/dance/data/base.py#L40) is heavily built on top of [AnnData](https://anndata.readthedocs.io/en/latest/), which is a widely used data object to represent, store, and manipulate large annotated matrices.\n",
        "\n",
        "> anndata is a Python package for handling annotated data matrices in memory and on disk, positioned between pandas and xarray. anndata offers a broad range of computationally efficient features...\n",
        "\n",
        "AnnData falls into the ecosystem of scVerse, providing extra advantage and ease for handeling single-cell data using, for example, [Scanpy](https://scanpy.readthedocs.io/en/stable/)."
      ],
      "metadata": {
        "id": "cU0EHCYiLzou"
      }
    },
    {
      "cell_type": "markdown",
      "source": [
        "![anndata_schema.svg](data:image/svg+xml;base64,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)"
      ],
      "metadata": {
        "id": "aHRrYekFNr8_"
      }
    },
    {
      "cell_type": "code",
      "source": [
        "adata = data.data\n",
        "adata"
      ],
      "metadata": {
        "colab": {
          "base_uri": "https://localhost:8080/"
        },
        "id": "glGCQdF0Lx5K",
        "outputId": "99b6cfdb-d108-4f46-e41a-8ba86452a5b1"
      },
      "execution_count": null,
      "outputs": [
        {
          "output_type": "execute_result",
          "data": {
            "text/plain": [
              "AnnData object with n_obs × n_vars = 2746 × 20670\n",
              "    uns: 'dance_config'\n",
              "    obsm: 'Group'"
            ]
          },
          "metadata": {},
          "execution_count": 8
        }
      ]
    },
    {
      "cell_type": "code",
      "source": [
        "adata.X"
      ],
      "metadata": {
        "colab": {
          "base_uri": "https://localhost:8080/"
        },
        "id": "yJYYK4ZFLxtt",
        "outputId": "35f0433e-a5b6-4690-cf0d-a92b7b79c0b0"
      },
      "execution_count": null,
      "outputs": [
        {
          "output_type": "execute_result",
          "data": {
            "text/plain": [
              "array([[0., 0., 0., ..., 0., 0., 0.],\n",
              "       [0., 0., 0., ..., 0., 0., 0.],\n",
              "       [1., 0., 0., ..., 0., 0., 0.],\n",
              "       ...,\n",
              "       [0., 0., 0., ..., 0., 0., 0.],\n",
              "       [0., 0., 0., ..., 0., 0., 0.],\n",
              "       [0., 0., 0., ..., 0., 0., 0.]], dtype=float32)"
            ]
          },
          "metadata": {},
          "execution_count": 9
        }
      ]
    },
    {
      "cell_type": "code",
      "source": [
        "adata.obsm[\"Group\"]"
      ],
      "metadata": {
        "colab": {
          "base_uri": "https://localhost:8080/"
        },
        "id": "O5R2Rh_hLxim",
        "outputId": "e039a391-f395-4023-ad27-af83c101cacf"
      },
      "execution_count": null,
      "outputs": [
        {
          "output_type": "execute_result",
          "data": {
            "text/plain": [
              "array([ 1,  5, 16, ..., 10,  1,  6], dtype=int32)"
            ]
          },
          "metadata": {},
          "execution_count": 12
        }
      ]
    },
    {
      "cell_type": "markdown",
      "source": [
        "### 2.3. Data pre-processing using transforms\n",
        "\n",
        "Applying individual in-place transformations to data\n"
      ],
      "metadata": {
        "id": "0ytH_-HIrNHx"
      }
    },
    {
      "cell_type": "code",
      "source": [
        "import scanpy as sc\n",
        "\n",
        "from dance.transforms import AnnDataTransform, FilterGenesPercentile\n",
        "\n",
        "# Reload data\n",
        "data = dataset.load_data()\n",
        "\n",
        "# Library size normalization\n",
        "AnnDataTransform(sc.pp.normalize_total, target_sum=1e-4)(data)\n",
        "\n",
        "# Shifted log transformation\n",
        "AnnDataTransform(sc.pp.log1p)(data)\n",
        "\n",
        "# Filter out genes that have extreme coefficient of variation\n",
        "FilterGenesPercentile(min_val=1, max_val=99, mode=\"sum\")(data)"
      ],
      "metadata": {
        "colab": {
          "base_uri": "https://localhost:8080/"
        },
        "id": "GfBLRhppo_41",
        "outputId": "95b9f9e6-ea37-47ca-83dc-56a46e4ae9ad"
      },
      "execution_count": null,
      "outputs": [
        {
          "output_type": "stream",
          "name": "stdout",
          "text": [
            "WARNING: adata.X seems to be already log-transformed.\n"
          ]
        }
      ]
    },
    {
      "cell_type": "markdown",
      "source": [
        "Composing transformations into a a pre-precoessing pipeline (feat. caching)"
      ],
      "metadata": {
        "id": "2St8ISsAr1_M"
      }
    },
    {
      "cell_type": "code",
      "source": [
        "from dance.transforms import Compose\n",
        "\n",
        "preprocessing_pipeline = Compose(\n",
        "    AnnDataTransform(sc.pp.normalize_total, target_sum=1e-4),\n",
        "    AnnDataTransform(sc.pp.log1p),\n",
        "    FilterGenesPercentile(min_val=1, max_val=99, mode=\"sum\"),\n",
        ")\n",
        "\n",
        "data = dataset.load_data()\n",
        "preprocessing_pipeline(data)"
      ],
      "metadata": {
        "colab": {
          "base_uri": "https://localhost:8080/"
        },
        "id": "NEhY1hTRo_nh",
        "outputId": "e26ac25c-4b72-4287-f509-dde1ecd788f8"
      },
      "execution_count": null,
      "outputs": [
        {
          "output_type": "stream",
          "name": "stderr",
          "text": [
            "[INFO][2023-06-24 11:54:34,794][dance][load_data] Raw data loaded:\n",
            "Data object that wraps (.data):\n",
            "AnnData object with n_obs × n_vars = 2746 × 20670\n",
            "    uns: 'dance_config'\n",
            "    obsm: 'Group'\n",
            "[INFO][2023-06-24 11:54:34,795][dance][wrapped_func] Took 0:00:00.827345 to load and process data.\n"
          ]
        }
      ]
    },
    {
      "cell_type": "code",
      "source": [
        "data = dataset.load_data(transform=preprocessing_pipeline, cache=True)"
      ],
      "metadata": {
        "colab": {
          "base_uri": "https://localhost:8080/"
        },
        "id": "9L8DaBvnuRLH",
        "outputId": "d8a46f0d-6a4f-4709-d095-699e7b1fb09c"
      },
      "execution_count": null,
      "outputs": [
        {
          "output_type": "stream",
          "name": "stderr",
          "text": [
            "[INFO][2023-06-24 11:54:46,010][dance][load_data] Raw data loaded:\n",
            "Data object that wraps (.data):\n",
            "AnnData object with n_obs × n_vars = 2746 × 20670\n",
            "    uns: 'dance_config'\n",
            "    obsm: 'Group'\n",
            "[INFO][2023-06-24 11:54:47,141][dance][load_data] Data transformed:\n",
            "Data object that wraps (.data):\n",
            "AnnData object with n_obs × n_vars = 2746 × 20463\n",
            "    uns: 'dance_config', 'log1p'\n",
            "    obsm: 'Group'\n",
            "[INFO][2023-06-24 11:54:48,140][dance][load_data] Saved processed data to cache: /content/pydance/10X_PBMC/cache/97d10b6e54d74aff33617925c4696e31.pkl\n",
            "[INFO][2023-06-24 11:54:48,141][dance][wrapped_func] Took 0:00:03.182861 to load and process data.\n"
          ]
        }
      ]
    },
    {
      "cell_type": "markdown",
      "source": [
        "## Single modality tasks\n",
        "\n",
        "- Example:\n",
        "  - Main: Cell Type Annotation\n",
        "  - ..."
      ],
      "metadata": {
        "id": "mkvsZ3K7YSV5"
      }
    },
    {
      "cell_type": "code",
      "source": [
        "import argparse\n",
        "import pprint\n",
        "from typing import get_args\n",
        "\n",
        "import numpy as np\n",
        "\n",
        "from dance import logger\n",
        "from dance.datasets.singlemodality import ScDeepSortDataset\n",
        "from dance.modules.single_modality.cell_type_annotation.actinn import ACTINN\n",
        "from dance.typing import LogLevel\n",
        "\n",
        "if __name__ == \"__main__\":\n",
        "    parser = argparse.ArgumentParser(formatter_class=argparse.ArgumentDefaultsHelpFormatter)\n",
        "    parser.add_argument(\"--batch_size\", type=int, default=1024, help=\"Batch size\")\n",
        "    parser.add_argument(\"--cache\", action=\"store_true\", help=\"Cache processed data.\")\n",
        "    parser.add_argument(\"--device\", default=\"cpu\", help=\"Computation device.\")\n",
        "    parser.add_argument(\"--hidden_dims\", nargs=\"+\", type=int, default=[2000], help=\"Hidden dimensions.\")\n",
        "    parser.add_argument(\"--lambd\", type=float, default=0.01, help=\"Regularization parameter\")\n",
        "    parser.add_argument(\"--learning_rate\", type=float, default=0.001, help=\"Learning rate\")\n",
        "    parser.add_argument(\"--log_level\", type=str, default=\"INFO\", choices=get_args(LogLevel))\n",
        "    parser.add_argument(\"--nofilter\", action=\"store_true\", help=\"Disable filtering genes by expression summaries.\")\n",
        "    parser.add_argument(\n",
        "        \"--normalize\", action=\"store_true\", help=\"Whether to perform the normalization described in ACTINN. \"\n",
        "        \"Disabled by default since the scDeepSort data is already normalized\")\n",
        "    parser.add_argument(\"--num_epochs\", type=int, default=50, help=\"Number of epochs\")\n",
        "    parser.add_argument(\"--print_cost\", action=\"store_true\", help=\"Print cost when training\")\n",
        "    parser.add_argument(\"--runs\", type=int, default=10, help=\"Number of repetitions\")\n",
        "    parser.add_argument(\"--seed\", type=int, default=0, help=\"Initial seed random, offset for each repeatition\")\n",
        "    parser.add_argument(\"--species\", default=\"mouse\")\n",
        "    parser.add_argument(\"--test_dataset\", nargs=\"+\", default=[1759], help=\"List of testing dataset ids.\")\n",
        "    parser.add_argument(\"--tissue\", default=\"Spleen\")\n",
        "    parser.add_argument(\"--train_dataset\", nargs=\"+\", default=[1970], help=\"List of training dataset ids.\")\n",
        "\n",
        "    args = parser.parse_args()\n",
        "    logger.setLevel(args.log_level)\n",
        "    logger.info(f\"Running SVM with the following parameters:\\n{pprint.pformat(vars(args))}\")\n",
        "\n",
        "    # Initialize model and get model specific preprocessing pipeline\n",
        "    model = ACTINN(hidden_dims=args.hidden_dims, lambd=args.lambd, device=args.device)\n",
        "    preprocessing_pipeline = model.preprocessing_pipeline(normalize=args.normalize, filter_genes=not args.nofilter)\n",
        "\n",
        "    # Load data and perform necessary preprocessing\n",
        "    dataloader = ScDeepSortDataset(train_dataset=args.train_dataset, test_dataset=args.test_dataset, tissue=args.tissue,\n",
        "                                   species=args.species)\n",
        "    data = dataloader.load_data(transform=preprocessing_pipeline, cache=args.cache)\n",
        "\n",
        "    # Obtain training and testing data\n",
        "    x_train, y_train = data.get_train_data(return_type=\"torch\")\n",
        "    x_test, y_test = data.get_test_data(return_type=\"torch\")\n",
        "\n",
        "    # Train and evaluate models for several rounds\n",
        "    scores = []\n",
        "    for k in range(args.runs):\n",
        "        model.fit(x_train, y_train, seed=args.seed + k, lr=args.learning_rate, num_epochs=args.num_epochs,\n",
        "                  batch_size=args.batch_size, print_cost=args.print_cost)\n",
        "        scores.append(score := model.score(x_test, y_test))\n",
        "        print(f\"{score=:.4f}\")\n",
        "    print(f\"Score: {np.mean(scores):04.3f} +/- {np.std(scores):04.3f}\")"
      ],
      "metadata": {
        "id": "_AxGb2VQYKa9"
      },
      "execution_count": null,
      "outputs": []
    },
    {
      "cell_type": "markdown",
      "source": [
        "## Multi-modality tasks\n",
        "- Example: Modality prediction\n"
      ],
      "metadata": {
        "id": "pAUSC-FIseKZ"
      }
    },
    {
      "cell_type": "markdown",
      "source": [
        "### Argument parsing setting"
      ],
      "metadata": {
        "id": "fokdY7v0m_1F"
      }
    },
    {
      "cell_type": "code",
      "source": [
        "import anndata\n",
        "import mudata\n",
        "import torch\n",
        "import scanpy as sc\n",
        "from dance import logger\n",
        "from dance.data import Data\n",
        "from dance.datasets.multimodality import ModalityPredictionDataset\n",
        "from dance.modules.multi_modality.predict_modality.babel import BabelWrapper\n",
        "from dance.utils import set_seed\n",
        "from sklearn.decomposition import TruncatedSVD\n",
        "from scipy.sparse import csr_matrix\n",
        "import argparse\n",
        "import random\n",
        "import torch\n",
        "import os\n",
        "\n",
        "OPTIMIZER_DICT = {\n",
        "    \"adam\": torch.optim.Adam,\n",
        "    \"rmsprop\": torch.optim.RMSprop,\n",
        "}\n",
        "rndseed = random.randint(0, 2147483647)\n",
        "parser = argparse.ArgumentParser()\n",
        "parser.add_argument(\"-t\", \"--subtask\", default=\"openproblems_bmmc_cite_phase2_rna\")\n",
        "parser.add_argument(\"-device\", \"--device\", default=\"cuda\")\n",
        "parser.add_argument(\"-cpu\", \"--cpus\", default=1, type=int)\n",
        "parser.add_argument(\"-seed\", \"--rnd_seed\", default=rndseed, type=int)\n",
        "parser.add_argument(\"--lossweight\", type=float, default=1., help=\"Relative loss weight\")\n",
        "parser.add_argument(\"--lr\", \"-l\", type=float, default=0.01, help=\"Learning rate\")\n",
        "parser.add_argument(\"--batchsize\", \"-b\", type=int, default=64, help=\"Batch size\")\n",
        "parser.add_argument(\"--hidden\", type=int, default=64, help=\"Hidden dimensions\")\n",
        "parser.add_argument(\"--earlystop\", type=int, default=20, help=\"Early stopping after N epochs\")\n",
        "parser.add_argument(\"--naive\", \"-n\", action=\"store_true\", help=\"Use a naive model instead of lego model\")\n",
        "\n",
        "parser.add_argument(\"-m\", \"--model_folder\", default=\"./\")\n",
        "parser.add_argument(\"--outdir\", \"-o\", default=\"./\", help=\"Directory to output to\")\n",
        "parser.add_argument(\"--resume\", action=\"store_true\")\n",
        "parser.add_argument(\"--max_epochs\", type=int, default=500)\n",
        "args_defaults = parser.parse_args([])\n",
        "args = argparse.Namespace(**vars(args_defaults))\n",
        "\n",
        "rndseed = args.rnd_seed\n",
        "set_seed(rndseed)\n",
        "device = args.device\n",
        "os.makedirs(args.model_folder, exist_ok=True)\n",
        "args"
      ],
      "metadata": {
        "colab": {
          "base_uri": "https://localhost:8080/"
        },
        "outputId": "dc69eae3-32a7-4f5b-b955-284e7d2da0a1",
        "id": "xtYqh0NVseKl"
      },
      "execution_count": null,
      "outputs": [
        {
          "output_type": "stream",
          "name": "stderr",
          "text": [
            "[INFO][2023-06-24 14:30:07,498][dance][set_seed] Setting global random seed to 174567710\n"
          ]
        },
        {
          "output_type": "execute_result",
          "data": {
            "text/plain": [
              "Namespace(subtask='openproblems_bmmc_cite_phase2_rna', device='cuda', cpus=1, rnd_seed=174567710, lossweight=1.0, lr=0.01, batchsize=64, hidden=64, earlystop=20, naive=False, model_folder='./', outdir='./', resume=False, max_epochs=500)"
            ]
          },
          "metadata": {},
          "execution_count": 1
        }
      ]
    },
    {
      "cell_type": "markdown",
      "source": [
        "### Load data and perform necessary preprocessing"
      ],
      "metadata": {
        "id": "GiSWrCTcopk2"
      }
    },
    {
      "cell_type": "code",
      "source": [
        "dataset = ModalityPredictionDataset(args.subtask)\n",
        "data = dataset.load_data()\n",
        "data"
      ],
      "metadata": {
        "colab": {
          "base_uri": "https://localhost:8080/"
        },
        "id": "0YUOD1bpp1Yz",
        "outputId": "2ce1d868-7f7d-405d-caac-49b78fc17ff5"
      },
      "execution_count": null,
      "outputs": [
        {
          "output_type": "stream",
          "name": "stderr",
          "text": [
            "[INFO][2023-06-24 14:30:10,883][dance][_load_raw_data] Loading /content/data/openproblems_bmmc_cite_phase2_rna/openproblems_bmmc_cite_phase2_rna.censor_dataset.output_train_mod1.h5ad\n",
            "[INFO][2023-06-24 14:30:20,935][dance][_load_raw_data] Loading /content/data/openproblems_bmmc_cite_phase2_rna/openproblems_bmmc_cite_phase2_rna.censor_dataset.output_train_mod2.h5ad\n",
            "[INFO][2023-06-24 14:30:21,674][dance][_load_raw_data] Loading /content/data/openproblems_bmmc_cite_phase2_rna/openproblems_bmmc_cite_phase2_rna.censor_dataset.output_test_mod1.h5ad\n",
            "[INFO][2023-06-24 14:30:21,908][dance][_load_raw_data] Loading /content/data/openproblems_bmmc_cite_phase2_rna/openproblems_bmmc_cite_phase2_rna.censor_dataset.output_test_mod2.h5ad\n",
            "[INFO][2023-06-24 14:30:21,937][dance][_maybe_preprocess] Preprocessing done.\n",
            "/usr/local/lib/python3.10/dist-packages/mudata/_core/mudata.py:491: UserWarning: Cannot join columns with the same name because var_names are intersecting.\n",
            "  warnings.warn(\n",
            "/usr/local/lib/python3.10/dist-packages/mudata/_core/mudata.py:1059: UserWarning: Modality names will be prepended to var_names since there are identical var_names in different modalities.\n",
            "  warnings.warn(\n",
            "[INFO][2023-06-24 14:30:31,711][dance][set_config_from_dict] Setting config 'feature_mod' to 'mod1'\n",
            "[INFO][2023-06-24 14:30:31,712][dance][set_config_from_dict] Setting config 'label_mod' to 'mod2'\n",
            "[INFO][2023-06-24 14:30:31,714][dance][load_data] Raw data loaded:\n",
            "Data object that wraps (.data):\n",
            "MuData object with n_obs × n_vars = 67175 × 14087\n",
            "  uns:\t'dance_config'\n",
            "  2 modalities\n",
            "    mod1:\t67175 x 13953\n",
            "      obs:\t'batch', 'size_factors'\n",
            "      layers:\t'counts'\n",
            "    mod2:\t67175 x 134\n",
            "      obs:\t'batch', 'size_factors'\n",
            "      layers:\t'counts'\n",
            "[INFO][2023-06-24 14:30:31,716][dance][wrapped_func] Took 0:00:20.833923 to load and process data.\n"
          ]
        },
        {
          "output_type": "execute_result",
          "data": {
            "text/plain": [
              "Data object that wraps (.data):\n",
              "MuData object with n_obs × n_vars = 67175 × 14087\n",
              "  uns:\t'dance_config'\n",
              "  2 modalities\n",
              "    mod1:\t67175 x 13953\n",
              "      obs:\t'batch', 'size_factors'\n",
              "      layers:\t'counts'\n",
              "    mod2:\t67175 x 134\n",
              "      obs:\t'batch', 'size_factors'\n",
              "      layers:\t'counts'"
            ]
          },
          "metadata": {},
          "execution_count": 2
        }
      ]
    },
    {
      "cell_type": "code",
      "source": [
        "# Construct data object\n",
        "data.set_config(feature_mod=\"mod1\", label_mod=\"mod2\")\n",
        "\n",
        "# Obtain training and testing data\n",
        "x_train, y_train = data.get_train_data(return_type=\"torch\")\n",
        "\n",
        "# Colab has very limited memory (12.7GB), therefore we subsample the data\n",
        "x_train = x_train[:10000]\n",
        "y_train = y_train[:10000]\n",
        "\n",
        "x_test, y_test = data.get_test_data(return_type=\"torch\")"
      ],
      "metadata": {
        "id": "hAzD6aVJnNzY"
      },
      "execution_count": null,
      "outputs": []
    },
    {
      "cell_type": "markdown",
      "source": [
        "### Initialize model and get model specific preprocessing pipeline"
      ],
      "metadata": {
        "id": "glZq-iXhnjx2"
      }
    },
    {
      "cell_type": "code",
      "source": [
        "model = BabelWrapper(args, dim_in=x_train.shape[1], dim_out=y_train.shape[1])"
      ],
      "metadata": {
        "colab": {
          "base_uri": "https://localhost:8080/"
        },
        "id": "_u7Mmj1copEn",
        "outputId": "6a98e19a-5d9d-495a-dfbd-ab81c3f89a5c"
      },
      "execution_count": null,
      "outputs": [
        {
          "output_type": "stream",
          "name": "stderr",
          "text": [
            "[INFO][2023-06-24 14:31:23,785][dance][__init__] ChromDecoder with 1 output activations\n"
          ]
        }
      ]
    },
    {
      "cell_type": "markdown",
      "source": [
        "### Train and evaluate model"
      ],
      "metadata": {
        "id": "5iTI6DmhpICp"
      }
    },
    {
      "cell_type": "code",
      "source": [
        "model.fit(x_train.float(), y_train.float(), val_ratio=0.15)"
      ],
      "metadata": {
        "id": "QmISy75jo64u",
        "colab": {
          "base_uri": "https://localhost:8080/"
        },
        "outputId": "cefc5e3a-77ff-4ab6-8203-eb8685121835"
      },
      "execution_count": null,
      "outputs": [
        {
          "output_type": "stream",
          "name": "stdout",
          "text": [
            "epoch:  1\n",
            "training (sum of 4 losses): 1.6766332656817329\n",
            "validation (prediction loss): 0.41206314481472334\n",
            "epoch:  2\n",
            "training (sum of 4 losses): 1.40987203354226\n",
            "validation (prediction loss): 0.38240737221883014\n",
            "epoch:  3\n",
            "training (sum of 4 losses): 1.3574806496613008\n",
            "validation (prediction loss): 0.3682764279868932\n",
            "epoch:  4\n",
            "training (sum of 4 losses): 1.3285951874309914\n",
            "validation (prediction loss): 0.36719259341407\n",
            "epoch:  5\n",
            "training (sum of 4 losses): 1.312786208955865\n",
            "validation (prediction loss): 0.3694950917258167\n",
            "epoch:  6\n",
            "training (sum of 4 losses): 1.2974244553343695\n",
            "validation (prediction loss): 0.36570537171478096\n",
            "epoch:  7\n",
            "training (sum of 4 losses): 1.2830024088235725\n",
            "validation (prediction loss): 0.36225591615754504\n",
            "epoch:  8\n",
            "training (sum of 4 losses): 1.2671941814566017\n",
            "validation (prediction loss): 0.35869080089694916\n",
            "epoch:  9\n",
            "training (sum of 4 losses): 1.2591027944607842\n",
            "validation (prediction loss): 0.3587988289542294\n",
            "epoch:  10\n",
            "training (sum of 4 losses): 1.253976109332608\n",
            "validation (prediction loss): 0.3674270067735978\n",
            "epoch:  11\n",
            "training (sum of 4 losses): 1.2490551328300534\n",
            "validation (prediction loss): 0.363202245386691\n",
            "epoch:  12\n",
            "training (sum of 4 losses): 1.2401687614899828\n",
            "validation (prediction loss): 0.3635692458965821\n",
            "epoch:  13\n",
            "training (sum of 4 losses): 1.241913444117496\n",
            "validation (prediction loss): 0.3611396005617311\n",
            "epoch:  14\n",
            "training (sum of 4 losses): 1.235572878579448\n",
            "validation (prediction loss): 0.3637513038796502\n",
            "epoch:  15\n",
            "training (sum of 4 losses): 1.231494614952489\n",
            "validation (prediction loss): 0.3632209981667263\n",
            "epoch:  16\n",
            "training (sum of 4 losses): 1.2249522764879959\n",
            "validation (prediction loss): 0.36231119864646144\n",
            "epoch:  17\n",
            "training (sum of 4 losses): 1.2230071447845687\n",
            "validation (prediction loss): 0.365160510895\n",
            "epoch:  18\n",
            "training (sum of 4 losses): 1.2239149396580862\n",
            "validation (prediction loss): 0.36242912919564346\n",
            "epoch:  19\n",
            "training (sum of 4 losses): 1.2196385313693743\n",
            "validation (prediction loss): 0.36909542908748316\n",
            "epoch:  20\n",
            "training (sum of 4 losses): 1.2154252045136644\n",
            "validation (prediction loss): 0.36279551657889747\n",
            "epoch:  21\n",
            "training (sum of 4 losses): 1.2159996427091442\n",
            "validation (prediction loss): 0.3670321869076966\n",
            "epoch:  22\n",
            "training (sum of 4 losses): 1.2123866000569852\n",
            "validation (prediction loss): 0.3638015792691182\n",
            "epoch:  23\n",
            "training (sum of 4 losses): 1.2100439770777422\n",
            "validation (prediction loss): 0.3677100030138004\n",
            "epoch:  24\n",
            "training (sum of 4 losses): 1.207441272592186\n",
            "validation (prediction loss): 0.3669120697400024\n",
            "epoch:  25\n",
            "training (sum of 4 losses): 1.2096799190779377\n",
            "validation (prediction loss): 0.368374506355417\n",
            "epoch:  26\n",
            "training (sum of 4 losses): 1.205931784515094\n",
            "validation (prediction loss): 0.3640567418046922\n",
            "epoch:  27\n",
            "training (sum of 4 losses): 1.2045978397355044\n",
            "validation (prediction loss): 0.36552205120565767\n",
            "epoch:  28\n",
            "training (sum of 4 losses): 1.2049028730033933\n",
            "validation (prediction loss): 0.3668968520616958\n",
            "Early stopped.\n"
          ]
        }
      ]
    },
    {
      "cell_type": "code",
      "source": [
        "model.predict(x_test.float())"
      ],
      "metadata": {
        "id": "BKTB8BBtpM5W",
        "colab": {
          "base_uri": "https://localhost:8080/"
        },
        "outputId": "9bfc6003-74a5-4830-e8ef-d594ea6f197e"
      },
      "execution_count": null,
      "outputs": [
        {
          "output_type": "execute_result",
          "data": {
            "text/plain": [
              "tensor([[0.0000, 0.1828, 1.4499,  ..., 0.6975, 0.7497, 1.2867],\n",
              "        [0.0000, 0.2233, 1.4454,  ..., 0.4905, 0.5937, 0.4263],\n",
              "        [0.0000, 0.2122, 1.3088,  ..., 0.6468, 0.8948, 0.4278],\n",
              "        ...,\n",
              "        [0.0000, 0.2826, 1.0508,  ..., 0.6880, 0.6888, 0.4230],\n",
              "        [0.0000, 0.2779, 1.0777,  ..., 0.6544, 0.7332, 0.4518],\n",
              "        [0.0000, 0.2132, 1.4187,  ..., 0.5752, 0.7776, 0.5988]],\n",
              "       device='cuda:0')"
            ]
          },
          "metadata": {},
          "execution_count": 6
        }
      ]
    },
    {
      "cell_type": "code",
      "source": [
        "model.score(x_test.float(), y_test.float())"
      ],
      "metadata": {
        "id": "LdmG1C3OpOik",
        "colab": {
          "base_uri": "https://localhost:8080/"
        },
        "outputId": "7ead0926-bb70-4705-eceb-200e3274c834"
      },
      "execution_count": null,
      "outputs": [
        {
          "output_type": "execute_result",
          "data": {
            "text/plain": [
              "0.5074194340577416"
            ]
          },
          "metadata": {},
          "execution_count": 7
        }
      ]
    },
    {
      "cell_type": "markdown",
      "source": [
        "# Spatial Transcriptomics Module\n"
      ],
      "metadata": {
        "id": "5GtfjouMYnhu"
      }
    },
    {
      "cell_type": "markdown",
      "source": [
        "## Task 1: Spatial Domain"
      ],
      "metadata": {
        "id": "qZR3LqHeHhBV"
      }
    },
    {
      "cell_type": "markdown",
      "source": [
        "### SpaGCN model for spatial domain identification\n",
        "![SpaGCN_framework](https://github.com/OmicsML/dance-tutorials/raw/dev/imgs/tutorial_v1/spatial_domain/SpaGCN_framework.png)"
      ],
      "metadata": {
        "id": "Lk9Wa95t1ZaO"
      }
    },
    {
      "cell_type": "code",
      "source": [
        "import argparse\n",
        "from dance.transforms import Compose\n",
        "from dance.datasets.spatial import SpatialLIBDDataset\n",
        "from dance.modules.spatial.spatial_domain.spagcn import SpaGCN, refine\n",
        "from dance.utils import set_seed\n",
        "from dance.transforms import AnnDataTransform, CellPCA, Compose, FilterGenesMatch, SetConfig\n",
        "from dance.transforms.graph import SpaGCNGraph, SpaGCNGraph2D\n"
      ],
      "metadata": {
        "id": "9Cvb5p3fYKoL"
      },
      "execution_count": 22,
      "outputs": []
    },
    {
      "cell_type": "markdown",
      "source": [
        "### Initialize model and get model specific preprocessing *pipeline*"
      ],
      "metadata": {
        "id": "gsNEeY9Ahw0g"
      }
    },
    {
      "cell_type": "code",
      "source": [
        "model = SpaGCN()\n",
        "preprocessing_pipeline = model.preprocessing_pipeline(alpha=1, beta=49) # In SpaGCN, alpha and beta are used for graph construction\n"
      ],
      "metadata": {
        "id": "ZhOR4klKYKq2"
      },
      "execution_count": 23,
      "outputs": []
    },
    {
      "cell_type": "markdown",
      "source": [
        "### User defined customized trasform"
      ],
      "metadata": {
        "id": "m3qzdR9Kh4EC"
      }
    },
    {
      "cell_type": "code",
      "source": [
        "preprocessing_pipeline = Compose(\n",
        "    FilterGenesMatch(prefixes=[\"ERCC\", \"MT-\"]),\n",
        "    SpaGCNGraph(alpha=1, beta=49),\n",
        "    SpaGCNGraph2D(),\n",
        "    CellPCA(n_components=40),\n",
        "    SetConfig({\n",
        "        \"feature_channel\": [\"CellPCA\", \"SpaGCNGraph\", \"SpaGCNGraph2D\"],\n",
        "        \"feature_channel_type\": [\"obsm\", \"obsp\", \"obsp\"],\n",
        "        \"label_channel\": \"label\",\n",
        "        \"label_channel_type\": \"obs\"\n",
        "    }),\n",
        "    )"
      ],
      "metadata": {
        "id": "haGT8iVRYKtX"
      },
      "execution_count": 24,
      "outputs": []
    },
    {
      "cell_type": "markdown",
      "source": [
        "### Load data and perform necessary preprocessing"
      ],
      "metadata": {
        "id": "mbdzs2ubh6h2"
      }
    },
    {
      "cell_type": "code",
      "source": [
        "dataloader = SpatialLIBDDataset(data_id=\"151673\")\n",
        "data = dataloader.load_data(transform=preprocessing_pipeline, cache=\"store_true\")"
      ],
      "metadata": {
        "id": "KjRDIVb2YKvp",
        "colab": {
          "base_uri": "https://localhost:8080/"
        },
        "outputId": "f9aebc63-378f-4e77-c361-1d2696de811b"
      },
      "execution_count": 25,
      "outputs": [
        {
          "output_type": "stream",
          "name": "stderr",
          "text": [
            "[INFO][2023-06-26 05:36:27,141][dance][_load_raw_data] Loading image data from data/spatial/151673/151673_full_image.tif\n",
            "[INFO][2023-06-26 05:36:28,111][dance][_load_raw_data] Loading expression data from data/spatial/151673/151673_raw_feature_bc_matrix.h5\n",
            "/usr/local/lib/python3.10/dist-packages/anndata/_core/anndata.py:1832: UserWarning: Variable names are not unique. To make them unique, call `.var_names_make_unique`.\n",
            "  utils.warn_names_duplicates(\"var\")\n",
            "[INFO][2023-06-26 05:36:28,701][dance][_load_raw_data] Loading spatial info from data/spatial/151673/tissue_positions_list.txt\n",
            "[INFO][2023-06-26 05:36:28,712][dance][_load_raw_data] Loading label info from data/spatial/151673/cluster_labels.csv\n",
            "/usr/local/lib/python3.10/dist-packages/anndata/_core/anndata.py:1832: UserWarning: Variable names are not unique. To make them unique, call `.var_names_make_unique`.\n",
            "  utils.warn_names_duplicates(\"var\")\n",
            "[INFO][2023-06-26 05:36:28,782][dance][load_data] Raw data loaded:\n",
            "Data object that wraps (.data):\n",
            "AnnData object with n_obs × n_vars = 3639 × 33538\n",
            "    obs: 'key', 'ground_truth', 'SpatialDE_PCA', 'SpatialDE_pool_PCA', 'HVG_PCA', 'pseudobulk_PCA', 'markers_PCA', 'SpatialDE_UMAP', 'SpatialDE_pool_UMAP', 'HVG_UMAP', 'pseudobulk_UMAP', 'markers_UMAP', 'SpatialDE_PCA_spatial', 'SpatialDE_pool_PCA_spatial', 'HVG_PCA_spatial', 'pseudobulk_PCA_spatial', 'markers_PCA_spatial', 'SpatialDE_UMAP_spatial', 'SpatialDE_pool_UMAP_spatial', 'HVG_UMAP_spatial', 'pseudobulk_UMAP_spatial', 'markers_UMAP_spatial', 'label'\n",
            "    var: 'gene_ids', 'feature_types', 'genome'\n",
            "    uns: 'image', 'dance_config'\n",
            "    obsm: 'spatial', 'spatial_pixel'\n",
            "[INFO][2023-06-26 05:36:38,358][dance][set_config_from_dict] Setting config 'feature_channel' to ['CellPCA', 'SpaGCNGraph', 'SpaGCNGraph2D']\n",
            "[INFO][2023-06-26 05:36:38,359][dance][set_config_from_dict] Setting config 'feature_channel_type' to ['obsm', 'obsp', 'obsp']\n",
            "[INFO][2023-06-26 05:36:38,363][dance][set_config_from_dict] Setting config 'label_channel' to 'label'\n",
            "[INFO][2023-06-26 05:36:38,365][dance][set_config_from_dict] Setting config 'label_channel_type' to 'obs'\n",
            "[INFO][2023-06-26 05:36:38,367][dance][load_data] Data transformed:\n",
            "Data object that wraps (.data):\n",
            "AnnData object with n_obs × n_vars = 3639 × 33516\n",
            "    obs: 'key', 'ground_truth', 'SpatialDE_PCA', 'SpatialDE_pool_PCA', 'HVG_PCA', 'pseudobulk_PCA', 'markers_PCA', 'SpatialDE_UMAP', 'SpatialDE_pool_UMAP', 'HVG_UMAP', 'pseudobulk_UMAP', 'markers_UMAP', 'SpatialDE_PCA_spatial', 'SpatialDE_pool_PCA_spatial', 'HVG_PCA_spatial', 'pseudobulk_PCA_spatial', 'markers_PCA_spatial', 'SpatialDE_UMAP_spatial', 'SpatialDE_pool_UMAP_spatial', 'HVG_UMAP_spatial', 'pseudobulk_UMAP_spatial', 'markers_UMAP_spatial', 'label'\n",
            "    var: 'gene_ids', 'feature_types', 'genome'\n",
            "    uns: 'image', 'dance_config'\n",
            "    obsm: 'spatial', 'spatial_pixel', 'CellPCA'\n",
            "    obsp: 'SpaGCNGraph', 'SpaGCNGraph2D'\n",
            "[INFO][2023-06-26 05:36:54,672][dance][load_data] Saved processed data to cache: /content/cache/90fac83afdb4eb037c008fa7469ffcd2.pkl\n",
            "[INFO][2023-06-26 05:36:54,674][dance][wrapped_func] Took 0:00:27.533465 to load and process data.\n"
          ]
        }
      ]
    },
    {
      "cell_type": "code",
      "source": [
        "data"
      ],
      "metadata": {
        "id": "NK9OSycdYKxx",
        "colab": {
          "base_uri": "https://localhost:8080/"
        },
        "outputId": "20181ebc-4a43-4ed9-d42c-31198a29d5c9"
      },
      "execution_count": 26,
      "outputs": [
        {
          "output_type": "execute_result",
          "data": {
            "text/plain": [
              "Data object that wraps (.data):\n",
              "AnnData object with n_obs × n_vars = 3639 × 33516\n",
              "    obs: 'key', 'ground_truth', 'SpatialDE_PCA', 'SpatialDE_pool_PCA', 'HVG_PCA', 'pseudobulk_PCA', 'markers_PCA', 'SpatialDE_UMAP', 'SpatialDE_pool_UMAP', 'HVG_UMAP', 'pseudobulk_UMAP', 'markers_UMAP', 'SpatialDE_PCA_spatial', 'SpatialDE_pool_PCA_spatial', 'HVG_PCA_spatial', 'pseudobulk_PCA_spatial', 'markers_PCA_spatial', 'SpatialDE_UMAP_spatial', 'SpatialDE_pool_UMAP_spatial', 'HVG_UMAP_spatial', 'pseudobulk_UMAP_spatial', 'markers_UMAP_spatial', 'label'\n",
              "    var: 'gene_ids', 'feature_types', 'genome'\n",
              "    uns: 'image', 'dance_config'\n",
              "    obsm: 'spatial', 'spatial_pixel', 'CellPCA'\n",
              "    obsp: 'SpaGCNGraph', 'SpaGCNGraph2D'"
            ]
          },
          "metadata": {},
          "execution_count": 26
        }
      ]
    },
    {
      "cell_type": "code",
      "source": [
        "data.data.obsp[\"SpaGCNGraph\"].shape"
      ],
      "metadata": {
        "id": "K5EWgciBYK0C",
        "colab": {
          "base_uri": "https://localhost:8080/"
        },
        "outputId": "f2249c4b-e167-409f-82b9-65ec2975a3e6"
      },
      "execution_count": 27,
      "outputs": [
        {
          "output_type": "execute_result",
          "data": {
            "text/plain": [
              "(3639, 3639)"
            ]
          },
          "metadata": {},
          "execution_count": 27
        }
      ]
    },
    {
      "cell_type": "code",
      "source": [
        "data.x[0].shape"
      ],
      "metadata": {
        "id": "XZlUiZ7fU6bt",
        "colab": {
          "base_uri": "https://localhost:8080/"
        },
        "outputId": "2790e560-49e9-4558-9d8c-7c619e1c1d6d"
      },
      "execution_count": 28,
      "outputs": [
        {
          "output_type": "execute_result",
          "data": {
            "text/plain": [
              "(3639, 40)"
            ]
          },
          "metadata": {},
          "execution_count": 28
        }
      ]
    },
    {
      "cell_type": "code",
      "source": [
        "data.x[1].shape"
      ],
      "metadata": {
        "id": "QnEt9RriU57S",
        "colab": {
          "base_uri": "https://localhost:8080/"
        },
        "outputId": "2bad489a-31a5-478f-8d4c-223f8f2e5bb4"
      },
      "execution_count": 29,
      "outputs": [
        {
          "output_type": "execute_result",
          "data": {
            "text/plain": [
              "(3639, 3639)"
            ]
          },
          "metadata": {},
          "execution_count": 29
        }
      ]
    },
    {
      "cell_type": "code",
      "source": [
        "data.x[1].shape"
      ],
      "metadata": {
        "colab": {
          "base_uri": "https://localhost:8080/"
        },
        "id": "jF0_6faYiJpg",
        "outputId": "431f5f37-5168-44b3-d765-0a250ae419f0"
      },
      "execution_count": 30,
      "outputs": [
        {
          "output_type": "execute_result",
          "data": {
            "text/plain": [
              "(3639, 3639)"
            ]
          },
          "metadata": {},
          "execution_count": 30
        }
      ]
    },
    {
      "cell_type": "code",
      "source": [
        "(x, adj, adj_2d), y = data.get_train_data()"
      ],
      "metadata": {
        "id": "12f-DQDTLtEr"
      },
      "execution_count": 31,
      "outputs": []
    },
    {
      "cell_type": "code",
      "source": [
        "x, x.shape"
      ],
      "metadata": {
        "id": "jDtzm4y_LuDR",
        "outputId": "fb9e3517-af4a-47bc-b26b-5e352c0a1fd1",
        "colab": {
          "base_uri": "https://localhost:8080/"
        }
      },
      "execution_count": 32,
      "outputs": [
        {
          "output_type": "execute_result",
          "data": {
            "text/plain": [
              "(array([[ 74.59424   ,   5.102027  ,  -1.5807899 , ...,  -1.2770147 ,\n",
              "           4.5531125 ,   4.498791  ],\n",
              "        [-52.20469   , -29.175175  ,   0.14970411, ...,  -0.59834   ,\n",
              "          -0.46938702,   2.6673055 ],\n",
              "        [-46.55332   ,  97.913826  ,  -3.319207  , ...,   1.1419314 ,\n",
              "           4.833102  ,  -2.9667187 ],\n",
              "        ...,\n",
              "        [-48.64317   ,   0.6173291 ,  -0.66554165, ...,  -0.3374023 ,\n",
              "          -2.9235873 ,   0.31737345],\n",
              "        [-49.08601   ,   7.224671  ,  -0.7592219 , ...,  -1.6662663 ,\n",
              "           1.0502098 ,   0.1705698 ],\n",
              "        [ 35.53666   , -15.498928  ,  -1.0658048 , ...,  -4.917498  ,\n",
              "          -0.5530586 ,   0.6497386 ]], dtype=float32),\n",
              " (3639, 40))"
            ]
          },
          "metadata": {},
          "execution_count": 32
        }
      ]
    },
    {
      "cell_type": "code",
      "source": [
        "adj, adj.shape"
      ],
      "metadata": {
        "id": "99g73dgqLvBz",
        "outputId": "6fb6462b-0051-40be-9ae8-095eef7ccf03",
        "colab": {
          "base_uri": "https://localhost:8080/"
        }
      },
      "execution_count": 33,
      "outputs": [
        {
          "output_type": "execute_result",
          "data": {
            "text/plain": [
              "(array([[  0.     ,  94.04338, 107.42335, ...,  75.5097 , 119.22895,\n",
              "          67.19388],\n",
              "        [ 94.04338,   0.     ,  61.99059, ...,  77.6764 ,  82.52692,\n",
              "          64.84502],\n",
              "        [107.42335,  61.99059,   0.     , ...,  76.50982,  41.4561 ,\n",
              "          97.2263 ],\n",
              "        ...,\n",
              "        [ 75.5097 ,  77.6764 ,  76.50982, ...,   0.     , 111.5035 ,\n",
              "          44.95287],\n",
              "        [119.22895,  82.52692,  41.4561 , ..., 111.5035 ,   0.     ,\n",
              "         126.87175],\n",
              "        [ 67.19388,  64.84502,  97.2263 , ...,  44.95287, 126.87175,\n",
              "           0.     ]], dtype=float32),\n",
              " (3639, 3639))"
            ]
          },
          "metadata": {},
          "execution_count": 33
        }
      ]
    },
    {
      "cell_type": "code",
      "source": [
        "y, y.shape"
      ],
      "metadata": {
        "id": "e8GHPsbkLwa-",
        "outputId": "e441ca86-7bb2-4d8c-bf0c-9b35cba44bec",
        "colab": {
          "base_uri": "https://localhost:8080/"
        }
      },
      "execution_count": 34,
      "outputs": [
        {
          "output_type": "execute_result",
          "data": {
            "text/plain": [
              "(array([0, 1, 2, ..., 4, 2, 5]), (3639,))"
            ]
          },
          "metadata": {},
          "execution_count": 34
        }
      ]
    },
    {
      "cell_type": "markdown",
      "source": [
        "### Train and evaluate model"
      ],
      "metadata": {
        "id": "GJWRWs0DiMBm"
      }
    },
    {
      "cell_type": "code",
      "source": [
        "l = model.search_l(0.05, adj, start=0.01, end=1000, tol=5e-3, max_run=200)\n",
        "model.set_l(l)\n",
        "res = model.search_set_res((x, adj), l=l, target_num=7, start=0.4, step=0.1, tol=5e-3, lr=0.05, epochs=200, max_run=200)"
      ],
      "metadata": {
        "colab": {
          "base_uri": "https://localhost:8080/"
        },
        "id": "DKK8se_riJtK",
        "outputId": "d4bb0767-ef19-4d7e-d555-9db4a107b2ed"
      },
      "execution_count": 35,
      "outputs": [
        {
          "output_type": "stream",
          "name": "stderr",
          "text": [
            "[INFO][2023-06-26 05:36:55,264][dance][search_l] Run 1: l [0.01, 1000], p [0.0, 3629.7406229057055]\n",
            "[INFO][2023-06-26 05:36:55,328][dance][search_l] Run 2: l [0.01, 500.005], p [0.0, 3605.191650390625]\n",
            "[INFO][2023-06-26 05:36:55,389][dance][search_l] Run 3: l [0.01, 250.0075], p [0.0, 3510.283935546875]\n",
            "[INFO][2023-06-26 05:36:55,452][dance][search_l] Run 4: l [0.01, 125.00874999999999], p [0.0, 3176.004150390625]\n",
            "[INFO][2023-06-26 05:36:55,509][dance][search_l] Run 5: l [0.01, 62.509375], p [0.0, 2292.207275390625]\n",
            "[INFO][2023-06-26 05:36:55,566][dance][search_l] Run 6: l [0.01, 31.2596875], p [0.0, 1045.6600341796875]\n",
            "[INFO][2023-06-26 05:36:55,632][dance][search_l] Run 7: l [0.01, 15.63484375], p [0.0, 292.86767578125]\n",
            "[INFO][2023-06-26 05:36:55,713][dance][search_l] Run 8: l [0.01, 7.822421875], p [0.0, 59.20479965209961]\n",
            "[INFO][2023-06-26 05:36:55,811][dance][search_l] Run 9: l [0.01, 3.9162109375], p [0.0, 9.6504545211792]\n",
            "[INFO][2023-06-26 05:36:55,888][dance][search_l] Run 10: l [0.01, 1.9631054687499998], p [0.0, 1.3308384418487549]\n",
            "[INFO][2023-06-26 05:36:55,955][dance][search_l] Run 11: l [0.01, 0.9865527343749999], p [0.0, 0.13487112522125244]\n",
            "[INFO][2023-06-26 05:36:56,012][dance][search_l] Run 12: l [0.49827636718749996, 0.9865527343749999], p [0.002484917640686035, 0.13487112522125244]\n",
            "[INFO][2023-06-26 05:36:56,071][dance][search_l] Run 13: l [0.74241455078125, 0.9865527343749999], p [0.03829240798950195, 0.13487112522125244]\n",
            "[INFO][2023-06-26 05:36:56,133][dance][search_l] Run 14: l [0.74241455078125, 0.8644836425781249], p [0.03829240798950195, 0.07849884033203125]\n",
            "[INFO][2023-06-26 05:36:56,192][dance][search_l] Run 15: l [0.74241455078125, 0.8034490966796874], p [0.03829240798950195, 0.05641937255859375]\n",
            "[INFO][2023-06-26 05:36:56,256][dance][search_l] recommended l: 0.7729318237304688\n",
            "[INFO][2023-06-26 05:36:56,257][dance][search_set_res] Start at res = 0.4000, step = 0.1000\n",
            "[INFO][2023-06-26 05:36:56,348][dance][fit] Initializing cluster centers with louvain, resolution = 0.4\n",
            "[INFO][2023-06-26 05:36:56,990][dance][fit] Epoch 0\n",
            "[INFO][2023-06-26 05:36:57,797][dance][fit] Epoch 10\n",
            "[INFO][2023-06-26 05:36:58,606][dance][fit] Epoch 20\n",
            "[INFO][2023-06-26 05:36:59,100][dance][fit] delta_label 0.00494641384995878 < tol 0.005\n",
            "[INFO][2023-06-26 05:36:59,102][dance][fit] Reach tolerance threshold. Stopping training.\n",
            "[INFO][2023-06-26 05:36:59,106][dance][fit] Total epoch: 25\n",
            "[INFO][2023-06-26 05:36:59,201][dance][search_set_res] Res = 0.4000, Num of clusters = 6\n",
            "[INFO][2023-06-26 05:36:59,321][dance][fit] Initializing cluster centers with louvain, resolution = 0.5\n",
            "[INFO][2023-06-26 05:37:00,209][dance][fit] Epoch 0\n",
            "[INFO][2023-06-26 05:37:01,252][dance][fit] Epoch 10\n",
            "[INFO][2023-06-26 05:37:02,290][dance][fit] Epoch 20\n",
            "[INFO][2023-06-26 05:37:03,327][dance][fit] Epoch 30\n",
            "[INFO][2023-06-26 05:37:03,949][dance][fit] delta_label 0.004122011541632316 < tol 0.005\n",
            "[INFO][2023-06-26 05:37:03,950][dance][fit] Reach tolerance threshold. Stopping training.\n",
            "[INFO][2023-06-26 05:37:03,953][dance][fit] Total epoch: 37\n",
            "[INFO][2023-06-26 05:37:04,047][dance][search_set_res] Res = 5.000e-01, Num of clusters = 6\n",
            "[INFO][2023-06-26 05:37:04,048][dance][search_set_res] Res changed to 0.5\n",
            "[INFO][2023-06-26 05:37:04,138][dance][fit] Initializing cluster centers with louvain, resolution = 0.6\n",
            "[INFO][2023-06-26 05:37:04,736][dance][fit] Epoch 0\n",
            "[INFO][2023-06-26 05:37:05,532][dance][fit] Epoch 10\n",
            "[INFO][2023-06-26 05:37:06,341][dance][fit] Epoch 20\n",
            "[INFO][2023-06-26 05:37:06,836][dance][fit] delta_label 0.004671613080516625 < tol 0.005\n",
            "[INFO][2023-06-26 05:37:06,837][dance][fit] Reach tolerance threshold. Stopping training.\n",
            "[INFO][2023-06-26 05:37:06,842][dance][fit] Total epoch: 25\n",
            "[INFO][2023-06-26 05:37:06,936][dance][search_set_res] Res = 6.000e-01, Num of clusters = 7\n",
            "[INFO][2023-06-26 05:37:06,937][dance][search_set_res] recommended res = 0.6000\n"
          ]
        }
      ]
    },
    {
      "cell_type": "code",
      "source": [
        "pred = model.fit_predict((x, adj), init_spa=True, init=\"louvain\", tol=5e-3, lr=0.05, epochs=200, res=res)"
      ],
      "metadata": {
        "colab": {
          "base_uri": "https://localhost:8080/"
        },
        "id": "owQ_yvDIiJwo",
        "outputId": "41f082d5-9704-4b4a-9f77-46141cbd74e1"
      },
      "execution_count": 36,
      "outputs": [
        {
          "output_type": "stream",
          "name": "stderr",
          "text": [
            "[INFO][2023-06-26 05:37:07,040][dance][fit] Initializing cluster centers with louvain, resolution = 0.6\n",
            "[INFO][2023-06-26 05:37:07,707][dance][fit] Epoch 0\n",
            "[INFO][2023-06-26 05:37:08,517][dance][fit] Epoch 10\n",
            "[INFO][2023-06-26 05:37:09,331][dance][fit] Epoch 20\n",
            "[INFO][2023-06-26 05:37:10,173][dance][fit] Epoch 30\n",
            "[INFO][2023-06-26 05:37:10,966][dance][fit] Epoch 40\n",
            "[INFO][2023-06-26 05:37:11,765][dance][fit] Epoch 50\n",
            "[INFO][2023-06-26 05:37:12,256][dance][fit] delta_label 0.004396812311074471 < tol 0.005\n",
            "[INFO][2023-06-26 05:37:12,258][dance][fit] Reach tolerance threshold. Stopping training.\n",
            "[INFO][2023-06-26 05:37:12,262][dance][fit] Total epoch: 55\n"
          ]
        }
      ]
    },
    {
      "cell_type": "code",
      "source": [
        "score = model.default_score_func(y, pred)\n",
        "print(f\"ARI: {score:.4f}\")"
      ],
      "metadata": {
        "colab": {
          "base_uri": "https://localhost:8080/"
        },
        "id": "OBPkwWStiJz0",
        "outputId": "5a835859-f152-4d0f-bb10-7a3bec3875fb"
      },
      "execution_count": 37,
      "outputs": [
        {
          "output_type": "stream",
          "name": "stdout",
          "text": [
            "ARI: 0.1699\n"
          ]
        }
      ]
    },
    {
      "cell_type": "code",
      "source": [],
      "metadata": {
        "id": "bypOsaj6iJ3q"
      },
      "execution_count": 37,
      "outputs": []
    },
    {
      "cell_type": "code",
      "source": [],
      "metadata": {
        "id": "_RQn52W2iU_z"
      },
      "execution_count": null,
      "outputs": []
    },
    {
      "cell_type": "code",
      "source": [],
      "metadata": {
        "id": "q6nZtv-8MHej"
      },
      "execution_count": null,
      "outputs": []
    },
    {
      "cell_type": "code",
      "source": [],
      "metadata": {
        "id": "SYGWX4-GMHhr"
      },
      "execution_count": null,
      "outputs": []
    },
    {
      "cell_type": "markdown",
      "source": [
        "## Task 2: Cell Type Deconvolution"
      ],
      "metadata": {
        "id": "caXNszkwMHsC"
      }
    },
    {
      "cell_type": "markdown",
      "source": [
        "### DSTG model for cell type deconvolution\n",
        "![DSTG_framework](https://github.com/OmicsML/dance-tutorials/raw/4a5a17326ecc652439ec3b459788af7f41316216/imgs/tutorial_v1/cell_type_deconvo/DSTG_framework.png)"
      ],
      "metadata": {
        "id": "fizd_zm4MO7k"
      }
    },
    {
      "cell_type": "markdown",
      "source": [
        "### Argument parsing setting"
      ],
      "metadata": {
        "id": "r8XhBIAtNqtr"
      }
    },
    {
      "cell_type": "code",
      "source": [
        "import argparse\n",
        "from pprint import pprint\n",
        "import numpy as np\n",
        "import torch\n",
        "from dance.datasets.spatial import CellTypeDeconvoDataset\n",
        "from dance.modules.spatial.cell_type_deconvo import DSTG\n",
        "from dance.utils import set_seed\n"
      ],
      "metadata": {
        "id": "I8noGMkAiVDO"
      },
      "execution_count": 38,
      "outputs": []
    },
    {
      "cell_type": "markdown",
      "source": [
        "### Get model specific preprocessing *pipeline*"
      ],
      "metadata": {
        "id": "EHPDQu5UPlxs"
      }
    },
    {
      "cell_type": "code",
      "source": [
        "preprocessing_pipeline = DSTG.preprocessing_pipeline(\n",
        "    n_pseudo=500,\n",
        "    n_top_genes=2000,\n",
        "    k_filter=200,\n",
        "    num_cc=30,\n",
        ")"
      ],
      "metadata": {
        "id": "rUxBGy3mNkzY"
      },
      "execution_count": 39,
      "outputs": []
    },
    {
      "cell_type": "markdown",
      "source": [
        "### Load data and perform necessary preprocessing"
      ],
      "metadata": {
        "id": "MUBPq_kFQLdx"
      }
    },
    {
      "cell_type": "code",
      "source": [
        "dataset = CellTypeDeconvoDataset(data_dir=\"data/spatial\", data_id=\"CARD_synthetic\")\n",
        "data = dataset.load_data(transform=preprocessing_pipeline, cache=\"store_true\")"
      ],
      "metadata": {
        "id": "PD72lCZiNk27",
        "outputId": "10d84739-afca-4545-f6dd-88cdd30e2e36",
        "colab": {
          "base_uri": "https://localhost:8080/"
        }
      },
      "execution_count": 40,
      "outputs": [
        {
          "output_type": "stream",
          "name": "stderr",
          "text": [
            "[INFO][2023-06-26 05:40:38,116][dance][download_file] Downloading: data/spatial/CARD_synthetic.zip Bytes: 104,321,218\n",
            "100%|██████████| 99.5M/99.5M [00:04<00:00, 21.3MB/s]\n",
            "[INFO][2023-06-26 05:40:43,032][dance][unzip_file] Unzipping 'data/spatial/CARD_synthetic.zip'\n",
            "[INFO][2023-06-26 05:40:43,293][dance][delete_file] Deleting 'data/spatial/CARD_synthetic.zip'\n",
            "[INFO][2023-06-26 05:40:44,205][dance][_load_raw_data] Number of cell types: reference = 7, real = 6\n",
            "[INFO][2023-06-26 05:40:44,206][dance][_load_raw_data] Subsetting to common cell types (n=6):\n",
            "['Astrocytes', 'Ependymal', 'Immune', 'Neurons', 'Oligos', 'Vascular']\n",
            "[INFO][2023-06-26 05:40:45,646][dance][load_data] Raw data loaded:\n",
            "Data object that wraps (.data):\n",
            "AnnData object with n_obs × n_vars = 10454 × 18263\n",
            "    obs: 'cellname', 'cellType', 'sampleID', 'batch'\n",
            "    uns: 'dance_config'\n",
            "    obsm: 'cell_type_portion', 'spatial'\n",
            "[INFO][2023-06-26 05:40:45,648][dance.Compose][__call__] Applying composed transformations:\n",
            "Compose(\n",
            "  FilterGenesCommon(batch_key=None, split_keys=['ref', 'test']),\n",
            "  PseudoMixture(n_pseudo=500, nc_min=2, nc_max=10, ct_select='auto'),\n",
            "  RemoveSplit(split_name='ref'),\n",
            "  AnnDataTransform(func=scanpy.preprocessing._normalization.normalize_total, func_kwargs={'target_sum': 10000.0}),\n",
            "  AnnDataTransform(func=scanpy.preprocessing._simple.log1p, func_kwargs={}),\n",
            "  AnnDataTransform(func=scanpy.preprocessing._highly_variable_genes.highly_variable_genes, func_kwargs={'flavor': 'seurat', 'n_top_genes': 2000, 'batch_key': 'batch', 'subset': True}),\n",
            "  ScaleFeature(axis=0, mode='standardize', eps=-1, split_names='ALL', batch_key=None),\n",
            "  DSTGraph(k_filter=200, num_cc=30, ref_split='pseudo', inf_split='test'),\n",
            "  SetConfig(config_dict={'feature_channel': ['DSTGraph', None], 'feature_channel_type': ['obsp', 'X'], 'label_channel': 'cell_type_portion'}),\n",
            ")\n",
            "[INFO][2023-06-26 05:40:47,027][dance.FilterGenesCommon][__call__] 18,165 genes found in 'ref'\n",
            "[INFO][2023-06-26 05:40:47,065][dance.FilterGenesCommon][__call__] 16,740 genes found in 'test'\n",
            "[INFO][2023-06-26 05:40:47,075][dance.FilterGenesCommon][__call__] Found 16,689 common genes out of 18,263 total genes.\n",
            "[INFO][2023-06-26 05:40:52,606][dance.RemoveSplit][__call__] Popping split: {self.split_name!r}\n",
            "[INFO][2023-06-26 05:40:52,613][dance][pop] Updating split index for 'pseudo'. 500 -> 500\n",
            "[INFO][2023-06-26 05:40:52,617][dance][pop] Updating split index for 'test'. 260 -> 260\n",
            "/usr/local/lib/python3.10/dist-packages/scanpy/preprocessing/_normalization.py:170: UserWarning: Received a view of an AnnData. Making a copy.\n",
            "  view_to_actual(adata)\n",
            "[INFO][2023-06-26 05:40:53,814][dance.ScaleFeature][__call__] Scaling split:pseudo (n=500)\n",
            "[INFO][2023-06-26 05:40:53,823][dance.ScaleFeature][__call__] Scaling split:test (n=260)\n",
            "/usr/local/lib/python3.10/dist-packages/sklearn/preprocessing/_data.py:240: UserWarning: Numerical issues were encountered when centering the data and might not be solved. Dataset may contain too large values. You may need to prescale your features.\n",
            "  warnings.warn(\n",
            "/usr/local/lib/python3.10/dist-packages/sklearn/preprocessing/_data.py:259: UserWarning: Numerical issues were encountered when scaling the data and might not be solved. The standard deviation of the data is probably very close to 0. \n",
            "  warnings.warn(\n",
            "/usr/local/lib/python3.10/dist-packages/sklearn/preprocessing/_data.py:240: UserWarning: Numerical issues were encountered when centering the data and might not be solved. Dataset may contain too large values. You may need to prescale your features.\n",
            "  warnings.warn(\n",
            "/usr/local/lib/python3.10/dist-packages/sklearn/preprocessing/_data.py:259: UserWarning: Numerical issues were encountered when scaling the data and might not be solved. The standard deviation of the data is probably very close to 0. \n",
            "  warnings.warn(\n",
            "[INFO][2023-06-26 05:40:56,935][dance.SetConfig][__call__] Updating the dance data object config options:\n",
            "{'feature_channel': ['DSTGraph', None],\n",
            " 'feature_channel_type': ['obsp', 'X'],\n",
            " 'label_channel': 'cell_type_portion'}\n",
            "[INFO][2023-06-26 05:40:56,936][dance][set_config_from_dict] Setting config 'feature_channel' to ['DSTGraph', None]\n",
            "[INFO][2023-06-26 05:40:56,941][dance][set_config_from_dict] Setting config 'feature_channel_type' to ['obsp', 'X']\n",
            "[INFO][2023-06-26 05:40:56,943][dance][set_config_from_dict] Setting config 'label_channel' to 'cell_type_portion'\n",
            "[INFO][2023-06-26 05:40:56,946][dance][load_data] Data transformed:\n",
            "Data object that wraps (.data):\n",
            "AnnData object with n_obs × n_vars = 760 × 2000\n",
            "    obs: 'cellname', 'cellType', 'sampleID', 'batch', 'cell_count', 'total_umi_count'\n",
            "    var: 'highly_variable', 'means', 'dispersions', 'dispersions_norm', 'highly_variable_nbatches', 'highly_variable_intersection'\n",
            "    uns: 'dance_config', 'log1p', 'hvg'\n",
            "    obsm: 'cell_type_portion', 'spatial'\n",
            "    obsp: 'DSTGraph'\n",
            "[INFO][2023-06-26 05:40:56,976][dance][load_data] Saved processed data to cache: /content/data/spatial/cache/deb1872ee913171bc6ab727195be020b.pkl\n",
            "[INFO][2023-06-26 05:40:57,003][dance][wrapped_func] Took 0:00:19.921499 to load and process data.\n"
          ]
        }
      ]
    },
    {
      "cell_type": "code",
      "source": [
        "data.x"
      ],
      "metadata": {
        "id": "Fy06a8WJNk6X",
        "colab": {
          "base_uri": "https://localhost:8080/"
        },
        "outputId": "348fd106-35e8-4cb6-c5b5-c2c9ecab72c0"
      },
      "execution_count": 41,
      "outputs": [
        {
          "output_type": "execute_result",
          "data": {
            "text/plain": [
              "[<760x760 sparse matrix of type '<class 'numpy.float64'>'\n",
              " \twith 3032 stored elements in COOrdinate format>,\n",
              " array([[-0.96134275,  0.976699  , -1.028233  , ..., -0.16210744,\n",
              "          0.10654867,  0.72191226],\n",
              "        [-0.96134275,  0.67003554,  0.12525097, ..., -0.16210744,\n",
              "         -0.7449631 ,  0.32156822],\n",
              "        [-0.96134275, -0.9604567 ,  0.06584159, ..., -0.16210744,\n",
              "         -0.89897835,  1.0575923 ],\n",
              "        ...,\n",
              "        [-0.7177087 , -0.29554528, -0.8562431 , ...,  0.        ,\n",
              "         -0.7281318 ,  2.2388463 ],\n",
              "        [-0.7177087 , -0.29554528, -0.8562431 , ...,  0.        ,\n",
              "         -0.9590941 , -0.49117133],\n",
              "        [ 1.5180172 , -0.29554528, -0.8562431 , ...,  0.        ,\n",
              "         -0.87318116, -0.49117133]], dtype=float32)]"
            ]
          },
          "metadata": {},
          "execution_count": 41
        }
      ]
    },
    {
      "cell_type": "code",
      "source": [
        "len(data.x)"
      ],
      "metadata": {
        "id": "EE6me_dINk9W",
        "colab": {
          "base_uri": "https://localhost:8080/"
        },
        "outputId": "36206e35-70c8-4fed-9c14-d48ef780fd87"
      },
      "execution_count": 42,
      "outputs": [
        {
          "output_type": "execute_result",
          "data": {
            "text/plain": [
              "2"
            ]
          },
          "metadata": {},
          "execution_count": 42
        }
      ]
    },
    {
      "cell_type": "code",
      "source": [
        "data.x[0], data.x[0].shape"
      ],
      "metadata": {
        "id": "Q847M1_PiVGY",
        "colab": {
          "base_uri": "https://localhost:8080/"
        },
        "outputId": "68b767ee-03aa-4620-d3cb-6f745ac85c35"
      },
      "execution_count": 43,
      "outputs": [
        {
          "output_type": "execute_result",
          "data": {
            "text/plain": [
              "(<760x760 sparse matrix of type '<class 'numpy.float64'>'\n",
              " \twith 3032 stored elements in COOrdinate format>,\n",
              " (760, 760))"
            ]
          },
          "metadata": {},
          "execution_count": 43
        }
      ]
    },
    {
      "cell_type": "code",
      "source": [
        "data.x[1], data.x[1].shape"
      ],
      "metadata": {
        "id": "oze8LGHGU4pb",
        "colab": {
          "base_uri": "https://localhost:8080/"
        },
        "outputId": "f1216567-dc34-402d-d895-d70ac57b3fd7"
      },
      "execution_count": 44,
      "outputs": [
        {
          "output_type": "execute_result",
          "data": {
            "text/plain": [
              "(array([[-0.96134275,  0.976699  , -1.028233  , ..., -0.16210744,\n",
              "          0.10654867,  0.72191226],\n",
              "        [-0.96134275,  0.67003554,  0.12525097, ..., -0.16210744,\n",
              "         -0.7449631 ,  0.32156822],\n",
              "        [-0.96134275, -0.9604567 ,  0.06584159, ..., -0.16210744,\n",
              "         -0.89897835,  1.0575923 ],\n",
              "        ...,\n",
              "        [-0.7177087 , -0.29554528, -0.8562431 , ...,  0.        ,\n",
              "         -0.7281318 ,  2.2388463 ],\n",
              "        [-0.7177087 , -0.29554528, -0.8562431 , ...,  0.        ,\n",
              "         -0.9590941 , -0.49117133],\n",
              "        [ 1.5180172 , -0.29554528, -0.8562431 , ...,  0.        ,\n",
              "         -0.87318116, -0.49117133]], dtype=float32),\n",
              " (760, 2000))"
            ]
          },
          "metadata": {},
          "execution_count": 44
        }
      ]
    },
    {
      "cell_type": "code",
      "source": [
        "(adj, x), y = data.get_data(return_type=\"default\")\n",
        "x, y = torch.FloatTensor(x), torch.FloatTensor(y.values)\n",
        "adj = torch.sparse.FloatTensor(torch.LongTensor([adj.row.tolist(), adj.col.tolist()]),\n",
        "                               torch.FloatTensor(adj.data.astype(np.int32)))\n"
      ],
      "metadata": {
        "id": "yBY0-cp9SDz6"
      },
      "execution_count": 45,
      "outputs": []
    },
    {
      "cell_type": "code",
      "source": [
        "x, x.shape"
      ],
      "metadata": {
        "id": "UyoCegteObK3",
        "outputId": "13ecbe01-71cd-4e28-91dd-85a60d48ddd5",
        "colab": {
          "base_uri": "https://localhost:8080/"
        }
      },
      "execution_count": 51,
      "outputs": [
        {
          "output_type": "execute_result",
          "data": {
            "text/plain": [
              "(tensor([[-0.9613,  0.9767, -1.0282,  ..., -0.1621,  0.1065,  0.7219],\n",
              "         [-0.9613,  0.6700,  0.1253,  ..., -0.1621, -0.7450,  0.3216],\n",
              "         [-0.9613, -0.9605,  0.0658,  ..., -0.1621, -0.8990,  1.0576],\n",
              "         ...,\n",
              "         [-0.7177, -0.2955, -0.8562,  ...,  0.0000, -0.7281,  2.2388],\n",
              "         [-0.7177, -0.2955, -0.8562,  ...,  0.0000, -0.9591, -0.4912],\n",
              "         [ 1.5180, -0.2955, -0.8562,  ...,  0.0000, -0.8732, -0.4912]]),\n",
              " torch.Size([760, 2000]))"
            ]
          },
          "metadata": {},
          "execution_count": 51
        }
      ]
    },
    {
      "cell_type": "code",
      "source": [
        "adj, adj.shape"
      ],
      "metadata": {
        "id": "NMD4GcLqOdWJ",
        "outputId": "1bc2512a-cf03-4832-af28-885c930abe52",
        "colab": {
          "base_uri": "https://localhost:8080/"
        }
      },
      "execution_count": 52,
      "outputs": [
        {
          "output_type": "execute_result",
          "data": {
            "text/plain": [
              "(tensor(indices=tensor([[  0,   0,   0,  ..., 759, 759, 759],\n",
              "                        [  0, 563, 647,  ..., 295, 374, 759]]),\n",
              "        values=tensor([0., 0., 0.,  ..., 0., 0., 0.]),\n",
              "        size=(760, 760), nnz=3032, layout=torch.sparse_coo),\n",
              " torch.Size([760, 760]))"
            ]
          },
          "metadata": {},
          "execution_count": 52
        }
      ]
    },
    {
      "cell_type": "code",
      "source": [
        "y, y.shape"
      ],
      "metadata": {
        "id": "lHLYA8DVOfsC",
        "outputId": "1f770082-3c84-4d51-f674-6ed983a131b2",
        "colab": {
          "base_uri": "https://localhost:8080/"
        }
      },
      "execution_count": 53,
      "outputs": [
        {
          "output_type": "execute_result",
          "data": {
            "text/plain": [
              "(tensor([[0.2000, 0.1000, 0.0000, 0.4000, 0.0000, 0.3000],\n",
              "         [0.3000, 0.1000, 0.1000, 0.2000, 0.2000, 0.1000],\n",
              "         [0.0000, 0.0000, 0.0000, 0.2222, 0.1111, 0.6667],\n",
              "         ...,\n",
              "         [0.0000, 0.0000, 0.0000, 0.5000, 0.5000, 0.0000],\n",
              "         [0.1429, 0.0000, 0.0000, 0.4286, 0.4286, 0.0000],\n",
              "         [0.0000, 0.0000, 0.2500, 0.7500, 0.0000, 0.0000]]),\n",
              " torch.Size([760, 6]))"
            ]
          },
          "metadata": {},
          "execution_count": 53
        }
      ]
    },
    {
      "cell_type": "code",
      "source": [
        "train_mask = data.get_split_mask(\"pseudo\", return_type=\"torch\")\n",
        "inputs = (adj, x, train_mask)\n",
        "train_mask, train_mask.shape"
      ],
      "metadata": {
        "id": "X2qQSggmSEGk",
        "colab": {
          "base_uri": "https://localhost:8080/"
        },
        "outputId": "d59fe6e3-778d-42c6-8a13-8db236750e9a"
      },
      "execution_count": 49,
      "outputs": [
        {
          "output_type": "execute_result",
          "data": {
            "text/plain": [
              "(tensor([False, False, False, False, False, False, False, False, False, False,\n",
              "         False, False, False, False, False, False, False, False, False, False,\n",
              "         False, False, False, False, False, False, False, False, False, False,\n",
              "         False, False, False, False, False, False, False, False, False, False,\n",
              "         False, False, False, False, False, False, False, False, False, False,\n",
              "         False, False, False, False, False, False, False, False, False, False,\n",
              "         False, False, False, False, False, False, False, False, False, False,\n",
              "         False, False, False, False, False, False, False, False, False, False,\n",
              "         False, False, False, False, False, False, False, False, False, False,\n",
              "         False, False, False, False, False, False, False, False, False, False,\n",
              "         False, False, False, False, False, False, False, False, False, False,\n",
              "         False, False, False, False, False, False, False, False, False, False,\n",
              "         False, False, False, False, False, False, False, False, False, False,\n",
              "         False, False, False, False, False, False, False, False, False, False,\n",
              "         False, False, False, False, False, False, False, False, False, False,\n",
              "         False, False, False, False, False, False, False, False, False, False,\n",
              "         False, False, False, False, False, False, False, False, False, False,\n",
              "         False, False, False, False, False, False, False, False, False, False,\n",
              "         False, False, False, False, False, False, False, False, False, False,\n",
              "         False, False, False, False, False, False, False, False, False, False,\n",
              "         False, False, False, False, False, False, False, False, False, False,\n",
              "         False, False, False, False, False, False, False, False, False, False,\n",
              "         False, False, False, False, False, False, False, False, False, False,\n",
              "         False, False, False, False, False, False, False, False, False, False,\n",
              "         False, False, False, False, False, False, False, False, False, False,\n",
              "         False, False, False, False, False, False, False, False, False, False,\n",
              "          True,  True,  True,  True,  True,  True,  True,  True,  True,  True,\n",
              "          True,  True,  True,  True,  True,  True,  True,  True,  True,  True,\n",
              "          True,  True,  True,  True,  True,  True,  True,  True,  True,  True,\n",
              "          True,  True,  True,  True,  True,  True,  True,  True,  True,  True,\n",
              "          True,  True,  True,  True,  True,  True,  True,  True,  True,  True,\n",
              "          True,  True,  True,  True,  True,  True,  True,  True,  True,  True,\n",
              "          True,  True,  True,  True,  True,  True,  True,  True,  True,  True,\n",
              "          True,  True,  True,  True,  True,  True,  True,  True,  True,  True,\n",
              "          True,  True,  True,  True,  True,  True,  True,  True,  True,  True,\n",
              "          True,  True,  True,  True,  True,  True,  True,  True,  True,  True,\n",
              "          True,  True,  True,  True,  True,  True,  True,  True,  True,  True,\n",
              "          True,  True,  True,  True,  True,  True,  True,  True,  True,  True,\n",
              "          True,  True,  True,  True,  True,  True,  True,  True,  True,  True,\n",
              "          True,  True,  True,  True,  True,  True,  True,  True,  True,  True,\n",
              "          True,  True,  True,  True,  True,  True,  True,  True,  True,  True,\n",
              "          True,  True,  True,  True,  True,  True,  True,  True,  True,  True,\n",
              "          True,  True,  True,  True,  True,  True,  True,  True,  True,  True,\n",
              "          True,  True,  True,  True,  True,  True,  True,  True,  True,  True,\n",
              "          True,  True,  True,  True,  True,  True,  True,  True,  True,  True,\n",
              "          True,  True,  True,  True,  True,  True,  True,  True,  True,  True,\n",
              "          True,  True,  True,  True,  True,  True,  True,  True,  True,  True,\n",
              "          True,  True,  True,  True,  True,  True,  True,  True,  True,  True,\n",
              "          True,  True,  True,  True,  True,  True,  True,  True,  True,  True,\n",
              "          True,  True,  True,  True,  True,  True,  True,  True,  True,  True,\n",
              "          True,  True,  True,  True,  True,  True,  True,  True,  True,  True,\n",
              "          True,  True,  True,  True,  True,  True,  True,  True,  True,  True,\n",
              "          True,  True,  True,  True,  True,  True,  True,  True,  True,  True,\n",
              "          True,  True,  True,  True,  True,  True,  True,  True,  True,  True,\n",
              "          True,  True,  True,  True,  True,  True,  True,  True,  True,  True,\n",
              "          True,  True,  True,  True,  True,  True,  True,  True,  True,  True,\n",
              "          True,  True,  True,  True,  True,  True,  True,  True,  True,  True,\n",
              "          True,  True,  True,  True,  True,  True,  True,  True,  True,  True,\n",
              "          True,  True,  True,  True,  True,  True,  True,  True,  True,  True,\n",
              "          True,  True,  True,  True,  True,  True,  True,  True,  True,  True,\n",
              "          True,  True,  True,  True,  True,  True,  True,  True,  True,  True,\n",
              "          True,  True,  True,  True,  True,  True,  True,  True,  True,  True,\n",
              "          True,  True,  True,  True,  True,  True,  True,  True,  True,  True,\n",
              "          True,  True,  True,  True,  True,  True,  True,  True,  True,  True,\n",
              "          True,  True,  True,  True,  True,  True,  True,  True,  True,  True,\n",
              "          True,  True,  True,  True,  True,  True,  True,  True,  True,  True,\n",
              "          True,  True,  True,  True,  True,  True,  True,  True,  True,  True,\n",
              "          True,  True,  True,  True,  True,  True,  True,  True,  True,  True,\n",
              "          True,  True,  True,  True,  True,  True,  True,  True,  True,  True,\n",
              "          True,  True,  True,  True,  True,  True,  True,  True,  True,  True,\n",
              "          True,  True,  True,  True,  True,  True,  True,  True,  True,  True,\n",
              "          True,  True,  True,  True,  True,  True,  True,  True,  True,  True,\n",
              "          True,  True,  True,  True,  True,  True,  True,  True,  True,  True,\n",
              "          True,  True,  True,  True,  True,  True,  True,  True,  True,  True,\n",
              "          True,  True,  True,  True,  True,  True,  True,  True,  True,  True,\n",
              "          True,  True,  True,  True,  True,  True,  True,  True,  True,  True]),\n",
              " torch.Size([760]))"
            ]
          },
          "metadata": {},
          "execution_count": 49
        }
      ]
    },
    {
      "cell_type": "markdown",
      "source": [
        "### Train and evaluate model"
      ],
      "metadata": {
        "id": "CcdPnUaRR3eV"
      }
    },
    {
      "cell_type": "code",
      "source": [
        "model = DSTG(nhid=16, bias=False, dropout=0, device=\"auto\")\n",
        "pred = model.fit_predict(inputs, y, lr=0.01, max_epochs=25, weight_decay=0.0001)\n",
        "pred, pred.shape"
      ],
      "metadata": {
        "colab": {
          "base_uri": "https://localhost:8080/"
        },
        "id": "zKfLtUGqRn3r",
        "outputId": "ba046ab4-fd14-43c7-ebd2-979b3d029bac"
      },
      "execution_count": 56,
      "outputs": [
        {
          "output_type": "stream",
          "name": "stderr",
          "text": [
            "[INFO][2023-06-26 05:45:53,437][dance][fit] Epoch: 0005, train_loss=1.79176, time=0.00165\n",
            "[INFO][2023-06-26 05:45:53,456][dance][fit] Epoch: 0010, train_loss=1.79176, time=0.00123\n",
            "[INFO][2023-06-26 05:45:53,474][dance][fit] Epoch: 0015, train_loss=1.79176, time=0.00125\n",
            "[INFO][2023-06-26 05:45:53,493][dance][fit] Epoch: 0020, train_loss=1.79176, time=0.00124\n",
            "[INFO][2023-06-26 05:45:53,512][dance][fit] Epoch: 0025, train_loss=1.79176, time=0.00120\n"
          ]
        },
        {
          "output_type": "execute_result",
          "data": {
            "text/plain": [
              "(tensor([[0.1667, 0.1667, 0.1667, 0.1667, 0.1667, 0.1667],\n",
              "         [0.1667, 0.1667, 0.1667, 0.1667, 0.1667, 0.1667],\n",
              "         [0.1667, 0.1667, 0.1667, 0.1667, 0.1667, 0.1667],\n",
              "         ...,\n",
              "         [0.1667, 0.1667, 0.1667, 0.1667, 0.1667, 0.1667],\n",
              "         [0.1667, 0.1667, 0.1667, 0.1667, 0.1667, 0.1667],\n",
              "         [0.1667, 0.1667, 0.1667, 0.1667, 0.1667, 0.1667]], device='cuda:0',\n",
              "        grad_fn=<SoftmaxBackward0>),\n",
              " torch.Size([760, 6]))"
            ]
          },
          "metadata": {},
          "execution_count": 56
        }
      ]
    },
    {
      "cell_type": "code",
      "source": [
        "test_mask = data.get_split_mask(\"test\", return_type=\"torch\")\n",
        "test_mask, test_mask.shape"
      ],
      "metadata": {
        "id": "JrY0PESvRn7D",
        "colab": {
          "base_uri": "https://localhost:8080/"
        },
        "outputId": "a5e9bcd4-7899-453a-a10c-0745bc09ecfc"
      },
      "execution_count": 57,
      "outputs": [
        {
          "output_type": "execute_result",
          "data": {
            "text/plain": [
              "(tensor([ True,  True,  True,  True,  True,  True,  True,  True,  True,  True,\n",
              "          True,  True,  True,  True,  True,  True,  True,  True,  True,  True,\n",
              "          True,  True,  True,  True,  True,  True,  True,  True,  True,  True,\n",
              "          True,  True,  True,  True,  True,  True,  True,  True,  True,  True,\n",
              "          True,  True,  True,  True,  True,  True,  True,  True,  True,  True,\n",
              "          True,  True,  True,  True,  True,  True,  True,  True,  True,  True,\n",
              "          True,  True,  True,  True,  True,  True,  True,  True,  True,  True,\n",
              "          True,  True,  True,  True,  True,  True,  True,  True,  True,  True,\n",
              "          True,  True,  True,  True,  True,  True,  True,  True,  True,  True,\n",
              "          True,  True,  True,  True,  True,  True,  True,  True,  True,  True,\n",
              "          True,  True,  True,  True,  True,  True,  True,  True,  True,  True,\n",
              "          True,  True,  True,  True,  True,  True,  True,  True,  True,  True,\n",
              "          True,  True,  True,  True,  True,  True,  True,  True,  True,  True,\n",
              "          True,  True,  True,  True,  True,  True,  True,  True,  True,  True,\n",
              "          True,  True,  True,  True,  True,  True,  True,  True,  True,  True,\n",
              "          True,  True,  True,  True,  True,  True,  True,  True,  True,  True,\n",
              "          True,  True,  True,  True,  True,  True,  True,  True,  True,  True,\n",
              "          True,  True,  True,  True,  True,  True,  True,  True,  True,  True,\n",
              "          True,  True,  True,  True,  True,  True,  True,  True,  True,  True,\n",
              "          True,  True,  True,  True,  True,  True,  True,  True,  True,  True,\n",
              "          True,  True,  True,  True,  True,  True,  True,  True,  True,  True,\n",
              "          True,  True,  True,  True,  True,  True,  True,  True,  True,  True,\n",
              "          True,  True,  True,  True,  True,  True,  True,  True,  True,  True,\n",
              "          True,  True,  True,  True,  True,  True,  True,  True,  True,  True,\n",
              "          True,  True,  True,  True,  True,  True,  True,  True,  True,  True,\n",
              "          True,  True,  True,  True,  True,  True,  True,  True,  True,  True,\n",
              "         False, False, False, False, False, False, False, False, False, False,\n",
              "         False, False, False, False, False, False, False, False, False, False,\n",
              "         False, False, False, False, False, False, False, False, False, False,\n",
              "         False, False, False, False, False, False, False, False, False, False,\n",
              "         False, False, False, False, False, False, False, False, False, False,\n",
              "         False, False, False, False, False, False, False, False, False, False,\n",
              "         False, False, False, False, False, False, False, False, False, False,\n",
              "         False, False, False, False, False, False, False, False, False, False,\n",
              "         False, False, False, False, False, False, False, False, False, False,\n",
              "         False, False, False, False, False, False, False, False, False, False,\n",
              "         False, False, False, False, False, False, False, False, False, False,\n",
              "         False, False, False, False, False, False, False, False, False, False,\n",
              "         False, False, False, False, False, False, False, False, False, False,\n",
              "         False, False, False, False, False, False, False, False, False, False,\n",
              "         False, False, False, False, False, False, False, False, False, False,\n",
              "         False, False, False, False, False, False, False, False, False, False,\n",
              "         False, False, False, False, False, False, False, False, False, False,\n",
              "         False, False, False, False, False, False, False, False, False, False,\n",
              "         False, False, False, False, False, False, False, False, False, False,\n",
              "         False, False, False, False, False, False, False, False, False, False,\n",
              "         False, False, False, False, False, False, False, False, False, False,\n",
              "         False, False, False, False, False, False, False, False, False, False,\n",
              "         False, False, False, False, False, False, False, False, False, False,\n",
              "         False, False, False, False, False, False, False, False, False, False,\n",
              "         False, False, False, False, False, False, False, False, False, False,\n",
              "         False, False, False, False, False, False, False, False, False, False,\n",
              "         False, False, False, False, False, False, False, False, False, False,\n",
              "         False, False, False, False, False, False, False, False, False, False,\n",
              "         False, False, False, False, False, False, False, False, False, False,\n",
              "         False, False, False, False, False, False, False, False, False, False,\n",
              "         False, False, False, False, False, False, False, False, False, False,\n",
              "         False, False, False, False, False, False, False, False, False, False,\n",
              "         False, False, False, False, False, False, False, False, False, False,\n",
              "         False, False, False, False, False, False, False, False, False, False,\n",
              "         False, False, False, False, False, False, False, False, False, False,\n",
              "         False, False, False, False, False, False, False, False, False, False,\n",
              "         False, False, False, False, False, False, False, False, False, False,\n",
              "         False, False, False, False, False, False, False, False, False, False,\n",
              "         False, False, False, False, False, False, False, False, False, False,\n",
              "         False, False, False, False, False, False, False, False, False, False,\n",
              "         False, False, False, False, False, False, False, False, False, False,\n",
              "         False, False, False, False, False, False, False, False, False, False,\n",
              "         False, False, False, False, False, False, False, False, False, False,\n",
              "         False, False, False, False, False, False, False, False, False, False,\n",
              "         False, False, False, False, False, False, False, False, False, False,\n",
              "         False, False, False, False, False, False, False, False, False, False,\n",
              "         False, False, False, False, False, False, False, False, False, False,\n",
              "         False, False, False, False, False, False, False, False, False, False,\n",
              "         False, False, False, False, False, False, False, False, False, False,\n",
              "         False, False, False, False, False, False, False, False, False, False]),\n",
              " torch.Size([760]))"
            ]
          },
          "metadata": {},
          "execution_count": 57
        }
      ]
    },
    {
      "cell_type": "code",
      "source": [
        "score = model.default_score_func(y[test_mask], pred[test_mask])\n",
        "print(f\"MSE: {score:7.4f}\")"
      ],
      "metadata": {
        "id": "evDrzuF-RqZO",
        "colab": {
          "base_uri": "https://localhost:8080/"
        },
        "outputId": "39fc15d0-1eba-4390-a606-5ec3cb55ec70"
      },
      "execution_count": 58,
      "outputs": [
        {
          "output_type": "stream",
          "name": "stdout",
          "text": [
            "MSE:  0.0239\n"
          ]
        }
      ]
    },
    {
      "cell_type": "code",
      "source": [],
      "metadata": {
        "id": "-bhrPSqTRw8v"
      },
      "execution_count": null,
      "outputs": []
    },
    {
      "cell_type": "code",
      "source": [],
      "metadata": {
        "id": "DAuCXw6lRxAk"
      },
      "execution_count": null,
      "outputs": []
    },
    {
      "cell_type": "code",
      "source": [],
      "metadata": {
        "id": "THsvUrtORxEN"
      },
      "execution_count": null,
      "outputs": []
    },
    {
      "cell_type": "code",
      "source": [],
      "metadata": {
        "id": "ZM723NJMHYci"
      },
      "execution_count": null,
      "outputs": []
    }
  ]
}