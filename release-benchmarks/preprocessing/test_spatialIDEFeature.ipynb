{
 "cells": [
  {
   "cell_type": "code",
   "execution_count": 1,
   "metadata": {},
   "outputs": [
    {
     "name": "stderr",
     "output_type": "stream",
     "text": [
      "/home/zyxing/dance/dance/utils/matrix.py:135: NumbaExperimentalFeatureWarning: First-class function type feature is experimental\n",
      "  for j in numba.prange(n):\n"
     ]
    }
   ],
   "source": [
    "from dance.transforms.spatial_feature import SpatialIDEFeature"
   ]
  },
  {
   "cell_type": "code",
   "execution_count": 2,
   "metadata": {},
   "outputs": [],
   "source": [
    "spatialIDEFeature=SpatialIDEFeature()"
   ]
  },
  {
   "cell_type": "code",
   "execution_count": 3,
   "metadata": {},
   "outputs": [],
   "source": [
    "import pandas as pd\n",
    "import anndata as ad\n",
    "import numpy as np\n",
    "from dance.transforms import AnnDataTransform"
   ]
  },
  {
   "cell_type": "code",
   "execution_count": 4,
   "metadata": {},
   "outputs": [],
   "source": [
    "c_pd=pd.read_csv(\"spatialIDE_data/MouseDB/Rep11_MOB_0.csv\",index_col=0)\n",
    "xy_pd=pd.read_csv(\"spatialIDE_data/MouseDB/MOB_sample_info.csv\",index_col=0)"
   ]
  },
  {
   "cell_type": "code",
   "execution_count": 5,
   "metadata": {},
   "outputs": [],
   "source": [
    "c=ad.AnnData(c_pd.loc[c_pd.index.intersection(xy_pd.index)])\n",
    "c.var_names_make_unique()\n",
    "c.obs_names_make_unique()\n",
    "\n",
    "xy=pd.read_csv(\"spatialIDE_data/MouseDB/MOB_sample_info.csv\",index_col=0).loc[:,['x','y']]\n",
    "c.obsm[\"spatial\"] = xy.set_index(c.obs_names)"
   ]
  },
  {
   "cell_type": "code",
   "execution_count": 6,
   "metadata": {},
   "outputs": [],
   "source": [
    "from dance.data.base import Data\n",
    "d=Data(c)"
   ]
  },
  {
   "cell_type": "code",
   "execution_count": 7,
   "metadata": {},
   "outputs": [],
   "source": [
    "from dance.transforms.filter import FilterGenesScanpy\n",
    "\n",
    "\n",
    "transforms = [\n",
    "            FilterGenesScanpy(min_counts=3),\n",
    "            SpatialIDEFeature()\n",
    "        ]"
   ]
  },
  {
   "cell_type": "code",
   "execution_count": 8,
   "metadata": {},
   "outputs": [],
   "source": [
    "from dance.transforms.misc import Compose\n",
    "transformer=Compose(*transforms, log_level=\"INFO\")"
   ]
  },
  {
   "cell_type": "code",
   "execution_count": 9,
   "metadata": {},
   "outputs": [
    {
     "name": "stderr",
     "output_type": "stream",
     "text": [
      "[INFO][2023-11-07 21:55:01,114][dance.Compose][__call__] Applying composed transformations:\n",
      "Compose(\n",
      "  FilterGenesScanpy(min_counts=3, min_cells=None, max_counts=None, max_cells=None, split_name=None),\n",
      "  SpatialIDEFeature(),\n",
      ")\n",
      "[INFO][2023-11-07 21:55:01,119][dance.FilterGenesScanpy][__call__] Subsetting genes (-14,860 removed) due to FilterGenesScanpy(min_counts=3, min_cells=None, max_counts=None, max_cells=None, split_name=None)\n"
     ]
    }
   ],
   "source": [
    "transformer(d)"
   ]
  },
  {
   "cell_type": "code",
   "execution_count": 10,
   "metadata": {},
   "outputs": [],
   "source": [
    "ans=np.array(d.data.obsm['SpatialIDEFeature'])\n",
    "ref=pd.read_csv(\"spatialIDE_data/MouseDB/ref.csv\",index_col=0).to_numpy()"
   ]
  },
  {
   "cell_type": "code",
   "execution_count": 11,
   "metadata": {},
   "outputs": [],
   "source": [
    "from scipy import stats\n",
    "\n",
    "\n",
    "pers=[]\n",
    "for row1,row2 in zip(ans,ref):\n",
    "    pers.append(stats.pearsonr(row1,row2)[0])"
   ]
  },
  {
   "cell_type": "code",
   "execution_count": 12,
   "metadata": {},
   "outputs": [
    {
     "data": {
      "text/plain": [
       "0.9999995862721741"
      ]
     },
     "execution_count": 12,
     "metadata": {},
     "output_type": "execute_result"
    }
   ],
   "source": [
    "np.mean(pers)"
   ]
  }
 ],
 "metadata": {
  "kernelspec": {
   "display_name": "dance",
   "language": "python",
   "name": "python3"
  },
  "language_info": {
   "codemirror_mode": {
    "name": "ipython",
    "version": 3
   },
   "file_extension": ".py",
   "mimetype": "text/x-python",
   "name": "python",
   "nbconvert_exporter": "python",
   "pygments_lexer": "ipython3",
   "version": "3.8.18"
  }
 },
 "nbformat": 4,
 "nbformat_minor": 2
}
