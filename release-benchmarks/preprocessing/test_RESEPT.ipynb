{
 "cells": [
  {
   "cell_type": "code",
   "execution_count": 1,
   "metadata": {},
   "outputs": [
    {
     "name": "stderr",
     "output_type": "stream",
     "text": [
      "/home/zyxing/dance/dance/utils/matrix.py:135: NumbaExperimentalFeatureWarning: First-class function type feature is experimental\n",
      "  for j in numba.prange(n):\n",
      "[INFO][2023-11-13 10:30:42,127][dance][_load_raw_data] Loading expression data from ../../../data/adoubt/151669/151669_raw_feature_bc_matrix.h5\n",
      "/home/zyxing/anaconda3/envs/dance/lib/python3.8/site-packages/anndata/_core/anndata.py:1840: UserWarning: Variable names are not unique. To make them unique, call `.var_names_make_unique`.\n",
      "  utils.warn_names_duplicates(\"var\")\n",
      "/home/zyxing/anaconda3/envs/dance/lib/python3.8/site-packages/anndata/_core/anndata.py:1840: UserWarning: Variable names are not unique. To make them unique, call `.var_names_make_unique`.\n",
      "  utils.warn_names_duplicates(\"var\")\n",
      "[INFO][2023-11-13 10:30:42,664][dance][_load_raw_data] Loading spatial info from ../../../data/adoubt/151669/tissue_positions_list.txt\n",
      "[INFO][2023-11-13 10:30:42,682][dance][_load_raw_data] Loading label info from ../../../data/adoubt/151669/cluster_labels.csv\n",
      "[INFO][2023-11-13 10:30:42,696][dance][_load_raw_data] Loading image data from ../../../data/adoubt/151669/151669_full_image.tif\n",
      "/home/zyxing/anaconda3/envs/dance/lib/python3.8/site-packages/anndata/_core/anndata.py:1840: UserWarning: Variable names are not unique. To make them unique, call `.var_names_make_unique`.\n",
      "  utils.warn_names_duplicates(\"var\")\n",
      "/home/zyxing/anaconda3/envs/dance/lib/python3.8/site-packages/anndata/_core/anndata.py:1840: UserWarning: Variable names are not unique. To make them unique, call `.var_names_make_unique`.\n",
      "  utils.warn_names_duplicates(\"var\")\n",
      "[INFO][2023-11-13 10:30:43,819][dance][load_data] Raw data loaded:\n",
      "Data object that wraps (.data):\n",
      "AnnData object with n_obs × n_vars = 3661 × 33538\n",
      "    obs: 'key', 'ground_truth', 'SpatialDE_PCA', 'SpatialDE_pool_PCA', 'HVG_PCA', 'pseudobulk_PCA', 'markers_PCA', 'SpatialDE_UMAP', 'SpatialDE_pool_UMAP', 'HVG_UMAP', 'pseudobulk_UMAP', 'markers_UMAP', 'SpatialDE_PCA_spatial', 'SpatialDE_pool_PCA_spatial', 'HVG_PCA_spatial', 'pseudobulk_PCA_spatial', 'markers_PCA_spatial', 'SpatialDE_UMAP_spatial', 'SpatialDE_pool_UMAP_spatial', 'HVG_UMAP_spatial', 'pseudobulk_UMAP_spatial', 'markers_UMAP_spatial', 'label'\n",
      "    var: 'gene_ids', 'feature_types', 'genome'\n",
      "    uns: 'image', 'dance_config'\n",
      "    obsm: 'spatial', 'spatial_pixel'\n",
      "[INFO][2023-11-13 10:30:43,821][dance.Compose][__call__] Applying composed transformations:\n",
      "Compose(\n",
      "  FilterGenesMatch(prefixes=['ERCC', 'MT-'], suffixes=[]),\n",
      "  AnnDataTransform(func=scanpy.preprocessing._normalization.normalize_total, func_kwargs={'target_sum': 10000.0}),\n",
      "  AnnDataTransform(func=scanpy.preprocessing._simple.log1p, func_kwargs={}),\n",
      "  CellPCA(n_components=50),\n",
      "  NeighborGraph(n_neighbors=17, n_pcs=None, knn=True, random_state=0, method='umap', metric='euclidean'),\n",
      "  SetConfig(config_dict={'feature_channel': 'NeighborGraph', 'feature_channel_type': 'obsp', 'label_channel': 'label', 'label_channel_type': 'obs'}),\n",
      ")\n",
      "[INFO][2023-11-13 10:30:43,829][dance.FilterGenesMatch][__call__] 9 number of genes will be removed due to prefix 'ERCC'\n",
      "[INFO][2023-11-13 10:30:43,838][dance.FilterGenesMatch][__call__] 13 number of genes will be removed due to prefix 'MT-'\n",
      "[INFO][2023-11-13 10:30:43,839][dance.FilterGenesMatch][__call__] Removing 22 genes in total\n",
      "[INFO][2023-11-13 10:30:44,366][dance.CellPCA][__call__] Start generating cell PCA features (3661, 33516) (k=50)\n",
      "[INFO][2023-11-13 10:30:45,133][dance.CellPCA][__call__] Top 10 explained variances: [0.02251812 0.00334397 0.00197861 0.00164545 0.00145859 0.00129683\n",
      " 0.00118344 0.00103364 0.00097574 0.0009209 ]\n",
      "[INFO][2023-11-13 10:30:45,134][dance.CellPCA][__call__] Total explained variance: 6.86%\n",
      "[INFO][2023-11-13 10:30:45,170][dance.NeighborGraph][__call__] Start computing the kNN connectivity adjacency matrix\n",
      "[INFO][2023-11-13 10:30:51,717][dance.SetConfig][__call__] Updating the dance data object config options:\n",
      "{'feature_channel': 'NeighborGraph',\n",
      " 'feature_channel_type': 'obsp',\n",
      " 'label_channel': 'label',\n",
      " 'label_channel_type': 'obs'}\n",
      "[INFO][2023-11-13 10:30:51,719][dance][set_config_from_dict] Setting config 'feature_channel' to 'NeighborGraph'\n",
      "[INFO][2023-11-13 10:30:51,720][dance][set_config_from_dict] Setting config 'feature_channel_type' to 'obsp'\n",
      "[INFO][2023-11-13 10:30:51,721][dance][set_config_from_dict] Setting config 'label_channel' to 'label'\n",
      "[INFO][2023-11-13 10:30:51,722][dance][set_config_from_dict] Setting config 'label_channel_type' to 'obs'\n",
      "[INFO][2023-11-13 10:30:51,722][dance][load_data] Data transformed:\n",
      "Data object that wraps (.data):\n",
      "AnnData object with n_obs × n_vars = 3661 × 33516\n",
      "    obs: 'key', 'ground_truth', 'SpatialDE_PCA', 'SpatialDE_pool_PCA', 'HVG_PCA', 'pseudobulk_PCA', 'markers_PCA', 'SpatialDE_UMAP', 'SpatialDE_pool_UMAP', 'HVG_UMAP', 'pseudobulk_UMAP', 'markers_UMAP', 'SpatialDE_PCA_spatial', 'SpatialDE_pool_PCA_spatial', 'HVG_PCA_spatial', 'pseudobulk_PCA_spatial', 'markers_PCA_spatial', 'SpatialDE_UMAP_spatial', 'SpatialDE_pool_UMAP_spatial', 'HVG_UMAP_spatial', 'pseudobulk_UMAP_spatial', 'markers_UMAP_spatial', 'label'\n",
      "    var: 'gene_ids', 'feature_types', 'genome'\n",
      "    uns: 'image', 'dance_config', 'log1p', 'neighbors'\n",
      "    obsm: 'spatial', 'spatial_pixel', 'CellPCA'\n",
      "    obsp: 'connectivities', 'NeighborGraph'\n",
      "[INFO][2023-11-13 10:30:51,723][dance][wrapped_func] Took 0:00:09.596739 to load and process data.\n"
     ]
    }
   ],
   "source": [
    "from dance.modules.spatial.spatial_domain.louvain import Louvain\n",
    "from dance.datasets.spatial import SpatialLIBDDataset\n",
    "from dance.transforms import AnnDataTransform, CellPCA, Compose, FilterGenesMatch, SetConfig\n",
    "from dance.transforms.graph import NeighborGraph\n",
    "from dance.typing import LogLevel\n",
    "import scanpy as sc\n",
    "preprocessing_pipeline=Compose(\n",
    "            FilterGenesMatch(prefixes=[\"ERCC\", \"MT-\"]),\n",
    "            AnnDataTransform(sc.pp.normalize_total, target_sum=1e4),\n",
    "            AnnDataTransform(sc.pp.log1p),\n",
    "            CellPCA(n_components=50),\n",
    "            NeighborGraph(n_neighbors=17),\n",
    "            SetConfig({\n",
    "                \"feature_channel\": \"NeighborGraph\",\n",
    "                \"feature_channel_type\": \"obsp\",\n",
    "                \"label_channel\": \"label\",\n",
    "                \"label_channel_type\": \"obs\"\n",
    "            }),\n",
    "            log_level=\"INFO\",\n",
    "        )\n",
    "\n",
    "dataloader = SpatialLIBDDataset(data_id=\"151669\",data_dir=\"../../../data/adoubt\")\n",
    "data = dataloader.load_data(transform=preprocessing_pipeline, cache=False)\n"
   ]
  },
  {
   "cell_type": "code",
   "execution_count": 2,
   "metadata": {},
   "outputs": [
    {
     "data": {
      "text/plain": [
       "array([[0., 0., 0., ..., 0., 0., 0.],\n",
       "       [0., 0., 0., ..., 0., 0., 0.],\n",
       "       [0., 0., 0., ..., 0., 0., 0.],\n",
       "       ...,\n",
       "       [0., 0., 0., ..., 0., 0., 0.],\n",
       "       [0., 0., 0., ..., 0., 0., 0.],\n",
       "       [0., 0., 0., ..., 0., 0., 0.]], dtype=float32)"
      ]
     },
     "execution_count": 2,
     "metadata": {},
     "output_type": "execute_result"
    }
   ],
   "source": [
    "import numpy as np\n",
    "data.get_feature(channel=\"NeighborGraph\",channel_type=\"obsp\",return_type=\"numpy\")"
   ]
  },
  {
   "cell_type": "code",
   "execution_count": 3,
   "metadata": {},
   "outputs": [
    {
     "data": {
      "text/plain": [
       "Data object that wraps (.data):\n",
       "AnnData object with n_obs × n_vars = 3661 × 33516\n",
       "    obs: 'key', 'ground_truth', 'SpatialDE_PCA', 'SpatialDE_pool_PCA', 'HVG_PCA', 'pseudobulk_PCA', 'markers_PCA', 'SpatialDE_UMAP', 'SpatialDE_pool_UMAP', 'HVG_UMAP', 'pseudobulk_UMAP', 'markers_UMAP', 'SpatialDE_PCA_spatial', 'SpatialDE_pool_PCA_spatial', 'HVG_PCA_spatial', 'pseudobulk_PCA_spatial', 'markers_PCA_spatial', 'SpatialDE_UMAP_spatial', 'SpatialDE_pool_UMAP_spatial', 'HVG_UMAP_spatial', 'pseudobulk_UMAP_spatial', 'markers_UMAP_spatial', 'label'\n",
       "    var: 'gene_ids', 'feature_types', 'genome'\n",
       "    uns: 'image', 'dance_config', 'log1p', 'neighbors', 'umap', 'RESEPTGraph'\n",
       "    obsm: 'spatial', 'spatial_pixel', 'CellPCA', 'X_umap'\n",
       "    obsp: 'connectivities', 'NeighborGraph'"
      ]
     },
     "execution_count": 3,
     "metadata": {},
     "output_type": "execute_result"
    }
   ],
   "source": [
    "from dance.transforms.graph.RESEPT_graph import RESEPTGraph\n",
    "RESEPTgraph=RESEPTGraph()\n",
    "RESEPTgraph(data)"
   ]
  },
  {
   "cell_type": "code",
   "execution_count": 4,
   "metadata": {},
   "outputs": [
    {
     "data": {
      "text/plain": [
       "(2000, 2000, 3)"
      ]
     },
     "execution_count": 4,
     "metadata": {},
     "output_type": "execute_result"
    }
   ],
   "source": [
    "data.data.uns['RESEPTGraph'].shape"
   ]
  }
 ],
 "metadata": {
  "kernelspec": {
   "display_name": "dance",
   "language": "python",
   "name": "python3"
  },
  "language_info": {
   "codemirror_mode": {
    "name": "ipython",
    "version": 3
   },
   "file_extension": ".py",
   "mimetype": "text/x-python",
   "name": "python",
   "nbconvert_exporter": "python",
   "pygments_lexer": "ipython3",
   "version": "3.8.18"
  }
 },
 "nbformat": 4,
 "nbformat_minor": 2
}
