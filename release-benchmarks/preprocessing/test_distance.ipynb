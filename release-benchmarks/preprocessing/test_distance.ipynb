{
 "cells": [
  {
   "cell_type": "code",
   "execution_count": 1,
   "metadata": {},
   "outputs": [
    {
     "name": "stderr",
     "output_type": "stream",
     "text": [
      "/home/zyxing/dance/dance/utils/matrix.py:135: NumbaExperimentalFeatureWarning: First-class function type feature is experimental\n",
      "  for j in numba.prange(n):\n"
     ]
    }
   ],
   "source": [
    "import numpy as np\n",
    "from scipy.stats import spearmanr\n",
    "import sys\n",
    "from dance.utils.matrix import pairwise_distance\n",
    "sys.path.append(\"/home/zyxing/dance\")"
   ]
  },
  {
   "cell_type": "code",
   "execution_count": 2,
   "metadata": {},
   "outputs": [],
   "source": [
    "#test spearmanr and pearson"
   ]
  },
  {
   "cell_type": "code",
   "execution_count": 3,
   "metadata": {},
   "outputs": [],
   "source": [
    "test_data=abs((np.random.randn(5,10)*10).astype(int)).astype(np.float32)"
   ]
  },
  {
   "cell_type": "code",
   "execution_count": 4,
   "metadata": {},
   "outputs": [],
   "source": [
    "ref=(1-spearmanr(test_data.T)[0].astype(np.float32))\n",
    "ans=pairwise_distance(test_data, dist_func_id=2)"
   ]
  },
  {
   "cell_type": "code",
   "execution_count": 5,
   "metadata": {},
   "outputs": [
    {
     "name": "stderr",
     "output_type": "stream",
     "text": [
      "/tmp/ipykernel_1639192/1591486208.py:5: DeprecationWarning: Please use `pearsonr` from the `scipy.stats` namespace, the `scipy.stats.stats` namespace is deprecated.\n",
      "  pers.append(stats.pearsonr(row1,row2)[0])\n"
     ]
    }
   ],
   "source": [
    "from scipy.stats import stats\n",
    "import pandas as pd\n",
    "pers=[]\n",
    "for row1,row2 in zip(ans,ref):\n",
    "    pers.append(stats.pearsonr(row1,row2)[0])"
   ]
  },
  {
   "cell_type": "code",
   "execution_count": 6,
   "metadata": {},
   "outputs": [
    {
     "name": "stdout",
     "output_type": "stream",
     "text": [
      "0.9991254126803042\n"
     ]
    }
   ],
   "source": [
    "print(np.mean(pers))"
   ]
  },
  {
   "cell_type": "code",
   "execution_count": 7,
   "metadata": {},
   "outputs": [],
   "source": [
    "ref=(1-np.corrcoef(test_data).astype(np.float32))\n",
    "ans=pairwise_distance(test_data, dist_func_id=1)"
   ]
  },
  {
   "cell_type": "code",
   "execution_count": 8,
   "metadata": {},
   "outputs": [
    {
     "name": "stderr",
     "output_type": "stream",
     "text": [
      "/tmp/ipykernel_1639192/1591486208.py:5: DeprecationWarning: Please use `pearsonr` from the `scipy.stats` namespace, the `scipy.stats.stats` namespace is deprecated.\n",
      "  pers.append(stats.pearsonr(row1,row2)[0])\n"
     ]
    }
   ],
   "source": [
    "from scipy.stats import stats\n",
    "import pandas as pd\n",
    "pers=[]\n",
    "for row1,row2 in zip(ans,ref):\n",
    "    pers.append(stats.pearsonr(row1,row2)[0])"
   ]
  },
  {
   "cell_type": "code",
   "execution_count": 9,
   "metadata": {},
   "outputs": [
    {
     "name": "stdout",
     "output_type": "stream",
     "text": [
      "0.9999999999999989\n"
     ]
    }
   ],
   "source": [
    "print(np.mean(pers))"
   ]
  }
 ],
 "metadata": {
  "kernelspec": {
   "display_name": "dance",
   "language": "python",
   "name": "python3"
  },
  "language_info": {
   "codemirror_mode": {
    "name": "ipython",
    "version": 3
   },
   "file_extension": ".py",
   "mimetype": "text/x-python",
   "name": "python",
   "nbconvert_exporter": "python",
   "pygments_lexer": "ipython3",
   "version": "3.8.18"
  }
 },
 "nbformat": 4,
 "nbformat_minor": 2
}
