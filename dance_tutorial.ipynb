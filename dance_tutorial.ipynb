{
  "nbformat": 4,
  "nbformat_minor": 0,
  "metadata": {
    "colab": {
      "provenance": [],
      "toc_visible": true,
      "include_colab_link": true
    },
    "kernelspec": {
      "name": "python3",
      "display_name": "Python 3"
    },
    "language_info": {
      "name": "python"
    },
    "accelerator": "GPU",
    "gpuClass": "standard"
  },
  "cells": [
    {
      "cell_type": "markdown",
      "metadata": {
        "id": "view-in-github",
        "colab_type": "text"
      },
      "source": [
        "<a href=\"https://colab.research.google.com/github/OmicsML/dance-tutorials/blob/dev/dance_tutorial.ipynb\" target=\"_parent\"><img src=\"https://colab.research.google.com/assets/colab-badge.svg\" alt=\"Open In Colab\"/></a>"
      ]
    },
    {
      "cell_type": "markdown",
      "source": [
        "## 1. Installation\n",
        "\n",
        "DANCE is published on [PyPI](https://pypi.org/project/pydance/). Thus, installing DANCE is as easy as\n",
        "\n",
        "```bash\n",
        "pip install pydance\n",
        "```\n",
        "\n",
        "Or, to install the latest dev version on GitHub as\n",
        "\n",
        "```bash\n",
        "pip install git+https://github.com/OmicsML/dance\n",
        "```\n",
        "\n",
        "But becaues DANCE includes many deep learning based methods, there are also deep learning library dependencies, such as [PyTorch](https://pytorch.org/), [PyG](https://www.pyg.org/), and [DGL](https://www.dgl.ai/). We will walk through the installation process below."
      ],
      "metadata": {
        "id": "ugihXw2wU92o"
      }
    },
    {
      "cell_type": "markdown",
      "source": [
        "### 1.1. Install torch related dependencies"
      ],
      "metadata": {
        "id": "a9uCJIzekYW6"
      }
    },
    {
      "cell_type": "code",
      "source": [
        "# Colab comes with torch installed, so we do not need to install pytorch here\n",
        "# !pip3 install torch torchvision torchaudio\n",
        "\n",
        "!pip install -q torch_geometric==2.3.1\n",
        "!pip install -q dgl==1.1.0 -f https://data.dgl.ai/wheels/cu117/repo.html\n",
        "!pip install -q torchnmf==0.3.4"
      ],
      "metadata": {
        "id": "-9vkgggHU5Tv",
        "colab": {
          "base_uri": "https://localhost:8080/"
        },
        "outputId": "6d688127-7a01-482d-d627-d84aff9969b6"
      },
      "execution_count": null,
      "outputs": [
        {
          "output_type": "stream",
          "name": "stdout",
          "text": [
            "\u001b[?25l     \u001b[90m━━━━━━━━━━━━━━━━━━━━━━━━━━━━━━━━━━━━━━━━\u001b[0m \u001b[32m0.0/661.6 kB\u001b[0m \u001b[31m?\u001b[0m eta \u001b[36m-:--:--\u001b[0m\r\u001b[2K     \u001b[91m━━━━━━━━━━━━━━━━━━━━━━━━━━━━━━━━━━━━━\u001b[0m\u001b[91m╸\u001b[0m \u001b[32m655.4/661.6 kB\u001b[0m \u001b[31m25.9 MB/s\u001b[0m eta \u001b[36m0:00:01\u001b[0m\r\u001b[2K     \u001b[90m━━━━━━━━━━━━━━━━━━━━━━━━━━━━━━━━━━━━━━\u001b[0m \u001b[32m661.6/661.6 kB\u001b[0m \u001b[31m18.1 MB/s\u001b[0m eta \u001b[36m0:00:00\u001b[0m\n",
            "\u001b[?25h  Installing build dependencies ... \u001b[?25l\u001b[?25hdone\n",
            "  Getting requirements to build wheel ... \u001b[?25l\u001b[?25hdone\n",
            "  Preparing metadata (pyproject.toml) ... \u001b[?25l\u001b[?25hdone\n",
            "  Building wheel for torch_geometric (pyproject.toml) ... \u001b[?25l\u001b[?25hdone\n",
            "\u001b[2K     \u001b[90m━━━━━━━━━━━━━━━━━━━━━━━━━━━━━━━━━━━━━━━━\u001b[0m \u001b[32m86.7/86.7 MB\u001b[0m \u001b[31m8.2 MB/s\u001b[0m eta \u001b[36m0:00:00\u001b[0m\n",
            "\u001b[?25h"
          ]
        }
      ]
    },
    {
      "cell_type": "markdown",
      "source": [
        "### 1.2 Install latest dev version of DANCE"
      ],
      "metadata": {
        "id": "t0Ai6ohLkpyh"
      }
    },
    {
      "cell_type": "code",
      "source": [
        "!pip install -q git+https://github.com/OmicsML/dance.git"
      ],
      "metadata": {
        "id": "xiNfZpuOkewF",
        "colab": {
          "base_uri": "https://localhost:8080/"
        },
        "outputId": "6c221b94-248f-40d8-d24e-b370a7e35be5"
      },
      "execution_count": null,
      "outputs": [
        {
          "output_type": "stream",
          "name": "stdout",
          "text": [
            "  Installing build dependencies ... \u001b[?25l\u001b[?25hdone\n",
            "  Getting requirements to build wheel ... \u001b[?25l\u001b[?25hdone\n",
            "  Preparing metadata (pyproject.toml) ... \u001b[?25l\u001b[?25hdone\n",
            "\u001b[2K     \u001b[90m━━━━━━━━━━━━━━━━━━━━━━━━━━━━━━━━━━━━━━━━\u001b[0m \u001b[32m1.3/1.3 MB\u001b[0m \u001b[31m28.8 MB/s\u001b[0m eta \u001b[36m0:00:00\u001b[0m\n",
            "\u001b[2K     \u001b[90m━━━━━━━━━━━━━━━━━━━━━━━━━━━━━━━━━━━━━━\u001b[0m \u001b[32m732.5/732.5 kB\u001b[0m \u001b[31m52.6 MB/s\u001b[0m eta \u001b[36m0:00:00\u001b[0m\n",
            "\u001b[?25h  Preparing metadata (setup.py) ... \u001b[?25l\u001b[?25hdone\n",
            "\u001b[2K     \u001b[90m━━━━━━━━━━━━━━━━━━━━━━━━━━━━━━━━━━━━━━━━\u001b[0m \u001b[32m2.0/2.0 MB\u001b[0m \u001b[31m61.3 MB/s\u001b[0m eta \u001b[36m0:00:00\u001b[0m\n",
            "\u001b[2K     \u001b[90m━━━━━━━━━━━━━━━━━━━━━━━━━━━━━━━━━━━━━━━━\u001b[0m \u001b[32m10.7/10.7 MB\u001b[0m \u001b[31m83.6 MB/s\u001b[0m eta \u001b[36m0:00:00\u001b[0m\n",
            "\u001b[2K     \u001b[90m━━━━━━━━━━━━━━━━━━━━━━━━━━━━━━━━━━━━━━━━\u001b[0m \u001b[32m3.3/3.3 MB\u001b[0m \u001b[31m107.4 MB/s\u001b[0m eta \u001b[36m0:00:00\u001b[0m\n",
            "\u001b[2K     \u001b[90m━━━━━━━━━━━━━━━━━━━━━━━━━━━━━━━━━━━━━━\u001b[0m \u001b[32m103.0/103.0 kB\u001b[0m \u001b[31m12.0 MB/s\u001b[0m eta \u001b[36m0:00:00\u001b[0m\n",
            "\u001b[2K     \u001b[90m━━━━━━━━━━━━━━━━━━━━━━━━━━━━━━━━━━━━━━━━\u001b[0m \u001b[32m88.2/88.2 kB\u001b[0m \u001b[31m10.1 MB/s\u001b[0m eta \u001b[36m0:00:00\u001b[0m\n",
            "\u001b[?25h  Preparing metadata (setup.py) ... \u001b[?25l\u001b[?25hdone\n",
            "  Preparing metadata (setup.py) ... \u001b[?25l\u001b[?25hdone\n",
            "\u001b[2K     \u001b[90m━━━━━━━━━━━━━━━━━━━━━━━━━━━━━━━━━━━━━━━━\u001b[0m \u001b[32m1.1/1.1 MB\u001b[0m \u001b[31m58.4 MB/s\u001b[0m eta \u001b[36m0:00:00\u001b[0m\n",
            "\u001b[?25h  Preparing metadata (setup.py) ... \u001b[?25l\u001b[?25hdone\n",
            "\u001b[2K     \u001b[90m━━━━━━━━━━━━━━━━━━━━━━━━━━━━━━━━━━━━━━━━\u001b[0m \u001b[32m75.6/75.6 kB\u001b[0m \u001b[31m10.2 MB/s\u001b[0m eta \u001b[36m0:00:00\u001b[0m\n",
            "\u001b[?25h  Building wheel for pydance (pyproject.toml) ... \u001b[?25l\u001b[?25hdone\n",
            "  Building wheel for python-igraph (setup.py) ... \u001b[?25l\u001b[?25hdone\n",
            "  Building wheel for umap-learn (setup.py) ... \u001b[?25l\u001b[?25hdone\n",
            "  Building wheel for session-info (setup.py) ... \u001b[?25l\u001b[?25hdone\n",
            "  Building wheel for pynndescent (setup.py) ... \u001b[?25l\u001b[?25hdone\n"
          ]
        }
      ]
    },
    {
      "cell_type": "markdown",
      "source": [
        "### 1.3 Check if DANCE is installed successfully"
      ],
      "metadata": {
        "id": "dPyaIcBPk4FO"
      }
    },
    {
      "cell_type": "code",
      "source": [
        "import dance\n",
        "print(f\"Installed DANCE version {dance.__version__}\")"
      ],
      "metadata": {
        "colab": {
          "base_uri": "https://localhost:8080/"
        },
        "id": "Dwap0oVmk1hP",
        "outputId": "5aff403c-55fe-499f-b25e-8a75fa8cb8de"
      },
      "execution_count": null,
      "outputs": [
        {
          "output_type": "stream",
          "name": "stdout",
          "text": [
            "Installed DANCE version 1.0.0-rc.1\n"
          ]
        }
      ]
    },
    {
      "cell_type": "markdown",
      "source": [
        "## 2. Data loading and processing\n",
        "\n",
        "DANCE comes with several benchmarking datasets in a unified dataset object format. This makes data downloading, processing, and caching easy for users through our dataset object interface."
      ],
      "metadata": {
        "id": "qpq3fr_7mkz_"
      }
    },
    {
      "cell_type": "markdown",
      "source": [
        "### 2.1. Check available data options and load data object"
      ],
      "metadata": {
        "id": "-hPDdWsPpa5T"
      }
    },
    {
      "cell_type": "code",
      "source": [
        "from pprint import pprint\n",
        "from dance.datasets.singlemodality import ClusteringDataset, ScDeepSortDataset"
      ],
      "metadata": {
        "id": "3oylxVi7oA7L",
        "colab": {
          "base_uri": "https://localhost:8080/"
        },
        "outputId": "2ab8bc83-3bcf-4fb7-8b66-73ae7a64ac7b"
      },
      "execution_count": null,
      "outputs": [
        {
          "output_type": "stream",
          "name": "stderr",
          "text": [
            "DGL backend not selected or invalid.  Assuming PyTorch for now.\n"
          ]
        },
        {
          "output_type": "stream",
          "name": "stdout",
          "text": [
            "Setting the default backend to \"pytorch\". You can change it in the ~/.dgl/config.json file or export the DGLBACKEND environment variable.  Valid options are: pytorch, mxnet, tensorflow (all lowercase)\n"
          ]
        }
      ]
    },
    {
      "cell_type": "code",
      "source": [
        "print(\"Available dataset option for ClusteringDataset:\")\n",
        "pprint(ClusteringDataset.get_avalilable_data())"
      ],
      "metadata": {
        "colab": {
          "base_uri": "https://localhost:8080/"
        },
        "id": "geQmHab8pnsC",
        "outputId": "63ac9748-f181-4aaf-d144-4f2ba3a2fcd7"
      },
      "execution_count": null,
      "outputs": [
        {
          "output_type": "stream",
          "name": "stdout",
          "text": [
            "Available dataset option for ClusteringDataset:\n",
            "['10X_PBMC', 'mouse_ES_cell', 'mouse_bladder_cell', 'worm_neuron_cell']\n"
          ]
        }
      ]
    },
    {
      "cell_type": "code",
      "source": [
        "print(\"\\nAvailable dataset option for ScDeepSortDataset:\")\n",
        "pprint(ScDeepSortDataset.get_avalilable_data())"
      ],
      "metadata": {
        "colab": {
          "base_uri": "https://localhost:8080/"
        },
        "id": "_3p6UfZHCOES",
        "outputId": "4479c867-f655-4423-ace8-9a931192fb8e"
      },
      "execution_count": null,
      "outputs": [
        {
          "output_type": "stream",
          "name": "stdout",
          "text": [
            "\n",
            "Available dataset option for ScDeepSortDataset:\n",
            "[{'dataset': '3285', 'species': 'mouse', 'split': 'train', 'tissue': 'Brain'},\n",
            " {'dataset': '753', 'species': 'mouse', 'split': 'train', 'tissue': 'Brain'},\n",
            " {'dataset': '4682', 'species': 'mouse', 'split': 'train', 'tissue': 'Kidney'},\n",
            " {'dataset': '1970', 'species': 'mouse', 'split': 'train', 'tissue': 'Spleen'},\n",
            " {'dataset': '2695', 'species': 'mouse', 'split': 'test', 'tissue': 'Brain'},\n",
            " {'dataset': '203', 'species': 'mouse', 'split': 'test', 'tissue': 'Kidney'},\n",
            " {'dataset': '1759', 'species': 'mouse', 'split': 'test', 'tissue': 'Spleen'}]\n"
          ]
        }
      ]
    },
    {
      "cell_type": "markdown",
      "source": [
        "#### Example: ClusteringDataset"
      ],
      "metadata": {
        "id": "1WcWc4dUCSC2"
      }
    },
    {
      "cell_type": "code",
      "source": [
        "dataset = ClusteringDataset(\"10X_PBMC\")\n",
        "print(dataset)"
      ],
      "metadata": {
        "colab": {
          "base_uri": "https://localhost:8080/"
        },
        "id": "wtg5pNZgCdac",
        "outputId": "168068b6-5ca0-4138-9786-475dd927f21d"
      },
      "execution_count": null,
      "outputs": [
        {
          "output_type": "stream",
          "name": "stdout",
          "text": [
            "ClusteringDataset()\n"
          ]
        }
      ]
    },
    {
      "cell_type": "code",
      "source": [
        "# The dataset object do not contain data, it only loads the data upon calling\n",
        "# the load_data function\n",
        "data = dataset.load_data()\n",
        "print(data)"
      ],
      "metadata": {
        "colab": {
          "base_uri": "https://localhost:8080/"
        },
        "id": "EhiCX5BpooNd",
        "outputId": "935d7a9f-9cfd-4759-acf6-ec5e610d3d2f"
      },
      "execution_count": null,
      "outputs": [
        {
          "output_type": "stream",
          "name": "stderr",
          "text": [
            "[INFO][2023-06-26 00:10:59,672][dance][download_file] Downloading: 10X_PBMC/mouse_bladder_cell.h5 Bytes: 5,479,777\n",
            "100%|██████████| 5.23M/5.23M [00:00<00:00, 23.3MB/s]\n",
            "[INFO][2023-06-26 00:11:00,679][dance][load_data] Raw data loaded:\n",
            "Data object that wraps (.data):\n",
            "AnnData object with n_obs × n_vars = 2746 × 20670\n",
            "    uns: 'dance_config'\n",
            "    obsm: 'Group'\n",
            "[INFO][2023-06-26 00:11:00,680][dance][wrapped_func] Took 0:00:02.167560 to load and process data.\n"
          ]
        },
        {
          "output_type": "stream",
          "name": "stdout",
          "text": [
            "Data object that wraps (.data):\n",
            "AnnData object with n_obs × n_vars = 2746 × 20670\n",
            "    uns: 'dance_config'\n",
            "    obsm: 'Group'\n"
          ]
        }
      ]
    },
    {
      "cell_type": "markdown",
      "source": [
        "#### Example: ScDeepSortDataset"
      ],
      "metadata": {
        "id": "J0b-GAFnCxRH"
      }
    },
    {
      "cell_type": "code",
      "source": [
        "dataset = ScDeepSortDataset(species=\"mouse\", tissue=\"Brain\",\n",
        "                            train_dataset=[\"3285\", \"753\"], test_dataset=[\"2695\"])\n",
        "data = dataset.load_data()\n",
        "print(data)"
      ],
      "metadata": {
        "colab": {
          "base_uri": "https://localhost:8080/"
        },
        "id": "00_UOrqlrA_6",
        "outputId": "2e8b5ccb-9585-408c-a07e-a87e77211d22"
      },
      "execution_count": null,
      "outputs": [
        {
          "output_type": "stream",
          "name": "stderr",
          "text": [
            "[INFO][2023-06-26 00:15:17,272][dance][is_complete] ./train/mouse/mouse_Spleen1970_celltype.csv\n",
            "[INFO][2023-06-26 00:15:17,274][dance][is_complete] file mouse_Spleen1970_celltype.csv doesn't exist\n",
            "[INFO][2023-06-26 00:15:17,276][dance][is_complete] ./train/mouse/mouse_Spleen1970_celltype.csv\n",
            "[INFO][2023-06-26 00:15:17,281][dance][is_complete] file mouse_Spleen1970_celltype.csv doesn't exist\n",
            "[INFO][2023-06-26 00:15:18,392][dance][download_file] Downloading: ./train/mouse/mouse_Spleen1970_celltype.csv Bytes: 65,703\n",
            "100%|██████████| 64.2k/64.2k [00:00<00:00, 15.6MB/s]\n",
            "[INFO][2023-06-26 00:15:19,480][dance][download_file] Downloading: ./train/mouse/mouse_Spleen1970_data.csv Bytes: 80,382,707\n",
            "100%|██████████| 76.7M/76.7M [00:03<00:00, 22.5MB/s]\n",
            "[INFO][2023-06-26 00:15:23,816][dance][download_file] Downloading: ./test/mouse/mouse_Spleen1759_celltype.csv Bytes: 66,410\n",
            "100%|██████████| 64.9k/64.9k [00:00<00:00, 13.2MB/s]\n",
            "[INFO][2023-06-26 00:15:24,651][dance][download_file] Downloading: ./test/mouse/mouse_Spleen1759_data.csv Bytes: 56,334,246\n",
            "100%|██████████| 53.7M/53.7M [00:02<00:00, 25.2MB/s]\n",
            "[INFO][2023-06-26 00:15:27,801][dance][download_file] Downloading: ./train/mouse/mouse_Brain753_celltype.csv Bytes: 24,955\n",
            "100%|██████████| 24.4k/24.4k [00:00<00:00, 384kB/s]\n",
            "[INFO][2023-06-26 00:15:28,953][dance][download_file] Downloading: ./train/mouse/mouse_Brain753_data.csv Bytes: 32,440,352\n",
            "100%|██████████| 30.9M/30.9M [00:01<00:00, 20.3MB/s]\n",
            "[INFO][2023-06-26 00:15:31,286][dance][download_file] Downloading: ./train/mouse/mouse_Brain3285_celltype.csv Bytes: 146,995\n",
            "100%|██████████| 144k/144k [00:00<00:00, 17.3MB/s]\n",
            "[INFO][2023-06-26 00:15:32,179][dance][download_file] Downloading: ./train/mouse/mouse_Brain3285_data.csv Bytes: 153,828,173\n",
            "100%|██████████| 147M/147M [00:05<00:00, 30.1MB/s]\n",
            "[INFO][2023-06-26 00:15:38,381][dance][download_file] Downloading: ./test/mouse/mouse_Brain2695_celltype.csv Bytes: 95,883\n",
            "100%|██████████| 93.6k/93.6k [00:00<00:00, 17.8MB/s]\n",
            "[INFO][2023-06-26 00:15:39,793][dance][download_file] Downloading: ./test/mouse/mouse_Brain2695_data.csv Bytes: 269,468,417\n",
            "100%|██████████| 257M/257M [00:15<00:00, 17.8MB/s]\n",
            "[INFO][2023-06-26 00:15:55,861][dance][download_file] Downloading: ./train/mouse/mouse_Kidney4682_celltype.csv Bytes: 206,342\n",
            "100%|██████████| 202k/202k [00:00<00:00, 18.8MB/s]\n",
            "[INFO][2023-06-26 00:15:56,830][dance][download_file] Downloading: ./train/mouse/mouse_Kidney4682_data.csv Bytes: 210,040,835\n",
            "100%|██████████| 200M/200M [00:12<00:00, 17.2MB/s]\n",
            "[INFO][2023-06-26 00:16:09,792][dance][download_file] Downloading: ./test/mouse/mouse_Kidney203_celltype.csv Bytes: 7,153\n",
            "100%|██████████| 6.99k/6.99k [00:00<00:00, 7.72MB/s]\n",
            "[INFO][2023-06-26 00:16:10,721][dance][download_file] Downloading: ./test/mouse/mouse_Kidney203_data.csv Bytes: 36,019,723\n",
            "100%|██████████| 34.4M/34.4M [00:01<00:00, 30.0MB/s]\n",
            "[INFO][2023-06-26 00:16:12,904][dance][download_file] Downloading: ./map.zip Bytes: 48,215\n",
            "100%|██████████| 47.1k/47.1k [00:00<00:00, 114kB/s] \n",
            "[INFO][2023-06-26 00:16:13,336][dance][unzip_file] Unzipping './map.zip'\n",
            "[INFO][2023-06-26 00:16:13,339][dance][delete_file] Deleting './map.zip'\n",
            "[INFO][2023-06-26 00:16:13,340][dance][_load_dfs] Loading data from ./train/mouse/mouse_Brain3285_data.csv\n",
            "[INFO][2023-06-26 00:16:20,358][dance][_load_dfs] Loading data from ./train/mouse/mouse_Brain753_data.csv\n",
            "[INFO][2023-06-26 00:16:22,447][dance][_load_dfs] Loading data from ./test/mouse/mouse_Brain2695_data.csv\n",
            "[INFO][2023-06-26 00:16:31,290][dance][_load_dfs] Loading data from ./train/mouse/mouse_Brain3285_celltype.csv\n",
            "[INFO][2023-06-26 00:16:31,308][dance][_load_dfs] Loading data from ./train/mouse/mouse_Brain753_celltype.csv\n",
            "[INFO][2023-06-26 00:16:31,314][dance][_load_dfs] Loading data from ./test/mouse/mouse_Brain2695_celltype.csv\n",
            "[INFO][2023-06-26 00:16:34,741][dance][_load_raw_data] Loaded expression data: AnnData object with n_obs × n_vars = 6733 × 19856\n",
            "[INFO][2023-06-26 00:16:34,742][dance][_load_raw_data] Number of training samples: 4,038\n",
            "[INFO][2023-06-26 00:16:34,743][dance][_load_raw_data] Number of testing samples: 2,695\n",
            "[INFO][2023-06-26 00:16:34,749][dance][_load_raw_data] Cell-types (n=11):\n",
            "['Astrocyte',\n",
            " 'Astroglial cell',\n",
            " 'Granulocyte',\n",
            " 'Hypothalamic ependymal cell',\n",
            " 'Macrophage',\n",
            " 'Microglia',\n",
            " 'Myelinating oligodendrocyte',\n",
            " 'Neuron',\n",
            " 'Oligodendrocyte precursor cell',\n",
            " 'Pan-GABAergic',\n",
            " 'Schwann cell']\n",
            "[INFO][2023-06-26 00:16:34,769][dance][load_data] Raw data loaded:\n",
            "Data object that wraps (.data):\n",
            "AnnData object with n_obs × n_vars = 6733 × 19856\n",
            "    uns: 'dance_config'\n",
            "    obsm: 'cell_type'\n",
            "[INFO][2023-06-26 00:16:34,770][dance][wrapped_func] Took 0:01:17.498652 to load and process data.\n"
          ]
        },
        {
          "output_type": "stream",
          "name": "stdout",
          "text": [
            "Data object that wraps (.data):\n",
            "AnnData object with n_obs × n_vars = 6733 × 19856\n",
            "    uns: 'dance_config'\n",
            "    obsm: 'cell_type'\n"
          ]
        }
      ]
    },
    {
      "cell_type": "markdown",
      "source": [
        "### 2.2. A quick primer on AnnData\n",
        "\n",
        "<img\n",
        "  src=\"https://raw.githubusercontent.com/scverse/anndata/main/docs/_static/img/anndata_schema.svg\"\n",
        "  align=\"right\" width=\"450\" alt=\"image\"\n",
        "/>\n",
        "\n",
        "The [dance data object](https://github.com/OmicsML/dance/blob/912405cb5ab43caf16eb22b9216865c7e3976eaf/dance/data/base.py#L40) is heavily built on top of [AnnData](https://anndata.readthedocs.io/en/latest/), which is a widely used data object to represent, store, and manipulate large annotated matrices.\n",
        "\n",
        "> anndata is a Python package for handling annotated data matrices in memory and on disk, positioned between pandas and xarray. anndata offers a broad range of computationally efficient features...\n",
        "\n",
        "AnnData falls into the ecosystem of scVerse, providing extra advantage and ease for handeling single-cell data using, for example, [Scanpy](https://scanpy.readthedocs.io/en/stable/)."
      ],
      "metadata": {
        "id": "cU0EHCYiLzou"
      }
    },
    {
      "cell_type": "markdown",
      "source": [
        "The dance data object essentially wraps around an AnnData object,\n",
        "which can be accessed in the `.data` attribute."
      ],
      "metadata": {
        "id": "oLrtDujjC-O_"
      }
    },
    {
      "cell_type": "code",
      "source": [
        "adata = data.data\n",
        "print(adata)"
      ],
      "metadata": {
        "colab": {
          "base_uri": "https://localhost:8080/"
        },
        "id": "glGCQdF0Lx5K",
        "outputId": "3c15210a-0d7d-4db9-8d7b-8a65ce093677"
      },
      "execution_count": null,
      "outputs": [
        {
          "output_type": "stream",
          "name": "stdout",
          "text": [
            "AnnData object with n_obs × n_vars = 6733 × 19856\n",
            "    uns: 'dance_config'\n",
            "    obsm: 'cell_type'\n"
          ]
        }
      ]
    },
    {
      "cell_type": "code",
      "source": [
        "num_cells, num_genes = adata.shape\n",
        "print(f\"There are {num_cells:,} cells and {num_genes:,} genes in this data object.\")"
      ],
      "metadata": {
        "colab": {
          "base_uri": "https://localhost:8080/"
        },
        "id": "bsBaT1jqEkDq",
        "outputId": "f3302531-1a54-4adb-8fa6-e048090b9a29"
      },
      "execution_count": null,
      "outputs": [
        {
          "output_type": "stream",
          "name": "stdout",
          "text": [
            "There are 6,733 cells and 19,856 genes in this data object.\n"
          ]
        }
      ]
    },
    {
      "cell_type": "markdown",
      "source": [
        "There are several key attributes in AnnData objects. For example, `.X` typically holds the main data, such as gene expression. `obs` and `obsm` hold metadata for each sample (i.e., a cell)."
      ],
      "metadata": {
        "id": "107dAHfTDOOS"
      }
    },
    {
      "cell_type": "code",
      "source": [
        "adata.X"
      ],
      "metadata": {
        "colab": {
          "base_uri": "https://localhost:8080/"
        },
        "id": "yJYYK4ZFLxtt",
        "outputId": "0b44537d-b4eb-4ea6-837c-0d71d1298c32"
      },
      "execution_count": null,
      "outputs": [
        {
          "output_type": "execute_result",
          "data": {
            "text/plain": [
              "array([[0., 0., 0., ..., 0., 0., 0.],\n",
              "       [0., 0., 0., ..., 0., 0., 0.],\n",
              "       [0., 0., 0., ..., 0., 0., 0.],\n",
              "       ...,\n",
              "       [0., 0., 0., ..., 0., 0., 0.],\n",
              "       [0., 0., 0., ..., 0., 0., 0.],\n",
              "       [0., 0., 0., ..., 0., 0., 0.]], dtype=float32)"
            ]
          },
          "metadata": {},
          "execution_count": 14
        }
      ]
    },
    {
      "cell_type": "code",
      "source": [
        "adata.obsm[\"cell_type\"]"
      ],
      "metadata": {
        "colab": {
          "base_uri": "https://localhost:8080/",
          "height": 522
        },
        "id": "O5R2Rh_hLxim",
        "outputId": "e9f97713-7276-4f33-e2d6-346160d5c7a8"
      },
      "execution_count": null,
      "outputs": [
        {
          "output_type": "execute_result",
          "data": {
            "text/plain": [
              "                        Astrocyte  Astroglial cell  Granulocyte  \\\n",
              "mouse_Brain3285_C_1           0.0              0.0          0.0   \n",
              "mouse_Brain3285_C_2           0.0              0.0          0.0   \n",
              "mouse_Brain3285_C_3           0.0              0.0          0.0   \n",
              "mouse_Brain3285_C_4           0.0              0.0          0.0   \n",
              "mouse_Brain3285_C_5           0.0              0.0          0.0   \n",
              "...                           ...              ...          ...   \n",
              "mouse_Brain2695_C_2691        0.0              0.0          0.0   \n",
              "mouse_Brain2695_C_2692        0.0              0.0          0.0   \n",
              "mouse_Brain2695_C_2693        0.0              0.0          0.0   \n",
              "mouse_Brain2695_C_2694        0.0              0.0          0.0   \n",
              "mouse_Brain2695_C_2695        0.0              0.0          0.0   \n",
              "\n",
              "                        Hypothalamic ependymal cell  Macrophage  Microglia  \\\n",
              "mouse_Brain3285_C_1                             0.0         0.0        0.0   \n",
              "mouse_Brain3285_C_2                             0.0         0.0        0.0   \n",
              "mouse_Brain3285_C_3                             0.0         0.0        0.0   \n",
              "mouse_Brain3285_C_4                             0.0         0.0        0.0   \n",
              "mouse_Brain3285_C_5                             0.0         0.0        0.0   \n",
              "...                                             ...         ...        ...   \n",
              "mouse_Brain2695_C_2691                          1.0         0.0        0.0   \n",
              "mouse_Brain2695_C_2692                          1.0         0.0        0.0   \n",
              "mouse_Brain2695_C_2693                          1.0         0.0        0.0   \n",
              "mouse_Brain2695_C_2694                          1.0         0.0        0.0   \n",
              "mouse_Brain2695_C_2695                          1.0         0.0        0.0   \n",
              "\n",
              "                        Myelinating oligodendrocyte  Neuron  \\\n",
              "mouse_Brain3285_C_1                             1.0     0.0   \n",
              "mouse_Brain3285_C_2                             1.0     0.0   \n",
              "mouse_Brain3285_C_3                             1.0     0.0   \n",
              "mouse_Brain3285_C_4                             1.0     0.0   \n",
              "mouse_Brain3285_C_5                             1.0     0.0   \n",
              "...                                             ...     ...   \n",
              "mouse_Brain2695_C_2691                          0.0     0.0   \n",
              "mouse_Brain2695_C_2692                          0.0     0.0   \n",
              "mouse_Brain2695_C_2693                          0.0     0.0   \n",
              "mouse_Brain2695_C_2694                          0.0     0.0   \n",
              "mouse_Brain2695_C_2695                          0.0     0.0   \n",
              "\n",
              "                        Oligodendrocyte precursor cell  Pan-GABAergic  \\\n",
              "mouse_Brain3285_C_1                                0.0            0.0   \n",
              "mouse_Brain3285_C_2                                0.0            0.0   \n",
              "mouse_Brain3285_C_3                                0.0            0.0   \n",
              "mouse_Brain3285_C_4                                0.0            0.0   \n",
              "mouse_Brain3285_C_5                                0.0            0.0   \n",
              "...                                                ...            ...   \n",
              "mouse_Brain2695_C_2691                             0.0            0.0   \n",
              "mouse_Brain2695_C_2692                             0.0            0.0   \n",
              "mouse_Brain2695_C_2693                             0.0            0.0   \n",
              "mouse_Brain2695_C_2694                             0.0            0.0   \n",
              "mouse_Brain2695_C_2695                             0.0            0.0   \n",
              "\n",
              "                        Schwann cell  \n",
              "mouse_Brain3285_C_1              0.0  \n",
              "mouse_Brain3285_C_2              0.0  \n",
              "mouse_Brain3285_C_3              0.0  \n",
              "mouse_Brain3285_C_4              0.0  \n",
              "mouse_Brain3285_C_5              0.0  \n",
              "...                              ...  \n",
              "mouse_Brain2695_C_2691           0.0  \n",
              "mouse_Brain2695_C_2692           0.0  \n",
              "mouse_Brain2695_C_2693           0.0  \n",
              "mouse_Brain2695_C_2694           0.0  \n",
              "mouse_Brain2695_C_2695           0.0  \n",
              "\n",
              "[6733 rows x 11 columns]"
            ],
            "text/html": [
              "\n",
              "  <div id=\"df-94387b1a-c9ab-41a8-abee-b483be55e8c7\">\n",
              "    <div class=\"colab-df-container\">\n",
              "      <div>\n",
              "<style scoped>\n",
              "    .dataframe tbody tr th:only-of-type {\n",
              "        vertical-align: middle;\n",
              "    }\n",
              "\n",
              "    .dataframe tbody tr th {\n",
              "        vertical-align: top;\n",
              "    }\n",
              "\n",
              "    .dataframe thead th {\n",
              "        text-align: right;\n",
              "    }\n",
              "</style>\n",
              "<table border=\"1\" class=\"dataframe\">\n",
              "  <thead>\n",
              "    <tr style=\"text-align: right;\">\n",
              "      <th></th>\n",
              "      <th>Astrocyte</th>\n",
              "      <th>Astroglial cell</th>\n",
              "      <th>Granulocyte</th>\n",
              "      <th>Hypothalamic ependymal cell</th>\n",
              "      <th>Macrophage</th>\n",
              "      <th>Microglia</th>\n",
              "      <th>Myelinating oligodendrocyte</th>\n",
              "      <th>Neuron</th>\n",
              "      <th>Oligodendrocyte precursor cell</th>\n",
              "      <th>Pan-GABAergic</th>\n",
              "      <th>Schwann cell</th>\n",
              "    </tr>\n",
              "  </thead>\n",
              "  <tbody>\n",
              "    <tr>\n",
              "      <th>mouse_Brain3285_C_1</th>\n",
              "      <td>0.0</td>\n",
              "      <td>0.0</td>\n",
              "      <td>0.0</td>\n",
              "      <td>0.0</td>\n",
              "      <td>0.0</td>\n",
              "      <td>0.0</td>\n",
              "      <td>1.0</td>\n",
              "      <td>0.0</td>\n",
              "      <td>0.0</td>\n",
              "      <td>0.0</td>\n",
              "      <td>0.0</td>\n",
              "    </tr>\n",
              "    <tr>\n",
              "      <th>mouse_Brain3285_C_2</th>\n",
              "      <td>0.0</td>\n",
              "      <td>0.0</td>\n",
              "      <td>0.0</td>\n",
              "      <td>0.0</td>\n",
              "      <td>0.0</td>\n",
              "      <td>0.0</td>\n",
              "      <td>1.0</td>\n",
              "      <td>0.0</td>\n",
              "      <td>0.0</td>\n",
              "      <td>0.0</td>\n",
              "      <td>0.0</td>\n",
              "    </tr>\n",
              "    <tr>\n",
              "      <th>mouse_Brain3285_C_3</th>\n",
              "      <td>0.0</td>\n",
              "      <td>0.0</td>\n",
              "      <td>0.0</td>\n",
              "      <td>0.0</td>\n",
              "      <td>0.0</td>\n",
              "      <td>0.0</td>\n",
              "      <td>1.0</td>\n",
              "      <td>0.0</td>\n",
              "      <td>0.0</td>\n",
              "      <td>0.0</td>\n",
              "      <td>0.0</td>\n",
              "    </tr>\n",
              "    <tr>\n",
              "      <th>mouse_Brain3285_C_4</th>\n",
              "      <td>0.0</td>\n",
              "      <td>0.0</td>\n",
              "      <td>0.0</td>\n",
              "      <td>0.0</td>\n",
              "      <td>0.0</td>\n",
              "      <td>0.0</td>\n",
              "      <td>1.0</td>\n",
              "      <td>0.0</td>\n",
              "      <td>0.0</td>\n",
              "      <td>0.0</td>\n",
              "      <td>0.0</td>\n",
              "    </tr>\n",
              "    <tr>\n",
              "      <th>mouse_Brain3285_C_5</th>\n",
              "      <td>0.0</td>\n",
              "      <td>0.0</td>\n",
              "      <td>0.0</td>\n",
              "      <td>0.0</td>\n",
              "      <td>0.0</td>\n",
              "      <td>0.0</td>\n",
              "      <td>1.0</td>\n",
              "      <td>0.0</td>\n",
              "      <td>0.0</td>\n",
              "      <td>0.0</td>\n",
              "      <td>0.0</td>\n",
              "    </tr>\n",
              "    <tr>\n",
              "      <th>...</th>\n",
              "      <td>...</td>\n",
              "      <td>...</td>\n",
              "      <td>...</td>\n",
              "      <td>...</td>\n",
              "      <td>...</td>\n",
              "      <td>...</td>\n",
              "      <td>...</td>\n",
              "      <td>...</td>\n",
              "      <td>...</td>\n",
              "      <td>...</td>\n",
              "      <td>...</td>\n",
              "    </tr>\n",
              "    <tr>\n",
              "      <th>mouse_Brain2695_C_2691</th>\n",
              "      <td>0.0</td>\n",
              "      <td>0.0</td>\n",
              "      <td>0.0</td>\n",
              "      <td>1.0</td>\n",
              "      <td>0.0</td>\n",
              "      <td>0.0</td>\n",
              "      <td>0.0</td>\n",
              "      <td>0.0</td>\n",
              "      <td>0.0</td>\n",
              "      <td>0.0</td>\n",
              "      <td>0.0</td>\n",
              "    </tr>\n",
              "    <tr>\n",
              "      <th>mouse_Brain2695_C_2692</th>\n",
              "      <td>0.0</td>\n",
              "      <td>0.0</td>\n",
              "      <td>0.0</td>\n",
              "      <td>1.0</td>\n",
              "      <td>0.0</td>\n",
              "      <td>0.0</td>\n",
              "      <td>0.0</td>\n",
              "      <td>0.0</td>\n",
              "      <td>0.0</td>\n",
              "      <td>0.0</td>\n",
              "      <td>0.0</td>\n",
              "    </tr>\n",
              "    <tr>\n",
              "      <th>mouse_Brain2695_C_2693</th>\n",
              "      <td>0.0</td>\n",
              "      <td>0.0</td>\n",
              "      <td>0.0</td>\n",
              "      <td>1.0</td>\n",
              "      <td>0.0</td>\n",
              "      <td>0.0</td>\n",
              "      <td>0.0</td>\n",
              "      <td>0.0</td>\n",
              "      <td>0.0</td>\n",
              "      <td>0.0</td>\n",
              "      <td>0.0</td>\n",
              "    </tr>\n",
              "    <tr>\n",
              "      <th>mouse_Brain2695_C_2694</th>\n",
              "      <td>0.0</td>\n",
              "      <td>0.0</td>\n",
              "      <td>0.0</td>\n",
              "      <td>1.0</td>\n",
              "      <td>0.0</td>\n",
              "      <td>0.0</td>\n",
              "      <td>0.0</td>\n",
              "      <td>0.0</td>\n",
              "      <td>0.0</td>\n",
              "      <td>0.0</td>\n",
              "      <td>0.0</td>\n",
              "    </tr>\n",
              "    <tr>\n",
              "      <th>mouse_Brain2695_C_2695</th>\n",
              "      <td>0.0</td>\n",
              "      <td>0.0</td>\n",
              "      <td>0.0</td>\n",
              "      <td>1.0</td>\n",
              "      <td>0.0</td>\n",
              "      <td>0.0</td>\n",
              "      <td>0.0</td>\n",
              "      <td>0.0</td>\n",
              "      <td>0.0</td>\n",
              "      <td>0.0</td>\n",
              "      <td>0.0</td>\n",
              "    </tr>\n",
              "  </tbody>\n",
              "</table>\n",
              "<p>6733 rows × 11 columns</p>\n",
              "</div>\n",
              "      <button class=\"colab-df-convert\" onclick=\"convertToInteractive('df-94387b1a-c9ab-41a8-abee-b483be55e8c7')\"\n",
              "              title=\"Convert this dataframe to an interactive table.\"\n",
              "              style=\"display:none;\">\n",
              "        \n",
              "  <svg xmlns=\"http://www.w3.org/2000/svg\" height=\"24px\"viewBox=\"0 0 24 24\"\n",
              "       width=\"24px\">\n",
              "    <path d=\"M0 0h24v24H0V0z\" fill=\"none\"/>\n",
              "    <path d=\"M18.56 5.44l.94 2.06.94-2.06 2.06-.94-2.06-.94-.94-2.06-.94 2.06-2.06.94zm-11 1L8.5 8.5l.94-2.06 2.06-.94-2.06-.94L8.5 2.5l-.94 2.06-2.06.94zm10 10l.94 2.06.94-2.06 2.06-.94-2.06-.94-.94-2.06-.94 2.06-2.06.94z\"/><path d=\"M17.41 7.96l-1.37-1.37c-.4-.4-.92-.59-1.43-.59-.52 0-1.04.2-1.43.59L10.3 9.45l-7.72 7.72c-.78.78-.78 2.05 0 2.83L4 21.41c.39.39.9.59 1.41.59.51 0 1.02-.2 1.41-.59l7.78-7.78 2.81-2.81c.8-.78.8-2.07 0-2.86zM5.41 20L4 18.59l7.72-7.72 1.47 1.35L5.41 20z\"/>\n",
              "  </svg>\n",
              "      </button>\n",
              "      \n",
              "  <style>\n",
              "    .colab-df-container {\n",
              "      display:flex;\n",
              "      flex-wrap:wrap;\n",
              "      gap: 12px;\n",
              "    }\n",
              "\n",
              "    .colab-df-convert {\n",
              "      background-color: #E8F0FE;\n",
              "      border: none;\n",
              "      border-radius: 50%;\n",
              "      cursor: pointer;\n",
              "      display: none;\n",
              "      fill: #1967D2;\n",
              "      height: 32px;\n",
              "      padding: 0 0 0 0;\n",
              "      width: 32px;\n",
              "    }\n",
              "\n",
              "    .colab-df-convert:hover {\n",
              "      background-color: #E2EBFA;\n",
              "      box-shadow: 0px 1px 2px rgba(60, 64, 67, 0.3), 0px 1px 3px 1px rgba(60, 64, 67, 0.15);\n",
              "      fill: #174EA6;\n",
              "    }\n",
              "\n",
              "    [theme=dark] .colab-df-convert {\n",
              "      background-color: #3B4455;\n",
              "      fill: #D2E3FC;\n",
              "    }\n",
              "\n",
              "    [theme=dark] .colab-df-convert:hover {\n",
              "      background-color: #434B5C;\n",
              "      box-shadow: 0px 1px 3px 1px rgba(0, 0, 0, 0.15);\n",
              "      filter: drop-shadow(0px 1px 2px rgba(0, 0, 0, 0.3));\n",
              "      fill: #FFFFFF;\n",
              "    }\n",
              "  </style>\n",
              "\n",
              "      <script>\n",
              "        const buttonEl =\n",
              "          document.querySelector('#df-94387b1a-c9ab-41a8-abee-b483be55e8c7 button.colab-df-convert');\n",
              "        buttonEl.style.display =\n",
              "          google.colab.kernel.accessAllowed ? 'block' : 'none';\n",
              "\n",
              "        async function convertToInteractive(key) {\n",
              "          const element = document.querySelector('#df-94387b1a-c9ab-41a8-abee-b483be55e8c7');\n",
              "          const dataTable =\n",
              "            await google.colab.kernel.invokeFunction('convertToInteractive',\n",
              "                                                     [key], {});\n",
              "          if (!dataTable) return;\n",
              "\n",
              "          const docLinkHtml = 'Like what you see? Visit the ' +\n",
              "            '<a target=\"_blank\" href=https://colab.research.google.com/notebooks/data_table.ipynb>data table notebook</a>'\n",
              "            + ' to learn more about interactive tables.';\n",
              "          element.innerHTML = '';\n",
              "          dataTable['output_type'] = 'display_data';\n",
              "          await google.colab.output.renderOutput(dataTable, element);\n",
              "          const docLink = document.createElement('div');\n",
              "          docLink.innerHTML = docLinkHtml;\n",
              "          element.appendChild(docLink);\n",
              "        }\n",
              "      </script>\n",
              "    </div>\n",
              "  </div>\n",
              "  "
            ]
          },
          "metadata": {},
          "execution_count": 15
        }
      ]
    },
    {
      "cell_type": "markdown",
      "source": [
        "### 2.3. Data pre-processing using transforms\n",
        "\n",
        "Applying individual in-place transformations to data\n"
      ],
      "metadata": {
        "id": "0ytH_-HIrNHx"
      }
    },
    {
      "cell_type": "code",
      "source": [
        "import scanpy as sc\n",
        "\n",
        "from dance.transforms import AnnDataTransform, FilterGenesPercentile\n",
        "\n",
        "# Reload data\n",
        "data = dataset.load_data()\n",
        "\n",
        "# Library size normalization\n",
        "AnnDataTransform(sc.pp.normalize_total, target_sum=1e-4)(data)\n",
        "\n",
        "# Shifted log transformation\n",
        "AnnDataTransform(sc.pp.log1p)(data)\n",
        "\n",
        "# Filter out genes that have extreme coefficient of variation\n",
        "FilterGenesPercentile(min_val=1, max_val=99, mode=\"sum\")(data)"
      ],
      "metadata": {
        "colab": {
          "base_uri": "https://localhost:8080/"
        },
        "id": "GfBLRhppo_41",
        "outputId": "d942eff8-290f-4417-b268-538b18addfb9"
      },
      "execution_count": null,
      "outputs": [
        {
          "output_type": "stream",
          "name": "stderr",
          "text": [
            "[INFO][2023-06-26 00:20:11,401][dance][_load_dfs] Loading data from ./train/mouse/mouse_Brain3285_data.csv\n",
            "[INFO][2023-06-26 00:20:17,931][dance][_load_dfs] Loading data from ./train/mouse/mouse_Brain753_data.csv\n",
            "[INFO][2023-06-26 00:20:20,479][dance][_load_dfs] Loading data from ./test/mouse/mouse_Brain2695_data.csv\n",
            "[INFO][2023-06-26 00:20:28,966][dance][_load_dfs] Loading data from ./train/mouse/mouse_Brain3285_celltype.csv\n",
            "[INFO][2023-06-26 00:20:28,977][dance][_load_dfs] Loading data from ./train/mouse/mouse_Brain753_celltype.csv\n",
            "[INFO][2023-06-26 00:20:28,984][dance][_load_dfs] Loading data from ./test/mouse/mouse_Brain2695_celltype.csv\n",
            "[INFO][2023-06-26 00:20:32,095][dance][_load_raw_data] Loaded expression data: AnnData object with n_obs × n_vars = 6733 × 19856\n",
            "[INFO][2023-06-26 00:20:32,096][dance][_load_raw_data] Number of training samples: 4,038\n",
            "[INFO][2023-06-26 00:20:32,099][dance][_load_raw_data] Number of testing samples: 2,695\n",
            "[INFO][2023-06-26 00:20:32,103][dance][_load_raw_data] Cell-types (n=11):\n",
            "['Astrocyte',\n",
            " 'Astroglial cell',\n",
            " 'Granulocyte',\n",
            " 'Hypothalamic ependymal cell',\n",
            " 'Macrophage',\n",
            " 'Microglia',\n",
            " 'Myelinating oligodendrocyte',\n",
            " 'Neuron',\n",
            " 'Oligodendrocyte precursor cell',\n",
            " 'Pan-GABAergic',\n",
            " 'Schwann cell']\n",
            "[INFO][2023-06-26 00:20:32,125][dance][load_data] Raw data loaded:\n",
            "Data object that wraps (.data):\n",
            "AnnData object with n_obs × n_vars = 6733 × 19856\n",
            "    uns: 'dance_config'\n",
            "    obsm: 'cell_type'\n",
            "[INFO][2023-06-26 00:20:32,126][dance][wrapped_func] Took 0:00:20.726252 to load and process data.\n"
          ]
        }
      ]
    },
    {
      "cell_type": "markdown",
      "source": [
        "Composing transformations into a a pre-precoessing pipeline (feat. caching)"
      ],
      "metadata": {
        "id": "2St8ISsAr1_M"
      }
    },
    {
      "cell_type": "code",
      "source": [
        "from dance.transforms import Compose\n",
        "\n",
        "preprocessing_pipeline = Compose(\n",
        "    AnnDataTransform(sc.pp.normalize_total, target_sum=1e-4),\n",
        "    AnnDataTransform(sc.pp.log1p),\n",
        "    FilterGenesPercentile(min_val=1, max_val=99, mode=\"sum\"),\n",
        ")\n",
        "\n",
        "# Now we can apply the preprocessing pipeline transformation to our data\n",
        "# data = dataset.load_data()\n",
        "# preprocessing_pipeline(data)\n",
        "\n",
        "# Alternatively, we can also pass the transformation to the loading function\n",
        "data = dataset.load_data(transform=preprocessing_pipeline, cache=True)"
      ],
      "metadata": {
        "colab": {
          "base_uri": "https://localhost:8080/"
        },
        "id": "NEhY1hTRo_nh",
        "outputId": "fe668bda-ac3d-40df-a554-3298ffc7740a"
      },
      "execution_count": null,
      "outputs": [
        {
          "output_type": "stream",
          "name": "stderr",
          "text": [
            "[INFO][2023-06-26 00:21:37,779][dance][_load_dfs] Loading data from ./train/mouse/mouse_Brain3285_data.csv\n",
            "[INFO][2023-06-26 00:21:45,699][dance][_load_dfs] Loading data from ./train/mouse/mouse_Brain753_data.csv\n",
            "[INFO][2023-06-26 00:21:47,627][dance][_load_dfs] Loading data from ./test/mouse/mouse_Brain2695_data.csv\n",
            "[INFO][2023-06-26 00:21:54,970][dance][_load_dfs] Loading data from ./train/mouse/mouse_Brain3285_celltype.csv\n",
            "[INFO][2023-06-26 00:21:54,987][dance][_load_dfs] Loading data from ./train/mouse/mouse_Brain753_celltype.csv\n",
            "[INFO][2023-06-26 00:21:54,996][dance][_load_dfs] Loading data from ./test/mouse/mouse_Brain2695_celltype.csv\n",
            "[INFO][2023-06-26 00:21:58,969][dance][_load_raw_data] Loaded expression data: AnnData object with n_obs × n_vars = 6733 × 19856\n",
            "[INFO][2023-06-26 00:21:58,970][dance][_load_raw_data] Number of training samples: 4,038\n",
            "[INFO][2023-06-26 00:21:58,973][dance][_load_raw_data] Number of testing samples: 2,695\n",
            "[INFO][2023-06-26 00:21:58,975][dance][_load_raw_data] Cell-types (n=11):\n",
            "['Astrocyte',\n",
            " 'Astroglial cell',\n",
            " 'Granulocyte',\n",
            " 'Hypothalamic ependymal cell',\n",
            " 'Macrophage',\n",
            " 'Microglia',\n",
            " 'Myelinating oligodendrocyte',\n",
            " 'Neuron',\n",
            " 'Oligodendrocyte precursor cell',\n",
            " 'Pan-GABAergic',\n",
            " 'Schwann cell']\n",
            "[INFO][2023-06-26 00:21:59,013][dance][load_data] Raw data loaded:\n",
            "Data object that wraps (.data):\n",
            "AnnData object with n_obs × n_vars = 6733 × 19856\n",
            "    uns: 'dance_config'\n",
            "    obsm: 'cell_type'\n",
            "[INFO][2023-06-26 00:21:59,990][dance][load_data] Data transformed:\n",
            "Data object that wraps (.data):\n",
            "AnnData object with n_obs × n_vars = 6733 × 19657\n",
            "    uns: 'dance_config', 'log1p'\n",
            "    obsm: 'cell_type'\n",
            "[INFO][2023-06-26 00:22:03,333][dance][load_data] Saved processed data to cache: /content/cache/3b4e7591e2276386e7ba5ac8ab3d46c8.pkl\n",
            "[INFO][2023-06-26 00:22:03,337][dance][wrapped_func] Took 0:00:25.557115 to load and process data.\n"
          ]
        }
      ]
    },
    {
      "cell_type": "code",
      "source": [
        "data = dataset.load_data(transform=preprocessing_pipeline, cache=True)"
      ],
      "metadata": {
        "colab": {
          "base_uri": "https://localhost:8080/"
        },
        "id": "9L8DaBvnuRLH",
        "outputId": "0a443c67-9afc-4279-a068-af646662f1d8"
      },
      "execution_count": null,
      "outputs": [
        {
          "output_type": "stream",
          "name": "stderr",
          "text": [
            "[INFO][2023-06-26 00:22:10,531][dance][_maybe_load_cache] Loading cached data at /content/cache/3b4e7591e2276386e7ba5ac8ab3d46c8.pkl\n",
            "================================Cache data info=================================\n",
            "------------------------------Dataset object info-------------------------------\n",
            "ScDeepSortDataset(species='mouse', tissue='Brain', train_dataset=['3285', '753'], test_dataset=['2695'])\n",
            "------------------------------Transformation info-------------------------------\n",
            "Compose(\n",
            "  AnnDataTransform(func=scanpy.preprocessing._normalization.normalize_total, func_kwargs={'target_sum': 0.0001}),\n",
            "  AnnDataTransform(func=scanpy.preprocessing._simple.log1p, func_kwargs={}),\n",
            "  FilterGenesPercentile(min_val=1, max_val=99, mode='sum'),\n",
            ")\n",
            "--------------------------------Loaded data info--------------------------------\n",
            "Data object that wraps (.data):\n",
            "AnnData object with n_obs × n_vars = 6733 × 19657\n",
            "    uns: 'dance_config', 'log1p'\n",
            "    obsm: 'cell_type'\n",
            "=============================End of cache data info=============================\n",
            "[INFO][2023-06-26 00:22:10,534][dance][load_data] Data loaded:\n",
            "Data object that wraps (.data):\n",
            "AnnData object with n_obs × n_vars = 6733 × 19657\n",
            "    uns: 'dance_config', 'log1p'\n",
            "    obsm: 'cell_type'\n",
            "[INFO][2023-06-26 00:22:10,536][dance][wrapped_func] Took 0:00:00.621656 to load and process data.\n"
          ]
        }
      ]
    },
    {
      "cell_type": "markdown",
      "source": [
        "## 3. Single modality tasks"
      ],
      "metadata": {
        "id": "mkvsZ3K7YSV5"
      }
    },
    {
      "cell_type": "markdown",
      "source": [
        "### 3.1 Example: ACTINN for Cell Type Annotation\n",
        "\n",
        "#### Visualization of annotation results\n",
        "\n",
        "![image](https://github.com/OmicsML/dance-tutorials/raw/dev/imgs/tutorial_v1/singlemodality/cell_type_visualization.png)"
      ],
      "metadata": {
        "id": "YP6RTEfKHAli"
      }
    },
    {
      "cell_type": "markdown",
      "source": [
        "#### Load data"
      ],
      "metadata": {
        "id": "z-eaoyhCGuTt"
      }
    },
    {
      "cell_type": "code",
      "source": [
        "import numpy as np\n",
        "\n",
        "from dance.modules.single_modality.cell_type_annotation.actinn import ACTINN\n",
        "from dance.utils import set_seed\n",
        "\n",
        "# Initialize model and get model specific preprocessing pipeline\n",
        "model = ACTINN(hidden_dims=[256, 256], lambd=0.01, device='cuda')\n",
        "preprocessing_pipeline = model.preprocessing_pipeline(normalize=True, filter_genes=True)\n",
        "\n",
        "# Load data and perform necessary preprocessing\n",
        "dataset = ScDeepSortDataset(species=\"mouse\", tissue=\"Brain\",\n",
        "                            train_dataset=[\"3285\", \"753\"], test_dataset=[\"2695\"])\n",
        "data = dataset.load_data(transform=preprocessing_pipeline)\n",
        "print(data)"
      ],
      "metadata": {
        "id": "cskIq6ZjGsuR"
      },
      "execution_count": null,
      "outputs": []
    },
    {
      "cell_type": "markdown",
      "source": [
        "#### Train and evaluate model"
      ],
      "metadata": {
        "id": "eNKJg6sYG0Bf"
      }
    },
    {
      "cell_type": "code",
      "source": [
        "# Obtain training and testing data\n",
        "x_train, y_train = data.get_train_data(return_type=\"torch\")\n",
        "x_test, y_test = data.get_test_data(return_type=\"torch\")\n",
        "\n",
        "# Train and evaluate model\n",
        "set_seed(10)\n",
        "model.fit(x_train, y_train, lr=0.001, num_epochs=21,\n",
        "          batch_size=1000, print_cost=True)\n",
        "print(f\"ACC: {model.score(x_test, y_test):.4f}\")"
      ],
      "metadata": {
        "id": "OjG4qofdGsSq"
      },
      "execution_count": null,
      "outputs": []
    },
    {
      "cell_type": "markdown",
      "source": [
        "### 3.2 Example: GraphSCI for Imputation\n",
        "\n",
        "#### Model structure\n",
        "\n",
        "![image](https://github.com/OmicsML/dance-tutorials/raw/dev/imgs/tutorial_v1/singlemodality/graphsci_visualization.png)\n",
        "\n",
        "#### Reported results\n",
        "\n",
        "![image](https://github.com/OmicsML/dance-tutorials/raw/dev/imgs/tutorial_v1/singlemodality/imputation_results_example.png)"
      ],
      "metadata": {
        "id": "APzGBDTSG7e2"
      }
    },
    {
      "cell_type": "markdown",
      "source": [
        "#### Load data"
      ],
      "metadata": {
        "id": "MDO_0RIFHozy"
      }
    },
    {
      "cell_type": "code",
      "source": [
        "import torch\n",
        "\n",
        "from dance.datasets.singlemodality import ImputationDataset\n",
        "from dance.modules.single_modality.imputation.graphsci import GraphSCI\n",
        "from dance.utils import set_seed\n",
        "\n",
        "# Load data and perform preprocessing\n",
        "set_seed(10)\n",
        "dataloader = ImputationDataset(data_dir='./data', dataset='pbmc_data', train_size=0.9)\n",
        "preprocessing_pipeline = GraphSCI.preprocessing_pipeline(mask=True, mask_rate=0.1)\n",
        "data = dataloader.load_data(transform=preprocessing_pipeline)\n",
        "print(data)"
      ],
      "metadata": {
        "id": "yxXzPNjSG6jl"
      },
      "execution_count": null,
      "outputs": []
    },
    {
      "cell_type": "markdown",
      "source": [
        "#### Train and evaluate model"
      ],
      "metadata": {
        "id": "R78kh2NvHr7n"
      }
    },
    {
      "cell_type": "code",
      "source": [
        "# Obtain training and testing data\n",
        "X, X_raw, g, mask = data.get_x(return_type=\"default\")\n",
        "device = 'cuda:0'\n",
        "X = torch.tensor(X.toarray()).to(device)\n",
        "X_raw = torch.tensor(X_raw.toarray()).to(device)\n",
        "g = g.to(device)\n",
        "train_idx = data.train_idx\n",
        "test_idx = data.test_idx\n",
        "\n",
        "# Train and evaluate model\n",
        "model = GraphSCI(num_cells=X.shape[0], num_genes=X.shape[1],\n",
        "                 dataset='pbmc_data', gpu=0)\n",
        "model.fit(X, X_raw, g, train_idx, mask, n_epochs=10, la=1e-7)\n",
        "model.load_model()\n",
        "imputed_data = model.predict(X, X_raw, g, mask)\n",
        "score = model.score(X_raw, imputed_data, test_idx, mask, metric='RMSE')\n",
        "print(\"RMSE: %.4f\" % score)"
      ],
      "metadata": {
        "id": "jbo4IZIMG7R6"
      },
      "execution_count": null,
      "outputs": []
    },
    {
      "cell_type": "markdown",
      "source": [
        "### 3.3 Example: scDeepCluster for Clustering\n",
        "\n",
        "#### Model structure\n",
        "\n",
        "![image](https://github.com/OmicsML/dance-tutorials/raw/dev/imgs/tutorial_v1/singlemodality/scdeepcluster_visualization.png)\n",
        "\n",
        "#### Reported results\n",
        "\n",
        "![image](https://github.com/OmicsML/dance-tutorials/raw/dev/imgs/tutorial_v1/singlemodality/clustering_results_example.png)"
      ],
      "metadata": {
        "id": "-0QOxl1iHvdY"
      }
    },
    {
      "cell_type": "markdown",
      "source": [
        "#### Load data"
      ],
      "metadata": {
        "id": "7F-WvpQ9H_Vc"
      }
    },
    {
      "cell_type": "code",
      "source": [
        "from dance.datasets.singlemodality import ClusteringDataset\n",
        "from dance.modules.single_modality.clustering.scdeepcluster import ScDeepCluster\n",
        "from dance.utils import set_seed\n",
        "\n",
        "\n",
        "# Load data and perform necessary preprocessing\n",
        "dataloader = ClusteringDataset('./data', '10X_PBMC')\n",
        "preprocessing_pipeline = ScDeepCluster.preprocessing_pipeline()\n",
        "data = dataloader.load_data(transform=preprocessing_pipeline)\n",
        "print(data)"
      ],
      "metadata": {
        "id": "dUF8K64tHv9D"
      },
      "execution_count": null,
      "outputs": []
    },
    {
      "cell_type": "markdown",
      "source": [
        "#### Train and evaluate model"
      ],
      "metadata": {
        "id": "Qo6CQAeaICio"
      }
    },
    {
      "cell_type": "code",
      "source": [
        "# inputs: x, x_raw, n_counts\n",
        "inputs, y = data.get_train_data()\n",
        "n_clusters = len(np.unique(y))\n",
        "in_dim = inputs[0].shape[1]\n",
        "\n",
        "# Build and train model\n",
        "set_seed(10)\n",
        "model = ScDeepCluster(input_dim=in_dim, z_dim=32, encodeLayer=[256, 64], decodeLayer=[64, 256], device='cuda')\n",
        "model.fit(inputs, y, n_clusters=n_clusters, lr=0.01, epochs=3, pt_epochs=3)\n",
        "\n",
        "# Evaluate model predictions\n",
        "score = model.score(None, y)\n",
        "print(f\"ARI: {score:.4f}\")"
      ],
      "metadata": {
        "id": "74Pkn2ztHwRv"
      },
      "execution_count": null,
      "outputs": []
    },
    {
      "cell_type": "markdown",
      "source": [
        "## 4. Multi-modality tasks"
      ],
      "metadata": {
        "id": "O2CSLVVBIT01"
      }
    },
    {
      "cell_type": "markdown",
      "source": [
        "### 4.1 Modality Prediction"
      ],
      "metadata": {
        "id": "ilgPs_VMIa5R"
      }
    },
    {
      "cell_type": "markdown",
      "source": [
        "#### Task and Model Description\n",
        "\n",
        "Modality Prediction: predicting the flow of information from DNA to RNA and RNA to Protein.\n",
        "\n",
        "![image](https://github.com/OmicsML/dance-tutorials/raw/dev/imgs/tutorial_v1/multimodality/modality_prediction_visualization.svg)\n",
        "\n",
        "In this section, we take RNA-to-Protein as an example task, where the data are obtained from CITE-seq technology. We use BABEL[1] model as an example to demonstrate the workflow of DANCE package.\n",
        "\n",
        "![image](https://github.com/OmicsML/dance-tutorials/raw/dev/imgs/tutorial_v1/multimodality/babel_visualization.jpeg)\n",
        "\n",
        "[1] Wu, Kevin E., et al. \"BABEL enables cross-modality translation between multiomic profiles at single-cell resolution.\" Proceedings of the National Academy of Sciences 118.15 (2021): e2023070118."
      ],
      "metadata": {
        "id": "tWUwYvvrJhLf"
      }
    },
    {
      "cell_type": "markdown",
      "source": [
        "#### Argument parsing setting"
      ],
      "metadata": {
        "id": "G_lWTzJUJuOq"
      }
    },
    {
      "cell_type": "code",
      "source": [
        "import anndata\n",
        "import mudata\n",
        "import torch\n",
        "import scanpy as sc\n",
        "from dance import logger\n",
        "from dance.data import Data\n",
        "from dance.datasets.multimodality import ModalityPredictionDataset\n",
        "from dance.modules.multi_modality.predict_modality.babel import BabelWrapper\n",
        "from dance.utils import set_seed\n",
        "from sklearn.decomposition import TruncatedSVD\n",
        "from scipy.sparse import csr_matrix\n",
        "import argparse\n",
        "import random\n",
        "import torch\n",
        "import os\n",
        "\n",
        "OPTIMIZER_DICT = {\n",
        "    \"adam\": torch.optim.Adam,\n",
        "    \"rmsprop\": torch.optim.RMSprop,\n",
        "}\n",
        "rndseed = random.randint(0, 2147483647)\n",
        "parser = argparse.ArgumentParser()\n",
        "parser.add_argument(\"-t\", \"--subtask\", default=\"openproblems_bmmc_cite_phase2_rna\")\n",
        "parser.add_argument(\"-device\", \"--device\", default=\"cuda\")\n",
        "parser.add_argument(\"-cpu\", \"--cpus\", default=1, type=int)\n",
        "parser.add_argument(\"-seed\", \"--rnd_seed\", default=rndseed, type=int)\n",
        "parser.add_argument(\"--lossweight\", type=float, default=1., help=\"Relative loss weight\")\n",
        "parser.add_argument(\"--lr\", \"-l\", type=float, default=0.01, help=\"Learning rate\")\n",
        "parser.add_argument(\"--batchsize\", \"-b\", type=int, default=64, help=\"Batch size\")\n",
        "parser.add_argument(\"--hidden\", type=int, default=64, help=\"Hidden dimensions\")\n",
        "parser.add_argument(\"--earlystop\", type=int, default=20, help=\"Early stopping after N epochs\")\n",
        "parser.add_argument(\"--naive\", \"-n\", action=\"store_true\", help=\"Use a naive model instead of lego model\")\n",
        "\n",
        "parser.add_argument(\"-m\", \"--model_folder\", default=\"./\")\n",
        "parser.add_argument(\"--outdir\", \"-o\", default=\"./\", help=\"Directory to output to\")\n",
        "parser.add_argument(\"--resume\", action=\"store_true\")\n",
        "parser.add_argument(\"--max_epochs\", type=int, default=500)\n",
        "args_defaults = parser.parse_args([])\n",
        "args = argparse.Namespace(**vars(args_defaults))\n",
        "\n",
        "rndseed = args.rnd_seed\n",
        "set_seed(rndseed)\n",
        "device = args.device\n",
        "os.makedirs(args.model_folder, exist_ok=True)\n",
        "args"
      ],
      "metadata": {
        "id": "OUWrqab2ITLR"
      },
      "execution_count": null,
      "outputs": []
    },
    {
      "cell_type": "markdown",
      "source": [
        "#### Load data and perform necessary preprocessing"
      ],
      "metadata": {
        "id": "p1e1yhinJ0Da"
      }
    },
    {
      "cell_type": "code",
      "source": [
        "dataset = ModalityPredictionDataset(args.subtask)\n",
        "data = dataset.load_data()\n",
        "data"
      ],
      "metadata": {
        "id": "6rY-HCL2IZr5"
      },
      "execution_count": null,
      "outputs": []
    },
    {
      "cell_type": "code",
      "source": [
        "# Construct data object\n",
        "data.set_config(feature_mod=\"mod1\", label_mod=\"mod2\")\n",
        "\n",
        "# Obtain training and testing data\n",
        "x_train, y_train = data.get_train_data(return_type=\"torch\")\n",
        "\n",
        "# Colab has very limited memory (12.7GB), therefore we subsample the data\n",
        "x_train = x_train[:10000]\n",
        "y_train = y_train[:10000]\n",
        "\n",
        "x_test, y_test = data.get_test_data(return_type=\"torch\")"
      ],
      "metadata": {
        "id": "12b8zfD3IZ-M"
      },
      "execution_count": null,
      "outputs": []
    },
    {
      "cell_type": "markdown",
      "source": [
        "#### Initialize model and get model specific preprocessing pipeline"
      ],
      "metadata": {
        "id": "SUMXhlvOJ5YK"
      }
    },
    {
      "cell_type": "code",
      "source": [
        "model = BabelWrapper(args, dim_in=x_train.shape[1], dim_out=y_train.shape[1])"
      ],
      "metadata": {
        "id": "Ec-fO2V0J6rn"
      },
      "execution_count": null,
      "outputs": []
    },
    {
      "cell_type": "markdown",
      "source": [
        "#### Train and evaluate model"
      ],
      "metadata": {
        "id": "XXaT400QJ9or"
      }
    },
    {
      "cell_type": "code",
      "source": [
        "model.fit(x_train.float(), y_train.float(), val_ratio=0.15)"
      ],
      "metadata": {
        "id": "_pSaYI7aJ6o_"
      },
      "execution_count": null,
      "outputs": []
    },
    {
      "cell_type": "code",
      "source": [
        "model.predict(x_test.float())"
      ],
      "metadata": {
        "id": "yCH4urZsJ6bo"
      },
      "execution_count": null,
      "outputs": []
    },
    {
      "cell_type": "code",
      "source": [
        "model.score(x_test.float(), y_test.float())"
      ],
      "metadata": {
        "id": "Zqy4zqfQIaAl"
      },
      "execution_count": null,
      "outputs": []
    },
    {
      "cell_type": "markdown",
      "source": [
        "## 5. Spatial"
      ],
      "metadata": {
        "id": "Y3Y2XVUyKD40"
      }
    },
    {
      "cell_type": "markdown",
      "source": [
        "### 5.1 Spatial Domain"
      ],
      "metadata": {
        "id": "FZS7TIBOKQ3J"
      }
    },
    {
      "cell_type": "markdown",
      "source": [
        "#### SpaGCN model for spatial domain identification\n",
        "\n",
        "![image](https://github.com/OmicsML/dance-tutorials/raw/dev/imgs/tutorial_v1/spatial_domain/SpaGCN_framework.png)"
      ],
      "metadata": {
        "id": "D0PPLfYdKZNW"
      }
    },
    {
      "cell_type": "markdown",
      "source": [
        "#### Argument parsing setting"
      ],
      "metadata": {
        "id": "MIoY4FElKi_Y"
      }
    },
    {
      "cell_type": "code",
      "source": [
        "import argparse\n",
        "from dance.transforms import Compose\n",
        "from dance.datasets.spatial import SpatialLIBDDataset\n",
        "from dance.modules.spatial.spatial_domain.spagcn import SpaGCN, refine\n",
        "from dance.utils import set_seed\n",
        "from dance.transforms import AnnDataTransform, CellPCA, Compose, FilterGenesMatch, SetConfig\n",
        "from dance.transforms.graph import SpaGCNGraph, SpaGCNGraph2D\n",
        "\n",
        "parser = argparse.ArgumentParser()\n",
        "parser.add_argument(\"-f\", required=False)\n",
        "\n",
        "# SpaGCN model specific pamaters to be tuned\n",
        "parser.add_argument(\"--beta\", type=int, default=49, help=\"\")\n",
        "parser.add_argument(\"--alpha\", type=int, default=1, help=\"\")\n",
        "parser.add_argument(\"--p\", type=float, default=0.05,\n",
        "                    help=\"percentage of total expression contributed by neighborhoods.\")\n",
        "parser.add_argument(\"--l\", type=float, default=0.5, help=\"the parameter to control percentage p.\")\n",
        "parser.add_argument(\"--start\", type=float, default=0.01, help=\"starting value for searching l.\")\n",
        "parser.add_argument(\"--end\", type=float, default=1000, help=\"ending value for searching l.\")\n",
        "parser.add_argument(\"--tol\", type=float, default=5e-3, help=\"tolerant value for searching l.\")\n",
        "\n",
        "\n",
        "# deep learning model generic pamaters to be tuned\n",
        "parser.add_argument(\"--cache\", action=\"store_true\", help=\"Cache processed data.\")\n",
        "parser.add_argument(\"--sample_number\", type=str, default=\"151673\",\n",
        "                    help=\"12 human dorsolateral prefrontal cortex datasets for the spatial domain task.\")\n",
        "parser.add_argument(\"--max_run\", type=int, default=200, help=\"max runs.\")\n",
        "parser.add_argument(\"--epochs\", type=int, default=200, help=\"Number of epochs.\")\n",
        "parser.add_argument(\"--n_clusters\", type=int, default=7, help=\"the number of clusters\")\n",
        "parser.add_argument(\"--step\", type=float, default=0.1, help=\"\")\n",
        "parser.add_argument(\"--lr\", type=float, default=0.05, help=\"learning rate\")\n",
        "parser.add_argument(\"--random_state\", type=int, default=100, help=\"\")\n",
        "args = parser.parse_args()\n",
        "set_seed(args.random_state)"
      ],
      "metadata": {
        "id": "Szz1LOeWKQdN"
      },
      "execution_count": null,
      "outputs": []
    },
    {
      "cell_type": "markdown",
      "source": [
        "#### Initialize model and get model specific preprocessing *pipeline*"
      ],
      "metadata": {
        "id": "gC8_MNm9Knjz"
      }
    },
    {
      "cell_type": "code",
      "source": [
        "model = SpaGCN()\n",
        "# In SpaGCN, alpha and beta are used for graph construction\n",
        "preprocessing_pipeline = model.preprocessing_pipeline(alpha=args.alpha, beta=args.beta)"
      ],
      "metadata": {
        "id": "Vtl12VGvKQaY"
      },
      "execution_count": null,
      "outputs": []
    },
    {
      "cell_type": "markdown",
      "source": [
        "#### User defined customized transform"
      ],
      "metadata": {
        "id": "MCENWWqAKrEw"
      }
    },
    {
      "cell_type": "code",
      "source": [
        "preprocessing_pipeline = Compose(\n",
        "    FilterGenesMatch(prefixes=[\"ERCC\", \"MT-\"]),\n",
        "    SpaGCNGraph(alpha=1, beta=49),\n",
        "    SpaGCNGraph2D(),\n",
        "    CellPCA(n_components=40),\n",
        "    SetConfig({\n",
        "        \"feature_channel\": [\"CellPCA\", \"SpaGCNGraph\", \"SpaGCNGraph2D\"],\n",
        "        \"feature_channel_type\": [\"obsm\", \"obsp\", \"obsp\"],\n",
        "        \"label_channel\": \"label\",\n",
        "        \"label_channel_type\": \"obs\"\n",
        "    }),\n",
        "    )"
      ],
      "metadata": {
        "id": "j0EXszkKKQXg"
      },
      "execution_count": null,
      "outputs": []
    },
    {
      "cell_type": "markdown",
      "source": [
        "#### Load data and perform necessary preprocessing"
      ],
      "metadata": {
        "id": "8m8cYF5VKwsY"
      }
    },
    {
      "cell_type": "code",
      "source": [
        "dataloader = SpatialLIBDDataset(data_id=args.sample_number)\n",
        "data = dataloader.load_data(transform=preprocessing_pipeline, cache=args.cache)\n",
        "(x, adj, adj_2d), y = data.get_train_data()"
      ],
      "metadata": {
        "id": "DbmCd0frKQUq"
      },
      "execution_count": null,
      "outputs": []
    },
    {
      "cell_type": "code",
      "source": [
        "data"
      ],
      "metadata": {
        "id": "MgPgMmzjKQMn"
      },
      "execution_count": null,
      "outputs": []
    },
    {
      "cell_type": "code",
      "source": [
        "data.data.obsp[\"SpaGCNGraph\"].shape"
      ],
      "metadata": {
        "id": "-ygJh7-TK1Dj"
      },
      "execution_count": null,
      "outputs": []
    },
    {
      "cell_type": "code",
      "source": [
        "data.x[0].shape"
      ],
      "metadata": {
        "id": "F8Nnkh_NK1A1"
      },
      "execution_count": null,
      "outputs": []
    },
    {
      "cell_type": "code",
      "source": [
        "data.x[1].shape"
      ],
      "metadata": {
        "id": "O-_Sj-smK09p"
      },
      "execution_count": null,
      "outputs": []
    },
    {
      "cell_type": "markdown",
      "source": [
        "#### Train and evaluate model"
      ],
      "metadata": {
        "id": "mGUEFoXLK57h"
      }
    },
    {
      "cell_type": "code",
      "source": [
        "l = model.search_l(args.p, adj, start=args.start, end=args.end, tol=args.tol,\n",
        "                   max_run=args.max_run)\n",
        "model.set_l(l)\n",
        "res = model.search_set_res((x, adj), l=l, target_num=args.n_clusters, start=0.4,\n",
        "                           step=args.step, tol=args.tol, lr=args.lr,\n",
        "                           epochs=args.epochs, max_run=args.max_run)"
      ],
      "metadata": {
        "id": "BJLyTTQyK06z"
      },
      "execution_count": null,
      "outputs": []
    },
    {
      "cell_type": "code",
      "source": [
        "pred = model.fit_predict((x, adj), init_spa=True, init=\"louvain\", tol=args.tol,\n",
        "                         lr=args.lr, epochs=args.epochs, res=res)"
      ],
      "metadata": {
        "id": "c1fTJ2-vK041"
      },
      "execution_count": null,
      "outputs": []
    },
    {
      "cell_type": "code",
      "source": [
        "score = model.default_score_func(y, pred)\n",
        "print(f\"ARI: {score:.4f}\")"
      ],
      "metadata": {
        "id": "bD4PmvfZK04E"
      },
      "execution_count": null,
      "outputs": []
    },
    {
      "cell_type": "markdown",
      "source": [
        "### 5.2 Cell Type Deconvolution"
      ],
      "metadata": {
        "id": "9tEEPzblLLf_"
      }
    },
    {
      "cell_type": "markdown",
      "source": [
        "#### DSTG model for cell type deconvolution\n",
        "\n",
        "![image](https://github.com/OmicsML/dance-tutorials/raw/dev/imgs/tutorial_v1/cell_type_deconvo/DSTG_framework.png)"
      ],
      "metadata": {
        "id": "uWeBYQgFLPgD"
      }
    },
    {
      "cell_type": "markdown",
      "source": [
        "#### Argument parsing setting"
      ],
      "metadata": {
        "id": "b7GLnlZxLXBo"
      }
    },
    {
      "cell_type": "code",
      "source": [
        "import argparse\n",
        "from pprint import pprint\n",
        "import numpy as np\n",
        "import torch\n",
        "from dance.datasets.spatial import CellTypeDeconvoDataset\n",
        "from dance.modules.spatial.cell_type_deconvo import DSTG\n",
        "from dance.utils import set_seed\n",
        "\n",
        "parser = argparse.ArgumentParser(formatter_class=argparse.ArgumentDefaultsHelpFormatter)\n",
        "parser.add_argument(\"-f\", required=False)\n",
        "\n",
        "\n",
        "parser.add_argument(\"--cache\", action=\"store_true\", help=\"Cache processed data.\")\n",
        "parser.add_argument(\"--dataset\", default=\"CARD_synthetic\")\n",
        "parser.add_argument(\"--datadir\", default=\"data/spatial\", help=\"Directory to save the data.\")\n",
        "parser.add_argument(\"--sc_ref\", type=bool, default=True, help=\"Reference scRNA (True) or cell-mixtures (False).\")\n",
        "parser.add_argument(\"--num_pseudo\", type=int, default=500, help=\"Number of pseudo mixtures to generate.\")\n",
        "parser.add_argument(\"--n_hvg\", type=int, default=2000, help=\"Number of HVGs.\")\n",
        "parser.add_argument(\"--lr\", type=float, default=1e-2, help=\"Learning rate.\")\n",
        "parser.add_argument(\"--wd\", type=float, default=1e-4, help=\"Weight decay.\")\n",
        "parser.add_argument(\"--k_filter\", type=int, default=200, help=\"Graph node filter.\")\n",
        "parser.add_argument(\"--num_cc\", type=int, default=30, help=\"Dimension of canonical correlation analysis.\")\n",
        "parser.add_argument(\"--bias\", type=bool, default=False, help=\"Include/Exclude bias term.\")\n",
        "parser.add_argument(\"--nhid\", type=int, default=16, help=\"Number of neurons in latent layer.\")\n",
        "parser.add_argument(\"--dropout\", type=float, default=0., help=\"Dropout rate.\")\n",
        "parser.add_argument(\"--epochs\", type=int, default=25, help=\"Number of epochs to train the model.\")\n",
        "parser.add_argument(\"--seed\", type=int, default=17, help=\"Random seed.\")\n",
        "parser.add_argument(\"--device\", default=\"auto\", help=\"Computation device.\")\n",
        "args = parser.parse_args()\n",
        "set_seed(args.seed)\n",
        "\n",
        "# Load dataset\n",
        "preprocessing_pipeline = DSTG.preprocessing_pipeline(\n",
        "    n_pseudo=args.num_pseudo,\n",
        "    n_top_genes=args.n_hvg,\n",
        "    k_filter=args.k_filter,\n",
        "    num_cc=args.num_cc,\n",
        ")\n",
        "dataset = CellTypeDeconvoDataset(data_dir=args.datadir, data_id=args.dataset)\n",
        "data = dataset.load_data(transform=preprocessing_pipeline, cache=args.cache)\n",
        "\n",
        "(adj, x), y = data.get_data(return_type=\"default\")\n",
        "x, y = torch.FloatTensor(x), torch.FloatTensor(y.values)\n",
        "adj = torch.sparse.FloatTensor(torch.LongTensor([adj.row.tolist(), adj.col.tolist()]),\n",
        "                               torch.FloatTensor(adj.data.astype(np.int32)))\n",
        "train_mask = data.get_split_mask(\"pseudo\", return_type=\"torch\")\n",
        "inputs = (adj, x, train_mask)\n",
        "\n",
        "# Train and evaluate model\n",
        "model = DSTG(nhid=args.nhid, bias=args.bias, dropout=args.dropout, device=args.device)\n",
        "pred = model.fit_predict(inputs, y, lr=args.lr, max_epochs=args.epochs, weight_decay=args.wd)\n",
        "test_mask = data.get_split_mask(\"test\", return_type=\"torch\")\n",
        "score = model.default_score_func(y[test_mask], pred[test_mask])\n",
        "print(f\"MSE: {score:7.4f}\")"
      ],
      "metadata": {
        "id": "JuUBSEx0LWvC"
      },
      "execution_count": null,
      "outputs": []
    },
    {
      "cell_type": "markdown",
      "source": [
        "#### Get model specific preprocessing *pipeline*"
      ],
      "metadata": {
        "id": "T0Huz17oLbxl"
      }
    },
    {
      "cell_type": "code",
      "source": [
        "preprocessing_pipeline = DSTG.preprocessing_pipeline(\n",
        "    n_pseudo=args.num_pseudo,\n",
        "    n_top_genes=args.n_hvg,\n",
        "    k_filter=args.k_filter,\n",
        "    num_cc=args.num_cc,\n",
        ")"
      ],
      "metadata": {
        "id": "SNewOFwMLcws"
      },
      "execution_count": null,
      "outputs": []
    },
    {
      "cell_type": "markdown",
      "source": [
        "#### Load data and perform necessary preprocessing"
      ],
      "metadata": {
        "id": "WUuvU7AsLhu_"
      }
    },
    {
      "cell_type": "code",
      "source": [
        "dataset = CellTypeDeconvoDataset(data_dir=args.datadir, data_id=args.dataset)\n",
        "data = dataset.load_data(transform=preprocessing_pipeline, cache=args.cache)"
      ],
      "metadata": {
        "id": "M-z7K16wLcPY"
      },
      "execution_count": null,
      "outputs": []
    },
    {
      "cell_type": "code",
      "source": [
        "data.x"
      ],
      "metadata": {
        "id": "6bzAub6oK0xX"
      },
      "execution_count": null,
      "outputs": []
    },
    {
      "cell_type": "code",
      "source": [
        "len(data.x)"
      ],
      "metadata": {
        "id": "lBbjqjkGLnLN"
      },
      "execution_count": null,
      "outputs": []
    },
    {
      "cell_type": "code",
      "source": [
        "data.x[0].shape"
      ],
      "metadata": {
        "id": "Y01dDri6LnHx"
      },
      "execution_count": null,
      "outputs": []
    },
    {
      "cell_type": "code",
      "source": [
        "data.x[1].shape"
      ],
      "metadata": {
        "id": "kEyieaeILnEc"
      },
      "execution_count": null,
      "outputs": []
    },
    {
      "cell_type": "code",
      "source": [
        "(adj, x), y = data.get_data(return_type=\"default\")\n",
        "x, y = torch.FloatTensor(x), torch.FloatTensor(y.values)\n",
        "adj = torch.sparse.FloatTensor(torch.LongTensor([adj.row.tolist(), adj.col.tolist()]),\n",
        "                               torch.FloatTensor(adj.data.astype(np.int32)))\n",
        "train_mask = data.get_split_mask(\"pseudo\", return_type=\"torch\")\n",
        "inputs = (adj, x, train_mask)"
      ],
      "metadata": {
        "id": "IyZ1rXFkLnBU"
      },
      "execution_count": null,
      "outputs": []
    },
    {
      "cell_type": "markdown",
      "source": [
        "#### Train and evaluate model"
      ],
      "metadata": {
        "id": "8K4uFzomLrIU"
      }
    },
    {
      "cell_type": "code",
      "source": [
        "model = DSTG(nhid=args.nhid, bias=args.bias, dropout=args.dropout, device=args.device)\n",
        "pred = model.fit_predict(inputs, y, lr=args.lr, max_epochs=args.epochs, weight_decay=args.wd)\n",
        "test_mask = data.get_split_mask(\"test\", return_type=\"torch\")\n",
        "score = model.default_score_func(y[test_mask], pred[test_mask])\n",
        "print(f\"MSE: {score:7.4f}\")"
      ],
      "metadata": {
        "id": "8GgGkurzLm-V"
      },
      "execution_count": null,
      "outputs": []
    }
  ]
}