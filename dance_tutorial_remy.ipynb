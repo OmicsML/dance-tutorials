{
  "nbformat": 4,
  "nbformat_minor": 0,
  "metadata": {
    "colab": {
      "provenance": [],
      "toc_visible": true,
      "include_colab_link": true
    },
    "kernelspec": {
      "name": "python3",
      "display_name": "Python 3"
    },
    "language_info": {
      "name": "python"
    },
    "accelerator": "GPU",
    "gpuClass": "standard"
  },
  "cells": [
    {
      "cell_type": "markdown",
      "metadata": {
        "id": "view-in-github",
        "colab_type": "text"
      },
      "source": [
        "<a href=\"https://colab.research.google.com/github/OmicsML/dance-tutorials/blob/dev/dance_tutorial_remy.ipynb\" target=\"_parent\"><img src=\"https://colab.research.google.com/assets/colab-badge.svg\" alt=\"Open In Colab\"/></a>"
      ]
    },
    {
      "cell_type": "markdown",
      "source": [
        "## 1. Installation\n",
        "\n",
        "DANCE is published on [PyPI](https://pypi.org/project/pydance/). Thus, installing DANCE is as easy as\n",
        "\n",
        "```bash\n",
        "pip install pydance\n",
        "```\n",
        "\n",
        "Or, to install the latest dev version on GitHub as\n",
        "\n",
        "```bash\n",
        "pip install git+https://github.com/OmicsML/dance\n",
        "```\n",
        "\n",
        "But becaues DANCE includes many deep learning based methods, there are also deep learning library dependencies, such as [PyTorch](https://pytorch.org/), [PyG](https://www.pyg.org/), and [DGL](https://www.dgl.ai/). We will walk through the installation process below."
      ],
      "metadata": {
        "id": "ugihXw2wU92o"
      }
    },
    {
      "cell_type": "markdown",
      "source": [
        "### 1.1. Install torch related dependencies"
      ],
      "metadata": {
        "id": "a9uCJIzekYW6"
      }
    },
    {
      "cell_type": "code",
      "source": [
        "# Colab comes with torch installed, so we do not need to install pytorch here\n",
        "# !pip3 install torch torchvision torchaudio\n",
        "\n",
        "!pip install torch_geometric==2.3.1\n",
        "!pip install dgl==1.1.0 -f https://data.dgl.ai/wheels/cu117/repo.html\n",
        "!pip install torchnmf==0.3.4"
      ],
      "metadata": {
        "id": "-9vkgggHU5Tv"
      },
      "execution_count": null,
      "outputs": []
    },
    {
      "cell_type": "markdown",
      "source": [
        "### 1.2 Install latest dev version of DANCE"
      ],
      "metadata": {
        "id": "t0Ai6ohLkpyh"
      }
    },
    {
      "cell_type": "code",
      "source": [
        "!pip install git+https://github.com/OmicsML/dance.git\n",
        "\n",
        "# # Clone DANCE repo and install\n",
        "# !git clone https://github.com/OmicsML/dance.git pydance\n",
        "# %cd /content/pydance\n",
        "# !pip install -e ."
      ],
      "metadata": {
        "id": "xiNfZpuOkewF"
      },
      "execution_count": null,
      "outputs": []
    },
    {
      "cell_type": "markdown",
      "source": [
        "### 1.3 Check if DANCE is installed successfully"
      ],
      "metadata": {
        "id": "dPyaIcBPk4FO"
      }
    },
    {
      "cell_type": "code",
      "source": [
        "import dance\n",
        "print(f\"Installed DANCE version {dance.__version__}\")"
      ],
      "metadata": {
        "colab": {
          "base_uri": "https://localhost:8080/"
        },
        "id": "Dwap0oVmk1hP",
        "outputId": "4ecc49c1-e419-4031-ddb5-8d03a7668eeb"
      },
      "execution_count": null,
      "outputs": [
        {
          "output_type": "stream",
          "name": "stdout",
          "text": [
            "Installed DANCE version 1.0.0-rc.1\n"
          ]
        }
      ]
    },
    {
      "cell_type": "markdown",
      "source": [
        "## 2. Data loading and processing\n",
        "\n",
        "DANCE comes with several benchmarking datasets in a unified dataset object format. This makes data downloading, processing, and caching easy for users through our dataset object interface."
      ],
      "metadata": {
        "id": "qpq3fr_7mkz_"
      }
    },
    {
      "cell_type": "markdown",
      "source": [
        "### 2.1. Check available data options and load data object"
      ],
      "metadata": {
        "id": "-hPDdWsPpa5T"
      }
    },
    {
      "cell_type": "code",
      "source": [
        "from pprint import pprint\n",
        "from dance.datasets.singlemodality import ClusteringDataset, ScDeepSortDataset"
      ],
      "metadata": {
        "id": "3oylxVi7oA7L"
      },
      "execution_count": null,
      "outputs": []
    },
    {
      "cell_type": "code",
      "source": [
        "print(\"Available dataset option for ClusteringDataset:\")\n",
        "pprint(ClusteringDataset.get_avalilable_data())\n",
        "\n",
        "print(\"\\nAvailable dataset option for ScDeepSortDataset:\")\n",
        "pprint(ScDeepSortDataset.get_avalilable_data())"
      ],
      "metadata": {
        "colab": {
          "base_uri": "https://localhost:8080/"
        },
        "id": "geQmHab8pnsC",
        "outputId": "3d80616b-daa2-4f46-da5f-20872b64eccc"
      },
      "execution_count": null,
      "outputs": [
        {
          "output_type": "stream",
          "name": "stdout",
          "text": [
            "Available dataset option for ClusteringDataset:\n",
            "['10X_PBMC', 'mouse_ES_cell', 'mouse_bladder_cell', 'worm_neuron_cell']\n",
            "\n",
            "Available dataset option for ScDeepSortDataset:\n",
            "[{'dataset': '3285', 'species': 'mouse', 'split': 'train', 'tissue': 'Brain'},\n",
            " {'dataset': '753', 'species': 'mouse', 'split': 'train', 'tissue': 'Brain'},\n",
            " {'dataset': '4682', 'species': 'mouse', 'split': 'train', 'tissue': 'Kidney'},\n",
            " {'dataset': '1970', 'species': 'mouse', 'split': 'train', 'tissue': 'Spleen'},\n",
            " {'dataset': '2695', 'species': 'mouse', 'split': 'test', 'tissue': 'Brain'},\n",
            " {'dataset': '203', 'species': 'mouse', 'split': 'test', 'tissue': 'Kidney'},\n",
            " {'dataset': '1759', 'species': 'mouse', 'split': 'test', 'tissue': 'Spleen'}]\n"
          ]
        }
      ]
    },
    {
      "cell_type": "code",
      "source": [
        "dataset = ClusteringDataset(\"10X_PBMC\")\n",
        "\n",
        "# The dataset object do not contain data, it only loads the data upon calling\n",
        "# the load_data function\n",
        "data = dataset.load_data()\n",
        "print(data)"
      ],
      "metadata": {
        "colab": {
          "base_uri": "https://localhost:8080/"
        },
        "id": "EhiCX5BpooNd",
        "outputId": "dea49dfb-49cd-418f-ed9c-d950b4dbf178"
      },
      "execution_count": null,
      "outputs": [
        {
          "output_type": "stream",
          "name": "stderr",
          "text": [
            "[INFO][2023-06-24 13:48:22,085][dance][download_file] Downloading: 10X_PBMC/mouse_bladder_cell.h5 Bytes: 5,479,777\n",
            "100%|██████████| 5.23M/5.23M [00:00<00:00, 27.4MB/s]\n",
            "[INFO][2023-06-24 13:48:23,173][dance][load_data] Raw data loaded:\n",
            "Data object that wraps (.data):\n",
            "AnnData object with n_obs × n_vars = 2746 × 20670\n",
            "    uns: 'dance_config'\n",
            "    obsm: 'Group'\n",
            "[INFO][2023-06-24 13:48:23,174][dance][wrapped_func] Took 0:00:02.114399 to load and process data.\n"
          ]
        },
        {
          "output_type": "stream",
          "name": "stdout",
          "text": [
            "Data object that wraps (.data):\n",
            "AnnData object with n_obs × n_vars = 2746 × 20670\n",
            "    uns: 'dance_config'\n",
            "    obsm: 'Group'\n"
          ]
        }
      ]
    },
    {
      "cell_type": "code",
      "source": [
        "dataset = ScDeepSortDataset(species=\"mouse\", tissue=\"Brain\",\n",
        "                            train_dataset=[\"3285\", \"753\"], test_dataset=[\"2695\"])\n",
        "data = dataset.load_data()\n",
        "print(data)"
      ],
      "metadata": {
        "colab": {
          "base_uri": "https://localhost:8080/"
        },
        "id": "00_UOrqlrA_6",
        "outputId": "d876e8b8-e635-4b1b-87df-62d145915370"
      },
      "execution_count": null,
      "outputs": [
        {
          "output_type": "stream",
          "name": "stderr",
          "text": [
            "[INFO][2023-06-24 13:53:00,958][dance][_load_dfs] Loading data from ./train/mouse/mouse_Brain3285_data.csv\n",
            "[INFO][2023-06-24 13:53:11,916][dance][_load_dfs] Loading data from ./train/mouse/mouse_Brain753_data.csv\n",
            "[INFO][2023-06-24 13:53:14,119][dance][_load_dfs] Loading data from ./test/mouse/mouse_Brain2695_data.csv\n",
            "[INFO][2023-06-24 13:53:23,130][dance][_load_dfs] Loading data from ./train/mouse/mouse_Brain3285_celltype.csv\n",
            "[INFO][2023-06-24 13:53:23,151][dance][_load_dfs] Loading data from ./train/mouse/mouse_Brain753_celltype.csv\n",
            "[INFO][2023-06-24 13:53:23,161][dance][_load_dfs] Loading data from ./test/mouse/mouse_Brain2695_celltype.csv\n",
            "[INFO][2023-06-24 13:53:26,847][dance][_load_raw_data] Loaded expression data: AnnData object with n_obs × n_vars = 6733 × 19856\n",
            "[INFO][2023-06-24 13:53:26,848][dance][_load_raw_data] Number of training samples: 4,038\n",
            "[INFO][2023-06-24 13:53:26,852][dance][_load_raw_data] Number of testing samples: 2,695\n",
            "[INFO][2023-06-24 13:53:26,855][dance][_load_raw_data] Cell-types (n=11):\n",
            "['Astrocyte',\n",
            " 'Astroglial cell',\n",
            " 'Granulocyte',\n",
            " 'Hypothalamic ependymal cell',\n",
            " 'Macrophage',\n",
            " 'Microglia',\n",
            " 'Myelinating oligodendrocyte',\n",
            " 'Neuron',\n",
            " 'Oligodendrocyte precursor cell',\n",
            " 'Pan-GABAergic',\n",
            " 'Schwann cell']\n",
            "[INFO][2023-06-24 13:53:26,881][dance][load_data] Raw data loaded:\n",
            "Data object that wraps (.data):\n",
            "AnnData object with n_obs × n_vars = 6733 × 19856\n",
            "    uns: 'dance_config'\n",
            "    obsm: 'cell_type'\n",
            "[INFO][2023-06-24 13:53:26,882][dance][wrapped_func] Took 0:00:25.924807 to load and process data.\n"
          ]
        },
        {
          "output_type": "stream",
          "name": "stdout",
          "text": [
            "Data object that wraps (.data):\n",
            "AnnData object with n_obs × n_vars = 6733 × 19856\n",
            "    uns: 'dance_config'\n",
            "    obsm: 'cell_type'\n"
          ]
        }
      ]
    },
    {
      "cell_type": "markdown",
      "source": [
        "### 2.2. A quick primer on AnnData\n",
        "\n",
        "<img\n",
        "  src=\"https://raw.githubusercontent.com/scverse/anndata/main/docs/_static/img/anndata_schema.svg\"\n",
        "  align=\"right\" width=\"450\" alt=\"image\"\n",
        "/>\n",
        "\n",
        "The [dance data object](https://github.com/OmicsML/dance/blob/912405cb5ab43caf16eb22b9216865c7e3976eaf/dance/data/base.py#L40) is heavily built on top of [AnnData](https://anndata.readthedocs.io/en/latest/), which is a widely used data object to represent, store, and manipulate large annotated matrices.\n",
        "\n",
        "> anndata is a Python package for handling annotated data matrices in memory and on disk, positioned between pandas and xarray. anndata offers a broad range of computationally efficient features...\n",
        "\n",
        "AnnData falls into the ecosystem of scVerse, providing extra advantage and ease for handeling single-cell data using, for example, [Scanpy](https://scanpy.readthedocs.io/en/stable/)."
      ],
      "metadata": {
        "id": "cU0EHCYiLzou"
      }
    },
    {
      "cell_type": "code",
      "source": [
        "adata = data.data\n",
        "adata"
      ],
      "metadata": {
        "colab": {
          "base_uri": "https://localhost:8080/"
        },
        "id": "glGCQdF0Lx5K",
        "outputId": "99b6cfdb-d108-4f46-e41a-8ba86452a5b1"
      },
      "execution_count": null,
      "outputs": [
        {
          "output_type": "execute_result",
          "data": {
            "text/plain": [
              "AnnData object with n_obs × n_vars = 2746 × 20670\n",
              "    uns: 'dance_config'\n",
              "    obsm: 'Group'"
            ]
          },
          "metadata": {},
          "execution_count": 8
        }
      ]
    },
    {
      "cell_type": "code",
      "source": [
        "adata.X"
      ],
      "metadata": {
        "colab": {
          "base_uri": "https://localhost:8080/"
        },
        "id": "yJYYK4ZFLxtt",
        "outputId": "35f0433e-a5b6-4690-cf0d-a92b7b79c0b0"
      },
      "execution_count": null,
      "outputs": [
        {
          "output_type": "execute_result",
          "data": {
            "text/plain": [
              "array([[0., 0., 0., ..., 0., 0., 0.],\n",
              "       [0., 0., 0., ..., 0., 0., 0.],\n",
              "       [1., 0., 0., ..., 0., 0., 0.],\n",
              "       ...,\n",
              "       [0., 0., 0., ..., 0., 0., 0.],\n",
              "       [0., 0., 0., ..., 0., 0., 0.],\n",
              "       [0., 0., 0., ..., 0., 0., 0.]], dtype=float32)"
            ]
          },
          "metadata": {},
          "execution_count": 9
        }
      ]
    },
    {
      "cell_type": "code",
      "source": [
        "adata.obsm[\"Group\"]"
      ],
      "metadata": {
        "colab": {
          "base_uri": "https://localhost:8080/"
        },
        "id": "O5R2Rh_hLxim",
        "outputId": "e039a391-f395-4023-ad27-af83c101cacf"
      },
      "execution_count": null,
      "outputs": [
        {
          "output_type": "execute_result",
          "data": {
            "text/plain": [
              "array([ 1,  5, 16, ..., 10,  1,  6], dtype=int32)"
            ]
          },
          "metadata": {},
          "execution_count": 12
        }
      ]
    },
    {
      "cell_type": "markdown",
      "source": [
        "### 2.3. Data pre-processing using transforms\n",
        "\n",
        "Applying individual in-place transformations to data\n"
      ],
      "metadata": {
        "id": "0ytH_-HIrNHx"
      }
    },
    {
      "cell_type": "code",
      "source": [
        "import scanpy as sc\n",
        "\n",
        "from dance.transforms import AnnDataTransform, FilterGenesPercentile\n",
        "\n",
        "# Reload data\n",
        "data = dataset.load_data()\n",
        "\n",
        "# Library size normalization\n",
        "AnnDataTransform(sc.pp.normalize_total, target_sum=1e-4)(data)\n",
        "\n",
        "# Shifted log transformation\n",
        "AnnDataTransform(sc.pp.log1p)(data)\n",
        "\n",
        "# Filter out genes that have extreme coefficient of variation\n",
        "FilterGenesPercentile(min_val=1, max_val=99, mode=\"sum\")(data)"
      ],
      "metadata": {
        "colab": {
          "base_uri": "https://localhost:8080/"
        },
        "id": "GfBLRhppo_41",
        "outputId": "95b9f9e6-ea37-47ca-83dc-56a46e4ae9ad"
      },
      "execution_count": null,
      "outputs": [
        {
          "output_type": "stream",
          "name": "stdout",
          "text": [
            "WARNING: adata.X seems to be already log-transformed.\n"
          ]
        }
      ]
    },
    {
      "cell_type": "markdown",
      "source": [
        "Composing transformations into a a pre-precoessing pipeline (feat. caching)"
      ],
      "metadata": {
        "id": "2St8ISsAr1_M"
      }
    },
    {
      "cell_type": "code",
      "source": [
        "from dance.transforms import Compose\n",
        "\n",
        "preprocessing_pipeline = Compose(\n",
        "    AnnDataTransform(sc.pp.normalize_total, target_sum=1e-4),\n",
        "    AnnDataTransform(sc.pp.log1p),\n",
        "    FilterGenesPercentile(min_val=1, max_val=99, mode=\"sum\"),\n",
        ")\n",
        "\n",
        "# Now we can apply the preprocessing pipeline transformation to our data\n",
        "data = dataset.load_data()\n",
        "preprocessing_pipeline(data)\n",
        "\n",
        "# Alternatively, we can also pass the transformation to the loading function\n",
        "data = dataset.load_data(transform=preprocessing_pipeline)"
      ],
      "metadata": {
        "colab": {
          "base_uri": "https://localhost:8080/"
        },
        "id": "NEhY1hTRo_nh",
        "outputId": "e26ac25c-4b72-4287-f509-dde1ecd788f8"
      },
      "execution_count": null,
      "outputs": [
        {
          "output_type": "stream",
          "name": "stderr",
          "text": [
            "[INFO][2023-06-24 11:54:34,794][dance][load_data] Raw data loaded:\n",
            "Data object that wraps (.data):\n",
            "AnnData object with n_obs × n_vars = 2746 × 20670\n",
            "    uns: 'dance_config'\n",
            "    obsm: 'Group'\n",
            "[INFO][2023-06-24 11:54:34,795][dance][wrapped_func] Took 0:00:00.827345 to load and process data.\n"
          ]
        }
      ]
    },
    {
      "cell_type": "code",
      "source": [
        "data = dataset.load_data(transform=preprocessing_pipeline, cache=True)"
      ],
      "metadata": {
        "colab": {
          "base_uri": "https://localhost:8080/"
        },
        "id": "9L8DaBvnuRLH",
        "outputId": "d8a46f0d-6a4f-4709-d095-699e7b1fb09c"
      },
      "execution_count": null,
      "outputs": [
        {
          "output_type": "stream",
          "name": "stderr",
          "text": [
            "[INFO][2023-06-24 11:54:46,010][dance][load_data] Raw data loaded:\n",
            "Data object that wraps (.data):\n",
            "AnnData object with n_obs × n_vars = 2746 × 20670\n",
            "    uns: 'dance_config'\n",
            "    obsm: 'Group'\n",
            "[INFO][2023-06-24 11:54:47,141][dance][load_data] Data transformed:\n",
            "Data object that wraps (.data):\n",
            "AnnData object with n_obs × n_vars = 2746 × 20463\n",
            "    uns: 'dance_config', 'log1p'\n",
            "    obsm: 'Group'\n",
            "[INFO][2023-06-24 11:54:48,140][dance][load_data] Saved processed data to cache: /content/pydance/10X_PBMC/cache/97d10b6e54d74aff33617925c4696e31.pkl\n",
            "[INFO][2023-06-24 11:54:48,141][dance][wrapped_func] Took 0:00:03.182861 to load and process data.\n"
          ]
        }
      ]
    },
    {
      "cell_type": "markdown",
      "source": [
        "## Single modality tasks\n",
        "\n",
        "- Example:\n",
        "  - Main: Cell Type Annotation\n",
        "  - ..."
      ],
      "metadata": {
        "id": "mkvsZ3K7YSV5"
      }
    },
    {
      "cell_type": "code",
      "source": [
        "import argparse\n",
        "import pprint\n",
        "from typing import get_args\n",
        "\n",
        "import numpy as np\n",
        "\n",
        "from dance import logger\n",
        "from dance.datasets.singlemodality import ScDeepSortDataset\n",
        "from dance.modules.single_modality.cell_type_annotation.actinn import ACTINN\n",
        "from dance.typing import LogLevel\n",
        "\n",
        "if __name__ == \"__main__\":\n",
        "    parser = argparse.ArgumentParser(formatter_class=argparse.ArgumentDefaultsHelpFormatter)\n",
        "    parser.add_argument(\"--batch_size\", type=int, default=1024, help=\"Batch size\")\n",
        "    parser.add_argument(\"--cache\", action=\"store_true\", help=\"Cache processed data.\")\n",
        "    parser.add_argument(\"--device\", default=\"cpu\", help=\"Computation device.\")\n",
        "    parser.add_argument(\"--hidden_dims\", nargs=\"+\", type=int, default=[2000], help=\"Hidden dimensions.\")\n",
        "    parser.add_argument(\"--lambd\", type=float, default=0.01, help=\"Regularization parameter\")\n",
        "    parser.add_argument(\"--learning_rate\", type=float, default=0.001, help=\"Learning rate\")\n",
        "    parser.add_argument(\"--log_level\", type=str, default=\"INFO\", choices=get_args(LogLevel))\n",
        "    parser.add_argument(\"--nofilter\", action=\"store_true\", help=\"Disable filtering genes by expression summaries.\")\n",
        "    parser.add_argument(\n",
        "        \"--normalize\", action=\"store_true\", help=\"Whether to perform the normalization described in ACTINN. \"\n",
        "        \"Disabled by default since the scDeepSort data is already normalized\")\n",
        "    parser.add_argument(\"--num_epochs\", type=int, default=50, help=\"Number of epochs\")\n",
        "    parser.add_argument(\"--print_cost\", action=\"store_true\", help=\"Print cost when training\")\n",
        "    parser.add_argument(\"--runs\", type=int, default=10, help=\"Number of repetitions\")\n",
        "    parser.add_argument(\"--seed\", type=int, default=0, help=\"Initial seed random, offset for each repeatition\")\n",
        "    parser.add_argument(\"--species\", default=\"mouse\")\n",
        "    parser.add_argument(\"--test_dataset\", nargs=\"+\", default=[1759], help=\"List of testing dataset ids.\")\n",
        "    parser.add_argument(\"--tissue\", default=\"Spleen\")\n",
        "    parser.add_argument(\"--train_dataset\", nargs=\"+\", default=[1970], help=\"List of training dataset ids.\")\n",
        "\n",
        "    args = parser.parse_args()\n",
        "    logger.setLevel(args.log_level)\n",
        "    logger.info(f\"Running SVM with the following parameters:\\n{pprint.pformat(vars(args))}\")\n",
        "\n",
        "    # Initialize model and get model specific preprocessing pipeline\n",
        "    model = ACTINN(hidden_dims=args.hidden_dims, lambd=args.lambd, device=args.device)\n",
        "    preprocessing_pipeline = model.preprocessing_pipeline(normalize=args.normalize, filter_genes=not args.nofilter)\n",
        "\n",
        "    # Load data and perform necessary preprocessing\n",
        "    dataloader = ScDeepSortDataset(train_dataset=args.train_dataset, test_dataset=args.test_dataset, tissue=args.tissue,\n",
        "                                   species=args.species)\n",
        "    data = dataloader.load_data(transform=preprocessing_pipeline, cache=args.cache)\n",
        "\n",
        "    # Obtain training and testing data\n",
        "    x_train, y_train = data.get_train_data(return_type=\"torch\")\n",
        "    x_test, y_test = data.get_test_data(return_type=\"torch\")\n",
        "\n",
        "    # Train and evaluate models for several rounds\n",
        "    scores = []\n",
        "    for k in range(args.runs):\n",
        "        model.fit(x_train, y_train, seed=args.seed + k, lr=args.learning_rate, num_epochs=args.num_epochs,\n",
        "                  batch_size=args.batch_size, print_cost=args.print_cost)\n",
        "        scores.append(score := model.score(x_test, y_test))\n",
        "        print(f\"{score=:.4f}\")\n",
        "    print(f\"Score: {np.mean(scores):04.3f} +/- {np.std(scores):04.3f}\")"
      ],
      "metadata": {
        "id": "_AxGb2VQYKa9"
      },
      "execution_count": null,
      "outputs": []
    },
    {
      "cell_type": "markdown",
      "source": [
        "## Multi-modality tasks\n",
        "- Example: Modality prediction\n"
      ],
      "metadata": {
        "id": "fbR8kJOFYeNd"
      }
    },
    {
      "cell_type": "code",
      "source": [],
      "metadata": {
        "id": "AZRiCdfUYKjn"
      },
      "execution_count": null,
      "outputs": []
    },
    {
      "cell_type": "markdown",
      "source": [
        "## Spatial transcriptomics tasks\n",
        "- Example: Spatial domain\n"
      ],
      "metadata": {
        "id": "5GtfjouMYnhu"
      }
    },
    {
      "cell_type": "markdown",
      "source": [
        "### Argument parsing setting"
      ],
      "metadata": {
        "id": "xp_z_b06g5_2"
      }
    },
    {
      "cell_type": "code",
      "source": [
        "import argparse\n",
        "from dance.transforms import Compose\n",
        "from dance.datasets.spatial import SpatialLIBDDataset\n",
        "from dance.modules.spatial.spatial_domain.spagcn import SpaGCN, refine\n",
        "from dance.utils import set_seed\n",
        "from dance.transforms import AnnDataTransform, CellPCA, Compose, FilterGenesMatch, SetConfig\n",
        "from dance.transforms.graph import SpaGCNGraph, SpaGCNGraph2D\n",
        "\n",
        "parser = argparse.ArgumentParser()\n",
        "parser.add_argument(\"-f\", required=False)\n",
        "\n",
        "parser.add_argument(\"--cache\", action=\"store_true\", help=\"Cache processed data.\")\n",
        "parser.add_argument(\"--sample_number\", type=str, default=\"151673\",\n",
        "                    help=\"12 human dorsolateral prefrontal cortex datasets for the spatial domain task.\")\n",
        "parser.add_argument(\"--beta\", type=int, default=49, help=\"\")\n",
        "parser.add_argument(\"--alpha\", type=int, default=1, help=\"\")\n",
        "parser.add_argument(\"--p\", type=float, default=0.05,\n",
        "                    help=\"percentage of total expression contributed by neighborhoods.\")\n",
        "parser.add_argument(\"--l\", type=float, default=0.5, help=\"the parameter to control percentage p.\")\n",
        "parser.add_argument(\"--start\", type=float, default=0.01, help=\"starting value for searching l.\")\n",
        "parser.add_argument(\"--end\", type=float, default=1000, help=\"ending value for searching l.\")\n",
        "parser.add_argument(\"--tol\", type=float, default=5e-3, help=\"tolerant value for searching l.\")\n",
        "parser.add_argument(\"--max_run\", type=int, default=200, help=\"max runs.\")\n",
        "parser.add_argument(\"--epochs\", type=int, default=200, help=\"Number of epochs.\")\n",
        "parser.add_argument(\"--n_clusters\", type=int, default=7, help=\"the number of clusters\")\n",
        "parser.add_argument(\"--step\", type=float, default=0.1, help=\"\")\n",
        "parser.add_argument(\"--lr\", type=float, default=0.05, help=\"learning rate\")\n",
        "parser.add_argument(\"--random_state\", type=int, default=100, help=\"\")\n",
        "args = parser.parse_args()\n",
        "set_seed(args.random_state)"
      ],
      "metadata": {
        "id": "9Cvb5p3fYKoL",
        "outputId": "5bf09e5a-893b-4e1c-ebe8-d13fffc05fc1",
        "colab": {
          "base_uri": "https://localhost:8080/"
        }
      },
      "execution_count": null,
      "outputs": [
        {
          "output_type": "stream",
          "name": "stderr",
          "text": [
            "[INFO][2023-06-24 03:54:36,167][dance][set_seed] Setting global random seed to 100\n"
          ]
        }
      ]
    },
    {
      "cell_type": "markdown",
      "source": [
        "### Initialize model and get model specific preprocessing *pipeline*"
      ],
      "metadata": {
        "id": "gsNEeY9Ahw0g"
      }
    },
    {
      "cell_type": "code",
      "source": [
        "model = SpaGCN()\n",
        "preprocessing_pipeline = model.preprocessing_pipeline(alpha=args.alpha, beta=args.beta) # In SpaGCN, alpha and beta are used for graph construction\n"
      ],
      "metadata": {
        "id": "ZhOR4klKYKq2"
      },
      "execution_count": null,
      "outputs": []
    },
    {
      "cell_type": "markdown",
      "source": [
        "### User defined customized trasform"
      ],
      "metadata": {
        "id": "m3qzdR9Kh4EC"
      }
    },
    {
      "cell_type": "code",
      "source": [
        "preprocessing_pipeline = Compose(\n",
        "    FilterGenesMatch(prefixes=[\"ERCC\", \"MT-\"]),\n",
        "    SpaGCNGraph(alpha=1, beta=49),\n",
        "    SpaGCNGraph2D(),\n",
        "    CellPCA(n_components=40),\n",
        "    SetConfig({\n",
        "        \"feature_channel\": [\"CellPCA\", \"SpaGCNGraph\", \"SpaGCNGraph2D\"],\n",
        "        \"feature_channel_type\": [\"obsm\", \"obsp\", \"obsp\"],\n",
        "        \"label_channel\": \"label\",\n",
        "        \"label_channel_type\": \"obs\"\n",
        "    }),\n",
        "    )"
      ],
      "metadata": {
        "id": "haGT8iVRYKtX"
      },
      "execution_count": null,
      "outputs": []
    },
    {
      "cell_type": "markdown",
      "source": [
        "### Load data and perform necessary preprocessing"
      ],
      "metadata": {
        "id": "mbdzs2ubh6h2"
      }
    },
    {
      "cell_type": "code",
      "source": [
        "dataloader = SpatialLIBDDataset(data_id=args.sample_number)\n",
        "data = dataloader.load_data(transform=preprocessing_pipeline, cache=args.cache)\n",
        "(x, adj, adj_2d), y = data.get_train_data()"
      ],
      "metadata": {
        "id": "KjRDIVb2YKvp",
        "colab": {
          "base_uri": "https://localhost:8080/"
        },
        "outputId": "2b1a7a73-1ce9-428d-addc-1f829b7126d6"
      },
      "execution_count": null,
      "outputs": [
        {
          "output_type": "stream",
          "name": "stderr",
          "text": [
            "[INFO][2023-06-24 03:54:37,850][dance][_load_raw_data] Loading image data from data/spatial/151673/151673_full_image.tif\n",
            "[INFO][2023-06-24 03:54:38,829][dance][_load_raw_data] Loading expression data from data/spatial/151673/151673_raw_feature_bc_matrix.h5\n",
            "/usr/local/lib/python3.10/dist-packages/anndata/_core/anndata.py:1832: UserWarning: Variable names are not unique. To make them unique, call `.var_names_make_unique`.\n",
            "  utils.warn_names_duplicates(\"var\")\n",
            "[INFO][2023-06-24 03:54:39,428][dance][_load_raw_data] Loading spatial info from data/spatial/151673/tissue_positions_list.txt\n",
            "[INFO][2023-06-24 03:54:39,441][dance][_load_raw_data] Loading label info from data/spatial/151673/cluster_labels.csv\n",
            "/usr/local/lib/python3.10/dist-packages/anndata/_core/anndata.py:1832: UserWarning: Variable names are not unique. To make them unique, call `.var_names_make_unique`.\n",
            "  utils.warn_names_duplicates(\"var\")\n",
            "[INFO][2023-06-24 03:54:39,514][dance][load_data] Raw data loaded:\n",
            "Data object that wraps (.data):\n",
            "AnnData object with n_obs × n_vars = 3639 × 33538\n",
            "    obs: 'key', 'ground_truth', 'SpatialDE_PCA', 'SpatialDE_pool_PCA', 'HVG_PCA', 'pseudobulk_PCA', 'markers_PCA', 'SpatialDE_UMAP', 'SpatialDE_pool_UMAP', 'HVG_UMAP', 'pseudobulk_UMAP', 'markers_UMAP', 'SpatialDE_PCA_spatial', 'SpatialDE_pool_PCA_spatial', 'HVG_PCA_spatial', 'pseudobulk_PCA_spatial', 'markers_PCA_spatial', 'SpatialDE_UMAP_spatial', 'SpatialDE_pool_UMAP_spatial', 'HVG_UMAP_spatial', 'pseudobulk_UMAP_spatial', 'markers_UMAP_spatial', 'label'\n",
            "    var: 'gene_ids', 'feature_types', 'genome'\n",
            "    uns: 'image', 'dance_config'\n",
            "    obsm: 'spatial', 'spatial_pixel'\n",
            "[INFO][2023-06-24 03:54:48,562][dance][set_config_from_dict] Setting config 'feature_channel' to ['CellPCA', 'SpaGCNGraph', 'SpaGCNGraph2D']\n",
            "[INFO][2023-06-24 03:54:48,564][dance][set_config_from_dict] Setting config 'feature_channel_type' to ['obsm', 'obsp', 'obsp']\n",
            "[INFO][2023-06-24 03:54:48,567][dance][set_config_from_dict] Setting config 'label_channel' to 'label'\n",
            "[INFO][2023-06-24 03:54:48,569][dance][set_config_from_dict] Setting config 'label_channel_type' to 'obs'\n",
            "[INFO][2023-06-24 03:54:48,571][dance][load_data] Data transformed:\n",
            "Data object that wraps (.data):\n",
            "AnnData object with n_obs × n_vars = 3639 × 33516\n",
            "    obs: 'key', 'ground_truth', 'SpatialDE_PCA', 'SpatialDE_pool_PCA', 'HVG_PCA', 'pseudobulk_PCA', 'markers_PCA', 'SpatialDE_UMAP', 'SpatialDE_pool_UMAP', 'HVG_UMAP', 'pseudobulk_UMAP', 'markers_UMAP', 'SpatialDE_PCA_spatial', 'SpatialDE_pool_PCA_spatial', 'HVG_PCA_spatial', 'pseudobulk_PCA_spatial', 'markers_PCA_spatial', 'SpatialDE_UMAP_spatial', 'SpatialDE_pool_UMAP_spatial', 'HVG_UMAP_spatial', 'pseudobulk_UMAP_spatial', 'markers_UMAP_spatial', 'label'\n",
            "    var: 'gene_ids', 'feature_types', 'genome'\n",
            "    uns: 'image', 'dance_config'\n",
            "    obsm: 'spatial', 'spatial_pixel', 'CellPCA'\n",
            "    obsp: 'SpaGCNGraph', 'SpaGCNGraph2D'\n",
            "[INFO][2023-06-24 03:54:48,573][dance][wrapped_func] Took 0:00:10.722856 to load and process data.\n"
          ]
        }
      ]
    },
    {
      "cell_type": "code",
      "source": [
        "data"
      ],
      "metadata": {
        "id": "NK9OSycdYKxx",
        "colab": {
          "base_uri": "https://localhost:8080/"
        },
        "outputId": "b659a91a-3311-40f3-e3ac-1a808059eed3"
      },
      "execution_count": null,
      "outputs": [
        {
          "output_type": "execute_result",
          "data": {
            "text/plain": [
              "Data object that wraps (.data):\n",
              "AnnData object with n_obs × n_vars = 3639 × 33516\n",
              "    obs: 'key', 'ground_truth', 'SpatialDE_PCA', 'SpatialDE_pool_PCA', 'HVG_PCA', 'pseudobulk_PCA', 'markers_PCA', 'SpatialDE_UMAP', 'SpatialDE_pool_UMAP', 'HVG_UMAP', 'pseudobulk_UMAP', 'markers_UMAP', 'SpatialDE_PCA_spatial', 'SpatialDE_pool_PCA_spatial', 'HVG_PCA_spatial', 'pseudobulk_PCA_spatial', 'markers_PCA_spatial', 'SpatialDE_UMAP_spatial', 'SpatialDE_pool_UMAP_spatial', 'HVG_UMAP_spatial', 'pseudobulk_UMAP_spatial', 'markers_UMAP_spatial', 'label'\n",
              "    var: 'gene_ids', 'feature_types', 'genome'\n",
              "    uns: 'image', 'dance_config'\n",
              "    obsm: 'spatial', 'spatial_pixel', 'CellPCA'\n",
              "    obsp: 'SpaGCNGraph', 'SpaGCNGraph2D'"
            ]
          },
          "metadata": {},
          "execution_count": 17
        }
      ]
    },
    {
      "cell_type": "code",
      "source": [
        "data.data.obsp[\"SpaGCNGraph\"].shape"
      ],
      "metadata": {
        "id": "K5EWgciBYK0C",
        "colab": {
          "base_uri": "https://localhost:8080/"
        },
        "outputId": "c16efa29-c529-434a-f94d-035f8e2ddf93"
      },
      "execution_count": null,
      "outputs": [
        {
          "output_type": "execute_result",
          "data": {
            "text/plain": [
              "(3639, 3639)"
            ]
          },
          "metadata": {},
          "execution_count": 18
        }
      ]
    },
    {
      "cell_type": "code",
      "source": [
        "data.x[0].shape"
      ],
      "metadata": {
        "id": "XZlUiZ7fU6bt",
        "colab": {
          "base_uri": "https://localhost:8080/"
        },
        "outputId": "0dc654bc-2e1d-4180-a0ea-c88ac8a3fa34"
      },
      "execution_count": null,
      "outputs": [
        {
          "output_type": "execute_result",
          "data": {
            "text/plain": [
              "(3639, 40)"
            ]
          },
          "metadata": {},
          "execution_count": 19
        }
      ]
    },
    {
      "cell_type": "code",
      "source": [
        "data.x[1].shape"
      ],
      "metadata": {
        "id": "QnEt9RriU57S",
        "colab": {
          "base_uri": "https://localhost:8080/"
        },
        "outputId": "59126e01-2859-41aa-dd72-7bc91c27cad4"
      },
      "execution_count": null,
      "outputs": [
        {
          "output_type": "execute_result",
          "data": {
            "text/plain": [
              "(3639, 3639)"
            ]
          },
          "metadata": {},
          "execution_count": 20
        }
      ]
    },
    {
      "cell_type": "code",
      "source": [
        "data.x[1].shape"
      ],
      "metadata": {
        "colab": {
          "base_uri": "https://localhost:8080/"
        },
        "id": "jF0_6faYiJpg",
        "outputId": "47bc2d87-e705-4e2d-e8b1-9f7257b2ad15"
      },
      "execution_count": null,
      "outputs": [
        {
          "output_type": "execute_result",
          "data": {
            "text/plain": [
              "(3639, 3639)"
            ]
          },
          "metadata": {},
          "execution_count": 21
        }
      ]
    },
    {
      "cell_type": "markdown",
      "source": [
        "### Train and evaluate model"
      ],
      "metadata": {
        "id": "GJWRWs0DiMBm"
      }
    },
    {
      "cell_type": "code",
      "source": [
        "l = model.search_l(args.p, adj, start=args.start, end=args.end, tol=args.tol, max_run=args.max_run)\n",
        "model.set_l(l)\n",
        "res = model.search_set_res((x, adj), l=l, target_num=args.n_clusters, start=0.4, step=args.step, tol=args.tol, lr=args.lr, epochs=args.epochs, max_run=args.max_run)"
      ],
      "metadata": {
        "colab": {
          "base_uri": "https://localhost:8080/"
        },
        "id": "DKK8se_riJtK",
        "outputId": "1e9fa538-cedf-45ae-cfcd-f6d5d48999c4"
      },
      "execution_count": null,
      "outputs": [
        {
          "output_type": "stream",
          "name": "stderr",
          "text": [
            "[INFO][2023-06-24 03:54:48,962][dance][search_l] Run 1: l [0.01, 1000], p [0.0, 3629.7406229057055]\n",
            "[INFO][2023-06-24 03:54:49,019][dance][search_l] Run 2: l [0.01, 500.005], p [0.0, 3605.191650390625]\n",
            "[INFO][2023-06-24 03:54:49,074][dance][search_l] Run 3: l [0.01, 250.0075], p [0.0, 3510.283935546875]\n",
            "[INFO][2023-06-24 03:54:49,129][dance][search_l] Run 4: l [0.01, 125.00874999999999], p [0.0, 3176.004150390625]\n",
            "[INFO][2023-06-24 03:54:49,182][dance][search_l] Run 5: l [0.01, 62.509375], p [0.0, 2292.207275390625]\n",
            "[INFO][2023-06-24 03:54:49,236][dance][search_l] Run 6: l [0.01, 31.2596875], p [0.0, 1045.6600341796875]\n",
            "[INFO][2023-06-24 03:54:49,292][dance][search_l] Run 7: l [0.01, 15.63484375], p [0.0, 292.86767578125]\n",
            "[INFO][2023-06-24 03:54:49,369][dance][search_l] Run 8: l [0.01, 7.822421875], p [0.0, 59.20479965209961]\n",
            "[INFO][2023-06-24 03:54:49,464][dance][search_l] Run 9: l [0.01, 3.9162109375], p [0.0, 9.6504545211792]\n",
            "[INFO][2023-06-24 03:54:49,546][dance][search_l] Run 10: l [0.01, 1.9631054687499998], p [0.0, 1.3308384418487549]\n",
            "[INFO][2023-06-24 03:54:49,605][dance][search_l] Run 11: l [0.01, 0.9865527343749999], p [0.0, 0.13487112522125244]\n",
            "[INFO][2023-06-24 03:54:49,661][dance][search_l] Run 12: l [0.49827636718749996, 0.9865527343749999], p [0.002484917640686035, 0.13487112522125244]\n",
            "[INFO][2023-06-24 03:54:49,720][dance][search_l] Run 13: l [0.74241455078125, 0.9865527343749999], p [0.03829240798950195, 0.13487112522125244]\n",
            "[INFO][2023-06-24 03:54:49,781][dance][search_l] Run 14: l [0.74241455078125, 0.8644836425781249], p [0.03829240798950195, 0.07849884033203125]\n",
            "[INFO][2023-06-24 03:54:49,839][dance][search_l] Run 15: l [0.74241455078125, 0.8034490966796874], p [0.03829240798950195, 0.05641937255859375]\n",
            "[INFO][2023-06-24 03:54:49,896][dance][search_l] recommended l: 0.7729318237304688\n",
            "[INFO][2023-06-24 03:54:49,898][dance][search_set_res] Start at res = 0.4000, step = 0.1000\n",
            "[INFO][2023-06-24 03:54:49,987][dance][fit] Initializing cluster centers with louvain, resolution = 0.4\n",
            "[INFO][2023-06-24 03:54:50,684][dance][fit] Epoch 0\n",
            "[INFO][2023-06-24 03:54:51,474][dance][fit] Epoch 10\n",
            "[INFO][2023-06-24 03:54:52,248][dance][fit] Epoch 20\n",
            "[INFO][2023-06-24 03:54:53,063][dance][fit] Epoch 30\n",
            "[INFO][2023-06-24 03:54:53,821][dance][fit] Epoch 40\n",
            "[INFO][2023-06-24 03:54:54,597][dance][fit] Epoch 50\n",
            "[INFO][2023-06-24 03:54:55,663][dance][fit] Epoch 60\n",
            "[INFO][2023-06-24 03:54:56,695][dance][fit] Epoch 70\n",
            "[INFO][2023-06-24 03:54:57,730][dance][fit] delta_label 0.004671613080516625 < tol 0.005\n",
            "[INFO][2023-06-24 03:54:57,733][dance][fit] Reach tolerance threshold. Stopping training.\n",
            "[INFO][2023-06-24 03:54:57,738][dance][fit] Total epoch: 79\n",
            "[INFO][2023-06-24 03:54:57,852][dance][search_set_res] Res = 0.4000, Num of clusters = 6\n",
            "[INFO][2023-06-24 03:54:57,963][dance][fit] Initializing cluster centers with louvain, resolution = 0.5\n",
            "[INFO][2023-06-24 03:54:59,038][dance][fit] Epoch 0\n",
            "[INFO][2023-06-24 03:55:00,055][dance][fit] Epoch 10\n",
            "[INFO][2023-06-24 03:55:01,068][dance][fit] Epoch 20\n",
            "[INFO][2023-06-24 03:55:02,122][dance][fit] Epoch 30\n",
            "[INFO][2023-06-24 03:55:02,954][dance][fit] Epoch 40\n",
            "[INFO][2023-06-24 03:55:03,738][dance][fit] Epoch 50\n",
            "[INFO][2023-06-24 03:55:04,560][dance][fit] Epoch 60\n",
            "[INFO][2023-06-24 03:55:05,339][dance][fit] Epoch 70\n",
            "[INFO][2023-06-24 03:55:06,119][dance][fit] Epoch 80\n",
            "[INFO][2023-06-24 03:55:06,923][dance][fit] Epoch 90\n",
            "[INFO][2023-06-24 03:55:07,717][dance][fit] Epoch 100\n",
            "[INFO][2023-06-24 03:55:08,262][dance][fit] delta_label 0.0038472107721901623 < tol 0.005\n",
            "[INFO][2023-06-24 03:55:08,263][dance][fit] Reach tolerance threshold. Stopping training.\n",
            "[INFO][2023-06-24 03:55:08,265][dance][fit] Total epoch: 106\n",
            "[INFO][2023-06-24 03:55:08,358][dance][search_set_res] Res = 5.000e-01, Num of clusters = 7\n",
            "[INFO][2023-06-24 03:55:08,359][dance][search_set_res] recommended res = 0.5000\n"
          ]
        }
      ]
    },
    {
      "cell_type": "code",
      "source": [
        "pred = model.fit_predict((x, adj), init_spa=True, init=\"louvain\", tol=args.tol, lr=args.lr, epochs=args.epochs, res=res)"
      ],
      "metadata": {
        "colab": {
          "base_uri": "https://localhost:8080/"
        },
        "id": "owQ_yvDIiJwo",
        "outputId": "19a40c13-7878-4a32-f0ef-66c5212ff318"
      },
      "execution_count": null,
      "outputs": [
        {
          "output_type": "stream",
          "name": "stderr",
          "text": [
            "[INFO][2023-06-24 03:55:08,464][dance][fit] Initializing cluster centers with louvain, resolution = 0.5\n",
            "[INFO][2023-06-24 03:55:09,035][dance][fit] Epoch 0\n",
            "[INFO][2023-06-24 03:55:09,828][dance][fit] Epoch 10\n",
            "[INFO][2023-06-24 03:55:10,645][dance][fit] Epoch 20\n",
            "[INFO][2023-06-24 03:55:11,466][dance][fit] Epoch 30\n",
            "[INFO][2023-06-24 03:55:12,259][dance][fit] Epoch 40\n",
            "[INFO][2023-06-24 03:55:13,291][dance][fit] Epoch 50\n",
            "[INFO][2023-06-24 03:55:14,394][dance][fit] Epoch 60\n",
            "[INFO][2023-06-24 03:55:14,578][dance][fit] delta_label 0.003572410002748008 < tol 0.005\n",
            "[INFO][2023-06-24 03:55:14,586][dance][fit] Reach tolerance threshold. Stopping training.\n",
            "[INFO][2023-06-24 03:55:14,588][dance][fit] Total epoch: 61\n"
          ]
        }
      ]
    },
    {
      "cell_type": "code",
      "source": [
        "score = model.default_score_func(y, pred)\n",
        "print(f\"ARI: {score:.4f}\")"
      ],
      "metadata": {
        "colab": {
          "base_uri": "https://localhost:8080/"
        },
        "id": "OBPkwWStiJz0",
        "outputId": "3200dea2-adc8-4998-ea7d-d94d10ac1068"
      },
      "execution_count": null,
      "outputs": [
        {
          "output_type": "stream",
          "name": "stdout",
          "text": [
            "ARI: 0.1610\n"
          ]
        }
      ]
    },
    {
      "cell_type": "code",
      "source": [],
      "metadata": {
        "id": "bypOsaj6iJ3q"
      },
      "execution_count": null,
      "outputs": []
    },
    {
      "cell_type": "code",
      "source": [],
      "metadata": {
        "id": "_RQn52W2iU_z"
      },
      "execution_count": null,
      "outputs": []
    },
    {
      "cell_type": "code",
      "source": [],
      "metadata": {
        "id": "I8noGMkAiVDO"
      },
      "execution_count": null,
      "outputs": []
    },
    {
      "cell_type": "code",
      "source": [],
      "metadata": {
        "id": "Q847M1_PiVGY"
      },
      "execution_count": null,
      "outputs": []
    },
    {
      "cell_type": "code",
      "source": [],
      "metadata": {
        "id": "oze8LGHGU4pb"
      },
      "execution_count": null,
      "outputs": []
    },
    {
      "cell_type": "code",
      "execution_count": null,
      "metadata": {
        "colab": {
          "base_uri": "https://localhost:8080/"
        },
        "id": "PFS334kgCPE-",
        "outputId": "575d32cd-509b-4cba-8e46-4fa28610ef74"
      },
      "outputs": [
        {
          "output_type": "stream",
          "name": "stdout",
          "text": [
            "--2023-04-26 00:41:11--  https://www.dropbox.com/sh/dg10o9wmfmd2cpi/AABWGBng2HeU3g14D1dD20Wia?dl=1\n",
            "Resolving www.dropbox.com (www.dropbox.com)... 162.125.3.18, 2620:100:6019:18::a27d:412\n",
            "Connecting to www.dropbox.com (www.dropbox.com)|162.125.3.18|:443... connected.\n",
            "HTTP request sent, awaiting response... 302 Found\n",
            "Location: /sh/dl/dg10o9wmfmd2cpi/AABWGBng2HeU3g14D1dD20Wia [following]\n",
            "--2023-04-26 00:41:11--  https://www.dropbox.com/sh/dl/dg10o9wmfmd2cpi/AABWGBng2HeU3g14D1dD20Wia\n",
            "Reusing existing connection to www.dropbox.com:443.\n",
            "HTTP request sent, awaiting response... 302 Found\n",
            "Location: https://uce2b20a115a81401477259fe87e.dl.dropboxusercontent.com/zip_download_get/BeTTrWzKtMmgllMt3wIwhg3LkPVcjYs2JS640oWG-k8aFWhtseSMjK70mncZtF_eoFztQuQuYTAaFnmSUM9fInGI51BDRgPwSuHEXHtS6OPPUA?dl=1# [following]\n",
            "--2023-04-26 00:41:12--  https://uce2b20a115a81401477259fe87e.dl.dropboxusercontent.com/zip_download_get/BeTTrWzKtMmgllMt3wIwhg3LkPVcjYs2JS640oWG-k8aFWhtseSMjK70mncZtF_eoFztQuQuYTAaFnmSUM9fInGI51BDRgPwSuHEXHtS6OPPUA?dl=1\n",
            "Resolving uce2b20a115a81401477259fe87e.dl.dropboxusercontent.com (uce2b20a115a81401477259fe87e.dl.dropboxusercontent.com)... 162.125.8.15, 2620:100:6018:15::a27d:30f\n",
            "Connecting to uce2b20a115a81401477259fe87e.dl.dropboxusercontent.com (uce2b20a115a81401477259fe87e.dl.dropboxusercontent.com)|162.125.8.15|:443... connected.\n",
            "HTTP request sent, awaiting response... 200 OK\n",
            "Length: 2358728087 (2.2G) [application/zip]\n",
            "Saving to: ‘openproblems.zip’\n",
            "\n",
            "openproblems.zip    100%[===================>]   2.20G   116MB/s    in 25s     \n",
            "\n",
            "2023-04-26 00:41:37 (90.6 MB/s) - ‘openproblems.zip’ saved [2358728087/2358728087]\n",
            "\n",
            "Archive:  openproblems.zip\n",
            "warning:  stripped absolute path spec from /\n",
            "mapname:  conversion of  failed\n",
            "replace Adt_processed_testing.h5ad? [y]es, [n]o, [A]ll, [N]one, [r]ename: "
          ]
        }
      ],
      "source": [
        "!wget https://www.dropbox.com/sh/dg10o9wmfmd2cpi/AABWGBng2HeU3g14D1dD20Wia?dl=1 -O openproblems.zip\n",
        "!unzip openproblems.zip"
      ]
    },
    {
      "cell_type": "code",
      "source": [
        "!git clone https://github.com/OmicsML/dance.git pydance\n",
        "!pip install torch_geometric\n",
        "!pip install packaging\n",
        "!pip install  dgl -f https://data.dgl.ai/wheels/cu117/repo.html\n",
        "!pip install  dglgo -f https://data.dgl.ai/wheels-test/repo.html\n",
        "!pip install -r /content/pydance/requirements.txt\n",
        "!pip install -e /content/pydance"
      ],
      "metadata": {
        "colab": {
          "base_uri": "https://localhost:8080/"
        },
        "id": "C_VSSbLeChPN",
        "outputId": "60f97022-e926-4550-8af2-cc5b31693373"
      },
      "execution_count": null,
      "outputs": [
        {
          "output_type": "stream",
          "name": "stdout",
          "text": [
            "fatal: destination path 'pydance' already exists and is not an empty directory.\n",
            "Looking in indexes: https://pypi.org/simple, https://us-python.pkg.dev/colab-wheels/public/simple/\n",
            "Requirement already satisfied: torch_geometric in /usr/local/lib/python3.9/dist-packages (2.3.0)\n",
            "Requirement already satisfied: requests in /usr/local/lib/python3.9/dist-packages (from torch_geometric) (2.28.2)\n",
            "Requirement already satisfied: scipy in /usr/local/lib/python3.9/dist-packages (from torch_geometric) (1.10.1)\n",
            "Requirement already satisfied: pyparsing in /usr/local/lib/python3.9/dist-packages (from torch_geometric) (3.0.9)\n",
            "Requirement already satisfied: tqdm in /usr/local/lib/python3.9/dist-packages (from torch_geometric) (4.65.0)\n",
            "Requirement already satisfied: scikit-learn in /usr/local/lib/python3.9/dist-packages (from torch_geometric) (1.2.2)\n",
            "Requirement already satisfied: numpy in /usr/local/lib/python3.9/dist-packages (from torch_geometric) (1.22.4)\n",
            "Requirement already satisfied: psutil>=5.8.0 in /usr/local/lib/python3.9/dist-packages (from torch_geometric) (5.9.5)\n",
            "Requirement already satisfied: jinja2 in /usr/local/lib/python3.9/dist-packages (from torch_geometric) (3.1.2)\n",
            "Requirement already satisfied: MarkupSafe>=2.0 in /usr/local/lib/python3.9/dist-packages (from jinja2->torch_geometric) (2.1.2)\n",
            "Requirement already satisfied: idna<4,>=2.5 in /usr/local/lib/python3.9/dist-packages (from requests->torch_geometric) (3.4)\n",
            "Requirement already satisfied: certifi>=2017.4.17 in /usr/local/lib/python3.9/dist-packages (from requests->torch_geometric) (2022.12.7)\n",
            "Requirement already satisfied: urllib3<1.27,>=1.21.1 in /usr/local/lib/python3.9/dist-packages (from requests->torch_geometric) (1.26.15)\n",
            "Requirement already satisfied: charset-normalizer<4,>=2 in /usr/local/lib/python3.9/dist-packages (from requests->torch_geometric) (2.0.12)\n",
            "Requirement already satisfied: threadpoolctl>=2.0.0 in /usr/local/lib/python3.9/dist-packages (from scikit-learn->torch_geometric) (3.1.0)\n",
            "Requirement already satisfied: joblib>=1.1.1 in /usr/local/lib/python3.9/dist-packages (from scikit-learn->torch_geometric) (1.2.0)\n"
          ]
        }
      ]
    },
    {
      "cell_type": "code",
      "source": [
        "import argparse\n",
        "import random\n",
        "import torch\n",
        "\n",
        "OPTIMIZER_DICT = {\n",
        "    \"adam\": torch.optim.Adam,\n",
        "    \"rmsprop\": torch.optim.RMSprop,\n",
        "}\n",
        "rndseed = random.randint(0, 2147483647)\n",
        "parser = argparse.ArgumentParser()\n",
        "parser.add_argument(\"-t\", \"--subtask\", default=\"openproblems_bmmc_cite_phase2_rna\")\n",
        "parser.add_argument(\"-device\", \"--device\", default=\"cuda\")\n",
        "parser.add_argument(\"-cpu\", \"--cpus\", default=1, type=int)\n",
        "parser.add_argument(\"-seed\", \"--rnd_seed\", default=rndseed, type=int)\n",
        "parser.add_argument(\"-m\", \"--model_folder\", default=\"./models\")\n",
        "parser.add_argument(\"--outdir\", \"-o\", default=\"./logs\", help=\"Directory to output to\")\n",
        "parser.add_argument(\"--lossweight\", type=float, default=1., help=\"Relative loss weight\")\n",
        "parser.add_argument(\"--lr\", \"-l\", type=float, default=0.01, help=\"Learning rate\")\n",
        "parser.add_argument(\"--batchsize\", \"-b\", type=int, default=64, help=\"Batch size\")\n",
        "parser.add_argument(\"--hidden\", type=int, default=64, help=\"Hidden dimensions\")\n",
        "parser.add_argument(\"--earlystop\", type=int, default=20, help=\"Early stopping after N epochs\")\n",
        "parser.add_argument(\"--naive\", \"-n\", action=\"store_true\", help=\"Use a naive model instead of lego model\")\n",
        "parser.add_argument(\"--resume\", action=\"store_true\")\n",
        "parser.add_argument(\"--max_epochs\", type=int, default=500)\n",
        "args_defaults = parser.parse_args([])\n",
        "args = argparse.Namespace(**vars(args_defaults))\n",
        "\n",
        "args"
      ],
      "metadata": {
        "colab": {
          "base_uri": "https://localhost:8080/"
        },
        "id": "Kc94rxMAGmtO",
        "outputId": "69cbab81-380e-4e18-9321-40e8fc0f4362"
      },
      "execution_count": null,
      "outputs": [
        {
          "output_type": "execute_result",
          "data": {
            "text/plain": [
              "Namespace(subtask='openproblems_bmmc_cite_phase2_rna', device='cuda', cpus=1, rnd_seed=1000370692, model_folder='./models', outdir='./logs', lossweight=1.0, lr=0.01, batchsize=64, hidden=64, earlystop=20, naive=False, resume=False, max_epochs=500)"
            ]
          },
          "metadata": {},
          "execution_count": 1
        }
      ]
    },
    {
      "cell_type": "code",
      "source": [
        "import logging\n",
        "import os\n",
        "\n",
        "import anndata\n",
        "import mudata\n",
        "import torch\n",
        "import scanpy as sc\n",
        "\n",
        "from dance import logger\n",
        "from dance.data import Data\n",
        "from dance.datasets.multimodality import ModalityPredictionDataset\n",
        "from dance.modules.multi_modality.predict_modality.babel import BabelWrapper\n",
        "from dance.utils import set_seed\n",
        "from sklearn.decomposition import TruncatedSVD\n",
        "from scipy.sparse import csr_matrix\n",
        "\n",
        "torch.set_num_threads(args.cpus)\n",
        "rndseed = args.rnd_seed\n",
        "set_seed(rndseed)\n",
        "device = args.device\n",
        "os.makedirs(args.model_folder, exist_ok=True)\n",
        "os.makedirs(args.outdir, exist_ok=True)\n",
        "args.outdir = os.path.abspath(args.outdir)\n",
        "\n",
        "if not os.path.isdir(os.path.dirname(args.outdir)):\n",
        "    os.makedirs(os.path.dirname(args.outdir))\n",
        "\n",
        "# Specify output log file\n",
        "fh = logging.FileHandler(f\"{args.outdir}/training_{args.subtask}_{args.rnd_seed}.log\", \"w\")\n",
        "fh.setLevel(logging.INFO)\n",
        "logger.addHandler(fh)\n",
        "\n",
        "for arg in vars(args):\n",
        "    logger.info(f\"Parameter {arg}: {getattr(args, arg)}\")\n",
        "\n",
        "dataset = ModalityPredictionDataset(args.subtask)\n",
        "tsvd = TruncatedSVD(n_components=256)\n",
        "X_train = anndata.read_h5ad('Gex_processed_training.h5ad')\n",
        "X_test = anndata.read_h5ad('Gex_processed_testing.h5ad')\n",
        "X_train = anndata.AnnData(X=csr_matrix(tsvd.fit_transform(X_train.X)), obs=X_train.obs)\n",
        "X_test = anndata.AnnData(X=csr_matrix(tsvd.transform(X_test.X)), obs=X_test.obs)\n",
        "\n",
        "dataset.modalities = [  X_train,\n",
        "                        anndata.read_h5ad('Adt_processed_training.h5ad'),\n",
        "                        X_test,\n",
        "                        anndata.read_h5ad('Adt_processed_testing.h5ad')]\n",
        "\n",
        "\n",
        "# Construct data object\n",
        "mod1 = anndata.concat((dataset.modalities[0], dataset.modalities[2]))\n",
        "mod2 = anndata.concat((dataset.modalities[1], dataset.modalities[3]))\n",
        "mod1.var_names_make_unique()\n",
        "mod2.var_names_make_unique()\n",
        "mdata = mudata.MuData({\"mod1\": mod1, \"mod2\": mod2})\n",
        "mdata.var_names_make_unique()\n",
        "train_size = dataset.modalities[0].shape[0]\n",
        "del dataset.modalities, X_train, X_test\n",
        "data = Data(mdata, train_size=train_size)\n",
        "data.set_config(feature_mod=\"mod1\", label_mod=\"mod2\")\n",
        "\n",
        "# Obtain training and testing data\n",
        "x_train, y_train = data.get_train_data(return_type=\"torch\")\n",
        "x_test, y_test = data.get_test_data(return_type=\"torch\")\n",
        "\n",
        "# Train and evaluate the model\n",
        "model = BabelWrapper(args, dim_in=x_train.shape[1], dim_out=y_train.shape[1])\n",
        "model.fit(x_train.float(), y_train.float(), val_ratio=0.15)\n",
        "print(model.predict(x_test.float()))\n",
        "print(model.score(x_test.float(), y_test.float()))"
      ],
      "metadata": {
        "colab": {
          "base_uri": "https://localhost:8080/"
        },
        "id": "UuqCsFER0PqV",
        "outputId": "a77f0d9e-15b3-43f6-c6c0-2d3da03d0813"
      },
      "execution_count": null,
      "outputs": [
        {
          "output_type": "stream",
          "name": "stderr",
          "text": [
            "[INFO][2023-04-26 01:35:03,316][dance][set_seed] Setting global random seed to 1000370692\n",
            "[INFO][2023-04-26 01:35:03,336][dance][<cell line: 33>] Parameter subtask: openproblems_bmmc_cite_phase2_rna\n",
            "[INFO][2023-04-26 01:35:03,341][dance][<cell line: 33>] Parameter device: cuda\n",
            "[INFO][2023-04-26 01:35:03,345][dance][<cell line: 33>] Parameter cpus: 1\n",
            "[INFO][2023-04-26 01:35:03,361][dance][<cell line: 33>] Parameter rnd_seed: 1000370692\n",
            "[INFO][2023-04-26 01:35:03,365][dance][<cell line: 33>] Parameter model_folder: ./models\n",
            "[INFO][2023-04-26 01:35:03,372][dance][<cell line: 33>] Parameter outdir: /content/logs\n",
            "[INFO][2023-04-26 01:35:03,386][dance][<cell line: 33>] Parameter lossweight: 1.0\n",
            "[INFO][2023-04-26 01:35:03,394][dance][<cell line: 33>] Parameter lr: 0.01\n",
            "[INFO][2023-04-26 01:35:03,403][dance][<cell line: 33>] Parameter batchsize: 64\n",
            "[INFO][2023-04-26 01:35:03,414][dance][<cell line: 33>] Parameter hidden: 64\n",
            "[INFO][2023-04-26 01:35:03,422][dance][<cell line: 33>] Parameter earlystop: 20\n",
            "[INFO][2023-04-26 01:35:03,428][dance][<cell line: 33>] Parameter naive: False\n",
            "[INFO][2023-04-26 01:35:03,429][dance][<cell line: 33>] Parameter resume: False\n",
            "[INFO][2023-04-26 01:35:03,435][dance][<cell line: 33>] Parameter max_epochs: 500\n",
            "[INFO][2023-04-26 01:40:20,774][dance][set_config_from_dict] Setting config 'feature_mod' to 'mod1'\n",
            "[INFO][2023-04-26 01:40:20,775][dance][set_config_from_dict] Setting config 'label_mod' to 'mod2'\n",
            "[INFO][2023-04-26 01:40:21,154][dance][__init__] ChromDecoder with 1 output activations\n"
          ]
        },
        {
          "output_type": "stream",
          "name": "stdout",
          "text": [
            "epoch:  1\n",
            "training (sum of 4 losses): 2.85336529314518\n",
            "validation (prediction loss): 0.3432220473770043\n",
            "epoch:  2\n",
            "training (sum of 4 losses): 2.610635186093194\n",
            "validation (prediction loss): 0.3331627611409845\n",
            "epoch:  3\n",
            "training (sum of 4 losses): 2.58757663496903\n",
            "validation (prediction loss): 0.3309708068422586\n",
            "epoch:  4\n",
            "training (sum of 4 losses): 2.573169892174857\n",
            "validation (prediction loss): 0.3261576296222578\n",
            "epoch:  5\n",
            "training (sum of 4 losses): 2.5631031351430074\n",
            "validation (prediction loss): 0.32456449571622425\n",
            "epoch:  6\n",
            "training (sum of 4 losses): 2.5579753650086268\n",
            "validation (prediction loss): 0.3211859431323911\n",
            "epoch:  7\n",
            "training (sum of 4 losses): 2.5499601781368257\n",
            "validation (prediction loss): 0.3224165896502167\n",
            "epoch:  8\n",
            "training (sum of 4 losses): 2.5460016880716596\n",
            "validation (prediction loss): 0.32148665859457726\n",
            "epoch:  9\n",
            "training (sum of 4 losses): 2.5443559527397155\n",
            "validation (prediction loss): 0.31938622254656607\n",
            "epoch:  10\n",
            "training (sum of 4 losses): 2.5407820420605796\n",
            "validation (prediction loss): 0.32283015831008344\n",
            "epoch:  11\n",
            "training (sum of 4 losses): 2.539000827925546\n",
            "validation (prediction loss): 0.32387182212317533\n",
            "epoch:  12\n",
            "training (sum of 4 losses): 2.5387811000858034\n",
            "validation (prediction loss): 0.3193554323611452\n",
            "epoch:  13\n",
            "training (sum of 4 losses): 2.534445563810212\n",
            "validation (prediction loss): 0.32032568235542563\n",
            "epoch:  14\n",
            "training (sum of 4 losses): 2.5308632275887897\n",
            "validation (prediction loss): 0.3237334952936599\n",
            "epoch:  15\n",
            "training (sum of 4 losses): 2.5257572731801443\n",
            "validation (prediction loss): 0.3217970506323819\n",
            "epoch:  16\n",
            "training (sum of 4 losses): 2.524113778982844\n",
            "validation (prediction loss): 0.32315466811004406\n",
            "epoch:  17\n",
            "training (sum of 4 losses): 2.5212608090468813\n",
            "validation (prediction loss): 0.3232968493793801\n",
            "epoch:  18\n",
            "training (sum of 4 losses): 2.521675588403429\n",
            "validation (prediction loss): 0.3222673435358021\n",
            "epoch:  19\n",
            "training (sum of 4 losses): 2.5213055883135116\n",
            "validation (prediction loss): 0.3238008101535611\n",
            "epoch:  20\n",
            "training (sum of 4 losses): 2.5188487248761313\n",
            "validation (prediction loss): 0.3262876213994793\n",
            "epoch:  21\n",
            "training (sum of 4 losses): 2.513819920165198\n",
            "validation (prediction loss): 0.3273203340244632\n",
            "epoch:  22\n",
            "training (sum of 4 losses): 2.513260183589799\n",
            "validation (prediction loss): 0.32375384741978896\n",
            "epoch:  23\n",
            "training (sum of 4 losses): 2.511801157678877\n",
            "validation (prediction loss): 0.3286546647343902\n",
            "epoch:  24\n",
            "training (sum of 4 losses): 2.512785057084901\n",
            "validation (prediction loss): 0.32831103267805045\n",
            "epoch:  25\n",
            "training (sum of 4 losses): 2.511496291416032\n",
            "validation (prediction loss): 0.3315484598120216\n",
            "epoch:  26\n",
            "training (sum of 4 losses): 2.5105594256094523\n",
            "validation (prediction loss): 0.33159875609656264\n",
            "epoch:  27\n",
            "training (sum of 4 losses): 2.510529486196382\n",
            "validation (prediction loss): 0.3294850256320012\n",
            "epoch:  28\n",
            "training (sum of 4 losses): 2.5088459312915803\n",
            "validation (prediction loss): 0.32935570823063226\n",
            "epoch:  29\n",
            "training (sum of 4 losses): 2.5087028452328273\n",
            "validation (prediction loss): 0.3330088799897748\n",
            "epoch:  30\n",
            "training (sum of 4 losses): 2.5078774294682913\n",
            "validation (prediction loss): 0.3311046911414808\n",
            "epoch:  31\n",
            "training (sum of 4 losses): 2.5065537921019962\n",
            "validation (prediction loss): 0.3289864275272714\n",
            "epoch:  32\n",
            "training (sum of 4 losses): 2.5055066917623794\n",
            "validation (prediction loss): 0.3323706193009435\n",
            "Early stopped.\n",
            "tensor([[1.1037, 0.2774, 0.9874,  ..., 1.5983, 0.7959, 1.6181],\n",
            "        [0.0000, 0.3262, 1.1968,  ..., 2.1599, 0.6420, 0.3003],\n",
            "        [0.0000, 0.4620, 1.0646,  ..., 0.5093, 0.6458, 0.5002],\n",
            "        ...,\n",
            "        [0.0000, 1.1455, 1.1185,  ..., 0.5455, 1.8105, 0.8211],\n",
            "        [0.3525, 0.5352, 1.0445,  ..., 1.0787, 0.9283, 1.1478],\n",
            "        [0.3841, 0.5247, 1.0785,  ..., 1.4281, 1.0510, 1.1863]],\n",
            "       device='cuda:0')\n",
            "0.37316461272964313\n"
          ]
        }
      ]
    },
    {
      "cell_type": "code",
      "source": [],
      "metadata": {
        "id": "ZM723NJMHYci"
      },
      "execution_count": null,
      "outputs": []
    }
  ]
}