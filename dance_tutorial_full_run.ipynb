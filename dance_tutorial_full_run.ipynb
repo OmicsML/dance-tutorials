{
  "nbformat": 4,
  "nbformat_minor": 0,
  "metadata": {
    "colab": {
      "provenance": [],
      "toc_visible": true,
      "include_colab_link": true
    },
    "kernelspec": {
      "name": "python3",
      "display_name": "Python 3"
    },
    "language_info": {
      "name": "python"
    },
    "accelerator": "GPU",
    "gpuClass": "standard"
  },
  "cells": [
    {
      "cell_type": "markdown",
      "metadata": {
        "id": "view-in-github",
        "colab_type": "text"
      },
      "source": [
        "<a href=\"https://colab.research.google.com/github/OmicsML/dance-tutorials/blob/dev/dance_tutorial_full_run.ipynb\" target=\"_parent\"><img src=\"https://colab.research.google.com/assets/colab-badge.svg\" alt=\"Open In Colab\"/></a>"
      ]
    },
    {
      "cell_type": "markdown",
      "source": [
        "## 1. Installation\n",
        "\n",
        "DANCE is published on [PyPI](https://pypi.org/project/pydance/). Thus, installing DANCE is as easy as\n",
        "\n",
        "```bash\n",
        "pip install pydance\n",
        "```\n",
        "\n",
        "Or, to install the latest dev version on GitHub as\n",
        "\n",
        "```bash\n",
        "pip install git+https://github.com/OmicsML/dance\n",
        "```\n",
        "\n",
        "But becaues DANCE includes many deep learning based methods, there are also deep learning library dependencies, such as [PyTorch](https://pytorch.org/), [PyG](https://www.pyg.org/), and [DGL](https://www.dgl.ai/). We will walk through the installation process below."
      ],
      "metadata": {
        "id": "ugihXw2wU92o"
      }
    },
    {
      "cell_type": "markdown",
      "source": [
        "### 1.1. Install torch related dependencies"
      ],
      "metadata": {
        "id": "a9uCJIzekYW6"
      }
    },
    {
      "cell_type": "code",
      "source": [
        "# Colab comes with torch installed, so we do not need to install pytorch here\n",
        "# !pip3 install torch torchvision torchaudio\n",
        "\n",
        "!pip install -q torch_geometric==2.3.1\n",
        "!pip install -q dgl==1.1.0 -f https://data.dgl.ai/wheels/cu117/repo.html\n",
        "!pip install -q torchnmf==0.3.4"
      ],
      "metadata": {
        "id": "-9vkgggHU5Tv",
        "colab": {
          "base_uri": "https://localhost:8080/"
        },
        "outputId": "61c97992-dfab-4ffc-bcdf-07d5fe0d0c78"
      },
      "execution_count": 1,
      "outputs": [
        {
          "output_type": "stream",
          "name": "stdout",
          "text": [
            "\u001b[?25l     \u001b[90m━━━━━━━━━━━━━━━━━━━━━━━━━━━━━━━━━━━━━━━━\u001b[0m \u001b[32m0.0/661.6 kB\u001b[0m \u001b[31m?\u001b[0m eta \u001b[36m-:--:--\u001b[0m\r\u001b[2K     \u001b[90m━━━━━━━━━━━━━━━━━━━━━━━━━━━━━━━━━━━━━━\u001b[0m \u001b[32m661.6/661.6 kB\u001b[0m \u001b[31m44.0 MB/s\u001b[0m eta \u001b[36m0:00:00\u001b[0m\n",
            "\u001b[?25h  Installing build dependencies ... \u001b[?25l\u001b[?25hdone\n",
            "  Getting requirements to build wheel ... \u001b[?25l\u001b[?25hdone\n",
            "  Preparing metadata (pyproject.toml) ... \u001b[?25l\u001b[?25hdone\n",
            "  Building wheel for torch_geometric (pyproject.toml) ... \u001b[?25l\u001b[?25hdone\n",
            "\u001b[2K     \u001b[90m━━━━━━━━━━━━━━━━━━━━━━━━━━━━━━━━━━━━━━━━\u001b[0m \u001b[32m86.7/86.7 MB\u001b[0m \u001b[31m11.1 MB/s\u001b[0m eta \u001b[36m0:00:00\u001b[0m\n",
            "\u001b[?25h"
          ]
        }
      ]
    },
    {
      "cell_type": "markdown",
      "source": [
        "### 1.2 Install latest dev version of DANCE"
      ],
      "metadata": {
        "id": "t0Ai6ohLkpyh"
      }
    },
    {
      "cell_type": "code",
      "source": [
        "!pip install -q git+https://github.com/OmicsML/dance.git"
      ],
      "metadata": {
        "id": "xiNfZpuOkewF",
        "colab": {
          "base_uri": "https://localhost:8080/"
        },
        "outputId": "9dcba7a0-b22f-443d-8cfa-8b214ce1a5b5"
      },
      "execution_count": 2,
      "outputs": [
        {
          "output_type": "stream",
          "name": "stdout",
          "text": [
            "  Installing build dependencies ... \u001b[?25l\u001b[?25hdone\n",
            "  Getting requirements to build wheel ... \u001b[?25l\u001b[?25hdone\n",
            "  Preparing metadata (pyproject.toml) ... \u001b[?25l\u001b[?25hdone\n",
            "\u001b[2K     \u001b[90m━━━━━━━━━━━━━━━━━━━━━━━━━━━━━━━━━━━━━━━━\u001b[0m \u001b[32m1.3/1.3 MB\u001b[0m \u001b[31m61.7 MB/s\u001b[0m eta \u001b[36m0:00:00\u001b[0m\n",
            "\u001b[2K     \u001b[90m━━━━━━━━━━━━━━━━━━━━━━━━━━━━━━━━━━━━━━\u001b[0m \u001b[32m732.5/732.5 kB\u001b[0m \u001b[31m24.0 MB/s\u001b[0m eta \u001b[36m0:00:00\u001b[0m\n",
            "\u001b[?25h  Preparing metadata (setup.py) ... \u001b[?25l\u001b[?25hdone\n",
            "\u001b[2K     \u001b[90m━━━━━━━━━━━━━━━━━━━━━━━━━━━━━━━━━━━━━━━━\u001b[0m \u001b[32m2.0/2.0 MB\u001b[0m \u001b[31m38.1 MB/s\u001b[0m eta \u001b[36m0:00:00\u001b[0m\n",
            "\u001b[2K     \u001b[90m━━━━━━━━━━━━━━━━━━━━━━━━━━━━━━━━━━━━━━━━\u001b[0m \u001b[32m10.7/10.7 MB\u001b[0m \u001b[31m35.1 MB/s\u001b[0m eta \u001b[36m0:00:00\u001b[0m\n",
            "\u001b[2K     \u001b[90m━━━━━━━━━━━━━━━━━━━━━━━━━━━━━━━━━━━━━━━━\u001b[0m \u001b[32m3.3/3.3 MB\u001b[0m \u001b[31m53.6 MB/s\u001b[0m eta \u001b[36m0:00:00\u001b[0m\n",
            "\u001b[2K     \u001b[90m━━━━━━━━━━━━━━━━━━━━━━━━━━━━━━━━━━━━━━━\u001b[0m \u001b[32m103.0/103.0 kB\u001b[0m \u001b[31m9.9 MB/s\u001b[0m eta \u001b[36m0:00:00\u001b[0m\n",
            "\u001b[2K     \u001b[90m━━━━━━━━━━━━━━━━━━━━━━━━━━━━━━━━━━━━━━━━\u001b[0m \u001b[32m88.2/88.2 kB\u001b[0m \u001b[31m10.4 MB/s\u001b[0m eta \u001b[36m0:00:00\u001b[0m\n",
            "\u001b[?25h  Preparing metadata (setup.py) ... \u001b[?25l\u001b[?25hdone\n",
            "  Preparing metadata (setup.py) ... \u001b[?25l\u001b[?25hdone\n",
            "\u001b[2K     \u001b[90m━━━━━━━━━━━━━━━━━━━━━━━━━━━━━━━━━━━━━━━━\u001b[0m \u001b[32m1.1/1.1 MB\u001b[0m \u001b[31m38.8 MB/s\u001b[0m eta \u001b[36m0:00:00\u001b[0m\n",
            "\u001b[?25h  Preparing metadata (setup.py) ... \u001b[?25l\u001b[?25hdone\n",
            "\u001b[2K     \u001b[90m━━━━━━━━━━━━━━━━━━━━━━━━━━━━━━━━━━━━━━━━\u001b[0m \u001b[32m75.6/75.6 kB\u001b[0m \u001b[31m9.7 MB/s\u001b[0m eta \u001b[36m0:00:00\u001b[0m\n",
            "\u001b[?25h  Building wheel for pydance (pyproject.toml) ... \u001b[?25l\u001b[?25hdone\n",
            "  Building wheel for python-igraph (setup.py) ... \u001b[?25l\u001b[?25hdone\n",
            "  Building wheel for umap-learn (setup.py) ... \u001b[?25l\u001b[?25hdone\n",
            "  Building wheel for session-info (setup.py) ... \u001b[?25l\u001b[?25hdone\n",
            "  Building wheel for pynndescent (setup.py) ... \u001b[?25l\u001b[?25hdone\n"
          ]
        }
      ]
    },
    {
      "cell_type": "markdown",
      "source": [
        "### 1.3 Check if DANCE is installed successfully"
      ],
      "metadata": {
        "id": "dPyaIcBPk4FO"
      }
    },
    {
      "cell_type": "code",
      "source": [
        "import dance\n",
        "print(f\"Installed DANCE version {dance.__version__}\")"
      ],
      "metadata": {
        "id": "Dwap0oVmk1hP",
        "colab": {
          "base_uri": "https://localhost:8080/"
        },
        "outputId": "1dc1fc2f-1e14-4489-fe76-891d12eeefb2"
      },
      "execution_count": 3,
      "outputs": [
        {
          "output_type": "stream",
          "name": "stdout",
          "text": [
            "Installed DANCE version 1.0.0-rc.1\n"
          ]
        }
      ]
    },
    {
      "cell_type": "markdown",
      "source": [
        "## 2. Data loading and processing\n",
        "\n",
        "DANCE comes with several benchmarking datasets in a unified dataset object format. This makes data downloading, processing, and caching easy for users through our dataset object interface."
      ],
      "metadata": {
        "id": "qpq3fr_7mkz_"
      }
    },
    {
      "cell_type": "markdown",
      "source": [
        "### 2.1. Check available data options and load data object"
      ],
      "metadata": {
        "id": "-hPDdWsPpa5T"
      }
    },
    {
      "cell_type": "code",
      "source": [
        "import os\n",
        "os.environ[\"DGLBACKEND\"] = \"pytorch\"\n",
        "from pprint import pprint\n",
        "from dance.datasets.singlemodality import ClusteringDataset, ScDeepSortDataset"
      ],
      "metadata": {
        "id": "3oylxVi7oA7L"
      },
      "execution_count": 4,
      "outputs": []
    },
    {
      "cell_type": "code",
      "source": [
        "print(\"Available dataset option for ClusteringDataset:\")\n",
        "pprint(ClusteringDataset.get_avalilable_data())"
      ],
      "metadata": {
        "id": "geQmHab8pnsC",
        "colab": {
          "base_uri": "https://localhost:8080/"
        },
        "outputId": "927ba053-4b97-4480-c0da-b9719520852b"
      },
      "execution_count": 5,
      "outputs": [
        {
          "output_type": "stream",
          "name": "stdout",
          "text": [
            "Available dataset option for ClusteringDataset:\n",
            "['10X_PBMC', 'mouse_ES_cell', 'mouse_bladder_cell', 'worm_neuron_cell']\n"
          ]
        }
      ]
    },
    {
      "cell_type": "code",
      "source": [
        "print(\"Available dataset option for ScDeepSortDataset:\")\n",
        "pprint(ScDeepSortDataset.get_avalilable_data())"
      ],
      "metadata": {
        "id": "_3p6UfZHCOES",
        "colab": {
          "base_uri": "https://localhost:8080/"
        },
        "outputId": "97e3f072-f848-419b-aaca-ad1e189a46ba"
      },
      "execution_count": 6,
      "outputs": [
        {
          "output_type": "stream",
          "name": "stdout",
          "text": [
            "Available dataset option for ScDeepSortDataset:\n",
            "[{'dataset': '3285', 'species': 'mouse', 'split': 'train', 'tissue': 'Brain'},\n",
            " {'dataset': '753', 'species': 'mouse', 'split': 'train', 'tissue': 'Brain'},\n",
            " {'dataset': '4682', 'species': 'mouse', 'split': 'train', 'tissue': 'Kidney'},\n",
            " {'dataset': '1970', 'species': 'mouse', 'split': 'train', 'tissue': 'Spleen'},\n",
            " {'dataset': '2695', 'species': 'mouse', 'split': 'test', 'tissue': 'Brain'},\n",
            " {'dataset': '203', 'species': 'mouse', 'split': 'test', 'tissue': 'Kidney'},\n",
            " {'dataset': '1759', 'species': 'mouse', 'split': 'test', 'tissue': 'Spleen'}]\n"
          ]
        }
      ]
    },
    {
      "cell_type": "markdown",
      "source": [
        "#### Example: ClusteringDataset"
      ],
      "metadata": {
        "id": "1WcWc4dUCSC2"
      }
    },
    {
      "cell_type": "code",
      "source": [
        "dataset = ClusteringDataset(\"10X_PBMC\")\n",
        "print(dataset)"
      ],
      "metadata": {
        "id": "wtg5pNZgCdac",
        "colab": {
          "base_uri": "https://localhost:8080/"
        },
        "outputId": "31470035-72dc-4b68-fcaa-896799b2a08a"
      },
      "execution_count": 7,
      "outputs": [
        {
          "output_type": "stream",
          "name": "stdout",
          "text": [
            "ClusteringDataset()\n"
          ]
        }
      ]
    },
    {
      "cell_type": "code",
      "source": [
        "# The dataset object do not contain data, it only loads the data upon calling\n",
        "# the load_data function\n",
        "data = dataset.load_data()"
      ],
      "metadata": {
        "id": "EhiCX5BpooNd",
        "colab": {
          "base_uri": "https://localhost:8080/"
        },
        "outputId": "e84a158b-0c30-42ac-8c3f-f8f3be09e415"
      },
      "execution_count": 8,
      "outputs": [
        {
          "output_type": "stream",
          "name": "stderr",
          "text": [
            "[INFO][2023-06-28 04:40:58,947][dance][download_file] Downloading: 10X_PBMC/mouse_bladder_cell.h5 Bytes: 5,479,777\n",
            "100%|██████████| 5.23M/5.23M [00:01<00:00, 3.08MB/s]\n",
            "[INFO][2023-06-28 04:41:01,474][dance][load_data] Raw data loaded:\n",
            "Data object that wraps (.data):\n",
            "AnnData object with n_obs × n_vars = 2746 × 20670\n",
            "    uns: 'dance_config'\n",
            "    obsm: 'Group'\n",
            "[INFO][2023-06-28 04:41:01,476][dance][wrapped_func] Took 0:00:05.533764 to load and process data.\n"
          ]
        }
      ]
    },
    {
      "cell_type": "markdown",
      "source": [
        "#### Example: ScDeepSortDataset"
      ],
      "metadata": {
        "id": "J0b-GAFnCxRH"
      }
    },
    {
      "cell_type": "code",
      "source": [
        "dataset = ScDeepSortDataset(species=\"mouse\", tissue=\"Brain\",\n",
        "                            train_dataset=[\"3285\", \"753\"], test_dataset=[\"2695\"])\n",
        "data = dataset.load_data()"
      ],
      "metadata": {
        "id": "00_UOrqlrA_6",
        "colab": {
          "base_uri": "https://localhost:8080/"
        },
        "outputId": "b54f13c2-4afa-46f1-aba3-144820e857fc"
      },
      "execution_count": 9,
      "outputs": [
        {
          "output_type": "stream",
          "name": "stderr",
          "text": [
            "[INFO][2023-06-28 04:41:01,490][dance][is_complete] ./train/mouse/mouse_Spleen1970_celltype.csv\n",
            "[INFO][2023-06-28 04:41:01,492][dance][is_complete] file mouse_Spleen1970_celltype.csv doesn't exist\n",
            "[INFO][2023-06-28 04:41:01,494][dance][is_complete] ./train/mouse/mouse_Spleen1970_celltype.csv\n",
            "[INFO][2023-06-28 04:41:01,497][dance][is_complete] file mouse_Spleen1970_celltype.csv doesn't exist\n",
            "[INFO][2023-06-28 04:41:03,209][dance][download_file] Downloading: ./train/mouse/mouse_Spleen1970_celltype.csv Bytes: 65,703\n",
            "100%|██████████| 64.2k/64.2k [00:00<00:00, 13.7MB/s]\n",
            "[INFO][2023-06-28 04:41:05,008][dance][download_file] Downloading: ./train/mouse/mouse_Spleen1970_data.csv Bytes: 80,382,707\n",
            "100%|██████████| 76.7M/76.7M [00:04<00:00, 16.9MB/s]\n",
            "[INFO][2023-06-28 04:41:11,312][dance][download_file] Downloading: ./test/mouse/mouse_Spleen1759_celltype.csv Bytes: 66,410\n",
            "100%|██████████| 64.9k/64.9k [00:00<00:00, 27.2MB/s]\n",
            "[INFO][2023-06-28 04:41:14,056][dance][download_file] Downloading: ./test/mouse/mouse_Spleen1759_data.csv Bytes: 56,334,246\n",
            "100%|██████████| 53.7M/53.7M [00:07<00:00, 8.00MB/s]\n",
            "[INFO][2023-06-28 04:41:23,748][dance][download_file] Downloading: ./train/mouse/mouse_Brain753_celltype.csv Bytes: 24,955\n",
            "100%|██████████| 24.4k/24.4k [00:00<00:00, 120kB/s] \n",
            "[INFO][2023-06-28 04:41:26,494][dance][download_file] Downloading: ./train/mouse/mouse_Brain753_data.csv Bytes: 32,440,352\n",
            "100%|██████████| 30.9M/30.9M [00:04<00:00, 7.35MB/s]\n",
            "[INFO][2023-06-28 04:41:32,130][dance][download_file] Downloading: ./train/mouse/mouse_Brain3285_celltype.csv Bytes: 146,995\n",
            "100%|██████████| 144k/144k [00:00<00:00, 19.0MB/s]\n",
            "[INFO][2023-06-28 04:41:34,300][dance][download_file] Downloading: ./train/mouse/mouse_Brain3285_data.csv Bytes: 153,828,173\n",
            "100%|██████████| 147M/147M [00:15<00:00, 9.70MB/s]\n",
            "[INFO][2023-06-28 04:41:52,345][dance][download_file] Downloading: ./test/mouse/mouse_Brain2695_celltype.csv Bytes: 95,883\n",
            "100%|██████████| 93.6k/93.6k [00:00<00:00, 198kB/s]\n",
            "[INFO][2023-06-28 04:41:54,147][dance][download_file] Downloading: ./test/mouse/mouse_Brain2695_data.csv Bytes: 269,468,417\n",
            "100%|██████████| 257M/257M [00:16<00:00, 15.9MB/s]\n",
            "[INFO][2023-06-28 04:42:13,300][dance][download_file] Downloading: ./train/mouse/mouse_Kidney4682_celltype.csv Bytes: 206,342\n",
            "100%|██████████| 202k/202k [00:00<00:00, 796kB/s]\n",
            "[INFO][2023-06-28 04:42:15,922][dance][download_file] Downloading: ./train/mouse/mouse_Kidney4682_data.csv Bytes: 210,040,835\n",
            "100%|██████████| 200M/200M [00:11<00:00, 17.7MB/s]\n",
            "[INFO][2023-06-28 04:42:30,050][dance][download_file] Downloading: ./test/mouse/mouse_Kidney203_celltype.csv Bytes: 7,153\n",
            "100%|██████████| 6.99k/6.99k [00:00<00:00, 8.96MB/s]\n",
            "[INFO][2023-06-28 04:42:33,128][dance][download_file] Downloading: ./test/mouse/mouse_Kidney203_data.csv Bytes: 36,019,723\n",
            "100%|██████████| 34.4M/34.4M [00:03<00:00, 10.9MB/s]\n",
            "[INFO][2023-06-28 04:42:38,264][dance][download_file] Downloading: ./map.zip Bytes: 48,215\n",
            "100%|██████████| 47.1k/47.1k [00:00<00:00, 183kB/s]\n",
            "[INFO][2023-06-28 04:42:38,534][dance][unzip_file] Unzipping ./map.zip\n",
            "[INFO][2023-06-28 04:42:38,536][dance][delete_file] Deleting ./map.zip\n",
            "[INFO][2023-06-28 04:42:38,538][dance][_load_dfs] Loading data from ./train/mouse/mouse_Brain3285_data.csv\n",
            "[INFO][2023-06-28 04:42:46,162][dance][_load_dfs] Loading data from ./train/mouse/mouse_Brain753_data.csv\n",
            "[INFO][2023-06-28 04:42:48,079][dance][_load_dfs] Loading data from ./test/mouse/mouse_Brain2695_data.csv\n",
            "[INFO][2023-06-28 04:42:56,391][dance][_load_dfs] Loading data from ./train/mouse/mouse_Brain3285_celltype.csv\n",
            "[INFO][2023-06-28 04:42:56,405][dance][_load_dfs] Loading data from ./train/mouse/mouse_Brain753_celltype.csv\n",
            "[INFO][2023-06-28 04:42:56,411][dance][_load_dfs] Loading data from ./test/mouse/mouse_Brain2695_celltype.csv\n",
            "[INFO][2023-06-28 04:42:59,684][dance][_load_raw_data] Loaded expression data: AnnData object with n_obs × n_vars = 6733 × 19856\n",
            "[INFO][2023-06-28 04:42:59,686][dance][_load_raw_data] Number of training samples: 4,038\n",
            "[INFO][2023-06-28 04:42:59,690][dance][_load_raw_data] Number of testing samples: 2,695\n",
            "[INFO][2023-06-28 04:42:59,693][dance][_load_raw_data] Cell-types (n=11):\n",
            "['Astrocyte',\n",
            " 'Astroglial cell',\n",
            " 'Granulocyte',\n",
            " 'Hypothalamic ependymal cell',\n",
            " 'Macrophage',\n",
            " 'Microglia',\n",
            " 'Myelinating oligodendrocyte',\n",
            " 'Neuron',\n",
            " 'Oligodendrocyte precursor cell',\n",
            " 'Pan-GABAergic',\n",
            " 'Schwann cell']\n",
            "[INFO][2023-06-28 04:42:59,712][dance][load_data] Raw data loaded:\n",
            "Data object that wraps (.data):\n",
            "AnnData object with n_obs × n_vars = 6733 × 19856\n",
            "    uns: 'dance_config'\n",
            "    obsm: 'cell_type'\n",
            "[INFO][2023-06-28 04:42:59,713][dance][wrapped_func] Took 0:01:58.223762 to load and process data.\n"
          ]
        }
      ]
    },
    {
      "cell_type": "markdown",
      "source": [
        "### 2.2. A quick primer on AnnData\n",
        "\n",
        "<img\n",
        "  src=\"https://raw.githubusercontent.com/scverse/anndata/main/docs/_static/img/anndata_schema.svg\"\n",
        "  align=\"right\" width=\"450\" alt=\"image\"\n",
        "/>\n",
        "\n",
        "The [dance data object](https://github.com/OmicsML/dance/blob/912405cb5ab43caf16eb22b9216865c7e3976eaf/dance/data/base.py#L40) is heavily built on top of [AnnData](https://anndata.readthedocs.io/en/latest/), which is a widely used data object to represent, store, and manipulate large annotated matrices.\n",
        "\n",
        "> anndata is a Python package for handling annotated data matrices in memory and on disk, positioned between pandas and xarray. anndata offers a broad range of computationally efficient features...\n",
        "\n",
        "AnnData falls into the ecosystem of scVerse, providing extra advantage and ease for handeling single-cell data using, for example, [Scanpy](https://scanpy.readthedocs.io/en/stable/)."
      ],
      "metadata": {
        "id": "cU0EHCYiLzou"
      }
    },
    {
      "cell_type": "markdown",
      "source": [
        "The dance data object essentially wraps around an AnnData object,\n",
        "which can be accessed in the `.data` attribute."
      ],
      "metadata": {
        "id": "oLrtDujjC-O_"
      }
    },
    {
      "cell_type": "code",
      "source": [
        "adata = data.data\n",
        "print(adata)"
      ],
      "metadata": {
        "id": "glGCQdF0Lx5K",
        "colab": {
          "base_uri": "https://localhost:8080/"
        },
        "outputId": "acc309b5-1fb3-48aa-8029-9f393e8dad90"
      },
      "execution_count": 10,
      "outputs": [
        {
          "output_type": "stream",
          "name": "stdout",
          "text": [
            "AnnData object with n_obs × n_vars = 6733 × 19856\n",
            "    uns: 'dance_config'\n",
            "    obsm: 'cell_type'\n"
          ]
        }
      ]
    },
    {
      "cell_type": "code",
      "source": [
        "num_cells, num_genes = adata.shape\n",
        "print(f\"There are {num_cells:,} cells and {num_genes:,} genes in this data object.\")"
      ],
      "metadata": {
        "id": "bsBaT1jqEkDq",
        "colab": {
          "base_uri": "https://localhost:8080/"
        },
        "outputId": "27a4e5e4-4e8c-4bc4-8dfa-276ba3c358ce"
      },
      "execution_count": 11,
      "outputs": [
        {
          "output_type": "stream",
          "name": "stdout",
          "text": [
            "There are 6,733 cells and 19,856 genes in this data object.\n"
          ]
        }
      ]
    },
    {
      "cell_type": "markdown",
      "source": [
        "There are several key attributes in AnnData objects. For example, `.X` typically holds the main data, such as gene expression. `obs` and `obsm` hold metadata for each sample (i.e., a cell)."
      ],
      "metadata": {
        "id": "107dAHfTDOOS"
      }
    },
    {
      "cell_type": "code",
      "source": [
        "adata.X"
      ],
      "metadata": {
        "id": "yJYYK4ZFLxtt",
        "colab": {
          "base_uri": "https://localhost:8080/"
        },
        "outputId": "5ea781d1-1163-4f6e-f2d2-1d0313f97978"
      },
      "execution_count": 12,
      "outputs": [
        {
          "output_type": "execute_result",
          "data": {
            "text/plain": [
              "array([[0., 0., 0., ..., 0., 0., 0.],\n",
              "       [0., 0., 0., ..., 0., 0., 0.],\n",
              "       [0., 0., 0., ..., 0., 0., 0.],\n",
              "       ...,\n",
              "       [0., 0., 0., ..., 0., 0., 0.],\n",
              "       [0., 0., 0., ..., 0., 0., 0.],\n",
              "       [0., 0., 0., ..., 0., 0., 0.]], dtype=float32)"
            ]
          },
          "metadata": {},
          "execution_count": 12
        }
      ]
    },
    {
      "cell_type": "code",
      "source": [
        "adata.obsm[\"cell_type\"]"
      ],
      "metadata": {
        "id": "O5R2Rh_hLxim",
        "colab": {
          "base_uri": "https://localhost:8080/",
          "height": 502
        },
        "outputId": "76e90253-ef35-4e9c-fc3a-fd916c7af9d7"
      },
      "execution_count": 13,
      "outputs": [
        {
          "output_type": "execute_result",
          "data": {
            "text/plain": [
              "                        Astrocyte  Astroglial cell  Granulocyte  \\\n",
              "mouse_Brain3285_C_1           0.0              0.0          0.0   \n",
              "mouse_Brain3285_C_2           0.0              0.0          0.0   \n",
              "mouse_Brain3285_C_3           0.0              0.0          0.0   \n",
              "mouse_Brain3285_C_4           0.0              0.0          0.0   \n",
              "mouse_Brain3285_C_5           0.0              0.0          0.0   \n",
              "...                           ...              ...          ...   \n",
              "mouse_Brain2695_C_2691        0.0              0.0          0.0   \n",
              "mouse_Brain2695_C_2692        0.0              0.0          0.0   \n",
              "mouse_Brain2695_C_2693        0.0              0.0          0.0   \n",
              "mouse_Brain2695_C_2694        0.0              0.0          0.0   \n",
              "mouse_Brain2695_C_2695        0.0              0.0          0.0   \n",
              "\n",
              "                        Hypothalamic ependymal cell  Macrophage  Microglia  \\\n",
              "mouse_Brain3285_C_1                             0.0         0.0        0.0   \n",
              "mouse_Brain3285_C_2                             0.0         0.0        0.0   \n",
              "mouse_Brain3285_C_3                             0.0         0.0        0.0   \n",
              "mouse_Brain3285_C_4                             0.0         0.0        0.0   \n",
              "mouse_Brain3285_C_5                             0.0         0.0        0.0   \n",
              "...                                             ...         ...        ...   \n",
              "mouse_Brain2695_C_2691                          1.0         0.0        0.0   \n",
              "mouse_Brain2695_C_2692                          1.0         0.0        0.0   \n",
              "mouse_Brain2695_C_2693                          1.0         0.0        0.0   \n",
              "mouse_Brain2695_C_2694                          1.0         0.0        0.0   \n",
              "mouse_Brain2695_C_2695                          1.0         0.0        0.0   \n",
              "\n",
              "                        Myelinating oligodendrocyte  Neuron  \\\n",
              "mouse_Brain3285_C_1                             1.0     0.0   \n",
              "mouse_Brain3285_C_2                             1.0     0.0   \n",
              "mouse_Brain3285_C_3                             1.0     0.0   \n",
              "mouse_Brain3285_C_4                             1.0     0.0   \n",
              "mouse_Brain3285_C_5                             1.0     0.0   \n",
              "...                                             ...     ...   \n",
              "mouse_Brain2695_C_2691                          0.0     0.0   \n",
              "mouse_Brain2695_C_2692                          0.0     0.0   \n",
              "mouse_Brain2695_C_2693                          0.0     0.0   \n",
              "mouse_Brain2695_C_2694                          0.0     0.0   \n",
              "mouse_Brain2695_C_2695                          0.0     0.0   \n",
              "\n",
              "                        Oligodendrocyte precursor cell  Pan-GABAergic  \\\n",
              "mouse_Brain3285_C_1                                0.0            0.0   \n",
              "mouse_Brain3285_C_2                                0.0            0.0   \n",
              "mouse_Brain3285_C_3                                0.0            0.0   \n",
              "mouse_Brain3285_C_4                                0.0            0.0   \n",
              "mouse_Brain3285_C_5                                0.0            0.0   \n",
              "...                                                ...            ...   \n",
              "mouse_Brain2695_C_2691                             0.0            0.0   \n",
              "mouse_Brain2695_C_2692                             0.0            0.0   \n",
              "mouse_Brain2695_C_2693                             0.0            0.0   \n",
              "mouse_Brain2695_C_2694                             0.0            0.0   \n",
              "mouse_Brain2695_C_2695                             0.0            0.0   \n",
              "\n",
              "                        Schwann cell  \n",
              "mouse_Brain3285_C_1              0.0  \n",
              "mouse_Brain3285_C_2              0.0  \n",
              "mouse_Brain3285_C_3              0.0  \n",
              "mouse_Brain3285_C_4              0.0  \n",
              "mouse_Brain3285_C_5              0.0  \n",
              "...                              ...  \n",
              "mouse_Brain2695_C_2691           0.0  \n",
              "mouse_Brain2695_C_2692           0.0  \n",
              "mouse_Brain2695_C_2693           0.0  \n",
              "mouse_Brain2695_C_2694           0.0  \n",
              "mouse_Brain2695_C_2695           0.0  \n",
              "\n",
              "[6733 rows x 11 columns]"
            ],
            "text/html": [
              "\n",
              "  <div id=\"df-15a23d03-8f43-4888-8b5d-93f34895cba2\">\n",
              "    <div class=\"colab-df-container\">\n",
              "      <div>\n",
              "<style scoped>\n",
              "    .dataframe tbody tr th:only-of-type {\n",
              "        vertical-align: middle;\n",
              "    }\n",
              "\n",
              "    .dataframe tbody tr th {\n",
              "        vertical-align: top;\n",
              "    }\n",
              "\n",
              "    .dataframe thead th {\n",
              "        text-align: right;\n",
              "    }\n",
              "</style>\n",
              "<table border=\"1\" class=\"dataframe\">\n",
              "  <thead>\n",
              "    <tr style=\"text-align: right;\">\n",
              "      <th></th>\n",
              "      <th>Astrocyte</th>\n",
              "      <th>Astroglial cell</th>\n",
              "      <th>Granulocyte</th>\n",
              "      <th>Hypothalamic ependymal cell</th>\n",
              "      <th>Macrophage</th>\n",
              "      <th>Microglia</th>\n",
              "      <th>Myelinating oligodendrocyte</th>\n",
              "      <th>Neuron</th>\n",
              "      <th>Oligodendrocyte precursor cell</th>\n",
              "      <th>Pan-GABAergic</th>\n",
              "      <th>Schwann cell</th>\n",
              "    </tr>\n",
              "  </thead>\n",
              "  <tbody>\n",
              "    <tr>\n",
              "      <th>mouse_Brain3285_C_1</th>\n",
              "      <td>0.0</td>\n",
              "      <td>0.0</td>\n",
              "      <td>0.0</td>\n",
              "      <td>0.0</td>\n",
              "      <td>0.0</td>\n",
              "      <td>0.0</td>\n",
              "      <td>1.0</td>\n",
              "      <td>0.0</td>\n",
              "      <td>0.0</td>\n",
              "      <td>0.0</td>\n",
              "      <td>0.0</td>\n",
              "    </tr>\n",
              "    <tr>\n",
              "      <th>mouse_Brain3285_C_2</th>\n",
              "      <td>0.0</td>\n",
              "      <td>0.0</td>\n",
              "      <td>0.0</td>\n",
              "      <td>0.0</td>\n",
              "      <td>0.0</td>\n",
              "      <td>0.0</td>\n",
              "      <td>1.0</td>\n",
              "      <td>0.0</td>\n",
              "      <td>0.0</td>\n",
              "      <td>0.0</td>\n",
              "      <td>0.0</td>\n",
              "    </tr>\n",
              "    <tr>\n",
              "      <th>mouse_Brain3285_C_3</th>\n",
              "      <td>0.0</td>\n",
              "      <td>0.0</td>\n",
              "      <td>0.0</td>\n",
              "      <td>0.0</td>\n",
              "      <td>0.0</td>\n",
              "      <td>0.0</td>\n",
              "      <td>1.0</td>\n",
              "      <td>0.0</td>\n",
              "      <td>0.0</td>\n",
              "      <td>0.0</td>\n",
              "      <td>0.0</td>\n",
              "    </tr>\n",
              "    <tr>\n",
              "      <th>mouse_Brain3285_C_4</th>\n",
              "      <td>0.0</td>\n",
              "      <td>0.0</td>\n",
              "      <td>0.0</td>\n",
              "      <td>0.0</td>\n",
              "      <td>0.0</td>\n",
              "      <td>0.0</td>\n",
              "      <td>1.0</td>\n",
              "      <td>0.0</td>\n",
              "      <td>0.0</td>\n",
              "      <td>0.0</td>\n",
              "      <td>0.0</td>\n",
              "    </tr>\n",
              "    <tr>\n",
              "      <th>mouse_Brain3285_C_5</th>\n",
              "      <td>0.0</td>\n",
              "      <td>0.0</td>\n",
              "      <td>0.0</td>\n",
              "      <td>0.0</td>\n",
              "      <td>0.0</td>\n",
              "      <td>0.0</td>\n",
              "      <td>1.0</td>\n",
              "      <td>0.0</td>\n",
              "      <td>0.0</td>\n",
              "      <td>0.0</td>\n",
              "      <td>0.0</td>\n",
              "    </tr>\n",
              "    <tr>\n",
              "      <th>...</th>\n",
              "      <td>...</td>\n",
              "      <td>...</td>\n",
              "      <td>...</td>\n",
              "      <td>...</td>\n",
              "      <td>...</td>\n",
              "      <td>...</td>\n",
              "      <td>...</td>\n",
              "      <td>...</td>\n",
              "      <td>...</td>\n",
              "      <td>...</td>\n",
              "      <td>...</td>\n",
              "    </tr>\n",
              "    <tr>\n",
              "      <th>mouse_Brain2695_C_2691</th>\n",
              "      <td>0.0</td>\n",
              "      <td>0.0</td>\n",
              "      <td>0.0</td>\n",
              "      <td>1.0</td>\n",
              "      <td>0.0</td>\n",
              "      <td>0.0</td>\n",
              "      <td>0.0</td>\n",
              "      <td>0.0</td>\n",
              "      <td>0.0</td>\n",
              "      <td>0.0</td>\n",
              "      <td>0.0</td>\n",
              "    </tr>\n",
              "    <tr>\n",
              "      <th>mouse_Brain2695_C_2692</th>\n",
              "      <td>0.0</td>\n",
              "      <td>0.0</td>\n",
              "      <td>0.0</td>\n",
              "      <td>1.0</td>\n",
              "      <td>0.0</td>\n",
              "      <td>0.0</td>\n",
              "      <td>0.0</td>\n",
              "      <td>0.0</td>\n",
              "      <td>0.0</td>\n",
              "      <td>0.0</td>\n",
              "      <td>0.0</td>\n",
              "    </tr>\n",
              "    <tr>\n",
              "      <th>mouse_Brain2695_C_2693</th>\n",
              "      <td>0.0</td>\n",
              "      <td>0.0</td>\n",
              "      <td>0.0</td>\n",
              "      <td>1.0</td>\n",
              "      <td>0.0</td>\n",
              "      <td>0.0</td>\n",
              "      <td>0.0</td>\n",
              "      <td>0.0</td>\n",
              "      <td>0.0</td>\n",
              "      <td>0.0</td>\n",
              "      <td>0.0</td>\n",
              "    </tr>\n",
              "    <tr>\n",
              "      <th>mouse_Brain2695_C_2694</th>\n",
              "      <td>0.0</td>\n",
              "      <td>0.0</td>\n",
              "      <td>0.0</td>\n",
              "      <td>1.0</td>\n",
              "      <td>0.0</td>\n",
              "      <td>0.0</td>\n",
              "      <td>0.0</td>\n",
              "      <td>0.0</td>\n",
              "      <td>0.0</td>\n",
              "      <td>0.0</td>\n",
              "      <td>0.0</td>\n",
              "    </tr>\n",
              "    <tr>\n",
              "      <th>mouse_Brain2695_C_2695</th>\n",
              "      <td>0.0</td>\n",
              "      <td>0.0</td>\n",
              "      <td>0.0</td>\n",
              "      <td>1.0</td>\n",
              "      <td>0.0</td>\n",
              "      <td>0.0</td>\n",
              "      <td>0.0</td>\n",
              "      <td>0.0</td>\n",
              "      <td>0.0</td>\n",
              "      <td>0.0</td>\n",
              "      <td>0.0</td>\n",
              "    </tr>\n",
              "  </tbody>\n",
              "</table>\n",
              "<p>6733 rows × 11 columns</p>\n",
              "</div>\n",
              "      <button class=\"colab-df-convert\" onclick=\"convertToInteractive('df-15a23d03-8f43-4888-8b5d-93f34895cba2')\"\n",
              "              title=\"Convert this dataframe to an interactive table.\"\n",
              "              style=\"display:none;\">\n",
              "        \n",
              "  <svg xmlns=\"http://www.w3.org/2000/svg\" height=\"24px\"viewBox=\"0 0 24 24\"\n",
              "       width=\"24px\">\n",
              "    <path d=\"M0 0h24v24H0V0z\" fill=\"none\"/>\n",
              "    <path d=\"M18.56 5.44l.94 2.06.94-2.06 2.06-.94-2.06-.94-.94-2.06-.94 2.06-2.06.94zm-11 1L8.5 8.5l.94-2.06 2.06-.94-2.06-.94L8.5 2.5l-.94 2.06-2.06.94zm10 10l.94 2.06.94-2.06 2.06-.94-2.06-.94-.94-2.06-.94 2.06-2.06.94z\"/><path d=\"M17.41 7.96l-1.37-1.37c-.4-.4-.92-.59-1.43-.59-.52 0-1.04.2-1.43.59L10.3 9.45l-7.72 7.72c-.78.78-.78 2.05 0 2.83L4 21.41c.39.39.9.59 1.41.59.51 0 1.02-.2 1.41-.59l7.78-7.78 2.81-2.81c.8-.78.8-2.07 0-2.86zM5.41 20L4 18.59l7.72-7.72 1.47 1.35L5.41 20z\"/>\n",
              "  </svg>\n",
              "      </button>\n",
              "      \n",
              "  <style>\n",
              "    .colab-df-container {\n",
              "      display:flex;\n",
              "      flex-wrap:wrap;\n",
              "      gap: 12px;\n",
              "    }\n",
              "\n",
              "    .colab-df-convert {\n",
              "      background-color: #E8F0FE;\n",
              "      border: none;\n",
              "      border-radius: 50%;\n",
              "      cursor: pointer;\n",
              "      display: none;\n",
              "      fill: #1967D2;\n",
              "      height: 32px;\n",
              "      padding: 0 0 0 0;\n",
              "      width: 32px;\n",
              "    }\n",
              "\n",
              "    .colab-df-convert:hover {\n",
              "      background-color: #E2EBFA;\n",
              "      box-shadow: 0px 1px 2px rgba(60, 64, 67, 0.3), 0px 1px 3px 1px rgba(60, 64, 67, 0.15);\n",
              "      fill: #174EA6;\n",
              "    }\n",
              "\n",
              "    [theme=dark] .colab-df-convert {\n",
              "      background-color: #3B4455;\n",
              "      fill: #D2E3FC;\n",
              "    }\n",
              "\n",
              "    [theme=dark] .colab-df-convert:hover {\n",
              "      background-color: #434B5C;\n",
              "      box-shadow: 0px 1px 3px 1px rgba(0, 0, 0, 0.15);\n",
              "      filter: drop-shadow(0px 1px 2px rgba(0, 0, 0, 0.3));\n",
              "      fill: #FFFFFF;\n",
              "    }\n",
              "  </style>\n",
              "\n",
              "      <script>\n",
              "        const buttonEl =\n",
              "          document.querySelector('#df-15a23d03-8f43-4888-8b5d-93f34895cba2 button.colab-df-convert');\n",
              "        buttonEl.style.display =\n",
              "          google.colab.kernel.accessAllowed ? 'block' : 'none';\n",
              "\n",
              "        async function convertToInteractive(key) {\n",
              "          const element = document.querySelector('#df-15a23d03-8f43-4888-8b5d-93f34895cba2');\n",
              "          const dataTable =\n",
              "            await google.colab.kernel.invokeFunction('convertToInteractive',\n",
              "                                                     [key], {});\n",
              "          if (!dataTable) return;\n",
              "\n",
              "          const docLinkHtml = 'Like what you see? Visit the ' +\n",
              "            '<a target=\"_blank\" href=https://colab.research.google.com/notebooks/data_table.ipynb>data table notebook</a>'\n",
              "            + ' to learn more about interactive tables.';\n",
              "          element.innerHTML = '';\n",
              "          dataTable['output_type'] = 'display_data';\n",
              "          await google.colab.output.renderOutput(dataTable, element);\n",
              "          const docLink = document.createElement('div');\n",
              "          docLink.innerHTML = docLinkHtml;\n",
              "          element.appendChild(docLink);\n",
              "        }\n",
              "      </script>\n",
              "    </div>\n",
              "  </div>\n",
              "  "
            ]
          },
          "metadata": {},
          "execution_count": 13
        }
      ]
    },
    {
      "cell_type": "markdown",
      "source": [
        "### 2.3. Data pre-processing using transforms\n",
        "\n",
        "Applying individual in-place transformations to data\n"
      ],
      "metadata": {
        "id": "0ytH_-HIrNHx"
      }
    },
    {
      "cell_type": "code",
      "source": [
        "import scanpy as sc\n",
        "from dance.transforms import AnnDataTransform, FilterGenesPercentile"
      ],
      "metadata": {
        "id": "AYlMut_m02Kf"
      },
      "execution_count": 14,
      "outputs": []
    },
    {
      "cell_type": "code",
      "source": [
        "print(f\"Library sizes before normalization: {data.data.X.sum(1).round(0)}\")\n",
        "\n",
        "# Library size normalization\n",
        "AnnDataTransform(sc.pp.normalize_total, target_sum=1e4)(data)\n",
        "\n",
        "print(f\"Library sizes after normalization: {data.data.X.sum(1).round(0)}\")"
      ],
      "metadata": {
        "id": "FhfaqIJP09pg",
        "colab": {
          "base_uri": "https://localhost:8080/"
        },
        "outputId": "98df21b8-678d-4c0c-a00c-f86626865b21"
      },
      "execution_count": 15,
      "outputs": [
        {
          "output_type": "stream",
          "name": "stdout",
          "text": [
            "Library sizes before normalization: [1357. 1631. 1324. ... 2989. 3587. 3037.]\n",
            "Library sizes after normalization: [10000. 10000. 10000. ... 10000. 10000. 10000.]\n"
          ]
        }
      ]
    },
    {
      "cell_type": "code",
      "source": [
        "# Shifted log transformation\n",
        "AnnDataTransform(sc.pp.log1p)(data)\n",
        "\n",
        "print(f\"Sum of expression per cell after log1p transformation: {data.data.X.sum(1)}\")"
      ],
      "metadata": {
        "id": "DZ9nEPA21u55",
        "colab": {
          "base_uri": "https://localhost:8080/"
        },
        "outputId": "40a2109f-0f75-4ed1-dede-0f6daaa896e3"
      },
      "execution_count": 16,
      "outputs": [
        {
          "output_type": "stream",
          "name": "stdout",
          "text": [
            "Sum of expression per cell after log1p transformation: [1402.2233 1705.7186 1353.9008 ... 3424.3523 4250.343  3506.1055]\n"
          ]
        }
      ]
    },
    {
      "cell_type": "code",
      "source": [
        "print(f\"Number of genes before filtering: {data.shape[1]:,}\")\n",
        "\n",
        "# Filter out genes that have extreme coefficient of variation\n",
        "FilterGenesPercentile(min_val=1, max_val=99, mode=\"sum\")(data)\n",
        "\n",
        "print(f\"Number of genes before filtering: {data.shape[1]:,}\")"
      ],
      "metadata": {
        "id": "EGOxkYn00-ve",
        "colab": {
          "base_uri": "https://localhost:8080/"
        },
        "outputId": "e04abc43-a117-489d-a3cd-a33c18a78c05"
      },
      "execution_count": 17,
      "outputs": [
        {
          "output_type": "stream",
          "name": "stdout",
          "text": [
            "Number of genes before filtering: 19,856\n",
            "Number of genes before filtering: 19,657\n"
          ]
        }
      ]
    },
    {
      "cell_type": "markdown",
      "source": [
        "Composing transformations into a a pre-precoessing pipeline (feat. caching)"
      ],
      "metadata": {
        "id": "2St8ISsAr1_M"
      }
    },
    {
      "cell_type": "code",
      "source": [
        "from dance.transforms import Compose\n",
        "\n",
        "preprocessing_pipeline = Compose(\n",
        "    AnnDataTransform(sc.pp.normalize_total, target_sum=1e-4),\n",
        "    AnnDataTransform(sc.pp.log1p),\n",
        "    FilterGenesPercentile(min_val=1, max_val=99, mode=\"sum\"),\n",
        ")\n",
        "\n",
        "# Now we can apply the preprocessing pipeline transformation to our data\n",
        "# data = dataset.load_data()\n",
        "# preprocessing_pipeline(data)\n",
        "\n",
        "# Alternatively, we can also pass the transformation to the loading function\n",
        "data = dataset.load_data(transform=preprocessing_pipeline, cache=True)"
      ],
      "metadata": {
        "id": "NEhY1hTRo_nh",
        "colab": {
          "base_uri": "https://localhost:8080/"
        },
        "outputId": "11a91006-48e9-4496-8a29-e58da4daf1ca"
      },
      "execution_count": 18,
      "outputs": [
        {
          "output_type": "stream",
          "name": "stderr",
          "text": [
            "[INFO][2023-06-28 04:43:01,621][dance][_load_dfs] Loading data from ./train/mouse/mouse_Brain3285_data.csv\n",
            "[INFO][2023-06-28 04:43:09,244][dance][_load_dfs] Loading data from ./train/mouse/mouse_Brain753_data.csv\n",
            "[INFO][2023-06-28 04:43:11,265][dance][_load_dfs] Loading data from ./test/mouse/mouse_Brain2695_data.csv\n",
            "[INFO][2023-06-28 04:43:17,674][dance][_load_dfs] Loading data from ./train/mouse/mouse_Brain3285_celltype.csv\n",
            "[INFO][2023-06-28 04:43:17,686][dance][_load_dfs] Loading data from ./train/mouse/mouse_Brain753_celltype.csv\n",
            "[INFO][2023-06-28 04:43:17,691][dance][_load_dfs] Loading data from ./test/mouse/mouse_Brain2695_celltype.csv\n",
            "[INFO][2023-06-28 04:43:21,274][dance][_load_raw_data] Loaded expression data: AnnData object with n_obs × n_vars = 6733 × 19856\n",
            "[INFO][2023-06-28 04:43:21,276][dance][_load_raw_data] Number of training samples: 4,038\n",
            "[INFO][2023-06-28 04:43:21,278][dance][_load_raw_data] Number of testing samples: 2,695\n",
            "[INFO][2023-06-28 04:43:21,280][dance][_load_raw_data] Cell-types (n=11):\n",
            "['Astrocyte',\n",
            " 'Astroglial cell',\n",
            " 'Granulocyte',\n",
            " 'Hypothalamic ependymal cell',\n",
            " 'Macrophage',\n",
            " 'Microglia',\n",
            " 'Myelinating oligodendrocyte',\n",
            " 'Neuron',\n",
            " 'Oligodendrocyte precursor cell',\n",
            " 'Pan-GABAergic',\n",
            " 'Schwann cell']\n",
            "[INFO][2023-06-28 04:43:21,319][dance][load_data] Raw data loaded:\n",
            "Data object that wraps (.data):\n",
            "AnnData object with n_obs × n_vars = 6733 × 19856\n",
            "    uns: 'dance_config'\n",
            "    obsm: 'cell_type'\n",
            "[INFO][2023-06-28 04:43:23,225][dance][load_data] Data transformed:\n",
            "Data object that wraps (.data):\n",
            "AnnData object with n_obs × n_vars = 6733 × 19657\n",
            "    uns: 'dance_config', 'log1p'\n",
            "    obsm: 'cell_type'\n",
            "[INFO][2023-06-28 04:43:33,536][dance][load_data] Saved processed data to cache: /content/cache/3b4e7591e2276386e7ba5ac8ab3d46c8.pkl\n",
            "[INFO][2023-06-28 04:43:33,538][dance][wrapped_func] Took 0:00:31.917650 to load and process data.\n"
          ]
        }
      ]
    },
    {
      "cell_type": "code",
      "source": [
        "# Reloading the data with cache enabled using the same transformation\n",
        "# before can significantly reduce the data loading and pre-processing\n",
        "# time. Making it easier for researcher to run evaluation with different\n",
        "# configurations many times but with the same pre-processed data\n",
        "data = dataset.load_data(transform=preprocessing_pipeline, cache=True)"
      ],
      "metadata": {
        "id": "9L8DaBvnuRLH",
        "colab": {
          "base_uri": "https://localhost:8080/"
        },
        "outputId": "e729695f-6eb5-4e55-99a6-6fff00e6aef2"
      },
      "execution_count": 19,
      "outputs": [
        {
          "output_type": "stream",
          "name": "stderr",
          "text": [
            "[INFO][2023-06-28 04:43:34,439][dance][_maybe_load_cache] Loading cached data at /content/cache/3b4e7591e2276386e7ba5ac8ab3d46c8.pkl\n",
            "================================Cache data info=================================\n",
            "------------------------------Dataset object info-------------------------------\n",
            "ScDeepSortDataset(species='mouse', tissue='Brain', train_dataset=['3285', '753'], test_dataset=['2695'])\n",
            "------------------------------Transformation info-------------------------------\n",
            "Compose(\n",
            "  AnnDataTransform(func=scanpy.preprocessing._normalization.normalize_total, func_kwargs={'target_sum': 0.0001}),\n",
            "  AnnDataTransform(func=scanpy.preprocessing._simple.log1p, func_kwargs={}),\n",
            "  FilterGenesPercentile(min_val=1, max_val=99, mode='sum'),\n",
            ")\n",
            "--------------------------------Loaded data info--------------------------------\n",
            "Data object that wraps (.data):\n",
            "AnnData object with n_obs × n_vars = 6733 × 19657\n",
            "    uns: 'dance_config', 'log1p'\n",
            "    obsm: 'cell_type'\n",
            "=============================End of cache data info=============================\n",
            "[INFO][2023-06-28 04:43:34,444][dance][load_data] Data loaded:\n",
            "Data object that wraps (.data):\n",
            "AnnData object with n_obs × n_vars = 6733 × 19657\n",
            "    uns: 'dance_config', 'log1p'\n",
            "    obsm: 'cell_type'\n",
            "[INFO][2023-06-28 04:43:34,447][dance][wrapped_func] Took 0:00:00.897568 to load and process data.\n"
          ]
        }
      ]
    },
    {
      "cell_type": "markdown",
      "source": [
        "## 3. Single modality tasks"
      ],
      "metadata": {
        "id": "mkvsZ3K7YSV5"
      }
    },
    {
      "cell_type": "markdown",
      "source": [
        "### 3.1 Example: ACTINN for Cell Type Annotation\n",
        "\n",
        "#### Model structure\n",
        "\n",
        "![image](https://github.com/OmicsML/dance-tutorials/raw/main/imgs/tutorial_v1/singlemodality/mlp_visualization.png)\n",
        "\n",
        "#### Visualization of annotation results\n",
        "\n",
        "![image](https://github.com/OmicsML/dance-tutorials/raw/main/imgs/tutorial_v1/singlemodality/cell_type_visualization.png)"
      ],
      "metadata": {
        "id": "YP6RTEfKHAli"
      }
    },
    {
      "cell_type": "markdown",
      "source": [
        "#### Load data"
      ],
      "metadata": {
        "id": "z-eaoyhCGuTt"
      }
    },
    {
      "cell_type": "code",
      "source": [
        "print(\"Available dataset option for ScDeepSortDataset:\")\n",
        "pprint(ScDeepSortDataset.get_avalilable_data())"
      ],
      "metadata": {
        "id": "bA7PPc2wvM3L",
        "colab": {
          "base_uri": "https://localhost:8080/"
        },
        "outputId": "41b1baba-7331-4a5a-fc75-78929ae52e97"
      },
      "execution_count": 20,
      "outputs": [
        {
          "output_type": "stream",
          "name": "stdout",
          "text": [
            "Available dataset option for ScDeepSortDataset:\n",
            "[{'dataset': '3285', 'species': 'mouse', 'split': 'train', 'tissue': 'Brain'},\n",
            " {'dataset': '753', 'species': 'mouse', 'split': 'train', 'tissue': 'Brain'},\n",
            " {'dataset': '4682', 'species': 'mouse', 'split': 'train', 'tissue': 'Kidney'},\n",
            " {'dataset': '1970', 'species': 'mouse', 'split': 'train', 'tissue': 'Spleen'},\n",
            " {'dataset': '2695', 'species': 'mouse', 'split': 'test', 'tissue': 'Brain'},\n",
            " {'dataset': '203', 'species': 'mouse', 'split': 'test', 'tissue': 'Kidney'},\n",
            " {'dataset': '1759', 'species': 'mouse', 'split': 'test', 'tissue': 'Spleen'}]\n"
          ]
        }
      ]
    },
    {
      "cell_type": "code",
      "source": [
        "import numpy as np\n",
        "\n",
        "from dance.modules.single_modality.cell_type_annotation.actinn import ACTINN\n",
        "from dance.utils import set_seed\n",
        "\n",
        "# Initialize model and get model specific preprocessing pipeline\n",
        "model = ACTINN(hidden_dims=[256, 256], lambd=0.01, device='cuda')\n",
        "preprocessing_pipeline = model.preprocessing_pipeline(normalize=True, filter_genes=True)\n",
        "\n",
        "# Load data and perform necessary preprocessing\n",
        "dataset = ScDeepSortDataset(species=\"mouse\", tissue=\"Brain\",\n",
        "                            train_dataset=[\"3285\", \"753\"], test_dataset=[\"2695\"])\n",
        "data = dataset.load_data(transform=preprocessing_pipeline, cache=True)"
      ],
      "metadata": {
        "id": "wzZBJS2pvM0p",
        "colab": {
          "base_uri": "https://localhost:8080/"
        },
        "outputId": "1d10d5c1-98e6-448c-82da-ee804ae95190"
      },
      "execution_count": 21,
      "outputs": [
        {
          "output_type": "stream",
          "name": "stderr",
          "text": [
            "[INFO][2023-06-28 04:43:34,671][dance][_load_dfs] Loading data from ./train/mouse/mouse_Brain3285_data.csv\n",
            "[INFO][2023-06-28 04:43:41,397][dance][_load_dfs] Loading data from ./train/mouse/mouse_Brain753_data.csv\n",
            "[INFO][2023-06-28 04:43:43,469][dance][_load_dfs] Loading data from ./test/mouse/mouse_Brain2695_data.csv\n",
            "[INFO][2023-06-28 04:43:51,601][dance][_load_dfs] Loading data from ./train/mouse/mouse_Brain3285_celltype.csv\n",
            "[INFO][2023-06-28 04:43:51,612][dance][_load_dfs] Loading data from ./train/mouse/mouse_Brain753_celltype.csv\n",
            "[INFO][2023-06-28 04:43:51,617][dance][_load_dfs] Loading data from ./test/mouse/mouse_Brain2695_celltype.csv\n",
            "[INFO][2023-06-28 04:43:56,014][dance][_load_raw_data] Loaded expression data: AnnData object with n_obs × n_vars = 6733 × 19856\n",
            "[INFO][2023-06-28 04:43:56,016][dance][_load_raw_data] Number of training samples: 4,038\n",
            "[INFO][2023-06-28 04:43:56,018][dance][_load_raw_data] Number of testing samples: 2,695\n",
            "[INFO][2023-06-28 04:43:56,021][dance][_load_raw_data] Cell-types (n=11):\n",
            "['Astrocyte',\n",
            " 'Astroglial cell',\n",
            " 'Granulocyte',\n",
            " 'Hypothalamic ependymal cell',\n",
            " 'Macrophage',\n",
            " 'Microglia',\n",
            " 'Myelinating oligodendrocyte',\n",
            " 'Neuron',\n",
            " 'Oligodendrocyte precursor cell',\n",
            " 'Pan-GABAergic',\n",
            " 'Schwann cell']\n",
            "[INFO][2023-06-28 04:43:56,060][dance][load_data] Raw data loaded:\n",
            "Data object that wraps (.data):\n",
            "AnnData object with n_obs × n_vars = 6733 × 19856\n",
            "    uns: 'dance_config'\n",
            "    obsm: 'cell_type'\n",
            "[INFO][2023-06-28 04:43:56,061][dance.Compose][__call__] Applying composed transformations:\n",
            "Compose(\n",
            "  AnnDataTransform(func=scanpy.preprocessing._normalization.normalize_total, func_kwargs={'target_sum': 10000.0}),\n",
            "  AnnDataTransform(func=scanpy.preprocessing._simple.log1p, func_kwargs={'base': 2}),\n",
            "  AnnDataTransform(func=scanpy.preprocessing._simple.filter_genes, func_kwargs={'min_cells': 1}),\n",
            "  FilterGenesPercentile(min_val=1, max_val=99, mode='sum'),\n",
            "  FilterGenesPercentile(min_val=1, max_val=99, mode='cv'),\n",
            "  SetConfig(config_dict={'label_channel': 'cell_type'}),\n",
            ")\n",
            "[INFO][2023-06-28 04:43:58,252][dance.FilterGenesPercentile][__call__] Filtering genes based on sum expression percentiles in layer None\n",
            "[INFO][2023-06-28 04:43:58,259][dance.FilterGenesPercentile][__call__] 379 genes removed\n",
            "[INFO][2023-06-28 04:44:00,009][dance.FilterGenesPercentile][__call__] Filtering genes based on cv expression percentiles in layer None\n",
            "[INFO][2023-06-28 04:44:00,018][dance.FilterGenesPercentile][__call__] 371 genes removed\n",
            "[INFO][2023-06-28 04:44:01,725][dance.SetConfig][__call__] Updating the dance data object config options:\n",
            "{'label_channel': 'cell_type'}\n",
            "[INFO][2023-06-28 04:44:01,728][dance][set_config_from_dict] Setting config 'label_channel' to 'cell_type'\n",
            "[INFO][2023-06-28 04:44:01,731][dance][load_data] Data transformed:\n",
            "Data object that wraps (.data):\n",
            "AnnData object with n_obs × n_vars = 6733 × 18159\n",
            "    var: 'n_cells'\n",
            "    uns: 'dance_config', 'log1p'\n",
            "    obsm: 'cell_type'\n",
            "[INFO][2023-06-28 04:44:05,304][dance][load_data] Saved processed data to cache: /content/cache/4cf1a359e9711279b7d01351ab71503a.pkl\n",
            "[INFO][2023-06-28 04:44:05,306][dance][wrapped_func] Took 0:00:30.635455 to load and process data.\n"
          ]
        }
      ]
    },
    {
      "cell_type": "markdown",
      "source": [
        "#### Train and evaluate model"
      ],
      "metadata": {
        "id": "eNKJg6sYG0Bf"
      }
    },
    {
      "cell_type": "code",
      "source": [
        "# Obtain training and testing data\n",
        "x_train, y_train = data.get_train_data(return_type=\"torch\")\n",
        "x_test, y_test = data.get_test_data(return_type=\"torch\")"
      ],
      "metadata": {
        "id": "QW4EgXbwvSKT"
      },
      "execution_count": 22,
      "outputs": []
    },
    {
      "cell_type": "code",
      "source": [
        "print(x_train)"
      ],
      "metadata": {
        "id": "6hJhRnGOvSHb",
        "colab": {
          "base_uri": "https://localhost:8080/"
        },
        "outputId": "bf8a2550-e380-4dda-d884-2020dcab6ad0"
      },
      "execution_count": 23,
      "outputs": [
        {
          "output_type": "stream",
          "name": "stdout",
          "text": [
            "tensor([[0., 0., 0.,  ..., 0., 0., 0.],\n",
            "        [0., 0., 0.,  ..., 0., 0., 0.],\n",
            "        [0., 0., 0.,  ..., 0., 0., 0.],\n",
            "        ...,\n",
            "        [0., 0., 0.,  ..., 0., 0., 0.],\n",
            "        [0., 0., 0.,  ..., 0., 0., 0.],\n",
            "        [0., 0., 0.,  ..., 0., 0., 0.]])\n"
          ]
        }
      ]
    },
    {
      "cell_type": "code",
      "source": [
        "print(y_train)"
      ],
      "metadata": {
        "id": "ruA5vKQ-vSEX",
        "colab": {
          "base_uri": "https://localhost:8080/"
        },
        "outputId": "29cda4f9-7d57-46a5-b2d3-3153127f686f"
      },
      "execution_count": 24,
      "outputs": [
        {
          "output_type": "stream",
          "name": "stdout",
          "text": [
            "tensor([[0., 0., 0.,  ..., 0., 0., 0.],\n",
            "        [0., 0., 0.,  ..., 0., 0., 0.],\n",
            "        [0., 0., 0.,  ..., 0., 0., 0.],\n",
            "        ...,\n",
            "        [0., 0., 0.,  ..., 0., 0., 0.],\n",
            "        [0., 0., 0.,  ..., 0., 0., 0.],\n",
            "        [1., 0., 0.,  ..., 0., 0., 0.]])\n"
          ]
        }
      ]
    },
    {
      "cell_type": "code",
      "source": [
        "# Train and evaluate model\n",
        "set_seed(42)\n",
        "model.fit(x_train, y_train, lr=0.001, num_epochs=21,\n",
        "          batch_size=1000, print_cost=True)\n",
        "print(f\"ACC: {model.score(x_test, y_test):.4f}\")"
      ],
      "metadata": {
        "id": "VZjdWCOwvVJW",
        "colab": {
          "base_uri": "https://localhost:8080/"
        },
        "outputId": "4cdc5313-7efb-4496-fdd5-9328a71cd5a9"
      },
      "execution_count": 25,
      "outputs": [
        {
          "output_type": "stream",
          "name": "stderr",
          "text": [
            "[INFO][2023-06-28 04:44:05,746][dance][set_seed] Setting global random seed to 42\n"
          ]
        },
        {
          "output_type": "stream",
          "name": "stdout",
          "text": [
            "Epoch:    0 Loss: 4.8823\n",
            "Epoch:   10 Loss: 2.1393\n",
            "Epoch:   20 Loss: 2.0517\n",
            "ACC: 0.3677\n"
          ]
        }
      ]
    },
    {
      "cell_type": "code",
      "source": [
        "print(model.model)"
      ],
      "metadata": {
        "id": "qevK79covVMj",
        "colab": {
          "base_uri": "https://localhost:8080/"
        },
        "outputId": "e2e25a30-68d2-4942-a493-3e2f9eb79290"
      },
      "execution_count": 26,
      "outputs": [
        {
          "output_type": "stream",
          "name": "stdout",
          "text": [
            "VanillaMLP(\n",
            "  (model): Sequential(\n",
            "    (0): Linear(in_features=18159, out_features=256, bias=True)\n",
            "    (1): ReLU()\n",
            "    (2): Linear(in_features=256, out_features=256, bias=True)\n",
            "    (3): ReLU()\n",
            "    (4): Linear(in_features=256, out_features=11, bias=True)\n",
            "  )\n",
            ")\n"
          ]
        }
      ]
    },
    {
      "cell_type": "markdown",
      "source": [
        "### 3.2 Example: GraphSCI for Imputation\n",
        "\n",
        "#### Model structure\n",
        "\n",
        "![image](https://github.com/OmicsML/dance-tutorials/raw/main/imgs/tutorial_v1/singlemodality/graphsci_visualization.png)\n",
        "\n",
        "#### Reported results\n",
        "\n",
        "![image](https://github.com/OmicsML/dance-tutorials/raw/main/imgs/tutorial_v1/singlemodality/imputation_results_example.png)"
      ],
      "metadata": {
        "id": "APzGBDTSG7e2"
      }
    },
    {
      "cell_type": "markdown",
      "source": [
        "#### Load data"
      ],
      "metadata": {
        "id": "MDO_0RIFHozy"
      }
    },
    {
      "cell_type": "code",
      "source": [
        "import torch\n",
        "\n",
        "from dance.datasets.singlemodality import ImputationDataset\n",
        "from dance.modules.single_modality.imputation.graphsci import GraphSCI\n",
        "from dance.utils import set_seed\n",
        "\n",
        "# Load data and perform preprocessing\n",
        "set_seed(42)\n",
        "dataloader = ImputationDataset(data_dir='./data', dataset='pbmc_data', train_size=0.9)\n",
        "preprocessing_pipeline = GraphSCI.preprocessing_pipeline(mask=True, mask_rate=0.1)\n",
        "data = dataloader.load_data(transform=preprocessing_pipeline, cache=True)"
      ],
      "metadata": {
        "id": "yxXzPNjSG6jl",
        "colab": {
          "base_uri": "https://localhost:8080/"
        },
        "outputId": "71b16351-9690-4eeb-895e-63bbe3efc43c"
      },
      "execution_count": 27,
      "outputs": [
        {
          "output_type": "stream",
          "name": "stderr",
          "text": [
            "[INFO][2023-06-28 04:44:08,236][dance][set_seed] Setting global random seed to 42\n",
            "[INFO][2023-06-28 04:44:08,240][dance][is_complete] file ./data/train doesn't exist\n",
            "/usr/local/lib/python3.10/dist-packages/anndata/_core/anndata.py:1832: UserWarning: Variable names are not unique. To make them unique, call `.var_names_make_unique`.\n",
            "  utils.warn_names_duplicates(\"var\")\n",
            "[INFO][2023-06-28 04:45:18,855][dance][load_data] Raw data loaded:\n",
            "Data object that wraps (.data):\n",
            "AnnData object with n_obs × n_vars = 5247 × 33538\n",
            "    var: 'gene_ids', 'feature_types', 'genome'\n",
            "    uns: 'dance_config'\n",
            "[INFO][2023-06-28 04:45:18,857][dance.Compose][__call__] Applying composed transformations:\n",
            "Compose(\n",
            "  FilterGenesScanpy(min_counts=None, min_cells=0.1, max_counts=None, max_cells=None, split_name=None),\n",
            "  FilterCellsScanpy(min_counts=1, min_genes=None, max_counts=None, max_genes=None, split_name=None),\n",
            "  SaveRaw(),\n",
            "  AnnDataTransform(func=scanpy.preprocessing._simple.log1p, func_kwargs={}),\n",
            "  FeatureFeatureGraph(),\n",
            "  CellwiseMaskData(distr='exp', mask_rate=0.1, seed=1),\n",
            "  SetConfig(config_dict={'feature_channel': [None, None, 'FeatureFeatureGraph', 'train_mask'], 'feature_channel_type': ['X', 'raw_X', 'uns', 'layers'], 'label_channel': [None, None], 'label_channel_type': ['X', 'raw_X']}),\n",
            ")\n",
            "[INFO][2023-06-28 04:45:18,943][dance.FilterGenesScanpy][__call__] Subsetting genes (-303 removed) due to FilterGenesScanpy(min_counts=None, min_cells=0.1, max_counts=None, max_cells=None, split_name=None)\n",
            "[INFO][2023-06-28 04:45:19,012][dance.SaveRaw][__call__] Saving data to ``.raw``\n",
            "/usr/local/lib/python3.10/dist-packages/dgl/backend/pytorch/tensor.py:449: UserWarning: TypedStorage is deprecated. It will be removed in the future and UntypedStorage will be the only storage class. This should only matter to you if you are using storages directly.  To access UntypedStorage directly, use tensor.untyped_storage() instead of tensor.storage()\n",
            "  assert input.numel() == input.storage().size(), (\n",
            "[INFO][2023-06-28 04:45:23,657][dance.SetConfig][__call__] Updating the dance data object config options:\n",
            "{'feature_channel': [None, None, 'FeatureFeatureGraph', 'train_mask'],\n",
            " 'feature_channel_type': ['X', 'raw_X', 'uns', 'layers'],\n",
            " 'label_channel': [None, None],\n",
            " 'label_channel_type': ['X', 'raw_X']}\n",
            "[INFO][2023-06-28 04:45:23,659][dance][set_config_from_dict] Setting config 'feature_channel' to [None, None, 'FeatureFeatureGraph', 'train_mask']\n",
            "[INFO][2023-06-28 04:45:23,663][dance][set_config_from_dict] Setting config 'feature_channel_type' to ['X', 'raw_X', 'uns', 'layers']\n",
            "[INFO][2023-06-28 04:45:23,668][dance][set_config_from_dict] Setting config 'label_channel' to [None, None]\n",
            "[INFO][2023-06-28 04:45:23,669][dance][set_config_from_dict] Setting config 'label_channel_type' to ['X', 'raw_X']\n",
            "[INFO][2023-06-28 04:45:23,671][dance][load_data] Data transformed:\n",
            "Data object that wraps (.data):\n",
            "AnnData object with n_obs × n_vars = 5247 × 302\n",
            "    var: 'gene_ids', 'feature_types', 'genome'\n",
            "    uns: 'dance_config', 'log1p', 'FeatureFeatureGraph'\n",
            "    layers: 'train_mask', 'valid_mask'\n",
            "[INFO][2023-06-28 04:45:23,849][dance][load_data] Saved processed data to cache: /content/data/cache/92d4090a95d0ec33106ea968c0b47995.pkl\n",
            "[INFO][2023-06-28 04:45:23,853][dance][wrapped_func] Took 0:01:15.614083 to load and process data.\n"
          ]
        }
      ]
    },
    {
      "cell_type": "code",
      "source": [
        "data.data.layers['train_mask']"
      ],
      "metadata": {
        "id": "pTwtpDNcvdYA",
        "colab": {
          "base_uri": "https://localhost:8080/"
        },
        "outputId": "4b05d6bc-e3fd-43fa-b920-0cad63fccaf3"
      },
      "execution_count": 28,
      "outputs": [
        {
          "output_type": "execute_result",
          "data": {
            "text/plain": [
              "array([[ True,  True,  True, ...,  True,  True,  True],\n",
              "       [ True,  True,  True, ...,  True,  True,  True],\n",
              "       [ True, False,  True, ...,  True,  True,  True],\n",
              "       ...,\n",
              "       [ True,  True,  True, ...,  True,  True,  True],\n",
              "       [ True,  True,  True, ..., False,  True,  True],\n",
              "       [ True,  True,  True, ...,  True,  True, False]])"
            ]
          },
          "metadata": {},
          "execution_count": 28
        }
      ]
    },
    {
      "cell_type": "code",
      "source": [
        "data.data.layers['valid_mask']"
      ],
      "metadata": {
        "id": "Drw8p9_EvdcO",
        "colab": {
          "base_uri": "https://localhost:8080/"
        },
        "outputId": "ad12e2a3-e054-4213-f0be-d8029b87f643"
      },
      "execution_count": 29,
      "outputs": [
        {
          "output_type": "execute_result",
          "data": {
            "text/plain": [
              "array([[False, False, False, ..., False, False, False],\n",
              "       [False, False, False, ..., False, False, False],\n",
              "       [False,  True, False, ..., False, False, False],\n",
              "       ...,\n",
              "       [False, False, False, ..., False, False, False],\n",
              "       [False, False, False, ...,  True, False, False],\n",
              "       [False, False, False, ..., False, False,  True]])"
            ]
          },
          "metadata": {},
          "execution_count": 29
        }
      ]
    },
    {
      "cell_type": "markdown",
      "source": [
        "#### Train and evaluate model"
      ],
      "metadata": {
        "id": "R78kh2NvHr7n"
      }
    },
    {
      "cell_type": "code",
      "source": [
        "# Obtain training and testing data\n",
        "X, X_raw, g, mask = data.get_x(return_type=\"default\")\n",
        "device = 'cuda:0'\n",
        "X = torch.tensor(X.toarray()).to(device)\n",
        "X_raw = torch.tensor(X_raw.toarray()).to(device)\n",
        "g = g.to(device)\n",
        "train_idx = data.train_idx\n",
        "test_idx = data.test_idx\n",
        "\n",
        "# Train and evaluate model\n",
        "model = GraphSCI(num_cells=X.shape[0], num_genes=X.shape[1],\n",
        "                 dataset='pbmc_data', gpu=0)\n",
        "model.fit(X, X_raw, g, train_idx, mask, n_epochs=10, la=1e-7)\n",
        "model.load_model()\n",
        "imputed_data = model.predict(X, X_raw, g, mask)\n",
        "score = model.score(X_raw, imputed_data, test_idx, mask, metric='RMSE')\n",
        "print(\"RMSE: %.4f\" % score)"
      ],
      "metadata": {
        "id": "jbo4IZIMG7R6",
        "colab": {
          "base_uri": "https://localhost:8080/"
        },
        "outputId": "31b6c2da-405c-4e56-c6db-21355facc59a"
      },
      "execution_count": 30,
      "outputs": [
        {
          "output_type": "stream",
          "name": "stdout",
          "text": [
            "[Epoch0], train_loss 2.985725, adj_loss 0.386764, express_loss 2.118230, kl_loss 0.480731, valid_loss 2.871126\n",
            "[Epoch1], train_loss 3.081999, adj_loss 0.465519, express_loss 2.109051, kl_loss 0.507429, valid_loss 3.051302\n",
            "[Epoch2], train_loss 2.857551, adj_loss 0.355556, express_loss 2.102364, kl_loss 0.399632, valid_loss 2.679845\n",
            "[Epoch3], train_loss 2.627350, adj_loss 0.329589, express_loss 2.089371, kl_loss 0.208390, valid_loss 2.614986\n",
            "[Epoch4], train_loss 2.500940, adj_loss 0.318771, express_loss 2.077216, kl_loss 0.104953, valid_loss 2.557731\n",
            "[Epoch5], train_loss 2.488447, adj_loss 0.312193, express_loss 2.066709, kl_loss 0.109546, valid_loss 2.532905\n",
            "[Epoch6], train_loss 2.654563, adj_loss 0.309210, express_loss 2.054052, kl_loss 0.291301, valid_loss 2.524547\n",
            "[Epoch7], train_loss 2.395145, adj_loss 0.308574, express_loss 2.045947, kl_loss 0.040625, valid_loss 2.517977\n",
            "[Epoch8], train_loss 2.378382, adj_loss 0.307692, express_loss 2.037600, kl_loss 0.033090, valid_loss 2.554008\n",
            "[Epoch9], train_loss 2.415015, adj_loss 0.306795, express_loss 2.038357, kl_loss 0.069863, valid_loss 2.564871\n",
            "RMSE: 0.4075\n"
          ]
        }
      ]
    },
    {
      "cell_type": "markdown",
      "source": [
        "### 3.3 Example: scDeepCluster for Clustering\n",
        "\n",
        "#### Model structure\n",
        "\n",
        "![image](https://github.com/OmicsML/dance-tutorials/raw/main/imgs/tutorial_v1/singlemodality/scdeepcluster_visualization.png)\n",
        "\n",
        "#### Reported results\n",
        "\n",
        "![image](https://github.com/OmicsML/dance-tutorials/raw/main/imgs/tutorial_v1/singlemodality/clustering_results_example.png)"
      ],
      "metadata": {
        "id": "-0QOxl1iHvdY"
      }
    },
    {
      "cell_type": "markdown",
      "source": [
        "#### Load data"
      ],
      "metadata": {
        "id": "7F-WvpQ9H_Vc"
      }
    },
    {
      "cell_type": "code",
      "source": [
        "from dance.datasets.singlemodality import ClusteringDataset\n",
        "from dance.modules.single_modality.clustering.scdeepcluster import ScDeepCluster\n",
        "from dance.utils import set_seed\n",
        "\n",
        "\n",
        "# Load data and perform necessary preprocessing\n",
        "dataloader = ClusteringDataset('./data', '10X_PBMC')\n",
        "preprocessing_pipeline = ScDeepCluster.preprocessing_pipeline()\n",
        "data = dataloader.load_data(transform=preprocessing_pipeline)"
      ],
      "metadata": {
        "id": "dUF8K64tHv9D",
        "colab": {
          "base_uri": "https://localhost:8080/"
        },
        "outputId": "f702f70b-f675-4637-d1bf-bf351b973fd7"
      },
      "execution_count": 31,
      "outputs": [
        {
          "output_type": "stream",
          "name": "stderr",
          "text": [
            "[INFO][2023-06-28 04:45:30,652][dance][download_file] Downloading: ./data/10X_PBMC.h5 Bytes: 12,135,959\n",
            "100%|██████████| 11.6M/11.6M [00:01<00:00, 6.59MB/s]\n",
            "[INFO][2023-06-28 04:45:35,056][dance][load_data] Raw data loaded:\n",
            "Data object that wraps (.data):\n",
            "AnnData object with n_obs × n_vars = 4271 × 16653\n",
            "    uns: 'dance_config'\n",
            "    obsm: 'Group'\n",
            "[INFO][2023-06-28 04:45:35,058][dance.Compose][__call__] Applying composed transformations:\n",
            "Compose(\n",
            "  AnnDataTransform(func=scanpy.preprocessing._simple.filter_genes, func_kwargs={'min_counts': 1}),\n",
            "  AnnDataTransform(func=scanpy.preprocessing._simple.filter_cells, func_kwargs={'min_counts': 1}),\n",
            "  SaveRaw(),\n",
            "  AnnDataTransform(func=scanpy.preprocessing._normalization.normalize_total, func_kwargs={}),\n",
            "  AnnDataTransform(func=scanpy.preprocessing._simple.log1p, func_kwargs={}),\n",
            "  AnnDataTransform(func=scanpy.preprocessing._simple.scale, func_kwargs={}),\n",
            "  SetConfig(config_dict={'feature_channel': [None, None, 'n_counts'], 'feature_channel_type': ['X', 'raw_X', 'obs'], 'label_channel': 'Group'}),\n",
            ")\n",
            "[INFO][2023-06-28 04:45:36,485][dance.SaveRaw][__call__] Saving data to ``.raw``\n",
            "[INFO][2023-06-28 04:45:37,430][dance.SetConfig][__call__] Updating the dance data object config options:\n",
            "{'feature_channel': [None, None, 'n_counts'],\n",
            " 'feature_channel_type': ['X', 'raw_X', 'obs'],\n",
            " 'label_channel': 'Group'}\n",
            "[INFO][2023-06-28 04:45:37,432][dance][set_config_from_dict] Setting config 'feature_channel' to [None, None, 'n_counts']\n",
            "[INFO][2023-06-28 04:45:37,435][dance][set_config_from_dict] Setting config 'feature_channel_type' to ['X', 'raw_X', 'obs']\n",
            "[INFO][2023-06-28 04:45:37,440][dance][set_config_from_dict] Setting config 'label_channel' to 'Group'\n",
            "[INFO][2023-06-28 04:45:37,441][dance][load_data] Data transformed:\n",
            "Data object that wraps (.data):\n",
            "AnnData object with n_obs × n_vars = 4271 × 16653\n",
            "    obs: 'n_counts'\n",
            "    var: 'n_counts', 'mean', 'std'\n",
            "    uns: 'dance_config', 'log1p'\n",
            "    obsm: 'Group'\n",
            "[INFO][2023-06-28 04:45:37,444][dance][wrapped_func] Took 0:00:09.572837 to load and process data.\n"
          ]
        }
      ]
    },
    {
      "cell_type": "markdown",
      "source": [
        "#### Train and evaluate model"
      ],
      "metadata": {
        "id": "Qo6CQAeaICio"
      }
    },
    {
      "cell_type": "code",
      "source": [
        "# inputs: x, x_raw, n_counts\n",
        "inputs, y = data.get_train_data()\n",
        "n_clusters = len(np.unique(y))\n",
        "in_dim = inputs[0].shape[1]\n",
        "\n",
        "# Build and train model\n",
        "set_seed(42)\n",
        "model = ScDeepCluster(input_dim=in_dim, z_dim=32, encodeLayer=[256, 64], decodeLayer=[64, 256], device='cuda')\n",
        "model.fit(inputs, y, n_clusters=n_clusters, lr=0.01, epochs=3, pt_epochs=3)\n",
        "\n",
        "# Evaluate model predictions\n",
        "score = model.score(None, y)\n",
        "print(f\"ARI: {score:.4f}\")"
      ],
      "metadata": {
        "id": "74Pkn2ztHwRv",
        "colab": {
          "base_uri": "https://localhost:8080/"
        },
        "outputId": "adc1c9ed-2917-4c1e-8a0f-f473e1b8cf90"
      },
      "execution_count": 32,
      "outputs": [
        {
          "output_type": "stream",
          "name": "stderr",
          "text": [
            "[INFO][2023-06-28 04:45:37,626][dance][set_seed] Setting global random seed to 42\n",
            "[INFO][2023-06-28 04:45:37,752][dance][_pretrain] Pre-training started\n",
            "[WARNING][2023-06-28 04:45:37,753][dance][_pretrain] `pretrain_path` is not set, pre-trained model will not be saved.\n",
            "[INFO][2023-06-28 04:45:38,613][dance][pretrain] Pretrain epoch   1, ZINB loss: 0.39054949\n",
            "[INFO][2023-06-28 04:45:39,438][dance][pretrain] Pretrain epoch   2, ZINB loss: 0.29828299\n",
            "[INFO][2023-06-28 04:45:40,258][dance][pretrain] Pretrain epoch   3, ZINB loss: 0.28693729\n",
            "[INFO][2023-06-28 04:45:40,259][dance][_pretrain] Pre-training finished (took 2.50 seconds)\n",
            "[INFO][2023-06-28 04:45:40,556][dance][fit] Initializing cluster centers with kmeans.\n",
            "[INFO][2023-06-28 04:45:42,170][dance][fit] Epoch   1: Total: 0.43940250, Clustering Loss: 0.15573579, ZINB Loss: 0.28366671\n",
            "[INFO][2023-06-28 04:45:43,022][dance][fit] Epoch   2: Total: 0.43976923, Clustering Loss: 0.15603647, ZINB Loss: 0.28373276\n",
            "[INFO][2023-06-28 04:45:43,872][dance][fit] Epoch   3: Total: 0.43987711, Clustering Loss: 0.15615725, ZINB Loss: 0.28371986\n"
          ]
        },
        {
          "output_type": "stream",
          "name": "stdout",
          "text": [
            "ARI: 0.5475\n"
          ]
        }
      ]
    },
    {
      "cell_type": "markdown",
      "source": [
        "## 4. Multi-modality tasks"
      ],
      "metadata": {
        "id": "O2CSLVVBIT01"
      }
    },
    {
      "cell_type": "markdown",
      "source": [
        "### 4.1 Modality Prediction"
      ],
      "metadata": {
        "id": "ilgPs_VMIa5R"
      }
    },
    {
      "cell_type": "markdown",
      "source": [
        "#### Task and Model Description\n",
        "\n",
        "Modality Prediction: predicting the flow of information from DNA to RNA and RNA to Protein.\n",
        "\n",
        "![image](https://github.com/OmicsML/dance-tutorials/raw/main/imgs/tutorial_v1/multimodality/modality_prediction_visualization.svg)\n",
        "\n",
        "In this section, we take RNA-to-Protein as an example task, where the data are obtained from CITE-seq technology. We use BABEL[1] model as an example to demonstrate the workflow of DANCE package.\n",
        "\n",
        "![image](https://github.com/OmicsML/dance-tutorials/raw/main/imgs/tutorial_v1/multimodality/babel_visualization.jpeg)\n",
        "\n",
        "[1] Wu, Kevin E., et al. \"BABEL enables cross-modality translation between multiomic profiles at single-cell resolution.\" Proceedings of the National Academy of Sciences 118.15 (2021): e2023070118."
      ],
      "metadata": {
        "id": "tWUwYvvrJhLf"
      }
    },
    {
      "cell_type": "markdown",
      "source": [
        "#### Import packages and initializations"
      ],
      "metadata": {
        "id": "G_lWTzJUJuOq"
      }
    },
    {
      "cell_type": "code",
      "source": [
        "import argparse\n",
        "import os\n",
        "import random\n",
        "\n",
        "import anndata\n",
        "import mudata\n",
        "import scanpy as sc\n",
        "import torch\n",
        "from scipy.sparse import csr_matrix\n",
        "from sklearn.decomposition import TruncatedSVD\n",
        "\n",
        "from dance import logger\n",
        "from dance.data import Data\n",
        "from dance.datasets.multimodality import ModalityPredictionDataset\n",
        "from dance.modules.multi_modality.predict_modality.babel import BabelWrapper\n",
        "from dance.utils import set_seed\n",
        "\n",
        "set_seed(42)\n",
        "device = 'cuda'"
      ],
      "metadata": {
        "id": "OUWrqab2ITLR",
        "colab": {
          "base_uri": "https://localhost:8080/"
        },
        "outputId": "195f73dc-bc25-4d9e-b191-e06455644e1c"
      },
      "execution_count": 33,
      "outputs": [
        {
          "output_type": "stream",
          "name": "stderr",
          "text": [
            "[INFO][2023-06-28 04:45:44,134][dance][set_seed] Setting global random seed to 42\n"
          ]
        }
      ]
    },
    {
      "cell_type": "markdown",
      "source": [
        "#### Load data and perform necessary preprocessing"
      ],
      "metadata": {
        "id": "p1e1yhinJ0Da"
      }
    },
    {
      "cell_type": "code",
      "source": [
        "dataset = ModalityPredictionDataset(\"openproblems_bmmc_cite_phase2_rna_subset\")\n",
        "data = dataset.load_data()"
      ],
      "metadata": {
        "id": "6rY-HCL2IZr5",
        "colab": {
          "base_uri": "https://localhost:8080/"
        },
        "outputId": "f7ef3e93-4f0f-4666-a4c8-98453f9c1dc0"
      },
      "execution_count": 34,
      "outputs": [
        {
          "output_type": "stream",
          "name": "stderr",
          "text": [
            "[INFO][2023-06-28 04:45:46,602][dance][download_file] Downloading: /content/data/openproblems_bmmc_cite_phase2_rna_subset.zip Bytes: 128,749,677\n",
            "100%|██████████| 123M/123M [00:08<00:00, 15.6MB/s]\n",
            "[INFO][2023-06-28 04:45:54,848][dance][unzip_file] Unzipping /content/data/openproblems_bmmc_cite_phase2_rna_subset.zip\n",
            "[INFO][2023-06-28 04:45:55,535][dance][delete_file] Deleting /content/data/openproblems_bmmc_cite_phase2_rna_subset.zip\n",
            "[INFO][2023-06-28 04:45:55,558][dance][_load_raw_data] Loading /content/data/openproblems_bmmc_cite_phase2_rna_subset/openproblems_bmmc_cite_phase2_rna_subset.censor_dataset.output_train_mod1.h5ad\n",
            "[INFO][2023-06-28 04:45:57,000][dance][_load_raw_data] Loading /content/data/openproblems_bmmc_cite_phase2_rna_subset/openproblems_bmmc_cite_phase2_rna_subset.censor_dataset.output_train_mod2.h5ad\n",
            "[INFO][2023-06-28 04:45:57,117][dance][_load_raw_data] Loading /content/data/openproblems_bmmc_cite_phase2_rna_subset/openproblems_bmmc_cite_phase2_rna_subset.censor_dataset.output_test_mod1.h5ad\n",
            "[INFO][2023-06-28 04:45:57,313][dance][_load_raw_data] Loading /content/data/openproblems_bmmc_cite_phase2_rna_subset/openproblems_bmmc_cite_phase2_rna_subset.censor_dataset.output_test_mod2.h5ad\n",
            "[INFO][2023-06-28 04:45:57,340][dance][_maybe_preprocess] Preprocessing done.\n",
            "/usr/local/lib/python3.10/dist-packages/mudata/_core/mudata.py:491: UserWarning: Cannot join columns with the same name because var_names are intersecting.\n",
            "  warnings.warn(\n",
            "/usr/local/lib/python3.10/dist-packages/mudata/_core/mudata.py:1059: UserWarning: Modality names will be prepended to var_names since there are identical var_names in different modalities.\n",
            "  warnings.warn(\n",
            "[INFO][2023-06-28 04:45:59,306][dance][set_config_from_dict] Setting config 'feature_mod' to 'mod1'\n",
            "[INFO][2023-06-28 04:45:59,312][dance][set_config_from_dict] Setting config 'label_mod' to 'mod2'\n",
            "[INFO][2023-06-28 04:45:59,314][dance][load_data] Raw data loaded:\n",
            "Data object that wraps (.data):\n",
            "MuData object with n_obs × n_vars = 9000 × 14087\n",
            "  uns:\t'dance_config'\n",
            "  2 modalities\n",
            "    mod1:\t9000 x 13953\n",
            "      obs:\t'batch', 'size_factors'\n",
            "      layers:\t'counts'\n",
            "    mod2:\t9000 x 134\n",
            "      obs:\t'batch', 'size_factors'\n",
            "      layers:\t'counts'\n",
            "[INFO][2023-06-28 04:45:59,316][dance][wrapped_func] Took 0:00:15.172183 to load and process data.\n"
          ]
        }
      ]
    },
    {
      "cell_type": "code",
      "source": [
        "data"
      ],
      "metadata": {
        "colab": {
          "base_uri": "https://localhost:8080/"
        },
        "id": "wnvkRksWLE15",
        "outputId": "c41eb9b4-351a-49d3-d082-f972b5b23d77"
      },
      "execution_count": 35,
      "outputs": [
        {
          "output_type": "execute_result",
          "data": {
            "text/plain": [
              "Data object that wraps (.data):\n",
              "MuData object with n_obs × n_vars = 9000 × 14087\n",
              "  uns:\t'dance_config'\n",
              "  2 modalities\n",
              "    mod1:\t9000 x 13953\n",
              "      obs:\t'batch', 'size_factors'\n",
              "      layers:\t'counts'\n",
              "    mod2:\t9000 x 134\n",
              "      obs:\t'batch', 'size_factors'\n",
              "      layers:\t'counts'"
            ]
          },
          "metadata": {},
          "execution_count": 35
        }
      ]
    },
    {
      "cell_type": "code",
      "source": [
        "len(data.get_split_idx(\"train\"))"
      ],
      "metadata": {
        "colab": {
          "base_uri": "https://localhost:8080/"
        },
        "id": "fHKgayDtLU-q",
        "outputId": "bcd400e9-ae4e-435b-9293-ad36e619690d"
      },
      "execution_count": 36,
      "outputs": [
        {
          "output_type": "execute_result",
          "data": {
            "text/plain": [
              "8000"
            ]
          },
          "metadata": {},
          "execution_count": 36
        }
      ]
    },
    {
      "cell_type": "code",
      "source": [
        "data.mod[\"mod2\"].X.shape"
      ],
      "metadata": {
        "colab": {
          "base_uri": "https://localhost:8080/"
        },
        "id": "OZbg5o0SLgJs",
        "outputId": "eaaf7fdf-6d11-4b9e-dbde-c7ac5bb4cb24"
      },
      "execution_count": 37,
      "outputs": [
        {
          "output_type": "execute_result",
          "data": {
            "text/plain": [
              "(9000, 134)"
            ]
          },
          "metadata": {},
          "execution_count": 37
        }
      ]
    },
    {
      "cell_type": "code",
      "source": [
        "data.get_split_idx(\"test\")[-10:]"
      ],
      "metadata": {
        "colab": {
          "base_uri": "https://localhost:8080/"
        },
        "id": "tKC744_JMKh8",
        "outputId": "4b00001b-bf46-47a5-b45e-91207d513f25"
      },
      "execution_count": 38,
      "outputs": [
        {
          "output_type": "execute_result",
          "data": {
            "text/plain": [
              "[8990, 8991, 8992, 8993, 8994, 8995, 8996, 8997, 8998, 8999]"
            ]
          },
          "metadata": {},
          "execution_count": 38
        }
      ]
    },
    {
      "cell_type": "code",
      "source": [
        "data.shape"
      ],
      "metadata": {
        "colab": {
          "base_uri": "https://localhost:8080/"
        },
        "id": "aLKkzpWKMXdD",
        "outputId": "b8c61e46-dd7f-401b-cc45-8711387a5ab0"
      },
      "execution_count": 39,
      "outputs": [
        {
          "output_type": "execute_result",
          "data": {
            "text/plain": [
              "(9000, 14087)"
            ]
          },
          "metadata": {},
          "execution_count": 39
        }
      ]
    },
    {
      "cell_type": "code",
      "source": [
        "data.get_feature(mod=\"mod2\", split_name=\"test\")"
      ],
      "metadata": {
        "colab": {
          "base_uri": "https://localhost:8080/"
        },
        "id": "WOSjPzC_MAG1",
        "outputId": "a9593fd6-c56f-45ce-bdd6-e3c73e62da59"
      },
      "execution_count": 40,
      "outputs": [
        {
          "output_type": "execute_result",
          "data": {
            "text/plain": [
              "array([[0.23983176, 0.66712326, 1.3292243 , ..., 0.5173572 , 1.2153752 ,\n",
              "        0.93940276],\n",
              "       [0.        , 1.2779273 , 1.2079018 , ..., 0.33972508, 0.6785143 ,\n",
              "        0.830557  ],\n",
              "       [0.        , 0.40740192, 1.5360246 , ..., 0.48774227, 0.96867484,\n",
              "        0.7859117 ],\n",
              "       ...,\n",
              "       [0.05793161, 0.8636399 , 1.2541865 , ..., 0.50444597, 0.88847566,\n",
              "        0.670022  ],\n",
              "       [0.1118779 , 0.6962416 , 1.314437  , ..., 0.6354239 , 0.8592239 ,\n",
              "        0.60356927],\n",
              "       [0.10331292, 1.4756752 , 1.0848818 , ..., 0.68286705, 0.9257406 ,\n",
              "        0.7871937 ]], dtype=float32)"
            ]
          },
          "metadata": {},
          "execution_count": 40
        }
      ]
    },
    {
      "cell_type": "code",
      "source": [
        "data.obs"
      ],
      "metadata": {
        "colab": {
          "base_uri": "https://localhost:8080/",
          "height": 424
        },
        "id": "WRElVst-RZJ1",
        "outputId": "472414a5-e818-4441-fdda-deacf70655a9"
      },
      "execution_count": 41,
      "outputs": [
        {
          "output_type": "execute_result",
          "data": {
            "text/plain": [
              "                        mod1:batch  mod1:size_factors mod2:batch  \\\n",
              "GCATTAGCATAAGCGG-1-s1d1       s1d1           0.356535       s1d1   \n",
              "TACAGGTGTTAGAGTA-1-s1d1       s1d1           1.292643       s1d1   \n",
              "AGGATCTAGGTCTACT-1-s1d1       s1d1           0.970558       s1d1   \n",
              "GTAGAAAGTGACACAG-1-s1d1       s1d1           1.232604       s1d1   \n",
              "TCCGAAAAGGATCATA-1-s1d1       s1d1           0.044585       s1d1   \n",
              "...                            ...                ...        ...   \n",
              "ATGGTTGTCGCCCAGA-1-s4d1       s4d1           0.514767       s4d1   \n",
              "ATCCTATGTTGGGATG-1-s4d1       s4d1           0.234756       s4d1   \n",
              "CTACCTGTCAAGCTGT-1-s4d1       s4d1           0.953712       s4d1   \n",
              "AACCACACAACATACC-1-s4d8       s4d8           0.821679       s4d8   \n",
              "GGGTAGATCTCCGCAT-1-s4d9       s4d9           0.392622       s4d9   \n",
              "\n",
              "                         mod2:size_factors  \n",
              "GCATTAGCATAAGCGG-1-s1d1           0.356535  \n",
              "TACAGGTGTTAGAGTA-1-s1d1           1.292643  \n",
              "AGGATCTAGGTCTACT-1-s1d1           0.970558  \n",
              "GTAGAAAGTGACACAG-1-s1d1           1.232604  \n",
              "TCCGAAAAGGATCATA-1-s1d1           0.044585  \n",
              "...                                    ...  \n",
              "ATGGTTGTCGCCCAGA-1-s4d1           0.514767  \n",
              "ATCCTATGTTGGGATG-1-s4d1           0.234756  \n",
              "CTACCTGTCAAGCTGT-1-s4d1           0.953712  \n",
              "AACCACACAACATACC-1-s4d8           0.821679  \n",
              "GGGTAGATCTCCGCAT-1-s4d9           0.392622  \n",
              "\n",
              "[9000 rows x 4 columns]"
            ],
            "text/html": [
              "\n",
              "  <div id=\"df-9bea96db-bc8c-470a-9f8e-48be019a6d02\">\n",
              "    <div class=\"colab-df-container\">\n",
              "      <div>\n",
              "<style scoped>\n",
              "    .dataframe tbody tr th:only-of-type {\n",
              "        vertical-align: middle;\n",
              "    }\n",
              "\n",
              "    .dataframe tbody tr th {\n",
              "        vertical-align: top;\n",
              "    }\n",
              "\n",
              "    .dataframe thead th {\n",
              "        text-align: right;\n",
              "    }\n",
              "</style>\n",
              "<table border=\"1\" class=\"dataframe\">\n",
              "  <thead>\n",
              "    <tr style=\"text-align: right;\">\n",
              "      <th></th>\n",
              "      <th>mod1:batch</th>\n",
              "      <th>mod1:size_factors</th>\n",
              "      <th>mod2:batch</th>\n",
              "      <th>mod2:size_factors</th>\n",
              "    </tr>\n",
              "  </thead>\n",
              "  <tbody>\n",
              "    <tr>\n",
              "      <th>GCATTAGCATAAGCGG-1-s1d1</th>\n",
              "      <td>s1d1</td>\n",
              "      <td>0.356535</td>\n",
              "      <td>s1d1</td>\n",
              "      <td>0.356535</td>\n",
              "    </tr>\n",
              "    <tr>\n",
              "      <th>TACAGGTGTTAGAGTA-1-s1d1</th>\n",
              "      <td>s1d1</td>\n",
              "      <td>1.292643</td>\n",
              "      <td>s1d1</td>\n",
              "      <td>1.292643</td>\n",
              "    </tr>\n",
              "    <tr>\n",
              "      <th>AGGATCTAGGTCTACT-1-s1d1</th>\n",
              "      <td>s1d1</td>\n",
              "      <td>0.970558</td>\n",
              "      <td>s1d1</td>\n",
              "      <td>0.970558</td>\n",
              "    </tr>\n",
              "    <tr>\n",
              "      <th>GTAGAAAGTGACACAG-1-s1d1</th>\n",
              "      <td>s1d1</td>\n",
              "      <td>1.232604</td>\n",
              "      <td>s1d1</td>\n",
              "      <td>1.232604</td>\n",
              "    </tr>\n",
              "    <tr>\n",
              "      <th>TCCGAAAAGGATCATA-1-s1d1</th>\n",
              "      <td>s1d1</td>\n",
              "      <td>0.044585</td>\n",
              "      <td>s1d1</td>\n",
              "      <td>0.044585</td>\n",
              "    </tr>\n",
              "    <tr>\n",
              "      <th>...</th>\n",
              "      <td>...</td>\n",
              "      <td>...</td>\n",
              "      <td>...</td>\n",
              "      <td>...</td>\n",
              "    </tr>\n",
              "    <tr>\n",
              "      <th>ATGGTTGTCGCCCAGA-1-s4d1</th>\n",
              "      <td>s4d1</td>\n",
              "      <td>0.514767</td>\n",
              "      <td>s4d1</td>\n",
              "      <td>0.514767</td>\n",
              "    </tr>\n",
              "    <tr>\n",
              "      <th>ATCCTATGTTGGGATG-1-s4d1</th>\n",
              "      <td>s4d1</td>\n",
              "      <td>0.234756</td>\n",
              "      <td>s4d1</td>\n",
              "      <td>0.234756</td>\n",
              "    </tr>\n",
              "    <tr>\n",
              "      <th>CTACCTGTCAAGCTGT-1-s4d1</th>\n",
              "      <td>s4d1</td>\n",
              "      <td>0.953712</td>\n",
              "      <td>s4d1</td>\n",
              "      <td>0.953712</td>\n",
              "    </tr>\n",
              "    <tr>\n",
              "      <th>AACCACACAACATACC-1-s4d8</th>\n",
              "      <td>s4d8</td>\n",
              "      <td>0.821679</td>\n",
              "      <td>s4d8</td>\n",
              "      <td>0.821679</td>\n",
              "    </tr>\n",
              "    <tr>\n",
              "      <th>GGGTAGATCTCCGCAT-1-s4d9</th>\n",
              "      <td>s4d9</td>\n",
              "      <td>0.392622</td>\n",
              "      <td>s4d9</td>\n",
              "      <td>0.392622</td>\n",
              "    </tr>\n",
              "  </tbody>\n",
              "</table>\n",
              "<p>9000 rows × 4 columns</p>\n",
              "</div>\n",
              "      <button class=\"colab-df-convert\" onclick=\"convertToInteractive('df-9bea96db-bc8c-470a-9f8e-48be019a6d02')\"\n",
              "              title=\"Convert this dataframe to an interactive table.\"\n",
              "              style=\"display:none;\">\n",
              "        \n",
              "  <svg xmlns=\"http://www.w3.org/2000/svg\" height=\"24px\"viewBox=\"0 0 24 24\"\n",
              "       width=\"24px\">\n",
              "    <path d=\"M0 0h24v24H0V0z\" fill=\"none\"/>\n",
              "    <path d=\"M18.56 5.44l.94 2.06.94-2.06 2.06-.94-2.06-.94-.94-2.06-.94 2.06-2.06.94zm-11 1L8.5 8.5l.94-2.06 2.06-.94-2.06-.94L8.5 2.5l-.94 2.06-2.06.94zm10 10l.94 2.06.94-2.06 2.06-.94-2.06-.94-.94-2.06-.94 2.06-2.06.94z\"/><path d=\"M17.41 7.96l-1.37-1.37c-.4-.4-.92-.59-1.43-.59-.52 0-1.04.2-1.43.59L10.3 9.45l-7.72 7.72c-.78.78-.78 2.05 0 2.83L4 21.41c.39.39.9.59 1.41.59.51 0 1.02-.2 1.41-.59l7.78-7.78 2.81-2.81c.8-.78.8-2.07 0-2.86zM5.41 20L4 18.59l7.72-7.72 1.47 1.35L5.41 20z\"/>\n",
              "  </svg>\n",
              "      </button>\n",
              "      \n",
              "  <style>\n",
              "    .colab-df-container {\n",
              "      display:flex;\n",
              "      flex-wrap:wrap;\n",
              "      gap: 12px;\n",
              "    }\n",
              "\n",
              "    .colab-df-convert {\n",
              "      background-color: #E8F0FE;\n",
              "      border: none;\n",
              "      border-radius: 50%;\n",
              "      cursor: pointer;\n",
              "      display: none;\n",
              "      fill: #1967D2;\n",
              "      height: 32px;\n",
              "      padding: 0 0 0 0;\n",
              "      width: 32px;\n",
              "    }\n",
              "\n",
              "    .colab-df-convert:hover {\n",
              "      background-color: #E2EBFA;\n",
              "      box-shadow: 0px 1px 2px rgba(60, 64, 67, 0.3), 0px 1px 3px 1px rgba(60, 64, 67, 0.15);\n",
              "      fill: #174EA6;\n",
              "    }\n",
              "\n",
              "    [theme=dark] .colab-df-convert {\n",
              "      background-color: #3B4455;\n",
              "      fill: #D2E3FC;\n",
              "    }\n",
              "\n",
              "    [theme=dark] .colab-df-convert:hover {\n",
              "      background-color: #434B5C;\n",
              "      box-shadow: 0px 1px 3px 1px rgba(0, 0, 0, 0.15);\n",
              "      filter: drop-shadow(0px 1px 2px rgba(0, 0, 0, 0.3));\n",
              "      fill: #FFFFFF;\n",
              "    }\n",
              "  </style>\n",
              "\n",
              "      <script>\n",
              "        const buttonEl =\n",
              "          document.querySelector('#df-9bea96db-bc8c-470a-9f8e-48be019a6d02 button.colab-df-convert');\n",
              "        buttonEl.style.display =\n",
              "          google.colab.kernel.accessAllowed ? 'block' : 'none';\n",
              "\n",
              "        async function convertToInteractive(key) {\n",
              "          const element = document.querySelector('#df-9bea96db-bc8c-470a-9f8e-48be019a6d02');\n",
              "          const dataTable =\n",
              "            await google.colab.kernel.invokeFunction('convertToInteractive',\n",
              "                                                     [key], {});\n",
              "          if (!dataTable) return;\n",
              "\n",
              "          const docLinkHtml = 'Like what you see? Visit the ' +\n",
              "            '<a target=\"_blank\" href=https://colab.research.google.com/notebooks/data_table.ipynb>data table notebook</a>'\n",
              "            + ' to learn more about interactive tables.';\n",
              "          element.innerHTML = '';\n",
              "          dataTable['output_type'] = 'display_data';\n",
              "          await google.colab.output.renderOutput(dataTable, element);\n",
              "          const docLink = document.createElement('div');\n",
              "          docLink.innerHTML = docLinkHtml;\n",
              "          element.appendChild(docLink);\n",
              "        }\n",
              "      </script>\n",
              "    </div>\n",
              "  </div>\n",
              "  "
            ]
          },
          "metadata": {},
          "execution_count": 41
        }
      ]
    },
    {
      "cell_type": "code",
      "source": [
        "data.mod['mod2']"
      ],
      "metadata": {
        "colab": {
          "base_uri": "https://localhost:8080/"
        },
        "id": "EAYIVBZVRQiJ",
        "outputId": "eb859261-c49b-4d31-ee6c-eecbb53f9a70"
      },
      "execution_count": 42,
      "outputs": [
        {
          "output_type": "execute_result",
          "data": {
            "text/plain": [
              "AnnData object with n_obs × n_vars = 9000 × 134\n",
              "    obs: 'batch', 'size_factors'\n",
              "    layers: 'counts'"
            ]
          },
          "metadata": {},
          "execution_count": 42
        }
      ]
    },
    {
      "cell_type": "code",
      "source": [
        "data"
      ],
      "metadata": {
        "colab": {
          "base_uri": "https://localhost:8080/"
        },
        "id": "sQDWEUnMRD-S",
        "outputId": "907628e4-96fc-45f5-f769-5e62bb8719ab"
      },
      "execution_count": 43,
      "outputs": [
        {
          "output_type": "execute_result",
          "data": {
            "text/plain": [
              "Data object that wraps (.data):\n",
              "MuData object with n_obs × n_vars = 9000 × 14087\n",
              "  uns:\t'dance_config'\n",
              "  2 modalities\n",
              "    mod1:\t9000 x 13953\n",
              "      obs:\t'batch', 'size_factors'\n",
              "      layers:\t'counts'\n",
              "    mod2:\t9000 x 134\n",
              "      obs:\t'batch', 'size_factors'\n",
              "      layers:\t'counts'"
            ]
          },
          "metadata": {},
          "execution_count": 43
        }
      ]
    },
    {
      "cell_type": "code",
      "source": [
        "# Construct data object\n",
        "data.set_config(feature_mod=\"mod1\", label_mod=\"mod2\")\n",
        "\n",
        "# Obtain training and testing data\n",
        "x_train, y_train = data.get_train_data(return_type=\"torch\")\n",
        "x_test, y_test = data.get_test_data(return_type=\"torch\")"
      ],
      "metadata": {
        "id": "GNqwllaPK66N"
      },
      "execution_count": 44,
      "outputs": []
    },
    {
      "cell_type": "code",
      "source": [
        "# Construct data object\n",
        "data.set_config(feature_mod=\"mod1\", label_mod=\"mod2\")\n",
        "\n",
        "# Obtain training and testing data\n",
        "x_train, y_train = data.get_train_data(return_type=\"torch\")\n",
        "x_test, y_test = data.get_test_data(return_type=\"torch\")"
      ],
      "metadata": {
        "id": "12b8zfD3IZ-M"
      },
      "execution_count": 45,
      "outputs": []
    },
    {
      "cell_type": "code",
      "source": [
        "x_test, y_test, x_test.shape, y_test.shape"
      ],
      "metadata": {
        "id": "LWEhJDOBv43v",
        "colab": {
          "base_uri": "https://localhost:8080/"
        },
        "outputId": "5e5aedd8-9269-4cee-9080-476ed9885f05"
      },
      "execution_count": 46,
      "outputs": [
        {
          "output_type": "execute_result",
          "data": {
            "text/plain": [
              "(tensor([[0.0000, 0.0000, 0.0000,  ..., 0.7606, 0.0000, 0.0000],\n",
              "         [0.0000, 0.0000, 0.0000,  ..., 0.0000, 0.0000, 0.0000],\n",
              "         [0.0000, 1.3700, 0.0000,  ..., 0.0000, 0.0000, 0.0000],\n",
              "         ...,\n",
              "         [0.0000, 0.0000, 0.0000,  ..., 0.0000, 0.0000, 0.0000],\n",
              "         [0.0000, 0.0000, 0.0000,  ..., 0.0000, 0.0000, 0.0000],\n",
              "         [0.0000, 0.0000, 0.0000,  ..., 0.0000, 0.0000, 0.0000]]),\n",
              " tensor([[0.2398, 0.6671, 1.3292,  ..., 0.5174, 1.2154, 0.9394],\n",
              "         [0.0000, 1.2779, 1.2079,  ..., 0.3397, 0.6785, 0.8306],\n",
              "         [0.0000, 0.4074, 1.5360,  ..., 0.4877, 0.9687, 0.7859],\n",
              "         ...,\n",
              "         [0.0579, 0.8636, 1.2542,  ..., 0.5044, 0.8885, 0.6700],\n",
              "         [0.1119, 0.6962, 1.3144,  ..., 0.6354, 0.8592, 0.6036],\n",
              "         [0.1033, 1.4757, 1.0849,  ..., 0.6829, 0.9257, 0.7872]]),\n",
              " torch.Size([1000, 13953]),\n",
              " torch.Size([1000, 134]))"
            ]
          },
          "metadata": {},
          "execution_count": 46
        }
      ]
    },
    {
      "cell_type": "markdown",
      "source": [
        "#### Specify hyperparameters and initialize the model"
      ],
      "metadata": {
        "id": "_64BDx2Wv_KE"
      }
    },
    {
      "cell_type": "code",
      "source": [
        "parser = argparse.ArgumentParser()\n",
        "\n",
        "######## Important hyperparameters\n",
        "parser.add_argument(\"--subtask\", default=\"openproblems_bmmc_cite_phase2_rna_subset\")\n",
        "parser.add_argument(\"--max_epochs\", type=int, default=40)\n",
        "parser.add_argument(\"--lr\", \"-l\", type=float, default=0.01, help=\"Learning rate\")\n",
        "parser.add_argument(\"--batchsize\", \"-b\", type=int, default=64, help=\"Batch size\")\n",
        "parser.add_argument(\"--hidden\", type=int, default=64, help=\"Hidden dimensions\")\n",
        "parser.add_argument(\"--earlystop\", type=int, default=2, help=\"Early stopping after N epochs\")\n",
        "parser.add_argument(\"--naive\", \"-n\", action=\"store_true\", help=\"Use a naive model instead of lego model\")\n",
        "parser.add_argument(\"--lossweight\", type=float, default=1., help=\"Relative loss weight\")\n",
        "########\n",
        "\n",
        "parser.add_argument(\"--model_folder\", default=\"./\")\n",
        "parser.add_argument(\"--outdir\", \"-o\", default=\"./\", help=\"Directory to output to\")\n",
        "parser.add_argument(\"--resume\", action=\"store_true\")\n",
        "parser.add_argument(\"--device\", default=\"cuda\")\n",
        "parser.add_argument(\"--cpus\", default=1, type=int)\n",
        "parser.add_argument(\"--rnd_seed\", default=42, type=int)\n",
        "\n",
        "args_defaults = parser.parse_args([])\n",
        "args = argparse.Namespace(**vars(args_defaults))\n",
        "args"
      ],
      "metadata": {
        "id": "g3DZ7fEqv-21",
        "colab": {
          "base_uri": "https://localhost:8080/"
        },
        "outputId": "6013b5c3-55fd-417e-cb29-75a4cbaab9a7"
      },
      "execution_count": 47,
      "outputs": [
        {
          "output_type": "execute_result",
          "data": {
            "text/plain": [
              "Namespace(subtask='openproblems_bmmc_cite_phase2_rna_subset', max_epochs=40, lr=0.01, batchsize=64, hidden=64, earlystop=2, naive=False, lossweight=1.0, model_folder='./', outdir='./', resume=False, device='cuda', cpus=1, rnd_seed=42)"
            ]
          },
          "metadata": {},
          "execution_count": 47
        }
      ]
    },
    {
      "cell_type": "code",
      "source": [
        "model = BabelWrapper(args, dim_in=x_train.shape[1], dim_out=y_train.shape[1])"
      ],
      "metadata": {
        "id": "Ec-fO2V0J6rn",
        "colab": {
          "base_uri": "https://localhost:8080/"
        },
        "outputId": "c9633340-cd96-4af3-c5a6-427b5d861dde"
      },
      "execution_count": 48,
      "outputs": [
        {
          "output_type": "stream",
          "name": "stderr",
          "text": [
            "[INFO][2023-06-28 04:46:02,490][dance][__init__] ChromDecoder with 1 output activations\n"
          ]
        }
      ]
    },
    {
      "cell_type": "markdown",
      "source": [
        "#### Train and evaluate model"
      ],
      "metadata": {
        "id": "XXaT400QJ9or"
      }
    },
    {
      "cell_type": "code",
      "source": [
        "model.fit(x_train.float(), y_train.float(), val_ratio=0.15)"
      ],
      "metadata": {
        "id": "_pSaYI7aJ6o_",
        "colab": {
          "base_uri": "https://localhost:8080/"
        },
        "outputId": "9c76b519-94df-48ae-8c7d-b30b236cb38f"
      },
      "execution_count": 49,
      "outputs": [
        {
          "output_type": "stream",
          "name": "stdout",
          "text": [
            "epoch:  1\n",
            "training (sum of 4 losses): 1.729675633885036\n",
            "validation (prediction loss): 0.43476885608907095\n",
            "epoch:  2\n",
            "training (sum of 4 losses): 1.4153931085194382\n",
            "validation (prediction loss): 0.3933187532053297\n",
            "epoch:  3\n",
            "training (sum of 4 losses): 1.35525126991985\n",
            "validation (prediction loss): 0.387645403155249\n",
            "epoch:  4\n",
            "training (sum of 4 losses): 1.3230651227113241\n",
            "validation (prediction loss): 0.3739129218113424\n",
            "epoch:  5\n",
            "training (sum of 4 losses): 1.298898705812258\n",
            "validation (prediction loss): 0.37932540665903486\n",
            "epoch:  6\n",
            "training (sum of 4 losses): 1.289031654874855\n",
            "validation (prediction loss): 0.3697096068122427\n",
            "epoch:  7\n",
            "training (sum of 4 losses): 1.279110183225614\n",
            "validation (prediction loss): 0.3692062800761993\n",
            "epoch:  8\n",
            "training (sum of 4 losses): 1.2611568976785534\n",
            "validation (prediction loss): 0.37058703098469215\n",
            "epoch:  9\n",
            "training (sum of 4 losses): 1.2530649376806813\n",
            "validation (prediction loss): 0.36730712979491736\n",
            "epoch:  10\n",
            "training (sum of 4 losses): 1.243548645037357\n",
            "validation (prediction loss): 0.36489291056048057\n",
            "epoch:  11\n",
            "training (sum of 4 losses): 1.234148662781047\n",
            "validation (prediction loss): 0.3703263185529082\n",
            "epoch:  12\n",
            "training (sum of 4 losses): 1.2280925846545496\n",
            "validation (prediction loss): 0.36490652141305707\n",
            "Early stopped.\n"
          ]
        }
      ]
    },
    {
      "cell_type": "code",
      "source": [
        "model.predict(x_test.float())"
      ],
      "metadata": {
        "id": "yCH4urZsJ6bo",
        "colab": {
          "base_uri": "https://localhost:8080/"
        },
        "outputId": "7a915887-77b9-42a5-8da2-afe8bff94162"
      },
      "execution_count": 50,
      "outputs": [
        {
          "output_type": "execute_result",
          "data": {
            "text/plain": [
              "tensor([[0.6611, 0.3581, 1.3748,  ..., 0.5862, 0.9071, 1.1447],\n",
              "        [0.0169, 0.2847, 1.4770,  ..., 0.4408, 0.5901, 0.4358],\n",
              "        [0.0000, 0.3031, 1.4437,  ..., 0.2850, 0.6995, 0.3197],\n",
              "        ...,\n",
              "        [0.0000, 0.2750, 1.0094,  ..., 0.6977, 0.5756, 0.4167],\n",
              "        [0.0050, 0.2644, 1.0867,  ..., 0.5433, 0.6473, 0.3956],\n",
              "        [0.0487, 0.2764, 1.3526,  ..., 0.0877, 0.5033, 0.4192]],\n",
              "       device='cuda:0')"
            ]
          },
          "metadata": {},
          "execution_count": 50
        }
      ]
    },
    {
      "cell_type": "code",
      "source": [
        "model.score(x_test.float(), y_test.float())"
      ],
      "metadata": {
        "id": "Zqy4zqfQIaAl",
        "colab": {
          "base_uri": "https://localhost:8080/"
        },
        "outputId": "6098f62f-778c-4d0d-f925-6065e2aea479"
      },
      "execution_count": 51,
      "outputs": [
        {
          "output_type": "execute_result",
          "data": {
            "text/plain": [
              "0.48369167180769357"
            ]
          },
          "metadata": {},
          "execution_count": 51
        }
      ]
    },
    {
      "cell_type": "markdown",
      "source": [
        "### 4.2 Modality Matching"
      ],
      "metadata": {
        "id": "z29G7PPcGtjL"
      }
    },
    {
      "cell_type": "markdown",
      "source": [
        "Matching profiles of each cell from different modalities.\n",
        "\n",
        "![image](https://github.com/OmicsML/dance-tutorials/raw/main/imgs/tutorial_v1/multimodality/modality_matching_visualization.jpeg)\n",
        "\n",
        "In this section, we take RNA-to-Protein as an example task, where the data are obtained from CITE-seq technology. We use scMoGNN[2] model as an example to demonstrate the workflow of DANCE package.\n",
        "\n",
        "![image](https://github.com/OmicsML/dance-tutorials/raw/main/imgs/tutorial_v1/multimodality/scmogcn_visualization.jpeg)\n",
        "\n",
        "[2] Wen, Hongzhi, et al. \"Graph neural networks for multimodal single-cell data integration.\" Proceedings of the 28th ACM SIGKDD Conference on Knowledge Discovery and Data Mining. 2022."
      ],
      "metadata": {
        "id": "Y5IWp0PHG_xT"
      }
    },
    {
      "cell_type": "markdown",
      "source": [
        "#### Load data and perform necessary preprocessing"
      ],
      "metadata": {
        "id": "ooQd3gmnHIN0"
      }
    },
    {
      "cell_type": "code",
      "source": [
        "from dance.datasets.multimodality import ModalityMatchingDataset\n",
        "from dance.modules.multi_modality.match_modality.scmogcn import ScMoGCNWrapper\n",
        "from dance.transforms.graph.cell_feature_graph import CellFeatureBipartiteGraph\n",
        "import numpy as np\n",
        "import torch.nn.functional as F\n",
        "\n",
        "dataset = ModalityMatchingDataset('openproblems_bmmc_cite_phase2_rna_subset', root='./data', preprocess=\"pca\", pkl_path='lsi_input_pca_count.pkl')\n",
        "data = dataset.load_data()"
      ],
      "metadata": {
        "id": "M8rAJxqLGsTY",
        "colab": {
          "base_uri": "https://localhost:8080/"
        },
        "outputId": "94fade7f-105a-45a9-ddbd-0cfa34303d1b"
      },
      "execution_count": 52,
      "outputs": [
        {
          "output_type": "stream",
          "name": "stderr",
          "text": [
            "[INFO][2023-06-28 04:46:21,751][dance][download_file] Downloading: /content/data/openproblems_bmmc_cite_phase2_rna_subset.zip Bytes: 34,858,859\n",
            "100%|██████████| 33.2M/33.2M [00:02<00:00, 14.3MB/s]\n",
            "[INFO][2023-06-28 04:46:24,202][dance][unzip_file] Unzipping /content/data/openproblems_bmmc_cite_phase2_rna_subset.zip\n",
            "[INFO][2023-06-28 04:46:24,425][dance][delete_file] Deleting /content/data/openproblems_bmmc_cite_phase2_rna_subset.zip\n",
            "[INFO][2023-06-28 04:46:24,432][dance][_load_raw_data] Loading /content/data/openproblems_bmmc_cite_phase2_rna_subset/openproblems_bmmc_cite_phase2_rna_subset.censor_dataset.output_train_mod1.h5ad\n",
            "[INFO][2023-06-28 04:46:24,753][dance][_load_raw_data] Loading /content/data/openproblems_bmmc_cite_phase2_rna_subset/openproblems_bmmc_cite_phase2_rna_subset.censor_dataset.output_train_mod2.h5ad\n",
            "[INFO][2023-06-28 04:46:24,854][dance][_load_raw_data] Loading /content/data/openproblems_bmmc_cite_phase2_rna_subset/openproblems_bmmc_cite_phase2_rna_subset.censor_dataset.output_train_sol.h5ad\n",
            "[INFO][2023-06-28 04:46:24,885][dance][_load_raw_data] Loading /content/data/openproblems_bmmc_cite_phase2_rna_subset/openproblems_bmmc_cite_phase2_rna_subset.censor_dataset.output_test_mod1.h5ad\n",
            "[INFO][2023-06-28 04:46:24,968][dance][_load_raw_data] Loading /content/data/openproblems_bmmc_cite_phase2_rna_subset/openproblems_bmmc_cite_phase2_rna_subset.censor_dataset.output_test_mod2.h5ad\n",
            "[INFO][2023-06-28 04:46:24,998][dance][_load_raw_data] Loading /content/data/openproblems_bmmc_cite_phase2_rna_subset/openproblems_bmmc_cite_phase2_rna_subset.censor_dataset.output_test_sol.h5ad\n",
            "[INFO][2023-06-28 04:46:37,980][dance][_maybe_preprocess] Preprocessing done.\n",
            "/usr/local/lib/python3.10/dist-packages/anndata/_core/anndata.py:1830: UserWarning: Observation names are not unique. To make them unique, call `.obs_names_make_unique`.\n",
            "  utils.warn_names_duplicates(\"obs\")\n",
            "/usr/local/lib/python3.10/dist-packages/mudata/_core/mudata.py:491: UserWarning: Cannot join columns with the same name because var_names are intersecting.\n",
            "  warnings.warn(\n",
            "/usr/local/lib/python3.10/dist-packages/mudata/_core/mudata.py:1059: UserWarning: Modality names will be prepended to var_names since there are identical var_names in different modalities.\n",
            "  warnings.warn(\n",
            "[INFO][2023-06-28 04:46:39,208][dance][load_data] Raw data loaded:\n",
            "Data object that wraps (.data):\n",
            "MuData object with n_obs × n_vars = 9000 × 4134\n",
            "  uns:\t'dance_config'\n",
            "  2 modalities\n",
            "    mod1:\t9000 x 4000\n",
            "      obs:\t'batch', 'size_factors'\n",
            "      obsm:\t'X_pca', 'labels'\n",
            "      layers:\t'counts'\n",
            "    mod2:\t9000 x 134\n",
            "      obs:\t'batch'\n",
            "      obsm:\t'X_pca'\n",
            "      layers:\t'counts'\n",
            "[INFO][2023-06-28 04:46:39,209][dance][wrapped_func] Took 0:00:20.357656 to load and process data.\n"
          ]
        }
      ]
    },
    {
      "cell_type": "code",
      "source": [
        "# ScMoGNN graph construction\n",
        "data = CellFeatureBipartiteGraph(cell_feature_channel=\"X_pca\", mod=\"mod1\")(data)\n",
        "data = CellFeatureBipartiteGraph(cell_feature_channel=\"X_pca\", mod=\"mod2\")(data)\n",
        "data.set_config(feature_mod=[\"mod1\", \"mod2\", \"mod1\", \"mod2\"], feature_channel_type=[\"uns\", \"uns\", \"obs\", \"obs\"],\n",
        "                feature_channel=[\"g\", \"g\", \"batch\", \"batch\"], label_mod=\"mod1\", label_channel=\"labels\")"
      ],
      "metadata": {
        "id": "14mocJh3Gsm_",
        "colab": {
          "base_uri": "https://localhost:8080/"
        },
        "outputId": "bebf0879-aa8e-4203-a5ff-37606ddd0576"
      },
      "execution_count": 53,
      "outputs": [
        {
          "output_type": "stream",
          "name": "stderr",
          "text": [
            "[INFO][2023-06-28 04:46:39,366][dance][set_config_from_dict] Setting config 'feature_mod' to ['mod1', 'mod2', 'mod1', 'mod2']\n",
            "[INFO][2023-06-28 04:46:39,367][dance][set_config_from_dict] Setting config 'feature_channel_type' to ['uns', 'uns', 'obs', 'obs']\n",
            "[INFO][2023-06-28 04:46:39,370][dance][set_config_from_dict] Setting config 'feature_channel' to ['g', 'g', 'batch', 'batch']\n",
            "[INFO][2023-06-28 04:46:39,372][dance][set_config_from_dict] Setting config 'label_mod' to 'mod1'\n",
            "[INFO][2023-06-28 04:46:39,374][dance][set_config_from_dict] Setting config 'label_channel' to 'labels'\n"
          ]
        }
      ]
    },
    {
      "cell_type": "code",
      "source": [
        "(g_mod1, g_mod2, batch_mod1, batch_mod2), z = data.get_data(return_type=\"default\")\n",
        "train_size = len(data.get_split_idx(\"train\"))\n",
        "test_idx = np.arange(train_size, g_mod1.num_nodes(\"cell\"))\n",
        "z_test = F.one_hot(torch.from_numpy(z[train_size:]).long())\n",
        "labels1 = torch.argmax(z_test, dim=0).to(device)\n",
        "labels2 = torch.argmax(z_test, dim=1).to(device)\n",
        "g_mod1 = g_mod1.to(device)\n",
        "g_mod2 = g_mod2.to(device)"
      ],
      "metadata": {
        "id": "muMV5snDGsp9"
      },
      "execution_count": 54,
      "outputs": []
    },
    {
      "cell_type": "markdown",
      "source": [
        "#### Specify hyperparametsr and initialize the model"
      ],
      "metadata": {
        "id": "a2GZz64qHT-x"
      }
    },
    {
      "cell_type": "code",
      "source": [
        "parser = argparse.ArgumentParser()\n",
        "parser.add_argument(\"--layers\", default=4, type=int, choices=[3, 4, 5, 6, 7])\n",
        "parser.add_argument(\"--learning_rate\", default=6e-4, type=float)\n",
        "parser.add_argument(\"--disable_propagation\", default=0, type=int, choices=[0, 1, 2])\n",
        "parser.add_argument(\"--auxiliary_loss\", default=True, type=bool)\n",
        "parser.add_argument(\"--epochs\", default=2000, type=int)\n",
        "parser.add_argument(\"--hidden_size\", default=64, type=int)\n",
        "parser.add_argument(\"--temperature\", default=2.739896, type=float)\n",
        "parser.add_argument(\"--device\", default='cuda', type=str)\n",
        "parser.add_argument(\"--rnd_seed\", default=42, type=int)\n",
        "\n",
        "args_defaults = parser.parse_args([])\n",
        "args = argparse.Namespace(**vars(args_defaults))\n",
        "data_folder = './data/'\n",
        "device = 'cuda'\n",
        "args"
      ],
      "metadata": {
        "id": "jGmectIGGssz",
        "colab": {
          "base_uri": "https://localhost:8080/"
        },
        "outputId": "2f3c780b-79c2-4e68-acec-b7402e5dbaff"
      },
      "execution_count": 55,
      "outputs": [
        {
          "output_type": "execute_result",
          "data": {
            "text/plain": [
              "Namespace(layers=4, learning_rate=0.0006, disable_propagation=0, auxiliary_loss=True, epochs=2000, hidden_size=64, temperature=2.739896, device='cuda', rnd_seed=42)"
            ]
          },
          "metadata": {},
          "execution_count": 55
        }
      ]
    },
    {
      "cell_type": "code",
      "source": [
        "model = ScMoGCNWrapper(\n",
        "    args,\n",
        "    [\n",
        "        [(g_mod1.num_nodes(\"feature\"), 512, 0.25), (512, 512, 0.25), (512, args.hidden_size)],\n",
        "        [(g_mod2.num_nodes(\"feature\"), 512, 0.2), (512, 512, 0.2), (512, args.hidden_size)],\n",
        "        [(args.hidden_size, 512, 0.2), (512, g_mod1.num_nodes(\"feature\"))],\n",
        "        [(args.hidden_size, 512, 0.2), (512, g_mod2.num_nodes(\"feature\"))],\n",
        "    ],\n",
        "    args.temperature,\n",
        ")"
      ],
      "metadata": {
        "id": "f5plMkDfGsvU"
      },
      "execution_count": 56,
      "outputs": []
    },
    {
      "cell_type": "markdown",
      "source": [
        "#### Train and evaluate model"
      ],
      "metadata": {
        "id": "_ueVlu-6HYV4"
      }
    },
    {
      "cell_type": "code",
      "source": [
        "model.fit(g_mod1, g_mod2, labels1, labels2, train_size=train_size)"
      ],
      "metadata": {
        "id": "BJ9K9YCfGsx2",
        "colab": {
          "base_uri": "https://localhost:8080/"
        },
        "outputId": "1e21a385-9a55-4d0b-d009-5459f8b8c7d6"
      },
      "execution_count": 57,
      "outputs": [
        {
          "output_type": "stream",
          "name": "stderr",
          "text": [
            "[INFO][2023-06-28 04:46:39,620][dance][fit] epoch 0\n",
            "[INFO][2023-06-28 04:46:39,702][dance][fit] training loss: 18.65970, forward: 0.0008, backward: 0.0005\n",
            "[INFO][2023-06-28 04:46:39,722][dance][fit] validation score: 0.00125\n",
            "[INFO][2023-06-28 04:46:39,732][dance][fit] epoch 1\n",
            "[INFO][2023-06-28 04:46:39,774][dance][fit] training loss: 17.66809, forward: 0.0013, backward: 0.0008\n",
            "[INFO][2023-06-28 04:46:39,798][dance][fit] validation score: 0.00088\n",
            "[INFO][2023-06-28 04:46:39,800][dance][fit] epoch 2\n",
            "[INFO][2023-06-28 04:46:39,838][dance][fit] training loss: 15.66323, forward: 0.0018, backward: 0.0010\n",
            "[INFO][2023-06-28 04:46:39,860][dance][fit] validation score: 0.00100\n",
            "[INFO][2023-06-28 04:46:39,864][dance][fit] epoch 3\n",
            "[INFO][2023-06-28 04:46:39,902][dance][fit] training loss: 15.15878, forward: 0.0008, backward: 0.0010\n",
            "[INFO][2023-06-28 04:46:39,924][dance][fit] validation score: 0.00088\n",
            "[INFO][2023-06-28 04:46:39,925][dance][fit] epoch 4\n",
            "[INFO][2023-06-28 04:46:39,963][dance][fit] training loss: 14.83518, forward: 0.0015, backward: 0.0013\n",
            "[INFO][2023-06-28 04:46:39,985][dance][fit] validation score: 0.00225\n",
            "[INFO][2023-06-28 04:46:40,001][dance][fit] epoch 5\n",
            "[INFO][2023-06-28 04:46:40,036][dance][fit] training loss: 14.24541, forward: 0.0018, backward: 0.0038\n",
            "[INFO][2023-06-28 04:46:40,051][dance][fit] validation score: 0.00288\n",
            "[INFO][2023-06-28 04:46:40,069][dance][fit] epoch 6\n",
            "[INFO][2023-06-28 04:46:40,114][dance][fit] training loss: 14.02699, forward: 0.0005, backward: 0.0020\n",
            "[INFO][2023-06-28 04:46:40,127][dance][fit] validation score: 0.00450\n",
            "[INFO][2023-06-28 04:46:40,143][dance][fit] epoch 7\n",
            "[INFO][2023-06-28 04:46:40,188][dance][fit] training loss: 13.84318, forward: 0.0018, backward: 0.0020\n",
            "[INFO][2023-06-28 04:46:40,201][dance][fit] validation score: 0.00625\n",
            "[INFO][2023-06-28 04:46:40,219][dance][fit] epoch 8\n",
            "[INFO][2023-06-28 04:46:40,280][dance][fit] training loss: 13.63701, forward: 0.0043, backward: 0.0038\n",
            "[INFO][2023-06-28 04:46:40,293][dance][fit] validation score: 0.00788\n",
            "[INFO][2023-06-28 04:46:40,311][dance][fit] epoch 9\n",
            "[INFO][2023-06-28 04:46:40,353][dance][fit] training loss: 13.43149, forward: 0.0048, backward: 0.0025\n",
            "[INFO][2023-06-28 04:46:40,368][dance][fit] validation score: 0.00825\n",
            "[INFO][2023-06-28 04:46:40,373][dance][fit] testing score: 0.01800\n",
            "[INFO][2023-06-28 04:46:40,391][dance][fit] epoch 10\n",
            "[INFO][2023-06-28 04:46:40,442][dance][fit] training loss: 13.27989, forward: 0.0045, backward: 0.0053\n",
            "[INFO][2023-06-28 04:46:40,452][dance][fit] validation score: 0.00825\n",
            "[INFO][2023-06-28 04:46:40,458][dance][fit] epoch 11\n",
            "[INFO][2023-06-28 04:46:40,508][dance][fit] training loss: 13.19767, forward: 0.0065, backward: 0.0035\n",
            "[INFO][2023-06-28 04:46:40,522][dance][fit] validation score: 0.00913\n",
            "[INFO][2023-06-28 04:46:40,538][dance][fit] epoch 12\n",
            "[INFO][2023-06-28 04:46:40,583][dance][fit] training loss: 13.11207, forward: 0.0068, backward: 0.0063\n",
            "[INFO][2023-06-28 04:46:40,597][dance][fit] validation score: 0.01025\n",
            "[INFO][2023-06-28 04:46:40,613][dance][fit] epoch 13\n",
            "[INFO][2023-06-28 04:46:40,657][dance][fit] training loss: 12.95779, forward: 0.0075, backward: 0.0065\n",
            "[INFO][2023-06-28 04:46:40,674][dance][fit] validation score: 0.01113\n",
            "[INFO][2023-06-28 04:46:40,695][dance][fit] epoch 14\n",
            "[INFO][2023-06-28 04:46:40,743][dance][fit] training loss: 12.83149, forward: 0.0065, backward: 0.0075\n",
            "[INFO][2023-06-28 04:46:40,756][dance][fit] validation score: 0.01100\n",
            "[INFO][2023-06-28 04:46:40,760][dance][fit] epoch 15\n",
            "[INFO][2023-06-28 04:46:40,808][dance][fit] training loss: 12.70331, forward: 0.0095, backward: 0.0073\n",
            "[INFO][2023-06-28 04:46:40,820][dance][fit] validation score: 0.01113\n",
            "[INFO][2023-06-28 04:46:40,822][dance][fit] epoch 16\n",
            "[INFO][2023-06-28 04:46:40,866][dance][fit] training loss: 12.63860, forward: 0.0085, backward: 0.0070\n",
            "[INFO][2023-06-28 04:46:40,880][dance][fit] validation score: 0.01138\n",
            "[INFO][2023-06-28 04:46:40,902][dance][fit] epoch 17\n",
            "[INFO][2023-06-28 04:46:40,947][dance][fit] training loss: 12.56609, forward: 0.0105, backward: 0.0082\n",
            "[INFO][2023-06-28 04:46:40,960][dance][fit] validation score: 0.01113\n",
            "[INFO][2023-06-28 04:46:40,962][dance][fit] epoch 18\n",
            "[INFO][2023-06-28 04:46:41,344][dance][fit] training loss: 12.43779, forward: 0.0143, backward: 0.0113\n",
            "[INFO][2023-06-28 04:46:41,358][dance][fit] validation score: 0.01075\n",
            "[INFO][2023-06-28 04:46:41,360][dance][fit] epoch 19\n",
            "[INFO][2023-06-28 04:46:41,407][dance][fit] training loss: 12.35010, forward: 0.0135, backward: 0.0108\n",
            "[INFO][2023-06-28 04:46:41,420][dance][fit] validation score: 0.01288\n",
            "[INFO][2023-06-28 04:46:41,427][dance][fit] testing score: 0.02250\n",
            "[INFO][2023-06-28 04:46:41,452][dance][fit] epoch 20\n",
            "[INFO][2023-06-28 04:46:41,494][dance][fit] training loss: 12.26130, forward: 0.0128, backward: 0.0153\n",
            "[INFO][2023-06-28 04:46:41,508][dance][fit] validation score: 0.01338\n",
            "[INFO][2023-06-28 04:46:41,527][dance][fit] epoch 21\n",
            "[INFO][2023-06-28 04:46:41,569][dance][fit] training loss: 12.20803, forward: 0.0118, backward: 0.0138\n",
            "[INFO][2023-06-28 04:46:41,582][dance][fit] validation score: 0.01313\n",
            "[INFO][2023-06-28 04:46:41,584][dance][fit] epoch 22\n",
            "[INFO][2023-06-28 04:46:41,627][dance][fit] training loss: 12.10020, forward: 0.0145, backward: 0.0128\n",
            "[INFO][2023-06-28 04:46:41,640][dance][fit] validation score: 0.01513\n",
            "[INFO][2023-06-28 04:46:41,659][dance][fit] epoch 23\n",
            "[INFO][2023-06-28 04:46:41,701][dance][fit] training loss: 12.02868, forward: 0.0165, backward: 0.0153\n",
            "[INFO][2023-06-28 04:46:41,715][dance][fit] validation score: 0.01575\n",
            "[INFO][2023-06-28 04:46:41,734][dance][fit] epoch 24\n",
            "[INFO][2023-06-28 04:46:41,780][dance][fit] training loss: 11.95014, forward: 0.0170, backward: 0.0153\n",
            "[INFO][2023-06-28 04:46:41,794][dance][fit] validation score: 0.01713\n",
            "[INFO][2023-06-28 04:46:41,812][dance][fit] epoch 25\n",
            "[INFO][2023-06-28 04:46:41,863][dance][fit] training loss: 11.84665, forward: 0.0153, backward: 0.0190\n",
            "[INFO][2023-06-28 04:46:41,874][dance][fit] validation score: 0.01625\n",
            "[INFO][2023-06-28 04:46:41,876][dance][fit] epoch 26\n",
            "[INFO][2023-06-28 04:46:41,924][dance][fit] training loss: 11.81740, forward: 0.0195, backward: 0.0173\n",
            "[INFO][2023-06-28 04:46:41,938][dance][fit] validation score: 0.01550\n",
            "[INFO][2023-06-28 04:46:41,940][dance][fit] epoch 27\n",
            "[INFO][2023-06-28 04:46:41,983][dance][fit] training loss: 11.71381, forward: 0.0175, backward: 0.0148\n",
            "[INFO][2023-06-28 04:46:41,997][dance][fit] validation score: 0.01675\n",
            "[INFO][2023-06-28 04:46:41,999][dance][fit] epoch 28\n",
            "[INFO][2023-06-28 04:46:42,041][dance][fit] training loss: 11.64787, forward: 0.0198, backward: 0.0200\n",
            "[INFO][2023-06-28 04:46:42,055][dance][fit] validation score: 0.01838\n",
            "[INFO][2023-06-28 04:46:42,075][dance][fit] epoch 29\n",
            "[INFO][2023-06-28 04:46:42,117][dance][fit] training loss: 11.56356, forward: 0.0245, backward: 0.0213\n",
            "[INFO][2023-06-28 04:46:42,130][dance][fit] validation score: 0.01888\n",
            "[INFO][2023-06-28 04:46:42,135][dance][fit] testing score: 0.02700\n",
            "[INFO][2023-06-28 04:46:42,155][dance][fit] epoch 30\n",
            "[INFO][2023-06-28 04:46:42,199][dance][fit] training loss: 11.49130, forward: 0.0210, backward: 0.0205\n",
            "[INFO][2023-06-28 04:46:42,212][dance][fit] validation score: 0.01913\n",
            "[INFO][2023-06-28 04:46:42,234][dance][fit] epoch 31\n",
            "[INFO][2023-06-28 04:46:42,281][dance][fit] training loss: 11.43201, forward: 0.0220, backward: 0.0240\n",
            "[INFO][2023-06-28 04:46:42,292][dance][fit] validation score: 0.02013\n",
            "[INFO][2023-06-28 04:46:42,312][dance][fit] epoch 32\n",
            "[INFO][2023-06-28 04:46:42,356][dance][fit] training loss: 11.36264, forward: 0.0263, backward: 0.0208\n",
            "[INFO][2023-06-28 04:46:42,371][dance][fit] validation score: 0.02200\n",
            "[INFO][2023-06-28 04:46:42,391][dance][fit] epoch 33\n",
            "[INFO][2023-06-28 04:46:42,440][dance][fit] training loss: 11.27626, forward: 0.0233, backward: 0.0238\n",
            "[INFO][2023-06-28 04:46:42,452][dance][fit] validation score: 0.02125\n",
            "[INFO][2023-06-28 04:46:42,456][dance][fit] epoch 34\n",
            "[INFO][2023-06-28 04:46:42,510][dance][fit] training loss: 11.23110, forward: 0.0248, backward: 0.0285\n",
            "[INFO][2023-06-28 04:46:42,524][dance][fit] validation score: 0.02075\n",
            "[INFO][2023-06-28 04:46:42,527][dance][fit] epoch 35\n",
            "[INFO][2023-06-28 04:46:42,577][dance][fit] training loss: 11.14361, forward: 0.0295, backward: 0.0283\n",
            "[INFO][2023-06-28 04:46:42,589][dance][fit] validation score: 0.02113\n",
            "[INFO][2023-06-28 04:46:42,591][dance][fit] epoch 36\n",
            "[INFO][2023-06-28 04:46:42,635][dance][fit] training loss: 11.07810, forward: 0.0275, backward: 0.0283\n",
            "[INFO][2023-06-28 04:46:42,647][dance][fit] validation score: 0.02125\n",
            "[INFO][2023-06-28 04:46:42,649][dance][fit] epoch 37\n",
            "[INFO][2023-06-28 04:46:42,696][dance][fit] training loss: 11.00283, forward: 0.0290, backward: 0.0288\n",
            "[INFO][2023-06-28 04:46:42,708][dance][fit] validation score: 0.02175\n",
            "[INFO][2023-06-28 04:46:42,710][dance][fit] epoch 38\n",
            "[INFO][2023-06-28 04:46:42,756][dance][fit] training loss: 10.93702, forward: 0.0285, backward: 0.0323\n",
            "[INFO][2023-06-28 04:46:42,768][dance][fit] validation score: 0.02138\n",
            "[INFO][2023-06-28 04:46:42,770][dance][fit] epoch 39\n",
            "[INFO][2023-06-28 04:46:42,820][dance][fit] training loss: 10.89393, forward: 0.0298, backward: 0.0280\n",
            "[INFO][2023-06-28 04:46:42,832][dance][fit] validation score: 0.02175\n",
            "[INFO][2023-06-28 04:46:42,836][dance][fit] testing score: 0.03450\n",
            "[INFO][2023-06-28 04:46:42,838][dance][fit] epoch 40\n",
            "[INFO][2023-06-28 04:46:42,883][dance][fit] training loss: 10.81026, forward: 0.0320, backward: 0.0308\n",
            "[INFO][2023-06-28 04:46:42,895][dance][fit] validation score: 0.02175\n",
            "[INFO][2023-06-28 04:46:42,897][dance][fit] epoch 41\n",
            "[INFO][2023-06-28 04:46:42,944][dance][fit] training loss: 10.78337, forward: 0.0345, backward: 0.0350\n",
            "[INFO][2023-06-28 04:46:42,957][dance][fit] validation score: 0.02213\n",
            "[INFO][2023-06-28 04:46:42,972][dance][fit] epoch 42\n",
            "[INFO][2023-06-28 04:46:43,016][dance][fit] training loss: 10.68228, forward: 0.0390, backward: 0.0335\n",
            "[INFO][2023-06-28 04:46:43,030][dance][fit] validation score: 0.02388\n",
            "[INFO][2023-06-28 04:46:43,047][dance][fit] epoch 43\n",
            "[INFO][2023-06-28 04:46:43,091][dance][fit] training loss: 10.65210, forward: 0.0365, backward: 0.0360\n",
            "[INFO][2023-06-28 04:46:43,104][dance][fit] validation score: 0.02338\n",
            "[INFO][2023-06-28 04:46:43,108][dance][fit] epoch 44\n",
            "[INFO][2023-06-28 04:46:43,152][dance][fit] training loss: 10.57967, forward: 0.0400, backward: 0.0390\n",
            "[INFO][2023-06-28 04:46:43,164][dance][fit] validation score: 0.02300\n",
            "[INFO][2023-06-28 04:46:43,166][dance][fit] epoch 45\n",
            "[INFO][2023-06-28 04:46:43,209][dance][fit] training loss: 10.49167, forward: 0.0393, backward: 0.0458\n",
            "[INFO][2023-06-28 04:46:43,221][dance][fit] validation score: 0.02438\n",
            "[INFO][2023-06-28 04:46:43,237][dance][fit] epoch 46\n",
            "[INFO][2023-06-28 04:46:43,282][dance][fit] training loss: 10.45250, forward: 0.0428, backward: 0.0393\n",
            "[INFO][2023-06-28 04:46:43,294][dance][fit] validation score: 0.02450\n",
            "[INFO][2023-06-28 04:46:43,308][dance][fit] epoch 47\n",
            "[INFO][2023-06-28 04:46:43,351][dance][fit] training loss: 10.35806, forward: 0.0448, backward: 0.0485\n",
            "[INFO][2023-06-28 04:46:43,363][dance][fit] validation score: 0.02463\n",
            "[INFO][2023-06-28 04:46:43,377][dance][fit] epoch 48\n",
            "[INFO][2023-06-28 04:46:43,421][dance][fit] training loss: 10.34339, forward: 0.0400, backward: 0.0355\n",
            "[INFO][2023-06-28 04:46:43,433][dance][fit] validation score: 0.02538\n",
            "[INFO][2023-06-28 04:46:43,448][dance][fit] epoch 49\n",
            "[INFO][2023-06-28 04:46:43,491][dance][fit] training loss: 10.28002, forward: 0.0423, backward: 0.0413\n",
            "[INFO][2023-06-28 04:46:43,503][dance][fit] validation score: 0.02463\n",
            "[INFO][2023-06-28 04:46:43,507][dance][fit] testing score: 0.04300\n",
            "[INFO][2023-06-28 04:46:43,509][dance][fit] epoch 50\n",
            "[INFO][2023-06-28 04:46:43,553][dance][fit] training loss: 10.20440, forward: 0.0485, backward: 0.0423\n",
            "[INFO][2023-06-28 04:46:43,565][dance][fit] validation score: 0.02625\n",
            "[INFO][2023-06-28 04:46:43,579][dance][fit] epoch 51\n",
            "[INFO][2023-06-28 04:46:43,622][dance][fit] training loss: 10.13878, forward: 0.0483, backward: 0.0485\n",
            "[INFO][2023-06-28 04:46:43,634][dance][fit] validation score: 0.02663\n",
            "[INFO][2023-06-28 04:46:43,648][dance][fit] epoch 52\n",
            "[INFO][2023-06-28 04:46:43,691][dance][fit] training loss: 10.10535, forward: 0.0495, backward: 0.0405\n",
            "[INFO][2023-06-28 04:46:43,704][dance][fit] validation score: 0.02663\n",
            "[INFO][2023-06-28 04:46:43,706][dance][fit] epoch 53\n",
            "[INFO][2023-06-28 04:46:43,750][dance][fit] training loss: 10.04727, forward: 0.0520, backward: 0.0458\n",
            "[INFO][2023-06-28 04:46:43,763][dance][fit] validation score: 0.02688\n",
            "[INFO][2023-06-28 04:46:43,778][dance][fit] epoch 54\n",
            "[INFO][2023-06-28 04:46:43,820][dance][fit] training loss: 9.98327, forward: 0.0543, backward: 0.0498\n",
            "[INFO][2023-06-28 04:46:43,832][dance][fit] validation score: 0.02675\n",
            "[INFO][2023-06-28 04:46:43,834][dance][fit] epoch 55\n",
            "[INFO][2023-06-28 04:46:43,877][dance][fit] training loss: 9.91779, forward: 0.0558, backward: 0.0510\n",
            "[INFO][2023-06-28 04:46:43,890][dance][fit] validation score: 0.02725\n",
            "[INFO][2023-06-28 04:46:43,905][dance][fit] epoch 56\n",
            "[INFO][2023-06-28 04:46:43,948][dance][fit] training loss: 9.87452, forward: 0.0530, backward: 0.0490\n",
            "[INFO][2023-06-28 04:46:43,960][dance][fit] validation score: 0.02838\n",
            "[INFO][2023-06-28 04:46:43,974][dance][fit] epoch 57\n",
            "[INFO][2023-06-28 04:46:44,017][dance][fit] training loss: 9.81026, forward: 0.0523, backward: 0.0513\n",
            "[INFO][2023-06-28 04:46:44,030][dance][fit] validation score: 0.02788\n",
            "[INFO][2023-06-28 04:46:44,033][dance][fit] epoch 58\n",
            "[INFO][2023-06-28 04:46:44,081][dance][fit] training loss: 9.76792, forward: 0.0603, backward: 0.0528\n",
            "[INFO][2023-06-28 04:46:44,093][dance][fit] validation score: 0.02825\n",
            "[INFO][2023-06-28 04:46:44,095][dance][fit] epoch 59\n",
            "[INFO][2023-06-28 04:46:44,137][dance][fit] training loss: 9.68816, forward: 0.0570, backward: 0.0555\n",
            "[INFO][2023-06-28 04:46:44,151][dance][fit] validation score: 0.02875\n",
            "[INFO][2023-06-28 04:46:44,154][dance][fit] testing score: 0.04450\n",
            "[INFO][2023-06-28 04:46:44,174][dance][fit] epoch 60\n",
            "[INFO][2023-06-28 04:46:44,212][dance][fit] training loss: 9.63674, forward: 0.0583, backward: 0.0608\n",
            "[INFO][2023-06-28 04:46:44,227][dance][fit] validation score: 0.02938\n",
            "[INFO][2023-06-28 04:46:44,239][dance][fit] epoch 61\n",
            "[INFO][2023-06-28 04:46:44,273][dance][fit] training loss: 9.59408, forward: 0.0665, backward: 0.0580\n",
            "[INFO][2023-06-28 04:46:44,289][dance][fit] validation score: 0.02800\n",
            "[INFO][2023-06-28 04:46:44,290][dance][fit] epoch 62\n",
            "[INFO][2023-06-28 04:46:44,324][dance][fit] training loss: 9.55003, forward: 0.0715, backward: 0.0635\n",
            "[INFO][2023-06-28 04:46:44,340][dance][fit] validation score: 0.02688\n",
            "[INFO][2023-06-28 04:46:44,341][dance][fit] epoch 63\n",
            "[INFO][2023-06-28 04:46:44,376][dance][fit] training loss: 9.50429, forward: 0.0618, backward: 0.0573\n",
            "[INFO][2023-06-28 04:46:44,391][dance][fit] validation score: 0.02788\n",
            "[INFO][2023-06-28 04:46:44,392][dance][fit] epoch 64\n",
            "[INFO][2023-06-28 04:46:44,427][dance][fit] training loss: 9.47972, forward: 0.0638, backward: 0.0650\n",
            "[INFO][2023-06-28 04:46:44,442][dance][fit] validation score: 0.02900\n",
            "[INFO][2023-06-28 04:46:44,443][dance][fit] epoch 65\n",
            "[INFO][2023-06-28 04:46:44,476][dance][fit] training loss: 9.42912, forward: 0.0695, backward: 0.0665\n",
            "[INFO][2023-06-28 04:46:44,492][dance][fit] validation score: 0.03000\n",
            "[INFO][2023-06-28 04:46:44,504][dance][fit] epoch 66\n",
            "[INFO][2023-06-28 04:46:44,536][dance][fit] training loss: 9.35734, forward: 0.0708, backward: 0.0670\n",
            "[INFO][2023-06-28 04:46:44,552][dance][fit] validation score: 0.03038\n",
            "[INFO][2023-06-28 04:46:44,566][dance][fit] epoch 67\n",
            "[INFO][2023-06-28 04:46:44,598][dance][fit] training loss: 9.29681, forward: 0.0685, backward: 0.0773\n",
            "[INFO][2023-06-28 04:46:44,613][dance][fit] validation score: 0.03050\n",
            "[INFO][2023-06-28 04:46:44,624][dance][fit] epoch 68\n",
            "[INFO][2023-06-28 04:46:44,656][dance][fit] training loss: 9.24546, forward: 0.0810, backward: 0.0770\n",
            "[INFO][2023-06-28 04:46:44,672][dance][fit] validation score: 0.03113\n",
            "[INFO][2023-06-28 04:46:44,685][dance][fit] epoch 69\n",
            "[INFO][2023-06-28 04:46:44,718][dance][fit] training loss: 9.20485, forward: 0.0845, backward: 0.0773\n",
            "[INFO][2023-06-28 04:46:44,733][dance][fit] validation score: 0.03125\n",
            "[INFO][2023-06-28 04:46:44,738][dance][fit] testing score: 0.04950\n",
            "[INFO][2023-06-28 04:46:44,752][dance][fit] epoch 70\n",
            "[INFO][2023-06-28 04:46:44,785][dance][fit] training loss: 9.15587, forward: 0.0953, backward: 0.0803\n",
            "[INFO][2023-06-28 04:46:44,800][dance][fit] validation score: 0.03088\n",
            "[INFO][2023-06-28 04:46:44,801][dance][fit] epoch 71\n",
            "[INFO][2023-06-28 04:46:44,836][dance][fit] training loss: 9.11876, forward: 0.0858, backward: 0.0770\n",
            "[INFO][2023-06-28 04:46:44,852][dance][fit] validation score: 0.03113\n",
            "[INFO][2023-06-28 04:46:44,853][dance][fit] epoch 72\n",
            "[INFO][2023-06-28 04:46:44,887][dance][fit] training loss: 9.10070, forward: 0.0823, backward: 0.0773\n",
            "[INFO][2023-06-28 04:46:44,901][dance][fit] validation score: 0.03038\n",
            "[INFO][2023-06-28 04:46:44,903][dance][fit] epoch 73\n",
            "[INFO][2023-06-28 04:46:44,937][dance][fit] training loss: 9.06420, forward: 0.0913, backward: 0.0915\n",
            "[INFO][2023-06-28 04:46:44,951][dance][fit] validation score: 0.02950\n",
            "[INFO][2023-06-28 04:46:44,953][dance][fit] epoch 74\n",
            "[INFO][2023-06-28 04:46:44,986][dance][fit] training loss: 9.02175, forward: 0.0928, backward: 0.0825\n",
            "[INFO][2023-06-28 04:46:45,001][dance][fit] validation score: 0.03000\n",
            "[INFO][2023-06-28 04:46:45,002][dance][fit] epoch 75\n",
            "[INFO][2023-06-28 04:46:45,036][dance][fit] training loss: 8.96383, forward: 0.0930, backward: 0.0895\n",
            "[INFO][2023-06-28 04:46:45,051][dance][fit] validation score: 0.02925\n",
            "[INFO][2023-06-28 04:46:45,052][dance][fit] epoch 76\n",
            "[INFO][2023-06-28 04:46:45,087][dance][fit] training loss: 8.91648, forward: 0.0960, backward: 0.0935\n",
            "[INFO][2023-06-28 04:46:45,103][dance][fit] validation score: 0.03013\n",
            "[INFO][2023-06-28 04:46:45,104][dance][fit] epoch 77\n",
            "[INFO][2023-06-28 04:46:45,136][dance][fit] training loss: 8.84200, forward: 0.0963, backward: 0.0883\n",
            "[INFO][2023-06-28 04:46:45,152][dance][fit] validation score: 0.03113\n",
            "[INFO][2023-06-28 04:46:45,153][dance][fit] epoch 78\n",
            "[INFO][2023-06-28 04:46:45,185][dance][fit] training loss: 8.85522, forward: 0.0988, backward: 0.0950\n",
            "[INFO][2023-06-28 04:46:45,201][dance][fit] validation score: 0.03063\n",
            "[INFO][2023-06-28 04:46:45,202][dance][fit] epoch 79\n",
            "[INFO][2023-06-28 04:46:45,235][dance][fit] training loss: 8.77507, forward: 0.1098, backward: 0.0985\n",
            "[INFO][2023-06-28 04:46:45,250][dance][fit] validation score: 0.03138\n",
            "[INFO][2023-06-28 04:46:45,255][dance][fit] testing score: 0.05000\n",
            "[INFO][2023-06-28 04:46:45,272][dance][fit] epoch 80\n",
            "[INFO][2023-06-28 04:46:45,304][dance][fit] training loss: 8.73536, forward: 0.1113, backward: 0.0908\n",
            "[INFO][2023-06-28 04:46:45,320][dance][fit] validation score: 0.03113\n",
            "[INFO][2023-06-28 04:46:45,321][dance][fit] epoch 81\n",
            "[INFO][2023-06-28 04:46:45,354][dance][fit] training loss: 8.70088, forward: 0.1045, backward: 0.1015\n",
            "[INFO][2023-06-28 04:46:45,369][dance][fit] validation score: 0.03150\n",
            "[INFO][2023-06-28 04:46:45,385][dance][fit] epoch 82\n",
            "[INFO][2023-06-28 04:46:45,417][dance][fit] training loss: 8.64019, forward: 0.1093, backward: 0.1050\n",
            "[INFO][2023-06-28 04:46:45,432][dance][fit] validation score: 0.03138\n",
            "[INFO][2023-06-28 04:46:45,433][dance][fit] epoch 83\n",
            "[INFO][2023-06-28 04:46:45,467][dance][fit] training loss: 8.60872, forward: 0.1088, backward: 0.1053\n",
            "[INFO][2023-06-28 04:46:45,483][dance][fit] validation score: 0.03075\n",
            "[INFO][2023-06-28 04:46:45,484][dance][fit] epoch 84\n",
            "[INFO][2023-06-28 04:46:45,518][dance][fit] training loss: 8.56328, forward: 0.1193, backward: 0.1125\n",
            "[INFO][2023-06-28 04:46:45,533][dance][fit] validation score: 0.03125\n",
            "[INFO][2023-06-28 04:46:45,534][dance][fit] epoch 85\n",
            "[INFO][2023-06-28 04:46:45,572][dance][fit] training loss: 8.51306, forward: 0.1248, backward: 0.1155\n",
            "[INFO][2023-06-28 04:46:45,586][dance][fit] validation score: 0.03275\n",
            "[INFO][2023-06-28 04:46:45,608][dance][fit] epoch 86\n",
            "[INFO][2023-06-28 04:46:45,640][dance][fit] training loss: 8.47735, forward: 0.1245, backward: 0.1128\n",
            "[INFO][2023-06-28 04:46:45,655][dance][fit] validation score: 0.03350\n",
            "[INFO][2023-06-28 04:46:45,671][dance][fit] epoch 87\n",
            "[INFO][2023-06-28 04:46:45,703][dance][fit] training loss: 8.43593, forward: 0.1303, backward: 0.1188\n",
            "[INFO][2023-06-28 04:46:45,718][dance][fit] validation score: 0.03225\n",
            "[INFO][2023-06-28 04:46:45,720][dance][fit] epoch 88\n",
            "[INFO][2023-06-28 04:46:45,753][dance][fit] training loss: 8.39442, forward: 0.1300, backward: 0.1290\n",
            "[INFO][2023-06-28 04:46:45,769][dance][fit] validation score: 0.03363\n",
            "[INFO][2023-06-28 04:46:45,783][dance][fit] epoch 89\n",
            "[INFO][2023-06-28 04:46:45,815][dance][fit] training loss: 8.39399, forward: 0.1262, backward: 0.1225\n",
            "[INFO][2023-06-28 04:46:45,830][dance][fit] validation score: 0.03400\n",
            "[INFO][2023-06-28 04:46:45,835][dance][fit] testing score: 0.05350\n",
            "[INFO][2023-06-28 04:46:45,851][dance][fit] epoch 90\n",
            "[INFO][2023-06-28 04:46:45,882][dance][fit] training loss: 8.33975, forward: 0.1455, backward: 0.1300\n",
            "[INFO][2023-06-28 04:46:45,897][dance][fit] validation score: 0.03363\n",
            "[INFO][2023-06-28 04:46:45,900][dance][fit] epoch 91\n",
            "[INFO][2023-06-28 04:46:45,932][dance][fit] training loss: 8.27335, forward: 0.1365, backward: 0.1313\n",
            "[INFO][2023-06-28 04:46:45,948][dance][fit] validation score: 0.03175\n",
            "[INFO][2023-06-28 04:46:45,949][dance][fit] epoch 92\n",
            "[INFO][2023-06-28 04:46:45,986][dance][fit] training loss: 8.21776, forward: 0.1493, backward: 0.1375\n",
            "[INFO][2023-06-28 04:46:46,000][dance][fit] validation score: 0.03225\n",
            "[INFO][2023-06-28 04:46:46,002][dance][fit] epoch 93\n",
            "[INFO][2023-06-28 04:46:46,035][dance][fit] training loss: 8.17233, forward: 0.1480, backward: 0.1345\n",
            "[INFO][2023-06-28 04:46:46,051][dance][fit] validation score: 0.03250\n",
            "[INFO][2023-06-28 04:46:46,052][dance][fit] epoch 94\n",
            "[INFO][2023-06-28 04:46:46,086][dance][fit] training loss: 8.17148, forward: 0.1515, backward: 0.1395\n",
            "[INFO][2023-06-28 04:46:46,102][dance][fit] validation score: 0.03325\n",
            "[INFO][2023-06-28 04:46:46,104][dance][fit] epoch 95\n",
            "[INFO][2023-06-28 04:46:46,137][dance][fit] training loss: 8.12397, forward: 0.1468, backward: 0.1483\n",
            "[INFO][2023-06-28 04:46:46,153][dance][fit] validation score: 0.03163\n",
            "[INFO][2023-06-28 04:46:46,156][dance][fit] epoch 96\n",
            "[INFO][2023-06-28 04:46:46,190][dance][fit] training loss: 8.09005, forward: 0.1562, backward: 0.1433\n",
            "[INFO][2023-06-28 04:46:46,204][dance][fit] validation score: 0.03100\n",
            "[INFO][2023-06-28 04:46:46,207][dance][fit] epoch 97\n",
            "[INFO][2023-06-28 04:46:46,240][dance][fit] training loss: 8.03105, forward: 0.1575, backward: 0.1503\n",
            "[INFO][2023-06-28 04:46:46,256][dance][fit] validation score: 0.03250\n",
            "[INFO][2023-06-28 04:46:46,260][dance][fit] epoch 98\n",
            "[INFO][2023-06-28 04:46:46,292][dance][fit] training loss: 8.00265, forward: 0.1625, backward: 0.1525\n",
            "[INFO][2023-06-28 04:46:46,308][dance][fit] validation score: 0.03388\n",
            "[INFO][2023-06-28 04:46:46,309][dance][fit] epoch 99\n",
            "[INFO][2023-06-28 04:46:46,342][dance][fit] training loss: 7.95752, forward: 0.1750, backward: 0.1578\n",
            "[INFO][2023-06-28 04:46:46,358][dance][fit] validation score: 0.03475\n",
            "[INFO][2023-06-28 04:46:46,363][dance][fit] testing score: 0.05150\n",
            "[INFO][2023-06-28 04:46:46,376][dance][fit] epoch 100\n",
            "[INFO][2023-06-28 04:46:46,414][dance][fit] training loss: 7.89016, forward: 0.1773, backward: 0.1598\n",
            "[INFO][2023-06-28 04:46:46,429][dance][fit] validation score: 0.03263\n",
            "[INFO][2023-06-28 04:46:46,430][dance][fit] epoch 101\n",
            "[INFO][2023-06-28 04:46:46,464][dance][fit] training loss: 7.88032, forward: 0.1783, backward: 0.1705\n",
            "[INFO][2023-06-28 04:46:46,479][dance][fit] validation score: 0.03325\n",
            "[INFO][2023-06-28 04:46:46,480][dance][fit] epoch 102\n",
            "[INFO][2023-06-28 04:46:46,517][dance][fit] training loss: 7.82968, forward: 0.1780, backward: 0.1613\n",
            "[INFO][2023-06-28 04:46:46,532][dance][fit] validation score: 0.03350\n",
            "[INFO][2023-06-28 04:46:46,533][dance][fit] epoch 103\n",
            "[INFO][2023-06-28 04:46:46,572][dance][fit] training loss: 7.76562, forward: 0.1805, backward: 0.1623\n",
            "[INFO][2023-06-28 04:46:46,591][dance][fit] validation score: 0.03263\n",
            "[INFO][2023-06-28 04:46:46,596][dance][fit] epoch 104\n",
            "[INFO][2023-06-28 04:46:46,638][dance][fit] training loss: 7.73398, forward: 0.1958, backward: 0.1810\n",
            "[INFO][2023-06-28 04:46:46,648][dance][fit] validation score: 0.03138\n",
            "[INFO][2023-06-28 04:46:46,650][dance][fit] epoch 105\n",
            "[INFO][2023-06-28 04:46:46,686][dance][fit] training loss: 7.72718, forward: 0.1870, backward: 0.1828\n",
            "[INFO][2023-06-28 04:46:46,700][dance][fit] validation score: 0.03400\n",
            "[INFO][2023-06-28 04:46:46,701][dance][fit] epoch 106\n",
            "[INFO][2023-06-28 04:46:46,739][dance][fit] training loss: 7.66411, forward: 0.1948, backward: 0.1830\n",
            "[INFO][2023-06-28 04:46:46,754][dance][fit] validation score: 0.03463\n",
            "[INFO][2023-06-28 04:46:46,755][dance][fit] epoch 107\n",
            "[INFO][2023-06-28 04:46:46,788][dance][fit] training loss: 7.66211, forward: 0.1968, backward: 0.1753\n",
            "[INFO][2023-06-28 04:46:46,804][dance][fit] validation score: 0.03538\n",
            "[INFO][2023-06-28 04:46:46,816][dance][fit] epoch 108\n",
            "[INFO][2023-06-28 04:46:46,850][dance][fit] training loss: 7.58529, forward: 0.2023, backward: 0.1923\n",
            "[INFO][2023-06-28 04:46:46,865][dance][fit] validation score: 0.03400\n",
            "[INFO][2023-06-28 04:46:46,866][dance][fit] epoch 109\n",
            "[INFO][2023-06-28 04:46:46,899][dance][fit] training loss: 7.55214, forward: 0.2073, backward: 0.1935\n",
            "[INFO][2023-06-28 04:46:46,914][dance][fit] validation score: 0.03150\n",
            "[INFO][2023-06-28 04:46:46,918][dance][fit] testing score: 0.05250\n",
            "[INFO][2023-06-28 04:46:46,919][dance][fit] epoch 110\n",
            "[INFO][2023-06-28 04:46:46,956][dance][fit] training loss: 7.53520, forward: 0.2193, backward: 0.1950\n",
            "[INFO][2023-06-28 04:46:46,970][dance][fit] validation score: 0.03375\n",
            "[INFO][2023-06-28 04:46:46,972][dance][fit] epoch 111\n",
            "[INFO][2023-06-28 04:46:47,009][dance][fit] training loss: 7.49682, forward: 0.2170, backward: 0.2015\n",
            "[INFO][2023-06-28 04:46:47,025][dance][fit] validation score: 0.03288\n",
            "[INFO][2023-06-28 04:46:47,026][dance][fit] epoch 112\n",
            "[INFO][2023-06-28 04:46:47,062][dance][fit] training loss: 7.45333, forward: 0.2210, backward: 0.2003\n",
            "[INFO][2023-06-28 04:46:47,077][dance][fit] validation score: 0.03388\n",
            "[INFO][2023-06-28 04:46:47,079][dance][fit] epoch 113\n",
            "[INFO][2023-06-28 04:46:47,112][dance][fit] training loss: 7.39739, forward: 0.2240, backward: 0.2193\n",
            "[INFO][2023-06-28 04:46:47,127][dance][fit] validation score: 0.03338\n",
            "[INFO][2023-06-28 04:46:47,129][dance][fit] epoch 114\n",
            "[INFO][2023-06-28 04:46:47,164][dance][fit] training loss: 7.33909, forward: 0.2335, backward: 0.2145\n",
            "[INFO][2023-06-28 04:46:47,179][dance][fit] validation score: 0.03238\n",
            "[INFO][2023-06-28 04:46:47,180][dance][fit] epoch 115\n",
            "[INFO][2023-06-28 04:46:47,214][dance][fit] training loss: 7.34253, forward: 0.2375, backward: 0.2210\n",
            "[INFO][2023-06-28 04:46:47,230][dance][fit] validation score: 0.03188\n",
            "[INFO][2023-06-28 04:46:47,231][dance][fit] epoch 116\n",
            "[INFO][2023-06-28 04:46:47,265][dance][fit] training loss: 7.26385, forward: 0.2512, backward: 0.2290\n",
            "[INFO][2023-06-28 04:46:47,280][dance][fit] validation score: 0.03100\n",
            "[INFO][2023-06-28 04:46:47,282][dance][fit] epoch 117\n",
            "[INFO][2023-06-28 04:46:47,315][dance][fit] training loss: 7.21931, forward: 0.2490, backward: 0.2280\n",
            "[INFO][2023-06-28 04:46:47,331][dance][fit] validation score: 0.03175\n",
            "[INFO][2023-06-28 04:46:47,332][dance][fit] epoch 118\n",
            "[INFO][2023-06-28 04:46:47,367][dance][fit] training loss: 7.21894, forward: 0.2433, backward: 0.2185\n",
            "[INFO][2023-06-28 04:46:47,383][dance][fit] validation score: 0.03163\n",
            "[INFO][2023-06-28 04:46:47,384][dance][fit] epoch 119\n",
            "[INFO][2023-06-28 04:46:47,417][dance][fit] training loss: 7.15680, forward: 0.2510, backward: 0.2385\n",
            "[INFO][2023-06-28 04:46:47,432][dance][fit] validation score: 0.03188\n",
            "[INFO][2023-06-28 04:46:47,437][dance][fit] testing score: 0.05300\n",
            "[INFO][2023-06-28 04:46:47,438][dance][fit] epoch 120\n",
            "[INFO][2023-06-28 04:46:47,472][dance][fit] training loss: 7.12467, forward: 0.2555, backward: 0.2375\n",
            "[INFO][2023-06-28 04:46:47,487][dance][fit] validation score: 0.03175\n",
            "[INFO][2023-06-28 04:46:47,488][dance][fit] epoch 121\n",
            "[INFO][2023-06-28 04:46:47,522][dance][fit] training loss: 7.08308, forward: 0.2623, backward: 0.2408\n",
            "[INFO][2023-06-28 04:46:47,538][dance][fit] validation score: 0.03050\n",
            "[INFO][2023-06-28 04:46:47,539][dance][fit] epoch 122\n",
            "[INFO][2023-06-28 04:46:47,573][dance][fit] training loss: 7.06259, forward: 0.2725, backward: 0.2445\n",
            "[INFO][2023-06-28 04:46:47,589][dance][fit] validation score: 0.03013\n",
            "[INFO][2023-06-28 04:46:47,590][dance][fit] epoch 123\n",
            "[INFO][2023-06-28 04:46:47,632][dance][fit] training loss: 7.00960, forward: 0.2778, backward: 0.2570\n",
            "[INFO][2023-06-28 04:46:47,645][dance][fit] validation score: 0.03050\n",
            "[INFO][2023-06-28 04:46:47,646][dance][fit] epoch 124\n",
            "[INFO][2023-06-28 04:46:47,683][dance][fit] training loss: 6.99370, forward: 0.2770, backward: 0.2610\n",
            "[INFO][2023-06-28 04:46:47,698][dance][fit] validation score: 0.02975\n",
            "[INFO][2023-06-28 04:46:47,699][dance][fit] epoch 125\n",
            "[INFO][2023-06-28 04:46:47,732][dance][fit] training loss: 6.92801, forward: 0.2803, backward: 0.2633\n",
            "[INFO][2023-06-28 04:46:47,748][dance][fit] validation score: 0.03050\n",
            "[INFO][2023-06-28 04:46:47,749][dance][fit] epoch 126\n",
            "[INFO][2023-06-28 04:46:47,788][dance][fit] training loss: 6.88052, forward: 0.2880, backward: 0.2668\n",
            "[INFO][2023-06-28 04:46:47,803][dance][fit] validation score: 0.02950\n",
            "[INFO][2023-06-28 04:46:47,804][dance][fit] epoch 127\n",
            "[INFO][2023-06-28 04:46:47,838][dance][fit] training loss: 6.86759, forward: 0.2925, backward: 0.2718\n",
            "[INFO][2023-06-28 04:46:47,854][dance][fit] validation score: 0.02888\n",
            "[INFO][2023-06-28 04:46:47,855][dance][fit] Early stopped.\n",
            "[INFO][2023-06-28 04:46:47,858][dance][fit] Valid: 0.03537500090897083\n"
          ]
        },
        {
          "output_type": "execute_result",
          "data": {
            "text/plain": [
              "<dance.modules.multi_modality.match_modality.scmogcn.ScMoGCNWrapper at 0x7f7447832290>"
            ]
          },
          "metadata": {},
          "execution_count": 57
        }
      ]
    },
    {
      "cell_type": "code",
      "source": [
        "model.predict(test_idx, enhance=True, batch1=batch_mod1, batch2=batch_mod2)"
      ],
      "metadata": {
        "id": "PxDuWlKoGs0h",
        "colab": {
          "base_uri": "https://localhost:8080/"
        },
        "outputId": "363581b4-c7c5-4728-9cb2-e66462e201e0"
      },
      "execution_count": 58,
      "outputs": [
        {
          "output_type": "execute_result",
          "data": {
            "text/plain": [
              "array([[0., 0., 0., ..., 0., 0., 0.],\n",
              "       [0., 0., 0., ..., 0., 0., 0.],\n",
              "       [0., 0., 1., ..., 0., 0., 0.],\n",
              "       ...,\n",
              "       [0., 0., 0., ..., 1., 0., 0.],\n",
              "       [0., 0., 0., ..., 0., 0., 0.],\n",
              "       [0., 0., 0., ..., 0., 0., 0.]])"
            ]
          },
          "metadata": {},
          "execution_count": 58
        }
      ]
    },
    {
      "cell_type": "code",
      "source": [
        "model.score(test_idx, labels_matrix=z_test, enhance=True, batch1=batch_mod1, batch2=batch_mod2)"
      ],
      "metadata": {
        "id": "tXwY3LVFGs3F",
        "colab": {
          "base_uri": "https://localhost:8080/"
        },
        "outputId": "dbfd43d3-cbc4-4766-e564-2c76f2ab0f4f"
      },
      "execution_count": 59,
      "outputs": [
        {
          "output_type": "execute_result",
          "data": {
            "text/plain": [
              "0.136"
            ]
          },
          "metadata": {},
          "execution_count": 59
        }
      ]
    },
    {
      "cell_type": "markdown",
      "source": [
        "## 5. Spatial tasks"
      ],
      "metadata": {
        "id": "Y3Y2XVUyKD40"
      }
    },
    {
      "cell_type": "markdown",
      "source": [
        "### 5.1 Spatial Domain"
      ],
      "metadata": {
        "id": "FZS7TIBOKQ3J"
      }
    },
    {
      "cell_type": "markdown",
      "source": [
        "#### SpaGCN model for spatial domain identification\n",
        "\n",
        "![image](https://github.com/OmicsML/dance-tutorials/raw/main/imgs/tutorial_v1/spatial/spagcn_framework.png)"
      ],
      "metadata": {
        "id": "D0PPLfYdKZNW"
      }
    },
    {
      "cell_type": "code",
      "source": [
        "from dance.transforms import Compose\n",
        "from dance.datasets.spatial import SpatialLIBDDataset\n",
        "from dance.modules.spatial.spatial_domain.spagcn import SpaGCN\n",
        "from dance.utils import set_seed\n",
        "from dance.transforms import CellPCA, Compose, FilterGenesMatch, SetConfig\n",
        "from dance.transforms.graph import SpaGCNGraph, SpaGCNGraph2D"
      ],
      "metadata": {
        "id": "gbLBaY5BwRCU"
      },
      "execution_count": 60,
      "outputs": []
    },
    {
      "cell_type": "markdown",
      "source": [
        "#### Initialize model and get model specific preprocessing *pipeline*"
      ],
      "metadata": {
        "id": "gC8_MNm9Knjz"
      }
    },
    {
      "cell_type": "code",
      "source": [
        "model = SpaGCN()\n",
        "# In SpaGCN, alpha and beta are used for graph construction\n",
        "preprocessing_pipeline = model.preprocessing_pipeline(alpha=1, beta=49)"
      ],
      "metadata": {
        "id": "Vtl12VGvKQaY"
      },
      "execution_count": 61,
      "outputs": []
    },
    {
      "cell_type": "markdown",
      "source": [
        "#### User defined customized transform"
      ],
      "metadata": {
        "id": "MCENWWqAKrEw"
      }
    },
    {
      "cell_type": "code",
      "source": [
        "preprocessing_pipeline = Compose(\n",
        "    FilterGenesMatch(prefixes=[\"ERCC\", \"MT-\"]),\n",
        "    SpaGCNGraph(alpha=1, beta=49),\n",
        "    SpaGCNGraph2D(),\n",
        "    CellPCA(n_components=40),\n",
        "    SetConfig({\n",
        "        \"feature_channel\": [\"CellPCA\", \"SpaGCNGraph\", \"SpaGCNGraph2D\"],\n",
        "        \"feature_channel_type\": [\"obsm\", \"obsp\", \"obsp\"],\n",
        "        \"label_channel\": \"label\",\n",
        "        \"label_channel_type\": \"obs\"\n",
        "    }),\n",
        ")"
      ],
      "metadata": {
        "id": "j0EXszkKKQXg"
      },
      "execution_count": 62,
      "outputs": []
    },
    {
      "cell_type": "markdown",
      "source": [
        "#### Load data and perform necessary preprocessing"
      ],
      "metadata": {
        "id": "8m8cYF5VKwsY"
      }
    },
    {
      "cell_type": "code",
      "source": [
        "dataloader = SpatialLIBDDataset(data_id=\"151673\")\n",
        "data = dataloader.load_data(transform=preprocessing_pipeline, cache=\"store_true\")"
      ],
      "metadata": {
        "id": "616ANzlKwaks",
        "colab": {
          "base_uri": "https://localhost:8080/"
        },
        "outputId": "febd9ff2-933e-48b9-fb29-2c039a01212b"
      },
      "execution_count": 63,
      "outputs": [
        {
          "output_type": "stream",
          "name": "stderr",
          "text": [
            "[INFO][2023-06-28 04:46:48,892][dance][is_complete] lack data/spatial/151673/151673_raw_feature_bc_matrix.h5\n",
            "[INFO][2023-06-28 04:46:51,077][dance][download_file] Downloading: data/spatial/151673/151673.zip Bytes: 548,448,341\n",
            "100%|██████████| 523M/523M [00:41<00:00, 13.2MB/s]\n",
            "[INFO][2023-06-28 04:47:32,574][dance][unzip_file] Unzipping data/spatial/151673/151673.zip\n",
            "[INFO][2023-06-28 04:47:34,516][dance][delete_file] Deleting data/spatial/151673/151673.zip\n",
            "[INFO][2023-06-28 04:47:34,636][dance][_load_raw_data] Loading image data from data/spatial/151673/151673_full_image.tif\n",
            "[INFO][2023-06-28 04:47:36,020][dance][_load_raw_data] Loading expression data from data/spatial/151673/151673_raw_feature_bc_matrix.h5\n",
            "/usr/local/lib/python3.10/dist-packages/anndata/_core/anndata.py:1832: UserWarning: Variable names are not unique. To make them unique, call `.var_names_make_unique`.\n",
            "  utils.warn_names_duplicates(\"var\")\n",
            "[INFO][2023-06-28 04:47:36,521][dance][_load_raw_data] Loading spatial info from data/spatial/151673/tissue_positions_list.txt\n",
            "[INFO][2023-06-28 04:47:36,535][dance][_load_raw_data] Loading label info from data/spatial/151673/cluster_labels.csv\n",
            "/usr/local/lib/python3.10/dist-packages/anndata/_core/anndata.py:1832: UserWarning: Variable names are not unique. To make them unique, call `.var_names_make_unique`.\n",
            "  utils.warn_names_duplicates(\"var\")\n",
            "[INFO][2023-06-28 04:47:36,586][dance][load_data] Raw data loaded:\n",
            "Data object that wraps (.data):\n",
            "AnnData object with n_obs × n_vars = 3639 × 33538\n",
            "    obs: 'key', 'ground_truth', 'SpatialDE_PCA', 'SpatialDE_pool_PCA', 'HVG_PCA', 'pseudobulk_PCA', 'markers_PCA', 'SpatialDE_UMAP', 'SpatialDE_pool_UMAP', 'HVG_UMAP', 'pseudobulk_UMAP', 'markers_UMAP', 'SpatialDE_PCA_spatial', 'SpatialDE_pool_PCA_spatial', 'HVG_PCA_spatial', 'pseudobulk_PCA_spatial', 'markers_PCA_spatial', 'SpatialDE_UMAP_spatial', 'SpatialDE_pool_UMAP_spatial', 'HVG_UMAP_spatial', 'pseudobulk_UMAP_spatial', 'markers_UMAP_spatial', 'label'\n",
            "    var: 'gene_ids', 'feature_types', 'genome'\n",
            "    uns: 'image', 'dance_config'\n",
            "    obsm: 'spatial', 'spatial_pixel'\n",
            "[INFO][2023-06-28 04:47:44,624][dance][set_config_from_dict] Setting config 'feature_channel' to ['CellPCA', 'SpaGCNGraph', 'SpaGCNGraph2D']\n",
            "[INFO][2023-06-28 04:47:44,625][dance][set_config_from_dict] Setting config 'feature_channel_type' to ['obsm', 'obsp', 'obsp']\n",
            "[INFO][2023-06-28 04:47:44,628][dance][set_config_from_dict] Setting config 'label_channel' to 'label'\n",
            "[INFO][2023-06-28 04:47:44,630][dance][set_config_from_dict] Setting config 'label_channel_type' to 'obs'\n",
            "[INFO][2023-06-28 04:47:44,632][dance][load_data] Data transformed:\n",
            "Data object that wraps (.data):\n",
            "AnnData object with n_obs × n_vars = 3639 × 33516\n",
            "    obs: 'key', 'ground_truth', 'SpatialDE_PCA', 'SpatialDE_pool_PCA', 'HVG_PCA', 'pseudobulk_PCA', 'markers_PCA', 'SpatialDE_UMAP', 'SpatialDE_pool_UMAP', 'HVG_UMAP', 'pseudobulk_UMAP', 'markers_UMAP', 'SpatialDE_PCA_spatial', 'SpatialDE_pool_PCA_spatial', 'HVG_PCA_spatial', 'pseudobulk_PCA_spatial', 'markers_PCA_spatial', 'SpatialDE_UMAP_spatial', 'SpatialDE_pool_UMAP_spatial', 'HVG_UMAP_spatial', 'pseudobulk_UMAP_spatial', 'markers_UMAP_spatial', 'label'\n",
            "    var: 'gene_ids', 'feature_types', 'genome'\n",
            "    uns: 'image', 'dance_config'\n",
            "    obsm: 'spatial', 'spatial_pixel', 'CellPCA'\n",
            "    obsp: 'SpaGCNGraph', 'SpaGCNGraph2D'\n",
            "[INFO][2023-06-28 04:47:49,332][dance][load_data] Saved processed data to cache: /content/cache/90fac83afdb4eb037c008fa7469ffcd2.pkl\n",
            "[INFO][2023-06-28 04:47:49,334][dance][wrapped_func] Took 0:01:00.442828 to load and process data.\n"
          ]
        }
      ]
    },
    {
      "cell_type": "code",
      "source": [
        "data"
      ],
      "metadata": {
        "id": "hfPuJmV0wcmM",
        "colab": {
          "base_uri": "https://localhost:8080/"
        },
        "outputId": "1808915e-7de5-48e9-e02c-8da81dfeea0f"
      },
      "execution_count": 64,
      "outputs": [
        {
          "output_type": "execute_result",
          "data": {
            "text/plain": [
              "Data object that wraps (.data):\n",
              "AnnData object with n_obs × n_vars = 3639 × 33516\n",
              "    obs: 'key', 'ground_truth', 'SpatialDE_PCA', 'SpatialDE_pool_PCA', 'HVG_PCA', 'pseudobulk_PCA', 'markers_PCA', 'SpatialDE_UMAP', 'SpatialDE_pool_UMAP', 'HVG_UMAP', 'pseudobulk_UMAP', 'markers_UMAP', 'SpatialDE_PCA_spatial', 'SpatialDE_pool_PCA_spatial', 'HVG_PCA_spatial', 'pseudobulk_PCA_spatial', 'markers_PCA_spatial', 'SpatialDE_UMAP_spatial', 'SpatialDE_pool_UMAP_spatial', 'HVG_UMAP_spatial', 'pseudobulk_UMAP_spatial', 'markers_UMAP_spatial', 'label'\n",
              "    var: 'gene_ids', 'feature_types', 'genome'\n",
              "    uns: 'image', 'dance_config'\n",
              "    obsm: 'spatial', 'spatial_pixel', 'CellPCA'\n",
              "    obsp: 'SpaGCNGraph', 'SpaGCNGraph2D'"
            ]
          },
          "metadata": {},
          "execution_count": 64
        }
      ]
    },
    {
      "cell_type": "code",
      "source": [
        "data.data.obsp[\"SpaGCNGraph\"].shape"
      ],
      "metadata": {
        "id": "-ygJh7-TK1Dj",
        "colab": {
          "base_uri": "https://localhost:8080/"
        },
        "outputId": "da2e5a31-6505-4202-c1d7-1549531e9589"
      },
      "execution_count": 65,
      "outputs": [
        {
          "output_type": "execute_result",
          "data": {
            "text/plain": [
              "(3639, 3639)"
            ]
          },
          "metadata": {},
          "execution_count": 65
        }
      ]
    },
    {
      "cell_type": "code",
      "source": [
        "data.x[0].shape"
      ],
      "metadata": {
        "id": "F8Nnkh_NK1A1",
        "colab": {
          "base_uri": "https://localhost:8080/"
        },
        "outputId": "6f6aa319-4337-4b43-88cb-70bcffc03429"
      },
      "execution_count": 66,
      "outputs": [
        {
          "output_type": "execute_result",
          "data": {
            "text/plain": [
              "(3639, 40)"
            ]
          },
          "metadata": {},
          "execution_count": 66
        }
      ]
    },
    {
      "cell_type": "code",
      "source": [
        "data.x[1].shape"
      ],
      "metadata": {
        "id": "O-_Sj-smK09p",
        "colab": {
          "base_uri": "https://localhost:8080/"
        },
        "outputId": "56115a17-b2eb-49ab-a248-35eebea30653"
      },
      "execution_count": 67,
      "outputs": [
        {
          "output_type": "execute_result",
          "data": {
            "text/plain": [
              "(3639, 3639)"
            ]
          },
          "metadata": {},
          "execution_count": 67
        }
      ]
    },
    {
      "cell_type": "code",
      "source": [
        "(x, adj, adj_2d), y = data.get_train_data()"
      ],
      "metadata": {
        "id": "IYTjlVHswiNB"
      },
      "execution_count": 68,
      "outputs": []
    },
    {
      "cell_type": "code",
      "source": [
        "x, x.shape"
      ],
      "metadata": {
        "id": "VsHgLCwtwiUi",
        "colab": {
          "base_uri": "https://localhost:8080/"
        },
        "outputId": "6a20e982-de09-4a6c-a713-75a79bf1d46e"
      },
      "execution_count": 69,
      "outputs": [
        {
          "output_type": "execute_result",
          "data": {
            "text/plain": [
              "(array([[ 74.59441   ,   5.1020446 ,  -1.5808486 , ...,   3.0062046 ,\n",
              "           2.0821643 ,   5.399893  ],\n",
              "        [-52.2047    , -29.17509   ,   0.14971869, ...,   0.9300715 ,\n",
              "           0.5794006 ,   0.22404312],\n",
              "        [-46.553333  ,  97.91386   ,  -3.3191757 , ...,  -0.30053952,\n",
              "           2.1526213 ,   2.920683  ],\n",
              "        ...,\n",
              "        [-48.64317   ,   0.61732996,  -0.6655372 , ...,  -0.44500932,\n",
              "          -2.0972178 ,  -0.24019004],\n",
              "        [-49.086014  ,   7.2246747 ,  -0.7592183 , ...,   0.39618298,\n",
              "           0.83608055,  -0.8478186 ],\n",
              "        [ 35.53667   , -15.498938  ,  -1.0658216 , ...,   5.82994   ,\n",
              "           0.12134802,  -1.7941561 ]], dtype=float32),\n",
              " (3639, 40))"
            ]
          },
          "metadata": {},
          "execution_count": 69
        }
      ]
    },
    {
      "cell_type": "code",
      "source": [
        "adj, adj.shape"
      ],
      "metadata": {
        "id": "Om03IJebwie6",
        "colab": {
          "base_uri": "https://localhost:8080/"
        },
        "outputId": "2821ab04-4651-45c8-e7e6-eac2619aa7c1"
      },
      "execution_count": 70,
      "outputs": [
        {
          "output_type": "execute_result",
          "data": {
            "text/plain": [
              "(array([[  0.     ,  94.04338, 107.42335, ...,  75.5097 , 119.22895,\n",
              "          67.19388],\n",
              "        [ 94.04338,   0.     ,  61.99059, ...,  77.6764 ,  82.52692,\n",
              "          64.84502],\n",
              "        [107.42335,  61.99059,   0.     , ...,  76.50982,  41.4561 ,\n",
              "          97.2263 ],\n",
              "        ...,\n",
              "        [ 75.5097 ,  77.6764 ,  76.50982, ...,   0.     , 111.5035 ,\n",
              "          44.95287],\n",
              "        [119.22895,  82.52692,  41.4561 , ..., 111.5035 ,   0.     ,\n",
              "         126.87175],\n",
              "        [ 67.19388,  64.84502,  97.2263 , ...,  44.95287, 126.87175,\n",
              "           0.     ]], dtype=float32),\n",
              " (3639, 3639))"
            ]
          },
          "metadata": {},
          "execution_count": 70
        }
      ]
    },
    {
      "cell_type": "code",
      "source": [
        "y, y.shape"
      ],
      "metadata": {
        "id": "JvR4xO-8wl8J",
        "colab": {
          "base_uri": "https://localhost:8080/"
        },
        "outputId": "f9fa9dc4-9384-4550-fda4-6b0dd1ed05d2"
      },
      "execution_count": 71,
      "outputs": [
        {
          "output_type": "execute_result",
          "data": {
            "text/plain": [
              "(array([0, 1, 2, ..., 4, 2, 5]), (3639,))"
            ]
          },
          "metadata": {},
          "execution_count": 71
        }
      ]
    },
    {
      "cell_type": "markdown",
      "source": [
        "#### Train and evaluate model"
      ],
      "metadata": {
        "id": "mGUEFoXLK57h"
      }
    },
    {
      "cell_type": "code",
      "source": [
        "l = model.search_l(0.05, adj, start=0.01, end=1000, tol=5e-3, max_run=200)\n",
        "model.set_l(l)\n",
        "res = model.search_set_res((x, adj), l=l, target_num=7, start=0.4, step=0.1,\n",
        "                           tol=5e-3, lr=0.05, epochs=200, max_run=200)"
      ],
      "metadata": {
        "id": "BJLyTTQyK06z",
        "colab": {
          "base_uri": "https://localhost:8080/"
        },
        "outputId": "b2f63f8a-56cb-454c-cf77-c92624e0b329"
      },
      "execution_count": 72,
      "outputs": [
        {
          "output_type": "stream",
          "name": "stderr",
          "text": [
            "[INFO][2023-06-28 04:47:49,971][dance][search_l] Run 1: l [0.01, 1000], p [0.0, 3629.7406229057055]\n",
            "[INFO][2023-06-28 04:47:50,014][dance][search_l] Run 2: l [0.01, 500.005], p [0.0, 3605.191650390625]\n",
            "[INFO][2023-06-28 04:47:50,059][dance][search_l] Run 3: l [0.01, 250.0075], p [0.0, 3510.283935546875]\n",
            "[INFO][2023-06-28 04:47:50,101][dance][search_l] Run 4: l [0.01, 125.00874999999999], p [0.0, 3176.004150390625]\n",
            "[INFO][2023-06-28 04:47:50,144][dance][search_l] Run 5: l [0.01, 62.509375], p [0.0, 2292.207275390625]\n",
            "[INFO][2023-06-28 04:47:50,186][dance][search_l] Run 6: l [0.01, 31.2596875], p [0.0, 1045.6600341796875]\n",
            "[INFO][2023-06-28 04:47:50,229][dance][search_l] Run 7: l [0.01, 15.63484375], p [0.0, 292.86767578125]\n",
            "[INFO][2023-06-28 04:47:50,310][dance][search_l] Run 8: l [0.01, 7.822421875], p [0.0, 59.20479965209961]\n",
            "[INFO][2023-06-28 04:47:50,413][dance][search_l] Run 9: l [0.01, 3.9162109375], p [0.0, 9.6504545211792]\n",
            "[INFO][2023-06-28 04:47:50,479][dance][search_l] Run 10: l [0.01, 1.9631054687499998], p [0.0, 1.3308384418487549]\n",
            "[INFO][2023-06-28 04:47:50,526][dance][search_l] Run 11: l [0.01, 0.9865527343749999], p [0.0, 0.13487112522125244]\n",
            "[INFO][2023-06-28 04:47:50,570][dance][search_l] Run 12: l [0.49827636718749996, 0.9865527343749999], p [0.002484917640686035, 0.13487112522125244]\n",
            "[INFO][2023-06-28 04:47:50,616][dance][search_l] Run 13: l [0.74241455078125, 0.9865527343749999], p [0.03829240798950195, 0.13487112522125244]\n",
            "[INFO][2023-06-28 04:47:50,664][dance][search_l] Run 14: l [0.74241455078125, 0.8644836425781249], p [0.03829240798950195, 0.07849884033203125]\n",
            "[INFO][2023-06-28 04:47:50,732][dance][search_l] Run 15: l [0.74241455078125, 0.8034490966796874], p [0.03829240798950195, 0.05641937255859375]\n",
            "[INFO][2023-06-28 04:47:50,783][dance][search_l] recommended l: 0.7729318237304688\n",
            "[INFO][2023-06-28 04:47:50,785][dance][search_set_res] Start at res = 0.4000, step = 0.1000\n",
            "[INFO][2023-06-28 04:47:50,885][dance][fit] Initializing cluster centers with louvain, resolution = 0.4\n",
            "[INFO][2023-06-28 04:48:08,285][dance][fit] Epoch 0\n",
            "[INFO][2023-06-28 04:48:09,231][dance][fit] Epoch 10\n",
            "[INFO][2023-06-28 04:48:10,135][dance][fit] Epoch 20\n",
            "[INFO][2023-06-28 04:48:11,093][dance][fit] Epoch 30\n",
            "[INFO][2023-06-28 04:48:11,988][dance][fit] Epoch 40\n",
            "[INFO][2023-06-28 04:48:12,898][dance][fit] Epoch 50\n",
            "[INFO][2023-06-28 04:48:14,051][dance][fit] delta_label 0.0038472107721901623 < tol 0.005\n",
            "[INFO][2023-06-28 04:48:14,054][dance][fit] Reach tolerance threshold. Stopping training.\n",
            "[INFO][2023-06-28 04:48:14,055][dance][fit] Total epoch: 58\n",
            "[INFO][2023-06-28 04:48:14,176][dance][search_set_res] Res = 0.4000, Num of clusters = 6\n",
            "[INFO][2023-06-28 04:48:14,299][dance][fit] Initializing cluster centers with louvain, resolution = 0.5\n",
            "[INFO][2023-06-28 04:48:15,215][dance][fit] Epoch 0\n",
            "[INFO][2023-06-28 04:48:16,528][dance][fit] Epoch 10\n",
            "[INFO][2023-06-28 04:48:17,588][dance][fit] Epoch 20\n",
            "[INFO][2023-06-28 04:48:18,581][dance][fit] Epoch 30\n",
            "[INFO][2023-06-28 04:48:19,541][dance][fit] Epoch 40\n",
            "[INFO][2023-06-28 04:48:20,498][dance][fit] Epoch 50\n",
            "[INFO][2023-06-28 04:48:21,488][dance][fit] Epoch 60\n",
            "[INFO][2023-06-28 04:48:22,423][dance][fit] Epoch 70\n",
            "[INFO][2023-06-28 04:48:22,795][dance][fit] delta_label 0.004671613080516625 < tol 0.005\n",
            "[INFO][2023-06-28 04:48:22,796][dance][fit] Reach tolerance threshold. Stopping training.\n",
            "[INFO][2023-06-28 04:48:22,799][dance][fit] Total epoch: 73\n",
            "[INFO][2023-06-28 04:48:22,897][dance][search_set_res] Res = 5.000e-01, Num of clusters = 7\n",
            "[INFO][2023-06-28 04:48:22,899][dance][search_set_res] recommended res = 0.5000\n"
          ]
        }
      ]
    },
    {
      "cell_type": "code",
      "source": [
        "pred = model.fit_predict((x, adj), init_spa=True, init=\"louvain\", tol=5e-3,\n",
        "                         lr=0.05, epochs=200, res=res)"
      ],
      "metadata": {
        "id": "c1fTJ2-vK041",
        "colab": {
          "base_uri": "https://localhost:8080/"
        },
        "outputId": "a0c04079-3f96-43fe-df74-821ecf88f3bc"
      },
      "execution_count": 73,
      "outputs": [
        {
          "output_type": "stream",
          "name": "stderr",
          "text": [
            "[INFO][2023-06-28 04:48:22,992][dance][fit] Initializing cluster centers with louvain, resolution = 0.5\n",
            "[INFO][2023-06-28 04:48:23,547][dance][fit] Epoch 0\n",
            "[INFO][2023-06-28 04:48:24,451][dance][fit] Epoch 10\n",
            "[INFO][2023-06-28 04:48:25,382][dance][fit] Epoch 20\n",
            "[INFO][2023-06-28 04:48:26,322][dance][fit] Epoch 30\n",
            "[INFO][2023-06-28 04:48:27,372][dance][fit] Epoch 40\n",
            "[INFO][2023-06-28 04:48:28,652][dance][fit] delta_label 0.004122011541632316 < tol 0.005\n",
            "[INFO][2023-06-28 04:48:28,654][dance][fit] Reach tolerance threshold. Stopping training.\n",
            "[INFO][2023-06-28 04:48:28,656][dance][fit] Total epoch: 49\n"
          ]
        }
      ]
    },
    {
      "cell_type": "code",
      "source": [
        "score = model.default_score_func(y, pred)\n",
        "print(f\"ARI: {score:.4f}\")"
      ],
      "metadata": {
        "id": "bD4PmvfZK04E",
        "colab": {
          "base_uri": "https://localhost:8080/"
        },
        "outputId": "8e33537b-341b-4cea-9686-7e82c0439e7e"
      },
      "execution_count": 74,
      "outputs": [
        {
          "output_type": "stream",
          "name": "stdout",
          "text": [
            "ARI: 0.1778\n"
          ]
        }
      ]
    },
    {
      "cell_type": "markdown",
      "source": [
        "### 5.2 Cell Type Deconvolution"
      ],
      "metadata": {
        "id": "9tEEPzblLLf_"
      }
    },
    {
      "cell_type": "markdown",
      "source": [
        "#### DSTG model for cell type deconvolution\n",
        "\n",
        "![image](https://github.com/OmicsML/dance-tutorials/raw/main/imgs/tutorial_v1/spatial/dstg_framework.png)"
      ],
      "metadata": {
        "id": "uWeBYQgFLPgD"
      }
    },
    {
      "cell_type": "code",
      "source": [
        "import numpy as np\n",
        "import torch\n",
        "from dance.datasets.spatial import CellTypeDeconvoDataset\n",
        "from dance.modules.spatial.cell_type_deconvo import DSTG\n",
        "from dance.utils import set_seed"
      ],
      "metadata": {
        "id": "JuUBSEx0LWvC"
      },
      "execution_count": 75,
      "outputs": []
    },
    {
      "cell_type": "markdown",
      "source": [
        "#### Get model specific preprocessing *pipeline*"
      ],
      "metadata": {
        "id": "T0Huz17oLbxl"
      }
    },
    {
      "cell_type": "code",
      "source": [
        "preprocessing_pipeline = DSTG.preprocessing_pipeline(\n",
        "    n_pseudo=500,\n",
        "    n_top_genes=2000,\n",
        "    k_filter=200,\n",
        "    num_cc=30,\n",
        ")"
      ],
      "metadata": {
        "id": "SNewOFwMLcws"
      },
      "execution_count": 76,
      "outputs": []
    },
    {
      "cell_type": "markdown",
      "source": [
        "#### Load data and perform necessary preprocessing"
      ],
      "metadata": {
        "id": "WUuvU7AsLhu_"
      }
    },
    {
      "cell_type": "code",
      "source": [
        "dataset = CellTypeDeconvoDataset(data_dir=\"data/spatial\", data_id=\"CARD_synthetic\")\n",
        "data = dataset.load_data(transform=preprocessing_pipeline, cache=\"store_true\")"
      ],
      "metadata": {
        "id": "M-z7K16wLcPY",
        "colab": {
          "base_uri": "https://localhost:8080/"
        },
        "outputId": "52ed724b-d2e1-42d1-bedb-a16d278b202f"
      },
      "execution_count": 77,
      "outputs": [
        {
          "output_type": "stream",
          "name": "stderr",
          "text": [
            "[INFO][2023-06-28 04:48:31,813][dance][download_file] Downloading: data/spatial/CARD_synthetic.zip Bytes: 104,321,218\n",
            "100%|██████████| 99.5M/99.5M [00:08<00:00, 12.4MB/s]\n",
            "[INFO][2023-06-28 04:48:40,235][dance][unzip_file] Unzipping data/spatial/CARD_synthetic.zip\n",
            "[INFO][2023-06-28 04:48:40,561][dance][delete_file] Deleting data/spatial/CARD_synthetic.zip\n",
            "[INFO][2023-06-28 04:48:41,642][dance][_load_raw_data] Number of cell types: reference = 7, real = 6\n",
            "[INFO][2023-06-28 04:48:41,649][dance][_load_raw_data] Subsetting to common cell types (n=6):\n",
            "['Astrocytes', 'Ependymal', 'Immune', 'Neurons', 'Oligos', 'Vascular']\n",
            "[INFO][2023-06-28 04:48:43,107][dance][load_data] Raw data loaded:\n",
            "Data object that wraps (.data):\n",
            "AnnData object with n_obs × n_vars = 10454 × 18263\n",
            "    obs: 'cellname', 'cellType', 'sampleID', 'batch'\n",
            "    uns: 'dance_config'\n",
            "    obsm: 'cell_type_portion', 'spatial'\n",
            "[INFO][2023-06-28 04:48:43,113][dance.Compose][__call__] Applying composed transformations:\n",
            "Compose(\n",
            "  FilterGenesCommon(batch_key=None, split_keys=['ref', 'test']),\n",
            "  PseudoMixture(n_pseudo=500, nc_min=2, nc_max=10, ct_select='auto'),\n",
            "  RemoveSplit(split_name='ref'),\n",
            "  AnnDataTransform(func=scanpy.preprocessing._normalization.normalize_total, func_kwargs={'target_sum': 10000.0}),\n",
            "  AnnDataTransform(func=scanpy.preprocessing._simple.log1p, func_kwargs={}),\n",
            "  AnnDataTransform(func=scanpy.preprocessing._highly_variable_genes.highly_variable_genes, func_kwargs={'flavor': 'seurat', 'n_top_genes': 2000, 'batch_key': 'batch', 'subset': True}),\n",
            "  ScaleFeature(axis=0, mode='standardize', eps=-1, split_names='ALL', batch_key=None),\n",
            "  DSTGraph(k_filter=200, num_cc=30, ref_split='pseudo', inf_split='test'),\n",
            "  SetConfig(config_dict={'feature_channel': ['DSTGraph', None], 'feature_channel_type': ['obsp', 'X'], 'label_channel': 'cell_type_portion'}),\n",
            ")\n",
            "[INFO][2023-06-28 04:48:44,981][dance.FilterGenesCommon][__call__] 18,165 genes found in 'ref'\n",
            "[INFO][2023-06-28 04:48:45,026][dance.FilterGenesCommon][__call__] 16,740 genes found in 'test'\n",
            "[INFO][2023-06-28 04:48:45,040][dance.FilterGenesCommon][__call__] Found 16,689 common genes out of 18,263 total genes.\n",
            "[INFO][2023-06-28 04:48:51,643][dance.RemoveSplit][__call__] Popping split: {self.split_name!r}\n",
            "[INFO][2023-06-28 04:48:51,646][dance][pop] Updating split index for 'pseudo'. 500 -> 500\n",
            "[INFO][2023-06-28 04:48:51,648][dance][pop] Updating split index for 'test'. 260 -> 260\n",
            "/usr/local/lib/python3.10/dist-packages/scanpy/preprocessing/_normalization.py:170: UserWarning: Received a view of an AnnData. Making a copy.\n",
            "  view_to_actual(adata)\n",
            "[INFO][2023-06-28 04:48:52,544][dance.ScaleFeature][__call__] Scaling split:pseudo (n=500)\n",
            "[INFO][2023-06-28 04:48:52,549][dance.ScaleFeature][__call__] Scaling split:test (n=260)\n",
            "/usr/local/lib/python3.10/dist-packages/sklearn/preprocessing/_data.py:240: UserWarning: Numerical issues were encountered when centering the data and might not be solved. Dataset may contain too large values. You may need to prescale your features.\n",
            "  warnings.warn(\n",
            "/usr/local/lib/python3.10/dist-packages/sklearn/preprocessing/_data.py:259: UserWarning: Numerical issues were encountered when scaling the data and might not be solved. The standard deviation of the data is probably very close to 0. \n",
            "  warnings.warn(\n",
            "/usr/local/lib/python3.10/dist-packages/sklearn/preprocessing/_data.py:240: UserWarning: Numerical issues were encountered when centering the data and might not be solved. Dataset may contain too large values. You may need to prescale your features.\n",
            "  warnings.warn(\n",
            "/usr/local/lib/python3.10/dist-packages/sklearn/preprocessing/_data.py:259: UserWarning: Numerical issues were encountered when scaling the data and might not be solved. The standard deviation of the data is probably very close to 0. \n",
            "  warnings.warn(\n",
            "[INFO][2023-06-28 04:48:55,402][dance.SetConfig][__call__] Updating the dance data object config options:\n",
            "{'feature_channel': ['DSTGraph', None],\n",
            " 'feature_channel_type': ['obsp', 'X'],\n",
            " 'label_channel': 'cell_type_portion'}\n",
            "[INFO][2023-06-28 04:48:55,408][dance][set_config_from_dict] Setting config 'feature_channel' to ['DSTGraph', None]\n",
            "[INFO][2023-06-28 04:48:55,410][dance][set_config_from_dict] Setting config 'feature_channel_type' to ['obsp', 'X']\n",
            "[INFO][2023-06-28 04:48:55,411][dance][set_config_from_dict] Setting config 'label_channel' to 'cell_type_portion'\n",
            "[INFO][2023-06-28 04:48:55,413][dance][load_data] Data transformed:\n",
            "Data object that wraps (.data):\n",
            "AnnData object with n_obs × n_vars = 760 × 2000\n",
            "    obs: 'cellname', 'cellType', 'sampleID', 'batch', 'cell_count', 'total_umi_count'\n",
            "    var: 'highly_variable', 'means', 'dispersions', 'dispersions_norm', 'highly_variable_nbatches', 'highly_variable_intersection'\n",
            "    uns: 'dance_config', 'log1p', 'hvg'\n",
            "    obsm: 'cell_type_portion', 'spatial'\n",
            "    obsp: 'DSTGraph'\n",
            "[INFO][2023-06-28 04:48:55,449][dance][load_data] Saved processed data to cache: /content/data/spatial/cache/deb1872ee913171bc6ab727195be020b.pkl\n",
            "[INFO][2023-06-28 04:48:55,478][dance][wrapped_func] Took 0:00:26.418442 to load and process data.\n"
          ]
        }
      ]
    },
    {
      "cell_type": "code",
      "source": [
        "data.x"
      ],
      "metadata": {
        "id": "6bzAub6oK0xX",
        "colab": {
          "base_uri": "https://localhost:8080/"
        },
        "outputId": "406e8f3e-d41f-4ed2-b829-d02308f56ca4"
      },
      "execution_count": 78,
      "outputs": [
        {
          "output_type": "execute_result",
          "data": {
            "text/plain": [
              "[<760x760 sparse matrix of type '<class 'numpy.float64'>'\n",
              " \twith 3032 stored elements in COOrdinate format>,\n",
              " array([[-0.96134275,  0.976699  , -1.028233  , ..., -0.16210744,\n",
              "          0.10654867,  0.72191226],\n",
              "        [-0.96134275,  0.67003554,  0.12525097, ..., -0.16210744,\n",
              "         -0.7449631 ,  0.32156822],\n",
              "        [-0.96134275, -0.9604567 ,  0.06584168, ..., -0.16210744,\n",
              "         -0.89897835,  1.0575923 ],\n",
              "        ...,\n",
              "        [-0.7177087 , -0.29554528, -0.85624325, ...,  0.        ,\n",
              "         -0.7281318 ,  2.2388465 ],\n",
              "        [-0.7177087 , -0.29554528, -0.85624325, ...,  0.        ,\n",
              "         -0.9590941 , -0.49117133],\n",
              "        [ 1.5180172 , -0.29554528, -0.85624325, ...,  0.        ,\n",
              "         -0.87318116, -0.49117133]], dtype=float32)]"
            ]
          },
          "metadata": {},
          "execution_count": 78
        }
      ]
    },
    {
      "cell_type": "code",
      "source": [
        "len(data.x)"
      ],
      "metadata": {
        "id": "lBbjqjkGLnLN",
        "colab": {
          "base_uri": "https://localhost:8080/"
        },
        "outputId": "5638daf6-46d5-4c36-e386-f00835d4ffee"
      },
      "execution_count": 79,
      "outputs": [
        {
          "output_type": "execute_result",
          "data": {
            "text/plain": [
              "2"
            ]
          },
          "metadata": {},
          "execution_count": 79
        }
      ]
    },
    {
      "cell_type": "code",
      "source": [
        "data.x[0], data.x[0].shape"
      ],
      "metadata": {
        "id": "Y01dDri6LnHx",
        "colab": {
          "base_uri": "https://localhost:8080/"
        },
        "outputId": "40ff32e4-f724-42f3-ac1a-647981914852"
      },
      "execution_count": 80,
      "outputs": [
        {
          "output_type": "execute_result",
          "data": {
            "text/plain": [
              "(<760x760 sparse matrix of type '<class 'numpy.float64'>'\n",
              " \twith 3032 stored elements in COOrdinate format>,\n",
              " (760, 760))"
            ]
          },
          "metadata": {},
          "execution_count": 80
        }
      ]
    },
    {
      "cell_type": "code",
      "source": [
        "data.x[1], data.x[1].shape"
      ],
      "metadata": {
        "id": "kEyieaeILnEc",
        "colab": {
          "base_uri": "https://localhost:8080/"
        },
        "outputId": "cdd43847-5979-4f4f-8f8c-8e1b2b0f9a40"
      },
      "execution_count": 81,
      "outputs": [
        {
          "output_type": "execute_result",
          "data": {
            "text/plain": [
              "(array([[-0.96134275,  0.976699  , -1.028233  , ..., -0.16210744,\n",
              "          0.10654867,  0.72191226],\n",
              "        [-0.96134275,  0.67003554,  0.12525097, ..., -0.16210744,\n",
              "         -0.7449631 ,  0.32156822],\n",
              "        [-0.96134275, -0.9604567 ,  0.06584168, ..., -0.16210744,\n",
              "         -0.89897835,  1.0575923 ],\n",
              "        ...,\n",
              "        [-0.7177087 , -0.29554528, -0.85624325, ...,  0.        ,\n",
              "         -0.7281318 ,  2.2388465 ],\n",
              "        [-0.7177087 , -0.29554528, -0.85624325, ...,  0.        ,\n",
              "         -0.9590941 , -0.49117133],\n",
              "        [ 1.5180172 , -0.29554528, -0.85624325, ...,  0.        ,\n",
              "         -0.87318116, -0.49117133]], dtype=float32),\n",
              " (760, 2000))"
            ]
          },
          "metadata": {},
          "execution_count": 81
        }
      ]
    },
    {
      "cell_type": "code",
      "source": [
        "(adj, x), y = data.get_data(return_type=\"default\")\n",
        "x, y = torch.FloatTensor(x), torch.FloatTensor(y.values)\n",
        "adj = torch.sparse.FloatTensor(torch.LongTensor([adj.row.tolist(), adj.col.tolist()]),\n",
        "                               torch.FloatTensor(adj.data.astype(np.int32)))"
      ],
      "metadata": {
        "id": "IyZ1rXFkLnBU"
      },
      "execution_count": 82,
      "outputs": []
    },
    {
      "cell_type": "code",
      "source": [
        "x, x.shape"
      ],
      "metadata": {
        "id": "nQdWqipvxX_y",
        "colab": {
          "base_uri": "https://localhost:8080/"
        },
        "outputId": "b583c86d-01a0-4291-9308-c1a06f9a9a81"
      },
      "execution_count": 83,
      "outputs": [
        {
          "output_type": "execute_result",
          "data": {
            "text/plain": [
              "(tensor([[-0.9613,  0.9767, -1.0282,  ..., -0.1621,  0.1065,  0.7219],\n",
              "         [-0.9613,  0.6700,  0.1253,  ..., -0.1621, -0.7450,  0.3216],\n",
              "         [-0.9613, -0.9605,  0.0658,  ..., -0.1621, -0.8990,  1.0576],\n",
              "         ...,\n",
              "         [-0.7177, -0.2955, -0.8562,  ...,  0.0000, -0.7281,  2.2388],\n",
              "         [-0.7177, -0.2955, -0.8562,  ...,  0.0000, -0.9591, -0.4912],\n",
              "         [ 1.5180, -0.2955, -0.8562,  ...,  0.0000, -0.8732, -0.4912]]),\n",
              " torch.Size([760, 2000]))"
            ]
          },
          "metadata": {},
          "execution_count": 83
        }
      ]
    },
    {
      "cell_type": "code",
      "source": [
        "adj, adj.shape"
      ],
      "metadata": {
        "id": "Fp_iEPSPxYCq",
        "colab": {
          "base_uri": "https://localhost:8080/"
        },
        "outputId": "dcb5d5a1-ba1a-4b73-87dc-63227cd27776"
      },
      "execution_count": 84,
      "outputs": [
        {
          "output_type": "execute_result",
          "data": {
            "text/plain": [
              "(tensor(indices=tensor([[  0,   0,   0,  ..., 759, 759, 759],\n",
              "                        [  0, 563, 647,  ..., 295, 374, 759]]),\n",
              "        values=tensor([0., 0., 0.,  ..., 0., 0., 0.]),\n",
              "        size=(760, 760), nnz=3032, layout=torch.sparse_coo),\n",
              " torch.Size([760, 760]))"
            ]
          },
          "metadata": {},
          "execution_count": 84
        }
      ]
    },
    {
      "cell_type": "code",
      "source": [
        "y, y.shape"
      ],
      "metadata": {
        "id": "0Pss6LONxYFO",
        "colab": {
          "base_uri": "https://localhost:8080/"
        },
        "outputId": "c30fb89b-bc53-4150-97b2-c95ff204ca6a"
      },
      "execution_count": 85,
      "outputs": [
        {
          "output_type": "execute_result",
          "data": {
            "text/plain": [
              "(tensor([[0.2000, 0.1000, 0.0000, 0.4000, 0.0000, 0.3000],\n",
              "         [0.3000, 0.1000, 0.1000, 0.2000, 0.2000, 0.1000],\n",
              "         [0.0000, 0.0000, 0.0000, 0.2222, 0.1111, 0.6667],\n",
              "         ...,\n",
              "         [0.0000, 0.0000, 0.0000, 0.5000, 0.5000, 0.0000],\n",
              "         [0.1429, 0.0000, 0.0000, 0.4286, 0.4286, 0.0000],\n",
              "         [0.0000, 0.0000, 0.2500, 0.7500, 0.0000, 0.0000]]),\n",
              " torch.Size([760, 6]))"
            ]
          },
          "metadata": {},
          "execution_count": 85
        }
      ]
    },
    {
      "cell_type": "code",
      "source": [
        "train_mask = data.get_split_mask(\"pseudo\", return_type=\"torch\")\n",
        "inputs = (adj, x, train_mask)\n",
        "train_mask, train_mask.shape"
      ],
      "metadata": {
        "id": "tq0ZmCStxYHu",
        "colab": {
          "base_uri": "https://localhost:8080/"
        },
        "outputId": "d8354821-07ba-421b-887c-0fa047e803b8"
      },
      "execution_count": 86,
      "outputs": [
        {
          "output_type": "execute_result",
          "data": {
            "text/plain": [
              "(tensor([False, False, False, False, False, False, False, False, False, False,\n",
              "         False, False, False, False, False, False, False, False, False, False,\n",
              "         False, False, False, False, False, False, False, False, False, False,\n",
              "         False, False, False, False, False, False, False, False, False, False,\n",
              "         False, False, False, False, False, False, False, False, False, False,\n",
              "         False, False, False, False, False, False, False, False, False, False,\n",
              "         False, False, False, False, False, False, False, False, False, False,\n",
              "         False, False, False, False, False, False, False, False, False, False,\n",
              "         False, False, False, False, False, False, False, False, False, False,\n",
              "         False, False, False, False, False, False, False, False, False, False,\n",
              "         False, False, False, False, False, False, False, False, False, False,\n",
              "         False, False, False, False, False, False, False, False, False, False,\n",
              "         False, False, False, False, False, False, False, False, False, False,\n",
              "         False, False, False, False, False, False, False, False, False, False,\n",
              "         False, False, False, False, False, False, False, False, False, False,\n",
              "         False, False, False, False, False, False, False, False, False, False,\n",
              "         False, False, False, False, False, False, False, False, False, False,\n",
              "         False, False, False, False, False, False, False, False, False, False,\n",
              "         False, False, False, False, False, False, False, False, False, False,\n",
              "         False, False, False, False, False, False, False, False, False, False,\n",
              "         False, False, False, False, False, False, False, False, False, False,\n",
              "         False, False, False, False, False, False, False, False, False, False,\n",
              "         False, False, False, False, False, False, False, False, False, False,\n",
              "         False, False, False, False, False, False, False, False, False, False,\n",
              "         False, False, False, False, False, False, False, False, False, False,\n",
              "         False, False, False, False, False, False, False, False, False, False,\n",
              "          True,  True,  True,  True,  True,  True,  True,  True,  True,  True,\n",
              "          True,  True,  True,  True,  True,  True,  True,  True,  True,  True,\n",
              "          True,  True,  True,  True,  True,  True,  True,  True,  True,  True,\n",
              "          True,  True,  True,  True,  True,  True,  True,  True,  True,  True,\n",
              "          True,  True,  True,  True,  True,  True,  True,  True,  True,  True,\n",
              "          True,  True,  True,  True,  True,  True,  True,  True,  True,  True,\n",
              "          True,  True,  True,  True,  True,  True,  True,  True,  True,  True,\n",
              "          True,  True,  True,  True,  True,  True,  True,  True,  True,  True,\n",
              "          True,  True,  True,  True,  True,  True,  True,  True,  True,  True,\n",
              "          True,  True,  True,  True,  True,  True,  True,  True,  True,  True,\n",
              "          True,  True,  True,  True,  True,  True,  True,  True,  True,  True,\n",
              "          True,  True,  True,  True,  True,  True,  True,  True,  True,  True,\n",
              "          True,  True,  True,  True,  True,  True,  True,  True,  True,  True,\n",
              "          True,  True,  True,  True,  True,  True,  True,  True,  True,  True,\n",
              "          True,  True,  True,  True,  True,  True,  True,  True,  True,  True,\n",
              "          True,  True,  True,  True,  True,  True,  True,  True,  True,  True,\n",
              "          True,  True,  True,  True,  True,  True,  True,  True,  True,  True,\n",
              "          True,  True,  True,  True,  True,  True,  True,  True,  True,  True,\n",
              "          True,  True,  True,  True,  True,  True,  True,  True,  True,  True,\n",
              "          True,  True,  True,  True,  True,  True,  True,  True,  True,  True,\n",
              "          True,  True,  True,  True,  True,  True,  True,  True,  True,  True,\n",
              "          True,  True,  True,  True,  True,  True,  True,  True,  True,  True,\n",
              "          True,  True,  True,  True,  True,  True,  True,  True,  True,  True,\n",
              "          True,  True,  True,  True,  True,  True,  True,  True,  True,  True,\n",
              "          True,  True,  True,  True,  True,  True,  True,  True,  True,  True,\n",
              "          True,  True,  True,  True,  True,  True,  True,  True,  True,  True,\n",
              "          True,  True,  True,  True,  True,  True,  True,  True,  True,  True,\n",
              "          True,  True,  True,  True,  True,  True,  True,  True,  True,  True,\n",
              "          True,  True,  True,  True,  True,  True,  True,  True,  True,  True,\n",
              "          True,  True,  True,  True,  True,  True,  True,  True,  True,  True,\n",
              "          True,  True,  True,  True,  True,  True,  True,  True,  True,  True,\n",
              "          True,  True,  True,  True,  True,  True,  True,  True,  True,  True,\n",
              "          True,  True,  True,  True,  True,  True,  True,  True,  True,  True,\n",
              "          True,  True,  True,  True,  True,  True,  True,  True,  True,  True,\n",
              "          True,  True,  True,  True,  True,  True,  True,  True,  True,  True,\n",
              "          True,  True,  True,  True,  True,  True,  True,  True,  True,  True,\n",
              "          True,  True,  True,  True,  True,  True,  True,  True,  True,  True,\n",
              "          True,  True,  True,  True,  True,  True,  True,  True,  True,  True,\n",
              "          True,  True,  True,  True,  True,  True,  True,  True,  True,  True,\n",
              "          True,  True,  True,  True,  True,  True,  True,  True,  True,  True,\n",
              "          True,  True,  True,  True,  True,  True,  True,  True,  True,  True,\n",
              "          True,  True,  True,  True,  True,  True,  True,  True,  True,  True,\n",
              "          True,  True,  True,  True,  True,  True,  True,  True,  True,  True,\n",
              "          True,  True,  True,  True,  True,  True,  True,  True,  True,  True,\n",
              "          True,  True,  True,  True,  True,  True,  True,  True,  True,  True,\n",
              "          True,  True,  True,  True,  True,  True,  True,  True,  True,  True,\n",
              "          True,  True,  True,  True,  True,  True,  True,  True,  True,  True,\n",
              "          True,  True,  True,  True,  True,  True,  True,  True,  True,  True,\n",
              "          True,  True,  True,  True,  True,  True,  True,  True,  True,  True,\n",
              "          True,  True,  True,  True,  True,  True,  True,  True,  True,  True]),\n",
              " torch.Size([760]))"
            ]
          },
          "metadata": {},
          "execution_count": 86
        }
      ]
    },
    {
      "cell_type": "markdown",
      "source": [
        "#### Train and evaluate model"
      ],
      "metadata": {
        "id": "8K4uFzomLrIU"
      }
    },
    {
      "cell_type": "code",
      "source": [
        "model = DSTG(nhid=16, bias=False, dropout=0, device=\"auto\")\n",
        "pred = model.fit_predict(inputs, y, lr=0.01, max_epochs=25, weight_decay=0.0001)\n",
        "pred, pred.shape"
      ],
      "metadata": {
        "id": "yR-8s8HgxfJb",
        "colab": {
          "base_uri": "https://localhost:8080/"
        },
        "outputId": "0008953a-8446-454c-f3a0-bf41efec1994"
      },
      "execution_count": 87,
      "outputs": [
        {
          "output_type": "stream",
          "name": "stderr",
          "text": [
            "[INFO][2023-06-28 04:48:55,799][dance][fit] Epoch: 0005, train_loss=1.79176, time=0.00161\n",
            "[INFO][2023-06-28 04:48:55,823][dance][fit] Epoch: 0010, train_loss=1.79176, time=0.00147\n",
            "[INFO][2023-06-28 04:48:55,846][dance][fit] Epoch: 0015, train_loss=1.79176, time=0.00167\n",
            "[INFO][2023-06-28 04:48:55,871][dance][fit] Epoch: 0020, train_loss=1.79176, time=0.00163\n",
            "[INFO][2023-06-28 04:48:55,894][dance][fit] Epoch: 0025, train_loss=1.79176, time=0.00148\n"
          ]
        },
        {
          "output_type": "execute_result",
          "data": {
            "text/plain": [
              "(tensor([[0.1667, 0.1667, 0.1667, 0.1667, 0.1667, 0.1667],\n",
              "         [0.1667, 0.1667, 0.1667, 0.1667, 0.1667, 0.1667],\n",
              "         [0.1667, 0.1667, 0.1667, 0.1667, 0.1667, 0.1667],\n",
              "         ...,\n",
              "         [0.1667, 0.1667, 0.1667, 0.1667, 0.1667, 0.1667],\n",
              "         [0.1667, 0.1667, 0.1667, 0.1667, 0.1667, 0.1667],\n",
              "         [0.1667, 0.1667, 0.1667, 0.1667, 0.1667, 0.1667]], device='cuda:0',\n",
              "        grad_fn=<SoftmaxBackward0>),\n",
              " torch.Size([760, 6]))"
            ]
          },
          "metadata": {},
          "execution_count": 87
        }
      ]
    },
    {
      "cell_type": "code",
      "source": [
        "test_mask = data.get_split_mask(\"test\", return_type=\"torch\")\n",
        "test_mask, test_mask.shape"
      ],
      "metadata": {
        "id": "YPVLCbkXxewS",
        "colab": {
          "base_uri": "https://localhost:8080/"
        },
        "outputId": "e4226d30-0917-46c8-8e67-261edffe6d56"
      },
      "execution_count": 88,
      "outputs": [
        {
          "output_type": "execute_result",
          "data": {
            "text/plain": [
              "(tensor([ True,  True,  True,  True,  True,  True,  True,  True,  True,  True,\n",
              "          True,  True,  True,  True,  True,  True,  True,  True,  True,  True,\n",
              "          True,  True,  True,  True,  True,  True,  True,  True,  True,  True,\n",
              "          True,  True,  True,  True,  True,  True,  True,  True,  True,  True,\n",
              "          True,  True,  True,  True,  True,  True,  True,  True,  True,  True,\n",
              "          True,  True,  True,  True,  True,  True,  True,  True,  True,  True,\n",
              "          True,  True,  True,  True,  True,  True,  True,  True,  True,  True,\n",
              "          True,  True,  True,  True,  True,  True,  True,  True,  True,  True,\n",
              "          True,  True,  True,  True,  True,  True,  True,  True,  True,  True,\n",
              "          True,  True,  True,  True,  True,  True,  True,  True,  True,  True,\n",
              "          True,  True,  True,  True,  True,  True,  True,  True,  True,  True,\n",
              "          True,  True,  True,  True,  True,  True,  True,  True,  True,  True,\n",
              "          True,  True,  True,  True,  True,  True,  True,  True,  True,  True,\n",
              "          True,  True,  True,  True,  True,  True,  True,  True,  True,  True,\n",
              "          True,  True,  True,  True,  True,  True,  True,  True,  True,  True,\n",
              "          True,  True,  True,  True,  True,  True,  True,  True,  True,  True,\n",
              "          True,  True,  True,  True,  True,  True,  True,  True,  True,  True,\n",
              "          True,  True,  True,  True,  True,  True,  True,  True,  True,  True,\n",
              "          True,  True,  True,  True,  True,  True,  True,  True,  True,  True,\n",
              "          True,  True,  True,  True,  True,  True,  True,  True,  True,  True,\n",
              "          True,  True,  True,  True,  True,  True,  True,  True,  True,  True,\n",
              "          True,  True,  True,  True,  True,  True,  True,  True,  True,  True,\n",
              "          True,  True,  True,  True,  True,  True,  True,  True,  True,  True,\n",
              "          True,  True,  True,  True,  True,  True,  True,  True,  True,  True,\n",
              "          True,  True,  True,  True,  True,  True,  True,  True,  True,  True,\n",
              "          True,  True,  True,  True,  True,  True,  True,  True,  True,  True,\n",
              "         False, False, False, False, False, False, False, False, False, False,\n",
              "         False, False, False, False, False, False, False, False, False, False,\n",
              "         False, False, False, False, False, False, False, False, False, False,\n",
              "         False, False, False, False, False, False, False, False, False, False,\n",
              "         False, False, False, False, False, False, False, False, False, False,\n",
              "         False, False, False, False, False, False, False, False, False, False,\n",
              "         False, False, False, False, False, False, False, False, False, False,\n",
              "         False, False, False, False, False, False, False, False, False, False,\n",
              "         False, False, False, False, False, False, False, False, False, False,\n",
              "         False, False, False, False, False, False, False, False, False, False,\n",
              "         False, False, False, False, False, False, False, False, False, False,\n",
              "         False, False, False, False, False, False, False, False, False, False,\n",
              "         False, False, False, False, False, False, False, False, False, False,\n",
              "         False, False, False, False, False, False, False, False, False, False,\n",
              "         False, False, False, False, False, False, False, False, False, False,\n",
              "         False, False, False, False, False, False, False, False, False, False,\n",
              "         False, False, False, False, False, False, False, False, False, False,\n",
              "         False, False, False, False, False, False, False, False, False, False,\n",
              "         False, False, False, False, False, False, False, False, False, False,\n",
              "         False, False, False, False, False, False, False, False, False, False,\n",
              "         False, False, False, False, False, False, False, False, False, False,\n",
              "         False, False, False, False, False, False, False, False, False, False,\n",
              "         False, False, False, False, False, False, False, False, False, False,\n",
              "         False, False, False, False, False, False, False, False, False, False,\n",
              "         False, False, False, False, False, False, False, False, False, False,\n",
              "         False, False, False, False, False, False, False, False, False, False,\n",
              "         False, False, False, False, False, False, False, False, False, False,\n",
              "         False, False, False, False, False, False, False, False, False, False,\n",
              "         False, False, False, False, False, False, False, False, False, False,\n",
              "         False, False, False, False, False, False, False, False, False, False,\n",
              "         False, False, False, False, False, False, False, False, False, False,\n",
              "         False, False, False, False, False, False, False, False, False, False,\n",
              "         False, False, False, False, False, False, False, False, False, False,\n",
              "         False, False, False, False, False, False, False, False, False, False,\n",
              "         False, False, False, False, False, False, False, False, False, False,\n",
              "         False, False, False, False, False, False, False, False, False, False,\n",
              "         False, False, False, False, False, False, False, False, False, False,\n",
              "         False, False, False, False, False, False, False, False, False, False,\n",
              "         False, False, False, False, False, False, False, False, False, False,\n",
              "         False, False, False, False, False, False, False, False, False, False,\n",
              "         False, False, False, False, False, False, False, False, False, False,\n",
              "         False, False, False, False, False, False, False, False, False, False,\n",
              "         False, False, False, False, False, False, False, False, False, False,\n",
              "         False, False, False, False, False, False, False, False, False, False,\n",
              "         False, False, False, False, False, False, False, False, False, False,\n",
              "         False, False, False, False, False, False, False, False, False, False,\n",
              "         False, False, False, False, False, False, False, False, False, False,\n",
              "         False, False, False, False, False, False, False, False, False, False,\n",
              "         False, False, False, False, False, False, False, False, False, False,\n",
              "         False, False, False, False, False, False, False, False, False, False]),\n",
              " torch.Size([760]))"
            ]
          },
          "metadata": {},
          "execution_count": 88
        }
      ]
    },
    {
      "cell_type": "code",
      "source": [
        "score = model.default_score_func(y[test_mask], pred[test_mask])\n",
        "print(f\"MSE: {score:7.4f}\")"
      ],
      "metadata": {
        "id": "8GgGkurzLm-V",
        "colab": {
          "base_uri": "https://localhost:8080/"
        },
        "outputId": "604291b5-9955-4082-e1f0-8a2ff8311a38"
      },
      "execution_count": 89,
      "outputs": [
        {
          "output_type": "stream",
          "name": "stdout",
          "text": [
            "MSE:  0.0239\n"
          ]
        }
      ]
    }
  ]
}